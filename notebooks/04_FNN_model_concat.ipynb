{
 "cells": [
  {
   "cell_type": "markdown",
   "id": "d62f2556-270d-4b92-9caf-89f14d3c3eeb",
   "metadata": {
    "id": "d62f2556-270d-4b92-9caf-89f14d3c3eeb"
   },
   "source": [
    "# CAPSTONE\n",
    "Kehinde Ajayi\n",
    "\n",
    "Initial modeling"
   ]
  },
  {
   "cell_type": "code",
   "execution_count": 1,
   "id": "Du6tPloksUW5",
   "metadata": {
    "colab": {
     "base_uri": "https://localhost:8080/"
    },
    "executionInfo": {
     "elapsed": 7403,
     "status": "ok",
     "timestamp": 1652286016591,
     "user": {
      "displayName": "K Ajayi",
      "userId": "14355577383255450167"
     },
     "user_tz": 240
    },
    "id": "Du6tPloksUW5",
    "outputId": "d29925cc-aa56-444e-e98d-b893206c2e1d"
   },
   "outputs": [],
   "source": [
    "## check if notebook is running on Colab--if so, run appropriate installs and mount Google Drive\n",
    "# https://stackoverflow.com/questions/53581278/test-if-notebook-is-running-on-google-colab\n",
    "\n",
    "if 'google.colab' in str(get_ipython()):\n",
    "  # install RDKit and DeepChem\n",
    "  !pip install rdkit-pypi scikit-learn --pre deepchem tensorflow-addons\n",
    "  # mount Google Drive\n",
    "  from google.colab import drive\n",
    "  drive.mount('/content/drive')"
   ]
  },
  {
   "cell_type": "code",
   "execution_count": 2,
   "id": "17a31475-da94-455b-8388-9f657b55fc16",
   "metadata": {},
   "outputs": [
    {
     "name": "stdout",
     "output_type": "stream",
     "text": [
      "fatal: destination path 'bert-loves-chemistry' already exists and is not an empty directory.\n"
     ]
    }
   ],
   "source": [
    "# clone bert-loves-chemistry repo\n",
    "!git clone https://github.com/seyonechithrananda/bert-loves-chemistry.git"
   ]
  },
  {
   "cell_type": "code",
   "execution_count": 3,
   "id": "1f96d50f-7082-49f6-8765-aed736dfb4f5",
   "metadata": {},
   "outputs": [
    {
     "name": "stdout",
     "output_type": "stream",
     "text": [
      "/home/kajayi/Capstone/ka_capstone/notebooks/bert-loves-chemistry\n",
      "/home/kajayi/Capstone/ka_capstone/notebooks/bert-loves-chemistry\n"
     ]
    }
   ],
   "source": [
    "# import chemberta language model\n",
    "%cd ./bert-loves-chemistry/\n",
    "!pwd"
   ]
  },
  {
   "cell_type": "code",
   "execution_count": 6,
   "id": "f8088826-6fa8-45ba-bceb-d44cee7c881e",
   "metadata": {},
   "outputs": [
    {
     "name": "stdout",
     "output_type": "stream",
     "text": [
      "FYI: bertviz_repo directory already exists, to pull latest version uncomment this line: !rm -r bertviz_repo\n"
     ]
    }
   ],
   "source": [
    "!test -d bertviz_repo && echo \"FYI: bertviz_repo directory already exists, to pull latest version uncomment this line: !rm -r bertviz_repo\"\n",
    "!test -d bertviz_repo || git clone https://github.com/jessevig/bertviz bertviz_repo\n",
    "if not 'bertviz_repo' in sys.path:\n",
    "    sys.path += ['bertviz_repo']"
   ]
  },
  {
   "cell_type": "code",
   "execution_count": 1,
   "id": "541452a3-5eb2-4859-8b6f-6f45d6670d14",
   "metadata": {
    "executionInfo": {
     "elapsed": 429,
     "status": "ok",
     "timestamp": 1652286024197,
     "user": {
      "displayName": "K Ajayi",
      "userId": "14355577383255450167"
     },
     "user_tz": 240
    },
    "id": "c3a83b56-f2a3-436c-be62-7250fe60e5fb"
   },
   "outputs": [
    {
     "name": "stderr",
     "output_type": "stream",
     "text": [
      "\u001b[34m\u001b[1mwandb\u001b[0m: \u001b[33mWARNING\u001b[0m W&B installed but not logged in.  Run `wandb login` or set the WANDB_API_KEY env variable.\n",
      "\u001b[34m\u001b[1mwandb\u001b[0m: \u001b[33mWARNING\u001b[0m W&B installed but not logged in.  Run `wandb login` or set the WANDB_API_KEY env variable.\n"
     ]
    }
   ],
   "source": [
    "import numpy as np\n",
    "import pandas as pd\n",
    "import matplotlib.pyplot as plt\n",
    "import seaborn as sns\n",
    "\n",
    "\n",
    "import datetime\n",
    "import sys\n",
    "import os\n",
    "\n",
    "from tqdm.auto import tqdm\n",
    "\n",
    "from rdkit import Chem\n",
    "\n",
    "from rdkit.Chem import PandasTools\n",
    "\n",
    "from sklearn.model_selection import train_test_split, cross_val_score, GridSearchCV, RandomizedSearchCV\n",
    "from sklearn.linear_model import LogisticRegression\n",
    "from sklearn.preprocessing import StandardScaler, PolynomialFeatures\n",
    "from sklearn.metrics import r2_score, f1_score, ConfusionMatrixDisplay, accuracy_score, make_scorer, log_loss, classification_report, roc_auc_score, recall_score, RocCurveDisplay, matthews_corrcoef\n",
    "from sklearn.pipeline import Pipeline\n",
    "\n",
    "import tensorflow as tf\n",
    "import tensorflow_addons as tfa\n",
    "from tensorflow.keras.models import Sequential\n",
    "from tensorflow.keras.layers import Dense\n",
    "\n",
    "import torch.nn as nn\n",
    "import torch.nn.functional as F\n",
    "\n",
    "import tensorboard\n",
    "\n",
    "from transformers import AutoModelForMaskedLM, AutoTokenizer, pipeline, RobertaModel, RobertaTokenizer\n",
    "\n",
    "import deepchem as dc\n",
    "from deepchem.feat.smiles_tokenizer import SmilesTokenizer\n",
    "from deepchem.models import GraphConvModel, MultitaskClassifier\n",
    "\n",
    "from hyperopt import hp, fmin, tpe, Trials\n",
    "\n",
    "from lime import lime_tabular\n",
    "\n",
    "from apex import amp\n",
    "\n",
    "from typing import List"
   ]
  },
  {
   "cell_type": "code",
   "execution_count": 2,
   "id": "a3e63052-0d52-4449-a507-e8bf5d137fc5",
   "metadata": {
    "executionInfo": {
     "elapsed": 429,
     "status": "ok",
     "timestamp": 1652286024197,
     "user": {
      "displayName": "K Ajayi",
      "userId": "14355577383255450167"
     },
     "user_tz": 240
    },
    "id": "c3a83b56-f2a3-436c-be62-7250fe60e5fb"
   },
   "outputs": [],
   "source": [
    "# from bertviz import head_view\n",
    "\n",
    "\n",
    "\n",
    "# from chemberta.utils.molnet_dataloader import load_molnet_dataset, write_molnet_dataset_for_chemprop"
   ]
  },
  {
   "cell_type": "code",
   "execution_count": 3,
   "id": "1af594f4-8937-4fbc-85f9-aaf742a4edbc",
   "metadata": {},
   "outputs": [
    {
     "name": "stderr",
     "output_type": "stream",
     "text": [
      "2022-05-18 13:01:47.468886: I tensorflow/stream_executor/cuda/cuda_gpu_executor.cc:939] successful NUMA node read from SysFS had negative value (-1), but there must be at least one NUMA node, so returning NUMA node zero\n"
     ]
    },
    {
     "data": {
      "text/plain": [
       "[PhysicalDevice(name='/physical_device:GPU:0', device_type='GPU')]"
      ]
     },
     "execution_count": 3,
     "metadata": {},
     "output_type": "execute_result"
    },
    {
     "name": "stderr",
     "output_type": "stream",
     "text": [
      "2022-05-18 13:01:47.474295: I tensorflow/stream_executor/cuda/cuda_gpu_executor.cc:939] successful NUMA node read from SysFS had negative value (-1), but there must be at least one NUMA node, so returning NUMA node zero\n",
      "2022-05-18 13:01:47.474897: I tensorflow/stream_executor/cuda/cuda_gpu_executor.cc:939] successful NUMA node read from SysFS had negative value (-1), but there must be at least one NUMA node, so returning NUMA node zero\n"
     ]
    }
   ],
   "source": [
    "tf.config.list_physical_devices('GPU')"
   ]
  },
  {
   "cell_type": "code",
   "execution_count": 4,
   "id": "e545114c-0253-44b5-86fd-4cdefa5260d1",
   "metadata": {},
   "outputs": [],
   "source": [
    "# load Byte-Pair Encoding tokenizer and model, and setup a Huggingface pipeline for masked tokeni prediction.\n",
    "model = AutoModelForMaskedLM.from_pretrained(\"seyonec/PubChem10M_SMILES_BPE_450k\")\n",
    "tokenizer = AutoTokenizer.from_pretrained(\"seyonec/PubChem10M_SMILES_BPE_450k\")"
   ]
  },
  {
   "cell_type": "code",
   "execution_count": 4,
   "id": "9b6fb39a-c160-423b-b2a7-41e5a75d76db",
   "metadata": {},
   "outputs": [
    {
     "name": "stdout",
     "output_type": "stream",
     "text": [
      "/home/kajayi/Capstone/ka_capstone/notebooks\n"
     ]
    }
   ],
   "source": [
    "!pwd"
   ]
  },
  {
   "cell_type": "markdown",
   "id": "0875bfd7-1baa-4b8e-a8ce-82a516bad504",
   "metadata": {},
   "source": [
    "f using a tokenizer which splits SMILES sequences into syntatically relevant chemical tokens performs"
   ]
  },
  {
   "cell_type": "code",
   "execution_count": null,
   "id": "665270ae-b366-428d-b5ab-69e06053f957",
   "metadata": {},
   "outputs": [],
   "source": []
  },
  {
   "cell_type": "code",
   "execution_count": null,
   "id": "48ba34a7-db84-481f-86a1-89b015b97775",
   "metadata": {},
   "outputs": [],
   "source": []
  },
  {
   "cell_type": "code",
   "execution_count": null,
   "id": "f732b4c5-efc2-4f89-bbb7-988a1ad42322",
   "metadata": {},
   "outputs": [],
   "source": []
  },
  {
   "cell_type": "code",
   "execution_count": null,
   "id": "9decfc7e-3e0c-449e-92e1-d01953c6af35",
   "metadata": {},
   "outputs": [],
   "source": []
  },
  {
   "cell_type": "code",
   "execution_count": null,
   "id": "177301b6-99be-4368-9572-167ef70871dd",
   "metadata": {},
   "outputs": [],
   "source": []
  },
  {
   "cell_type": "code",
   "execution_count": 12,
   "id": "01f79eb5-b2a5-45ce-b4ff-e6a2f302a389",
   "metadata": {},
   "outputs": [
    {
     "ename": "NameError",
     "evalue": "name '__file__' is not defined",
     "output_type": "error",
     "traceback": [
      "\u001b[0;31m---------------------------------------------------------------------------\u001b[0m",
      "\u001b[0;31mNameError\u001b[0m                                 Traceback (most recent call last)",
      "Input \u001b[0;32mIn [12]\u001b[0m, in \u001b[0;36m<cell line: 1>\u001b[0;34m()\u001b[0m\n\u001b[0;32m----> 1\u001b[0m current_dir \u001b[38;5;241m=\u001b[39m os\u001b[38;5;241m.\u001b[39mpath\u001b[38;5;241m.\u001b[39mdirname(os\u001b[38;5;241m.\u001b[39mpath\u001b[38;5;241m.\u001b[39mrealpath(\u001b[38;5;18;43m__file__\u001b[39;49m))\n",
      "\u001b[0;31mNameError\u001b[0m: name '__file__' is not defined"
     ]
    }
   ],
   "source": [
    "current_dir = os.path.dirname(os.path.realpath(__file__))"
   ]
  },
  {
   "cell_type": "code",
   "execution_count": 13,
   "id": "dc4b1958-6621-4a9d-a7c6-0545edb4633e",
   "metadata": {},
   "outputs": [
    {
     "data": {
      "text/plain": [
       "['__annotations__',\n",
       " '__call__',\n",
       " '__class__',\n",
       " '__closure__',\n",
       " '__code__',\n",
       " '__defaults__',\n",
       " '__delattr__',\n",
       " '__dict__',\n",
       " '__dir__',\n",
       " '__doc__',\n",
       " '__eq__',\n",
       " '__format__',\n",
       " '__ge__',\n",
       " '__get__',\n",
       " '__getattribute__',\n",
       " '__globals__',\n",
       " '__gt__',\n",
       " '__hash__',\n",
       " '__init__',\n",
       " '__init_subclass__',\n",
       " '__kwdefaults__',\n",
       " '__le__',\n",
       " '__lt__',\n",
       " '__module__',\n",
       " '__name__',\n",
       " '__ne__',\n",
       " '__new__',\n",
       " '__qualname__',\n",
       " '__reduce__',\n",
       " '__reduce_ex__',\n",
       " '__repr__',\n",
       " '__setattr__',\n",
       " '__sizeof__',\n",
       " '__str__',\n",
       " '__subclasshook__']"
      ]
     },
     "execution_count": 13,
     "metadata": {},
     "output_type": "execute_result"
    }
   ],
   "source": [
    "dir(os.path.realpath)"
   ]
  },
  {
   "cell_type": "code",
   "execution_count": 14,
   "id": "a6bd3393-9b2e-4724-bf7b-9c094930a27e",
   "metadata": {},
   "outputs": [
    {
     "ename": "NameError",
     "evalue": "name 'current_dir' is not defined",
     "output_type": "error",
     "traceback": [
      "\u001b[0;31m---------------------------------------------------------------------------\u001b[0m",
      "\u001b[0;31mNameError\u001b[0m                                 Traceback (most recent call last)",
      "Input \u001b[0;32mIn [14]\u001b[0m, in \u001b[0;36m<cell line: 1>\u001b[0;34m()\u001b[0m\n\u001b[0;32m----> 1\u001b[0m vocab_path \u001b[38;5;241m=\u001b[39m os\u001b[38;5;241m.\u001b[39mpath\u001b[38;5;241m.\u001b[39mjoin(\u001b[43mcurrent_dir\u001b[49m, \u001b[38;5;124m'\u001b[39m\u001b[38;5;124mtests/data\u001b[39m\u001b[38;5;124m'\u001b[39m, \u001b[38;5;124m'\u001b[39m\u001b[38;5;124mvocab.txt\u001b[39m\u001b[38;5;124m'\u001b[39m)\n\u001b[1;32m      2\u001b[0m tokenizer \u001b[38;5;241m=\u001b[39m SmilesTokenizer(vocab_path)\n\u001b[1;32m      3\u001b[0m \u001b[38;5;28mprint\u001b[39m(tokenizer\u001b[38;5;241m.\u001b[39mencode(\u001b[38;5;124m\"\u001b[39m\u001b[38;5;124mCC(=O)OC1=CC=CC=C1C(=O)O\u001b[39m\u001b[38;5;124m\"\u001b[39m))\n",
      "\u001b[0;31mNameError\u001b[0m: name 'current_dir' is not defined"
     ]
    }
   ],
   "source": [
    "vocab_path = os.path.join(current_dir, 'tests/data', 'vocab.txt')\n",
    "tokenizer = SmilesTokenizer(vocab_path)\n",
    "print(tokenizer.encode(\"CC(=O)OC1=CC=CC=C1C(=O)O\"))"
   ]
  },
  {
   "cell_type": "code",
   "execution_count": 15,
   "id": "17a14a49-0e38-4920-b04c-fe2c978cf30a",
   "metadata": {},
   "outputs": [
    {
     "ename": "NameError",
     "evalue": "name 'model' is not defined",
     "output_type": "error",
     "traceback": [
      "\u001b[0;31m---------------------------------------------------------------------------\u001b[0m",
      "\u001b[0;31mNameError\u001b[0m                                 Traceback (most recent call last)",
      "Input \u001b[0;32mIn [15]\u001b[0m, in \u001b[0;36m<cell line: 1>\u001b[0;34m()\u001b[0m\n\u001b[0;32m----> 1\u001b[0m fill_mask \u001b[38;5;241m=\u001b[39m pipeline(\u001b[38;5;124m'\u001b[39m\u001b[38;5;124mfill-mask\u001b[39m\u001b[38;5;124m'\u001b[39m, model\u001b[38;5;241m=\u001b[39m\u001b[43mmodel\u001b[49m, tokenizer\u001b[38;5;241m=\u001b[39mtokenizer)\n",
      "\u001b[0;31mNameError\u001b[0m: name 'model' is not defined"
     ]
    }
   ],
   "source": [
    "\n",
    "fill_mask = pipeline('fill-mask', model=model, tokenizer=tokenizer)"
   ]
  },
  {
   "cell_type": "code",
   "execution_count": null,
   "id": "e149339f-2a7e-4c34-bead-1231b45634c6",
   "metadata": {},
   "outputs": [],
   "source": []
  },
  {
   "cell_type": "markdown",
   "id": "huUo_K78_B5C",
   "metadata": {
    "id": "huUo_K78_B5C"
   },
   "source": [
    "## Functions and settings"
   ]
  },
  {
   "cell_type": "code",
   "execution_count": 5,
   "id": "2e67e1cc-8937-49ed-8655-c8aa7b759fdf",
   "metadata": {
    "executionInfo": {
     "elapsed": 15,
     "status": "ok",
     "timestamp": 1652284485121,
     "user": {
      "displayName": "K Ajayi",
      "userId": "14355577383255450167"
     },
     "user_tz": 240
    },
    "id": "2e67e1cc-8937-49ed-8655-c8aa7b759fdf"
   },
   "outputs": [],
   "source": [
    "# workaround for bug where molecular structure does not print with dataframe\n",
    "# https://github.com/rdkit/rdkit/issues/2673\n",
    "def show(df):\n",
    "    return HTML(df.to_html(notebook=True))\n"
   ]
  },
  {
   "cell_type": "code",
   "execution_count": 6,
   "id": "mhITzL35G5m9",
   "metadata": {
    "executionInfo": {
     "elapsed": 13,
     "status": "ok",
     "timestamp": 1652284485121,
     "user": {
      "displayName": "K Ajayi",
      "userId": "14355577383255450167"
     },
     "user_tz": 240
    },
    "id": "mhITzL35G5m9"
   },
   "outputs": [],
   "source": [
    "tqdm.pandas()"
   ]
  },
  {
   "cell_type": "code",
   "execution_count": 7,
   "id": "fDD6705-fWPG",
   "metadata": {
    "executionInfo": {
     "elapsed": 13,
     "status": "ok",
     "timestamp": 1652284485122,
     "user": {
      "displayName": "K Ajayi",
      "userId": "14355577383255450167"
     },
     "user_tz": 240
    },
    "id": "fDD6705-fWPG"
   },
   "outputs": [],
   "source": [
    "# check if notebook is running on Colab and set path for data file \n",
    "\n",
    "def get_home_path():\n",
    "  if 'google.colab' in str(get_ipython()):\n",
    "    path = '/content/drive/MyDrive/GA/Capstone/ka_capstone'\n",
    "  else:\n",
    "    path = '..'\n",
    "  \n",
    "  return path\n"
   ]
  },
  {
   "cell_type": "code",
   "execution_count": 8,
   "id": "19943902-27d5-486a-978b-ad74a5245501",
   "metadata": {
    "executionInfo": {
     "elapsed": 13,
     "status": "ok",
     "timestamp": 1652284485123,
     "user": {
      "displayName": "K Ajayi",
      "userId": "14355577383255450167"
     },
     "user_tz": 240
    },
    "id": "19943902-27d5-486a-978b-ad74a5245501"
   },
   "outputs": [],
   "source": [
    "# view all columns in dataframe\n",
    "pd.set_option('display.max.columns', None)"
   ]
  },
  {
   "cell_type": "markdown",
   "id": "21XFoWzVGxcZ",
   "metadata": {
    "id": "21XFoWzVGxcZ"
   },
   "source": [
    "## Read data"
   ]
  },
  {
   "cell_type": "code",
   "execution_count": 20,
   "id": "87d7b4cd-485f-46bd-b7bd-3c2aa1bf22ae",
   "metadata": {},
   "outputs": [
    {
     "name": "stdout",
     "output_type": "stream",
     "text": [
      "--2022-05-18 05:06:04--  https://deepchemdata.s3-us-west-1.amazonaws.com/datasets/vocab.txt\n",
      "Resolving deepchemdata.s3-us-west-1.amazonaws.com (deepchemdata.s3-us-west-1.amazonaws.com)... 52.219.192.58\n",
      "Connecting to deepchemdata.s3-us-west-1.amazonaws.com (deepchemdata.s3-us-west-1.amazonaws.com)|52.219.192.58|:443... connected.\n",
      "HTTP request sent, awaiting response... 200 OK\n",
      "Length: 3524 (3.4K) [text/plain]\n",
      "Saving to: ‘vocab.txt’\n",
      "\n",
      "vocab.txt           100%[===================>]   3.44K  --.-KB/s    in 0s      \n",
      "\n",
      "2022-05-18 05:06:04 (27.5 MB/s) - ‘vocab.txt’ saved [3524/3524]\n",
      "\n"
     ]
    }
   ],
   "source": [
    "!wget https://deepchemdata.s3-us-west-1.amazonaws.com/datasets/vocab.txt"
   ]
  },
  {
   "cell_type": "code",
   "execution_count": null,
   "id": "fc3fee84-f78e-4ac6-9641-6fc44141e5f9",
   "metadata": {},
   "outputs": [],
   "source": []
  },
  {
   "cell_type": "code",
   "execution_count": null,
   "id": "79a081bd-a233-41c9-b7df-c505cf2425b4",
   "metadata": {},
   "outputs": [],
   "source": []
  },
  {
   "cell_type": "code",
   "execution_count": 21,
   "id": "_Acib_6H2cee",
   "metadata": {
    "executionInfo": {
     "elapsed": 12,
     "status": "ok",
     "timestamp": 1652284485123,
     "user": {
      "displayName": "K Ajayi",
      "userId": "14355577383255450167"
     },
     "user_tz": 240
    },
    "id": "_Acib_6H2cee"
   },
   "outputs": [],
   "source": [
    "# # read hERG data into dataframe \n",
    "# herg_df = PandasTools.LoadSDF(f'{get_home_path()}/data/interim/herg-data-with-structures.sdf', molColName='Mol', smilesName='SMILES', includeFingerprints=True, idName='Pubchem_SID')\n"
   ]
  },
  {
   "cell_type": "code",
   "execution_count": 9,
   "id": "mxbkjrNpkzy8",
   "metadata": {
    "executionInfo": {
     "elapsed": 14799,
     "status": "ok",
     "timestamp": 1652284499910,
     "user": {
      "displayName": "K Ajayi",
      "userId": "14355577383255450167"
     },
     "user_tz": 240
    },
    "id": "mxbkjrNpkzy8"
   },
   "outputs": [],
   "source": [
    "# read hERG data without structure fingerprint into separate dataframe \n",
    "df = pd.read_csv(f'{get_home_path()}/data/interim/herg_data.csv')\n",
    "\n"
   ]
  },
  {
   "cell_type": "code",
   "execution_count": 10,
   "id": "dEbaxxeWYVEa",
   "metadata": {
    "colab": {
     "base_uri": "https://localhost:8080/",
     "height": 374
    },
    "executionInfo": {
     "elapsed": 29,
     "status": "ok",
     "timestamp": 1652284499915,
     "user": {
      "displayName": "K Ajayi",
      "userId": "14355577383255450167"
     },
     "user_tz": 240
    },
    "id": "dEbaxxeWYVEa",
    "outputId": "d1973123-f780-415d-b375-9580821c7b1f"
   },
   "outputs": [
    {
     "data": {
      "text/html": [
       "<div>\n",
       "<style scoped>\n",
       "    .dataframe tbody tr th:only-of-type {\n",
       "        vertical-align: middle;\n",
       "    }\n",
       "\n",
       "    .dataframe tbody tr th {\n",
       "        vertical-align: top;\n",
       "    }\n",
       "\n",
       "    .dataframe thead th {\n",
       "        text-align: right;\n",
       "    }\n",
       "</style>\n",
       "<table border=\"1\" class=\"dataframe\">\n",
       "  <thead>\n",
       "    <tr style=\"text-align: right;\">\n",
       "      <th></th>\n",
       "      <th>Pubchem_SID</th>\n",
       "      <th>SMILES</th>\n",
       "      <th>hERG_at_1uM</th>\n",
       "      <th>hERG_at_10uM</th>\n",
       "      <th>herg_inhibitor</th>\n",
       "      <th>mw</th>\n",
       "      <th>logP</th>\n",
       "      <th>PSA</th>\n",
       "      <th>H_bond_donors</th>\n",
       "      <th>H_bond_acceptors</th>\n",
       "      <th>num_heteroatoms</th>\n",
       "      <th>total_num_rings</th>\n",
       "      <th>aromatic_rings</th>\n",
       "      <th>num_rotatable_bonds</th>\n",
       "      <th>num_stereocenters</th>\n",
       "      <th>formal_charge</th>\n",
       "      <th>SMILES_length</th>\n",
       "      <th>ro5_violations</th>\n",
       "      <th>adjacency_matrix</th>\n",
       "      <th>label</th>\n",
       "    </tr>\n",
       "  </thead>\n",
       "  <tbody>\n",
       "    <tr>\n",
       "      <th>0</th>\n",
       "      <td>22416348</td>\n",
       "      <td>Cc1occc1C(=O)NCc1ccco1</td>\n",
       "      <td>20.17528</td>\n",
       "      <td>30.99165</td>\n",
       "      <td>0</td>\n",
       "      <td>205.213</td>\n",
       "      <td>2.11102</td>\n",
       "      <td>55.38</td>\n",
       "      <td>1</td>\n",
       "      <td>3</td>\n",
       "      <td>4</td>\n",
       "      <td>2</td>\n",
       "      <td>2</td>\n",
       "      <td>3</td>\n",
       "      <td>0</td>\n",
       "      <td>0</td>\n",
       "      <td>22</td>\n",
       "      <td>0</td>\n",
       "      <td>[[0 1 0 0 0 0 0 0 0 0 0 0 0 0 0]\\n [1 0 1 0 0 ...</td>\n",
       "      <td>inactive</td>\n",
       "    </tr>\n",
       "    <tr>\n",
       "      <th>1</th>\n",
       "      <td>26665387</td>\n",
       "      <td>COc1ccc(/C=C2\\SC(=S)N(N3CCOCC3)C2=O)c(OC)c1</td>\n",
       "      <td>10.22630</td>\n",
       "      <td>13.05888</td>\n",
       "      <td>0</td>\n",
       "      <td>366.464</td>\n",
       "      <td>2.15220</td>\n",
       "      <td>51.24</td>\n",
       "      <td>0</td>\n",
       "      <td>7</td>\n",
       "      <td>8</td>\n",
       "      <td>3</td>\n",
       "      <td>1</td>\n",
       "      <td>4</td>\n",
       "      <td>0</td>\n",
       "      <td>0</td>\n",
       "      <td>43</td>\n",
       "      <td>0</td>\n",
       "      <td>[[0 1 0 0 0 0 0 0 0 0 0 0 0 0 0 0 0 0 0 0 0 0 ...</td>\n",
       "      <td>inactive</td>\n",
       "    </tr>\n",
       "    <tr>\n",
       "      <th>2</th>\n",
       "      <td>862531</td>\n",
       "      <td>C[C@H](NC(=O)Nc1cccc(C(F)(F)F)c1)C(=O)O</td>\n",
       "      <td>2.04420</td>\n",
       "      <td>0.06288</td>\n",
       "      <td>0</td>\n",
       "      <td>276.214</td>\n",
       "      <td>2.30000</td>\n",
       "      <td>78.43</td>\n",
       "      <td>3</td>\n",
       "      <td>2</td>\n",
       "      <td>8</td>\n",
       "      <td>1</td>\n",
       "      <td>1</td>\n",
       "      <td>3</td>\n",
       "      <td>1</td>\n",
       "      <td>0</td>\n",
       "      <td>39</td>\n",
       "      <td>0</td>\n",
       "      <td>[[0 1 0 0 0 0 0 0 0 0 0 0 0 0 0 0 0 0 0]\\n [1 ...</td>\n",
       "      <td>inactive</td>\n",
       "    </tr>\n",
       "    <tr>\n",
       "      <th>3</th>\n",
       "      <td>26732361</td>\n",
       "      <td>COc1cc(OC)c2ccc(=O)oc2c1C(CC(=O)N1CCOCC1)c1ccc...</td>\n",
       "      <td>21.80250</td>\n",
       "      <td>17.87858</td>\n",
       "      <td>0</td>\n",
       "      <td>466.534</td>\n",
       "      <td>3.25700</td>\n",
       "      <td>81.45</td>\n",
       "      <td>0</td>\n",
       "      <td>7</td>\n",
       "      <td>8</td>\n",
       "      <td>4</td>\n",
       "      <td>3</td>\n",
       "      <td>7</td>\n",
       "      <td>1</td>\n",
       "      <td>0</td>\n",
       "      <td>56</td>\n",
       "      <td>0</td>\n",
       "      <td>[[0 1 0 ... 0 0 0]\\n [1 0 1 ... 0 0 0]\\n [0 1 ...</td>\n",
       "      <td>inactive</td>\n",
       "    </tr>\n",
       "    <tr>\n",
       "      <th>4</th>\n",
       "      <td>49735227</td>\n",
       "      <td>COc1cccc(NC(=O)C2C3C=CC4(O3)C2C(=O)N(CCCN2CCCC...</td>\n",
       "      <td>8.33980</td>\n",
       "      <td>19.03128</td>\n",
       "      <td>0</td>\n",
       "      <td>550.700</td>\n",
       "      <td>3.10920</td>\n",
       "      <td>100.21</td>\n",
       "      <td>2</td>\n",
       "      <td>6</td>\n",
       "      <td>9</td>\n",
       "      <td>6</td>\n",
       "      <td>1</td>\n",
       "      <td>9</td>\n",
       "      <td>5</td>\n",
       "      <td>0</td>\n",
       "      <td>68</td>\n",
       "      <td>1</td>\n",
       "      <td>[[0 1 0 ... 0 0 0]\\n [1 0 1 ... 0 0 0]\\n [0 1 ...</td>\n",
       "      <td>inactive</td>\n",
       "    </tr>\n",
       "  </tbody>\n",
       "</table>\n",
       "</div>"
      ],
      "text/plain": [
       "   Pubchem_SID                                             SMILES  \\\n",
       "0     22416348                             Cc1occc1C(=O)NCc1ccco1   \n",
       "1     26665387        COc1ccc(/C=C2\\SC(=S)N(N3CCOCC3)C2=O)c(OC)c1   \n",
       "2       862531            C[C@H](NC(=O)Nc1cccc(C(F)(F)F)c1)C(=O)O   \n",
       "3     26732361  COc1cc(OC)c2ccc(=O)oc2c1C(CC(=O)N1CCOCC1)c1ccc...   \n",
       "4     49735227  COc1cccc(NC(=O)C2C3C=CC4(O3)C2C(=O)N(CCCN2CCCC...   \n",
       "\n",
       "   hERG_at_1uM  hERG_at_10uM  herg_inhibitor       mw     logP     PSA  \\\n",
       "0     20.17528      30.99165               0  205.213  2.11102   55.38   \n",
       "1     10.22630      13.05888               0  366.464  2.15220   51.24   \n",
       "2      2.04420       0.06288               0  276.214  2.30000   78.43   \n",
       "3     21.80250      17.87858               0  466.534  3.25700   81.45   \n",
       "4      8.33980      19.03128               0  550.700  3.10920  100.21   \n",
       "\n",
       "   H_bond_donors  H_bond_acceptors  num_heteroatoms  total_num_rings  \\\n",
       "0              1                 3                4                2   \n",
       "1              0                 7                8                3   \n",
       "2              3                 2                8                1   \n",
       "3              0                 7                8                4   \n",
       "4              2                 6                9                6   \n",
       "\n",
       "   aromatic_rings  num_rotatable_bonds  num_stereocenters  formal_charge  \\\n",
       "0               2                    3                  0              0   \n",
       "1               1                    4                  0              0   \n",
       "2               1                    3                  1              0   \n",
       "3               3                    7                  1              0   \n",
       "4               1                    9                  5              0   \n",
       "\n",
       "   SMILES_length  ro5_violations  \\\n",
       "0             22               0   \n",
       "1             43               0   \n",
       "2             39               0   \n",
       "3             56               0   \n",
       "4             68               1   \n",
       "\n",
       "                                    adjacency_matrix     label  \n",
       "0  [[0 1 0 0 0 0 0 0 0 0 0 0 0 0 0]\\n [1 0 1 0 0 ...  inactive  \n",
       "1  [[0 1 0 0 0 0 0 0 0 0 0 0 0 0 0 0 0 0 0 0 0 0 ...  inactive  \n",
       "2  [[0 1 0 0 0 0 0 0 0 0 0 0 0 0 0 0 0 0 0]\\n [1 ...  inactive  \n",
       "3  [[0 1 0 ... 0 0 0]\\n [1 0 1 ... 0 0 0]\\n [0 1 ...  inactive  \n",
       "4  [[0 1 0 ... 0 0 0]\\n [1 0 1 ... 0 0 0]\\n [0 1 ...  inactive  "
      ]
     },
     "execution_count": 10,
     "metadata": {},
     "output_type": "execute_result"
    }
   ],
   "source": [
    "df.head()"
   ]
  },
  {
   "cell_type": "code",
   "execution_count": 24,
   "id": "9efae2d0-5be7-4373-afd2-53fdd7d01cd1",
   "metadata": {},
   "outputs": [
    {
     "name": "stdout",
     "output_type": "stream",
     "text": [
      "{'score': 0.9755934476852417, 'token': 33, 'token_str': '=', 'sequence': 'C1=CC=CC=C1'}\n",
      "{'score': 0.02092384733259678, 'token': 7, 'token_str': '#', 'sequence': 'C1=CC=CC#C1'}\n",
      "{'score': 0.0007658943650312722, 'token': 21, 'token_str': '1', 'sequence': 'C1=CC=CC1C1'}\n",
      "{'score': 0.00041297581628896296, 'token': 22, 'token_str': '2', 'sequence': 'C1=CC=CC2C1'}\n",
      "{'score': 0.0002531911013647914, 'token': 352, 'token_str': '=[', 'sequence': 'C1=CC=CC=[C1'}\n"
     ]
    }
   ],
   "source": [
    "smiles_mask = \"C1=CC=CC<mask>C1\"\n",
    "smiles = \"C1=CC=CC=C1\"\n",
    "\n",
    "masked_smi = fill_mask(smiles_mask)\n",
    "\n",
    "for smi in masked_smi:\n",
    "  print(smi)"
   ]
  },
  {
   "cell_type": "code",
   "execution_count": 15,
   "id": "8de48ea8-cb3b-44da-92f9-fec9e83894cd",
   "metadata": {},
   "outputs": [
    {
     "data": {
      "text/plain": [
       "0                                    Cc1occc1C(=O)NCc1ccco1\n",
       "1               COc1ccc(/C=C2\\SC(=S)N(N3CCOCC3)C2=O)c(OC)c1\n",
       "2                   C[C@H](NC(=O)Nc1cccc(C(F)(F)F)c1)C(=O)O\n",
       "3         COc1cc(OC)c2ccc(=O)oc2c1C(CC(=O)N1CCOCC1)c1ccc...\n",
       "4         COc1cccc(NC(=O)C2C3C=CC4(O3)C2C(=O)N(CCCN2CCCC...\n",
       "                                ...                        \n",
       "306860      CC(=O)CSc1nnc(CN2C(=O)CSc3ccc(C(F)(F)F)cc32)n1C\n",
       "306861       O=C(COc1ccc(Cl)cc1)Nc1nnc(-c2ccc3c(c2)CCCC3)o1\n",
       "306862             COc1ccc(C(=O)N2CCCC(CO)(Cc3ccccc3C)C2)o1\n",
       "306863    CCOC(=O)[C@@H]1[C@H]2COc3ccc(Br)cc3[C@H]2N2C(=...\n",
       "306864         Cc1cccc(Cn2cc(/C=C/[N+](=O)[O-])c3ccccc32)c1\n",
       "Name: SMILES, Length: 306865, dtype: object"
      ]
     },
     "execution_count": 15,
     "metadata": {},
     "output_type": "execute_result"
    }
   ],
   "source": [
    "df.SMILES"
   ]
  },
  {
   "cell_type": "code",
   "execution_count": 50,
   "id": "7d4482aa-805d-4c1f-8705-127455325391",
   "metadata": {},
   "outputs": [
    {
     "data": {
      "image/png": "[encoded data removed]",
      "text/plain": [
       "<rdkit.Chem.rdchem.Mol at 0x7fc6e73ad580>"
      ]
     },
     "execution_count": 50,
     "metadata": {},
     "output_type": "execute_result"
    }
   ],
   "source": [
    "Chem.MolFromSmiles(df.SMILES[4])"
   ]
  },
  {
   "cell_type": "code",
   "execution_count": null,
   "id": "34581c61-0dc4-49db-b9f3-936743c735eb",
   "metadata": {},
   "outputs": [],
   "source": []
  },
  {
   "cell_type": "code",
   "execution_count": 10,
   "id": "6NprLCoQX_kb",
   "metadata": {
    "executionInfo": {
     "elapsed": 54032,
     "status": "ok",
     "timestamp": 1652284553932,
     "user": {
      "displayName": "K Ajayi",
      "userId": "14355577383255450167"
     },
     "user_tz": 240
    },
    "id": "6NprLCoQX_kb"
   },
   "outputs": [],
   "source": [
    "# add image of molecule to dataframe\n",
    "PandasTools.AddMoleculeColumnToFrame(df, 'SMILES', 'Mol')"
   ]
  },
  {
   "cell_type": "code",
   "execution_count": 8,
   "id": "8oitueImGJ2Q",
   "metadata": {
    "colab": {
     "base_uri": "https://localhost:8080/"
    },
    "executionInfo": {
     "elapsed": 29,
     "status": "ok",
     "timestamp": 1652284553933,
     "user": {
      "displayName": "K Ajayi",
      "userId": "14355577383255450167"
     },
     "user_tz": 240
    },
    "id": "8oitueImGJ2Q",
    "outputId": "6806428d-54b8-4bd8-d82f-7a5525f5f4d7"
   },
   "outputs": [
    {
     "ename": "NameError",
     "evalue": "name 'df' is not defined",
     "output_type": "error",
     "traceback": [
      "\u001b[0;31m---------------------------------------------------------------------------\u001b[0m",
      "\u001b[0;31mNameError\u001b[0m                                 Traceback (most recent call last)",
      "Input \u001b[0;32mIn [8]\u001b[0m, in \u001b[0;36m<cell line: 1>\u001b[0;34m()\u001b[0m\n\u001b[0;32m----> 1\u001b[0m \u001b[43mdf\u001b[49m\u001b[38;5;241m.\u001b[39minfo()\n",
      "\u001b[0;31mNameError\u001b[0m: name 'df' is not defined"
     ]
    }
   ],
   "source": [
    "df.info()"
   ]
  },
  {
   "cell_type": "markdown",
   "id": "2BT2CzWX6Q3R",
   "metadata": {
    "id": "2BT2CzWX6Q3R"
   },
   "source": [
    "## Initial model without molecular fingerprint"
   ]
  },
  {
   "cell_type": "markdown",
   "id": "2WlTbF7rKX3c",
   "metadata": {
    "id": "2WlTbF7rKX3c"
   },
   "source": [
    "### Create or load SMILES features\n"
   ]
  },
  {
   "cell_type": "code",
   "execution_count": 11,
   "id": "60942594-eddf-4b5c-b533-003177d6646e",
   "metadata": {},
   "outputs": [
    {
     "data": {
      "text/plain": [
       "['SPECIAL_TOKENS_ATTRIBUTES',\n",
       " '__annotations__',\n",
       " '__call__',\n",
       " '__class__',\n",
       " '__delattr__',\n",
       " '__dict__',\n",
       " '__dir__',\n",
       " '__doc__',\n",
       " '__eq__',\n",
       " '__format__',\n",
       " '__ge__',\n",
       " '__getattribute__',\n",
       " '__gt__',\n",
       " '__hash__',\n",
       " '__init__',\n",
       " '__init_subclass__',\n",
       " '__le__',\n",
       " '__len__',\n",
       " '__lt__',\n",
       " '__module__',\n",
       " '__ne__',\n",
       " '__new__',\n",
       " '__reduce__',\n",
       " '__reduce_ex__',\n",
       " '__repr__',\n",
       " '__setattr__',\n",
       " '__sizeof__',\n",
       " '__str__',\n",
       " '__subclasshook__',\n",
       " '__weakref__',\n",
       " '_add_tokens',\n",
       " '_batch_encode_plus',\n",
       " '_batch_prepare_for_model',\n",
       " '_convert_id_to_token',\n",
       " '_convert_token_to_id',\n",
       " '_convert_token_to_id_with_added_voc',\n",
       " '_create_or_get_repo',\n",
       " '_create_trie',\n",
       " '_decode',\n",
       " '_encode_plus',\n",
       " '_eventual_warn_about_too_long_sequence',\n",
       " '_from_pretrained',\n",
       " '_get_padding_truncation_strategies',\n",
       " '_get_repo_url_from_name',\n",
       " '_pad',\n",
       " '_push_to_hub',\n",
       " '_save_pretrained',\n",
       " '_set_processor_class',\n",
       " '_tokenize',\n",
       " 'add_padding_tokens',\n",
       " 'add_special_tokens',\n",
       " 'add_special_tokens_ids_sequence_pair',\n",
       " 'add_special_tokens_ids_single_sequence',\n",
       " 'add_special_tokens_single_sequence',\n",
       " 'add_tokens',\n",
       " 'additional_special_tokens',\n",
       " 'additional_special_tokens_ids',\n",
       " 'all_special_ids',\n",
       " 'all_special_tokens',\n",
       " 'all_special_tokens_extended',\n",
       " 'as_target_tokenizer',\n",
       " 'batch_decode',\n",
       " 'batch_encode_plus',\n",
       " 'bos_token',\n",
       " 'bos_token_id',\n",
       " 'build_inputs_with_special_tokens',\n",
       " 'clean_up_tokenization',\n",
       " 'cls_token',\n",
       " 'cls_token_id',\n",
       " 'convert_ids_to_tokens',\n",
       " 'convert_tokens_to_ids',\n",
       " 'convert_tokens_to_string',\n",
       " 'create_token_type_ids_from_sequences',\n",
       " 'decode',\n",
       " 'do_lower_case',\n",
       " 'encode',\n",
       " 'encode_plus',\n",
       " 'eos_token',\n",
       " 'eos_token_id',\n",
       " 'from_pretrained',\n",
       " 'get_added_vocab',\n",
       " 'get_special_tokens_mask',\n",
       " 'get_vocab',\n",
       " 'is_fast',\n",
       " 'mask_token',\n",
       " 'mask_token_id',\n",
       " 'max_len_sentences_pair',\n",
       " 'max_len_single_sentence',\n",
       " 'max_model_input_sizes',\n",
       " 'model_input_names',\n",
       " 'num_special_tokens_to_add',\n",
       " 'pad',\n",
       " 'pad_token',\n",
       " 'pad_token_id',\n",
       " 'pad_token_type_id',\n",
       " 'padding_side',\n",
       " 'prepare_for_model',\n",
       " 'prepare_for_tokenization',\n",
       " 'prepare_seq2seq_batch',\n",
       " 'pretrained_init_configuration',\n",
       " 'pretrained_vocab_files_map',\n",
       " 'push_to_hub',\n",
       " 'sanitize_special_tokens',\n",
       " 'save_pretrained',\n",
       " 'save_vocabulary',\n",
       " 'sep_token',\n",
       " 'sep_token_id',\n",
       " 'slow_tokenizer_class',\n",
       " 'special_tokens_map',\n",
       " 'special_tokens_map_extended',\n",
       " 'tokenize',\n",
       " 'truncate_sequences',\n",
       " 'truncation_side',\n",
       " 'unk_token',\n",
       " 'unk_token_id',\n",
       " 'vocab_files_names',\n",
       " 'vocab_list',\n",
       " 'vocab_size']"
      ]
     },
     "execution_count": 11,
     "metadata": {},
     "output_type": "execute_result"
    }
   ],
   "source": [
    "dir(SmilesTokenizer)"
   ]
  },
  {
   "cell_type": "markdown",
   "id": "2ac6bb6b-4fb9-4030-b049-54b39ffd1870",
   "metadata": {},
   "source": [
    "### Add SMILES tokens"
   ]
  },
  {
   "cell_type": "code",
   "execution_count": 12,
   "id": "ba8c167c-b736-45ff-9c91-11ff648b28cd",
   "metadata": {},
   "outputs": [
    {
     "name": "stderr",
     "output_type": "stream",
     "text": [
      "Setting 'max_len_single_sentence' is now deprecated. This value is automatically set up.\n",
      "Setting 'max_len_sentences_pair' is now deprecated. This value is automatically set up.\n"
     ]
    }
   ],
   "source": [
    "smi_tokenizer = dc.feat.SmilesTokenizer('./bert-loves-chemistry/vocab.txt')"
   ]
  },
  {
   "cell_type": "code",
   "execution_count": null,
   "id": "8d4a8db4-ef23-4817-b331-4da01d9d9fb8",
   "metadata": {},
   "outputs": [],
   "source": [
    "hopefully = [np.array(smi_tokenizer.encode(smi)) for smi in df.SMILES] \n",
    "\n",
    "hopefully"
   ]
  },
  {
   "cell_type": "code",
   "execution_count": 83,
   "id": "a3ec8a81-db01-499a-b970-606a29d8cc2d",
   "metadata": {},
   "outputs": [
    {
     "data": {
      "text/plain": [
       "'Cc1occc1C(=O)NCc1ccco1'"
      ]
     },
     "execution_count": 83,
     "metadata": {},
     "output_type": "execute_result"
    }
   ],
   "source": [
    "df.SMILES[0]"
   ]
  },
  {
   "cell_type": "code",
   "execution_count": 87,
   "id": "986b3ea4-c000-4881-8fc3-068dda476b60",
   "metadata": {},
   "outputs": [
    {
     "data": {
      "text/plain": [
       "array([12, 16, 15, 20, 44, 15, 15, 15, 20, 16, 17, 22, 19, 18, 23, 16, 15,\n",
       "       20, 15, 15, 15, 44, 20, 13])"
      ]
     },
     "execution_count": 87,
     "metadata": {},
     "output_type": "execute_result"
    }
   ],
   "source": [
    "np.array(smi_tokenizer.encode(df.SMILES[0]))"
   ]
  },
  {
   "cell_type": "code",
   "execution_count": 72,
   "id": "badd6975-d123-45af-bdee-efe32cbeb6c2",
   "metadata": {},
   "outputs": [],
   "source": [
    "df['SMILES_tokens'] = [smi_tokenizer.encode(smi) for smi in df.SMILES] "
   ]
  },
  {
   "cell_type": "code",
   "execution_count": 94,
   "id": "b9bd0a12-27b4-4f18-9b48-52fd3025070e",
   "metadata": {},
   "outputs": [],
   "source": [
    "df['SMILES_tokens'] = df.SMILES.map(lambda smi: smi_tokenizer.encode(smi)) "
   ]
  },
  {
   "cell_type": "code",
   "execution_count": 95,
   "id": "912870c3-03c8-468d-ae0e-9f29a9b03ea1",
   "metadata": {},
   "outputs": [
    {
     "data": {
      "text/plain": [
       "list"
      ]
     },
     "execution_count": 95,
     "metadata": {},
     "output_type": "execute_result"
    }
   ],
   "source": [
    "type(df.SMILES_tokens[0])"
   ]
  },
  {
   "cell_type": "code",
   "execution_count": 50,
   "id": "3ae29554-fa72-484e-9a57-a0508801ba8b",
   "metadata": {},
   "outputs": [
    {
     "data": {
      "text/html": [
       "<div>\n",
       "<style scoped>\n",
       "    .dataframe tbody tr th:only-of-type {\n",
       "        vertical-align: middle;\n",
       "    }\n",
       "\n",
       "    .dataframe tbody tr th {\n",
       "        vertical-align: top;\n",
       "    }\n",
       "\n",
       "    .dataframe thead th {\n",
       "        text-align: right;\n",
       "    }\n",
       "</style>\n",
       "<table border=\"1\" class=\"dataframe\">\n",
       "  <thead>\n",
       "    <tr style=\"text-align: right;\">\n",
       "      <th></th>\n",
       "      <th>Pubchem_SID</th>\n",
       "      <th>SMILES</th>\n",
       "      <th>hERG_at_1uM</th>\n",
       "      <th>hERG_at_10uM</th>\n",
       "      <th>herg_inhibitor</th>\n",
       "      <th>mw</th>\n",
       "      <th>logP</th>\n",
       "      <th>PSA</th>\n",
       "      <th>H_bond_donors</th>\n",
       "      <th>H_bond_acceptors</th>\n",
       "      <th>num_heteroatoms</th>\n",
       "      <th>total_num_rings</th>\n",
       "      <th>aromatic_rings</th>\n",
       "      <th>num_rotatable_bonds</th>\n",
       "      <th>num_stereocenters</th>\n",
       "      <th>formal_charge</th>\n",
       "      <th>SMILES_length</th>\n",
       "      <th>ro5_violations</th>\n",
       "      <th>adjacency_matrix</th>\n",
       "      <th>label</th>\n",
       "      <th>SMILES_tokens</th>\n",
       "    </tr>\n",
       "  </thead>\n",
       "  <tbody>\n",
       "    <tr>\n",
       "      <th>0</th>\n",
       "      <td>22416348</td>\n",
       "      <td>Cc1occc1C(=O)NCc1ccco1</td>\n",
       "      <td>20.17528</td>\n",
       "      <td>30.99165</td>\n",
       "      <td>0</td>\n",
       "      <td>205.213</td>\n",
       "      <td>2.11102</td>\n",
       "      <td>55.38</td>\n",
       "      <td>1</td>\n",
       "      <td>3</td>\n",
       "      <td>4</td>\n",
       "      <td>2</td>\n",
       "      <td>2</td>\n",
       "      <td>3</td>\n",
       "      <td>0</td>\n",
       "      <td>0</td>\n",
       "      <td>22</td>\n",
       "      <td>0</td>\n",
       "      <td>[[0 1 0 0 0 0 0 0 0 0 0 0 0 0 0]\\n [1 0 1 0 0 ...</td>\n",
       "      <td>inactive</td>\n",
       "      <td>[12, 16, 15, 20, 44, 15, 15, 15, 20, 16, 17, 2...</td>\n",
       "    </tr>\n",
       "    <tr>\n",
       "      <th>1</th>\n",
       "      <td>26665387</td>\n",
       "      <td>COc1ccc(/C=C2\\SC(=S)N(N3CCOCC3)C2=O)c(OC)c1</td>\n",
       "      <td>10.22630</td>\n",
       "      <td>13.05888</td>\n",
       "      <td>0</td>\n",
       "      <td>366.464</td>\n",
       "      <td>2.15220</td>\n",
       "      <td>51.24</td>\n",
       "      <td>0</td>\n",
       "      <td>7</td>\n",
       "      <td>8</td>\n",
       "      <td>3</td>\n",
       "      <td>1</td>\n",
       "      <td>4</td>\n",
       "      <td>0</td>\n",
       "      <td>0</td>\n",
       "      <td>43</td>\n",
       "      <td>0</td>\n",
       "      <td>[[0 1 0 0 0 0 0 0 0 0 0 0 0 0 0 0 0 0 0 0 0 0 ...</td>\n",
       "      <td>inactive</td>\n",
       "      <td>[12, 16, 19, 15, 20, 15, 15, 15, 17, 39, 16, 2...</td>\n",
       "    </tr>\n",
       "    <tr>\n",
       "      <th>2</th>\n",
       "      <td>862531</td>\n",
       "      <td>C[C@H](NC(=O)Nc1cccc(C(F)(F)F)c1)C(=O)O</td>\n",
       "      <td>2.04420</td>\n",
       "      <td>0.06288</td>\n",
       "      <td>0</td>\n",
       "      <td>276.214</td>\n",
       "      <td>2.30000</td>\n",
       "      <td>78.43</td>\n",
       "      <td>3</td>\n",
       "      <td>2</td>\n",
       "      <td>8</td>\n",
       "      <td>1</td>\n",
       "      <td>1</td>\n",
       "      <td>3</td>\n",
       "      <td>1</td>\n",
       "      <td>0</td>\n",
       "      <td>39</td>\n",
       "      <td>0</td>\n",
       "      <td>[[0 1 0 0 0 0 0 0 0 0 0 0 0 0 0 0 0 0 0]\\n [1 ...</td>\n",
       "      <td>inactive</td>\n",
       "      <td>[12, 16, 33, 17, 23, 16, 17, 22, 19, 18, 23, 1...</td>\n",
       "    </tr>\n",
       "    <tr>\n",
       "      <th>3</th>\n",
       "      <td>26732361</td>\n",
       "      <td>COc1cc(OC)c2ccc(=O)oc2c1C(CC(=O)N1CCOCC1)c1ccc...</td>\n",
       "      <td>21.80250</td>\n",
       "      <td>17.87858</td>\n",
       "      <td>0</td>\n",
       "      <td>466.534</td>\n",
       "      <td>3.25700</td>\n",
       "      <td>81.45</td>\n",
       "      <td>0</td>\n",
       "      <td>7</td>\n",
       "      <td>8</td>\n",
       "      <td>4</td>\n",
       "      <td>3</td>\n",
       "      <td>7</td>\n",
       "      <td>1</td>\n",
       "      <td>0</td>\n",
       "      <td>56</td>\n",
       "      <td>0</td>\n",
       "      <td>[[0 1 0 ... 0 0 0]\\n [1 0 1 ... 0 0 0]\\n [0 1 ...</td>\n",
       "      <td>inactive</td>\n",
       "      <td>[12, 16, 19, 15, 20, 15, 15, 17, 19, 16, 18, 1...</td>\n",
       "    </tr>\n",
       "    <tr>\n",
       "      <th>4</th>\n",
       "      <td>49735227</td>\n",
       "      <td>COc1cccc(NC(=O)C2C3C=CC4(O3)C2C(=O)N(CCCN2CCCC...</td>\n",
       "      <td>8.33980</td>\n",
       "      <td>19.03128</td>\n",
       "      <td>0</td>\n",
       "      <td>550.700</td>\n",
       "      <td>3.10920</td>\n",
       "      <td>100.21</td>\n",
       "      <td>2</td>\n",
       "      <td>6</td>\n",
       "      <td>9</td>\n",
       "      <td>6</td>\n",
       "      <td>1</td>\n",
       "      <td>9</td>\n",
       "      <td>5</td>\n",
       "      <td>0</td>\n",
       "      <td>68</td>\n",
       "      <td>1</td>\n",
       "      <td>[[0 1 0 ... 0 0 0]\\n [1 0 1 ... 0 0 0]\\n [0 1 ...</td>\n",
       "      <td>inactive</td>\n",
       "      <td>[12, 16, 19, 15, 20, 15, 15, 15, 15, 17, 23, 1...</td>\n",
       "    </tr>\n",
       "  </tbody>\n",
       "</table>\n",
       "</div>"
      ],
      "text/plain": [
       "   Pubchem_SID                                             SMILES  \\\n",
       "0     22416348                             Cc1occc1C(=O)NCc1ccco1   \n",
       "1     26665387        COc1ccc(/C=C2\\SC(=S)N(N3CCOCC3)C2=O)c(OC)c1   \n",
       "2       862531            C[C@H](NC(=O)Nc1cccc(C(F)(F)F)c1)C(=O)O   \n",
       "3     26732361  COc1cc(OC)c2ccc(=O)oc2c1C(CC(=O)N1CCOCC1)c1ccc...   \n",
       "4     49735227  COc1cccc(NC(=O)C2C3C=CC4(O3)C2C(=O)N(CCCN2CCCC...   \n",
       "\n",
       "   hERG_at_1uM  hERG_at_10uM  herg_inhibitor       mw     logP     PSA  \\\n",
       "0     20.17528      30.99165               0  205.213  2.11102   55.38   \n",
       "1     10.22630      13.05888               0  366.464  2.15220   51.24   \n",
       "2      2.04420       0.06288               0  276.214  2.30000   78.43   \n",
       "3     21.80250      17.87858               0  466.534  3.25700   81.45   \n",
       "4      8.33980      19.03128               0  550.700  3.10920  100.21   \n",
       "\n",
       "   H_bond_donors  H_bond_acceptors  num_heteroatoms  total_num_rings  \\\n",
       "0              1                 3                4                2   \n",
       "1              0                 7                8                3   \n",
       "2              3                 2                8                1   \n",
       "3              0                 7                8                4   \n",
       "4              2                 6                9                6   \n",
       "\n",
       "   aromatic_rings  num_rotatable_bonds  num_stereocenters  formal_charge  \\\n",
       "0               2                    3                  0              0   \n",
       "1               1                    4                  0              0   \n",
       "2               1                    3                  1              0   \n",
       "3               3                    7                  1              0   \n",
       "4               1                    9                  5              0   \n",
       "\n",
       "   SMILES_length  ro5_violations  \\\n",
       "0             22               0   \n",
       "1             43               0   \n",
       "2             39               0   \n",
       "3             56               0   \n",
       "4             68               1   \n",
       "\n",
       "                                    adjacency_matrix     label  \\\n",
       "0  [[0 1 0 0 0 0 0 0 0 0 0 0 0 0 0]\\n [1 0 1 0 0 ...  inactive   \n",
       "1  [[0 1 0 0 0 0 0 0 0 0 0 0 0 0 0 0 0 0 0 0 0 0 ...  inactive   \n",
       "2  [[0 1 0 0 0 0 0 0 0 0 0 0 0 0 0 0 0 0 0]\\n [1 ...  inactive   \n",
       "3  [[0 1 0 ... 0 0 0]\\n [1 0 1 ... 0 0 0]\\n [0 1 ...  inactive   \n",
       "4  [[0 1 0 ... 0 0 0]\\n [1 0 1 ... 0 0 0]\\n [0 1 ...  inactive   \n",
       "\n",
       "                                       SMILES_tokens  \n",
       "0  [12, 16, 15, 20, 44, 15, 15, 15, 20, 16, 17, 2...  \n",
       "1  [12, 16, 19, 15, 20, 15, 15, 15, 17, 39, 16, 2...  \n",
       "2  [12, 16, 33, 17, 23, 16, 17, 22, 19, 18, 23, 1...  \n",
       "3  [12, 16, 19, 15, 20, 15, 15, 17, 19, 16, 18, 1...  \n",
       "4  [12, 16, 19, 15, 20, 15, 15, 15, 15, 17, 23, 1...  "
      ]
     },
     "execution_count": 50,
     "metadata": {},
     "output_type": "execute_result"
    }
   ],
   "source": [
    "df.head()"
   ]
  },
  {
   "cell_type": "code",
   "execution_count": 26,
   "id": "3c3184b9-ea6e-4078-9b55-c8ea577cfe54",
   "metadata": {},
   "outputs": [
    {
     "name": "stderr",
     "output_type": "stream",
     "text": [
      "Setting 'max_len_single_sentence' is now deprecated. This value is automatically set up.\n",
      "Setting 'max_len_sentences_pair' is now deprecated. This value is automatically set up.\n"
     ]
    }
   ],
   "source": [
    "## load dataset if it exists and create it if it doesn't\n",
    "try:\n",
    "    # load existing dataset from disk\n",
    "    dataset_smiles = dc.data.DiskDataset('../data/processed/smiles')\n",
    "except ValueError:\n",
    "    # create dataset\n",
    "    dataset_file = f'{get_home_path()}/data/interim/herg_data.csv'\n",
    "    tasks = ['herg_inhibitor']\n",
    "    smi_tokenizer = dc.feat.SmilesTokenizer('./bert-loves-chemistry/vocab.txt')\n",
    "    loader = dc.data.CSVLoader(tasks=tasks,\n",
    "                               feature_field='SMILES',\n",
    "                               featurizer=smi_tokenizer)"
   ]
  },
  {
   "cell_type": "code",
   "execution_count": 27,
   "id": "f1456ee1-4ab9-4a9e-80ce-6f7a6cb2955f",
   "metadata": {},
   "outputs": [
    {
     "ename": "ValueError",
     "evalue": "text input must of type `str` (single example), `List[str]` (batch or single pretokenized example) or `List[List[str]]` (batch of pretokenized examples).",
     "output_type": "error",
     "traceback": [
      "\u001b[0;31m---------------------------------------------------------------------------\u001b[0m",
      "\u001b[0;31mValueError\u001b[0m                                Traceback (most recent call last)",
      "Input \u001b[0;32mIn [27]\u001b[0m, in \u001b[0;36m<cell line: 1>\u001b[0;34m()\u001b[0m\n\u001b[0;32m----> 1\u001b[0m dataset_smiles \u001b[38;5;241m=\u001b[39m \u001b[43mloader\u001b[49m\u001b[38;5;241;43m.\u001b[39;49m\u001b[43mcreate_dataset\u001b[49m\u001b[43m(\u001b[49m\u001b[43mdataset_file\u001b[49m\u001b[43m,\u001b[49m\u001b[43m \u001b[49m\u001b[38;5;124;43mf\u001b[39;49m\u001b[38;5;124;43m'\u001b[39;49m\u001b[38;5;132;43;01m{\u001b[39;49;00m\u001b[43mget_home_path\u001b[49m\u001b[43m(\u001b[49m\u001b[43m)\u001b[49m\u001b[38;5;132;43;01m}\u001b[39;49;00m\u001b[38;5;124;43m/data/processed/smiles\u001b[39;49m\u001b[38;5;124;43m'\u001b[39;49m\u001b[43m,\u001b[49m\u001b[43m \u001b[49m\u001b[43mshard_size\u001b[49m\u001b[38;5;241;43m=\u001b[39;49m\u001b[38;5;241;43m8192\u001b[39;49m\u001b[43m)\u001b[49m\n",
      "File \u001b[0;32m~/miniconda3/envs/capstone_cf/lib/python3.9/site-packages/deepchem/data/data_loader.py:227\u001b[0m, in \u001b[0;36mDataLoader.create_dataset\u001b[0;34m(self, inputs, data_dir, shard_size)\u001b[0m\n\u001b[1;32m    223\u001b[0m     logger\u001b[38;5;241m.\u001b[39minfo(\u001b[38;5;124m\"\u001b[39m\u001b[38;5;124mTIMING: featurizing shard \u001b[39m\u001b[38;5;132;01m%d\u001b[39;00m\u001b[38;5;124m took \u001b[39m\u001b[38;5;132;01m%0.3f\u001b[39;00m\u001b[38;5;124m s\u001b[39m\u001b[38;5;124m\"\u001b[39m \u001b[38;5;241m%\u001b[39m\n\u001b[1;32m    224\u001b[0m                 (shard_num, time2 \u001b[38;5;241m-\u001b[39m time1))\n\u001b[1;32m    225\u001b[0m     \u001b[38;5;28;01myield\u001b[39;00m X, y, w, ids\n\u001b[0;32m--> 227\u001b[0m \u001b[38;5;28;01mreturn\u001b[39;00m \u001b[43mDiskDataset\u001b[49m\u001b[38;5;241;43m.\u001b[39;49m\u001b[43mcreate_dataset\u001b[49m\u001b[43m(\u001b[49m\u001b[43mshard_generator\u001b[49m\u001b[43m(\u001b[49m\u001b[43m)\u001b[49m\u001b[43m,\u001b[49m\u001b[43m \u001b[49m\u001b[43mdata_dir\u001b[49m\u001b[43m,\u001b[49m\u001b[43m \u001b[49m\u001b[38;5;28;43mself\u001b[39;49m\u001b[38;5;241;43m.\u001b[39;49m\u001b[43mtasks\u001b[49m\u001b[43m)\u001b[49m\n",
      "File \u001b[0;32m~/miniconda3/envs/capstone_cf/lib/python3.9/site-packages/deepchem/data/datasets.py:1219\u001b[0m, in \u001b[0;36mDiskDataset.create_dataset\u001b[0;34m(shard_generator, data_dir, tasks)\u001b[0m\n\u001b[1;32m   1217\u001b[0m metadata_rows \u001b[38;5;241m=\u001b[39m []\n\u001b[1;32m   1218\u001b[0m time1 \u001b[38;5;241m=\u001b[39m time\u001b[38;5;241m.\u001b[39mtime()\n\u001b[0;32m-> 1219\u001b[0m \u001b[38;5;28;01mfor\u001b[39;00m shard_num, (X, y, w, ids) \u001b[38;5;129;01min\u001b[39;00m \u001b[38;5;28menumerate\u001b[39m(shard_generator):\n\u001b[1;32m   1220\u001b[0m   basename \u001b[38;5;241m=\u001b[39m \u001b[38;5;124m\"\u001b[39m\u001b[38;5;124mshard-\u001b[39m\u001b[38;5;132;01m%d\u001b[39;00m\u001b[38;5;124m\"\u001b[39m \u001b[38;5;241m%\u001b[39m shard_num\n\u001b[1;32m   1221\u001b[0m   metadata_rows\u001b[38;5;241m.\u001b[39mappend(\n\u001b[1;32m   1222\u001b[0m       DiskDataset\u001b[38;5;241m.\u001b[39mwrite_data_to_disk(data_dir, basename, X, y, w, ids))\n",
      "File \u001b[0;32m~/miniconda3/envs/capstone_cf/lib/python3.9/site-packages/deepchem/data/data_loader.py:207\u001b[0m, in \u001b[0;36mDataLoader.create_dataset.<locals>.shard_generator\u001b[0;34m()\u001b[0m\n\u001b[1;32m    205\u001b[0m \u001b[38;5;28;01mfor\u001b[39;00m shard_num, shard \u001b[38;5;129;01min\u001b[39;00m \u001b[38;5;28menumerate\u001b[39m(\u001b[38;5;28mself\u001b[39m\u001b[38;5;241m.\u001b[39m_get_shards(inputs, shard_size)):\n\u001b[1;32m    206\u001b[0m   time1 \u001b[38;5;241m=\u001b[39m time\u001b[38;5;241m.\u001b[39mtime()\n\u001b[0;32m--> 207\u001b[0m   X, valid_inds \u001b[38;5;241m=\u001b[39m \u001b[38;5;28;43mself\u001b[39;49m\u001b[38;5;241;43m.\u001b[39;49m\u001b[43m_featurize_shard\u001b[49m\u001b[43m(\u001b[49m\u001b[43mshard\u001b[49m\u001b[43m)\u001b[49m\n\u001b[1;32m    208\u001b[0m   ids \u001b[38;5;241m=\u001b[39m shard[\u001b[38;5;28mself\u001b[39m\u001b[38;5;241m.\u001b[39mid_field]\u001b[38;5;241m.\u001b[39mvalues\n\u001b[1;32m    209\u001b[0m   ids \u001b[38;5;241m=\u001b[39m ids[valid_inds]\n",
      "File \u001b[0;32m~/miniconda3/envs/capstone_cf/lib/python3.9/site-packages/deepchem/data/data_loader.py:414\u001b[0m, in \u001b[0;36mCSVLoader._featurize_shard\u001b[0;34m(self, shard)\u001b[0m\n\u001b[1;32m    411\u001b[0m \u001b[38;5;28;01mif\u001b[39;00m \u001b[38;5;28mself\u001b[39m\u001b[38;5;241m.\u001b[39mfeaturizer \u001b[38;5;129;01mis\u001b[39;00m \u001b[38;5;28;01mNone\u001b[39;00m:\n\u001b[1;32m    412\u001b[0m   \u001b[38;5;28;01mraise\u001b[39;00m \u001b[38;5;167;01mValueError\u001b[39;00m(\n\u001b[1;32m    413\u001b[0m       \u001b[38;5;124m\"\u001b[39m\u001b[38;5;124mfeaturizer must be specified in constructor to featurizer data/\u001b[39m\u001b[38;5;124m\"\u001b[39m)\n\u001b[0;32m--> 414\u001b[0m features \u001b[38;5;241m=\u001b[39m [elt \u001b[38;5;28;01mfor\u001b[39;00m elt \u001b[38;5;129;01min\u001b[39;00m \u001b[38;5;28;43mself\u001b[39;49m\u001b[38;5;241;43m.\u001b[39;49m\u001b[43mfeaturizer\u001b[49m\u001b[43m(\u001b[49m\u001b[43mshard\u001b[49m\u001b[43m[\u001b[49m\u001b[38;5;28;43mself\u001b[39;49m\u001b[38;5;241;43m.\u001b[39;49m\u001b[43mfeature_field\u001b[49m\u001b[43m]\u001b[49m\u001b[43m)\u001b[49m]\n\u001b[1;32m    415\u001b[0m valid_inds \u001b[38;5;241m=\u001b[39m np\u001b[38;5;241m.\u001b[39marray(\n\u001b[1;32m    416\u001b[0m     [\u001b[38;5;241m1\u001b[39m \u001b[38;5;28;01mif\u001b[39;00m np\u001b[38;5;241m.\u001b[39marray(elt)\u001b[38;5;241m.\u001b[39msize \u001b[38;5;241m>\u001b[39m \u001b[38;5;241m0\u001b[39m \u001b[38;5;28;01melse\u001b[39;00m \u001b[38;5;241m0\u001b[39m \u001b[38;5;28;01mfor\u001b[39;00m elt \u001b[38;5;129;01min\u001b[39;00m features], dtype\u001b[38;5;241m=\u001b[39m\u001b[38;5;28mbool\u001b[39m)\n\u001b[1;32m    417\u001b[0m features \u001b[38;5;241m=\u001b[39m [\n\u001b[1;32m    418\u001b[0m     elt \u001b[38;5;28;01mfor\u001b[39;00m (is_valid, elt) \u001b[38;5;129;01min\u001b[39;00m \u001b[38;5;28mzip\u001b[39m(valid_inds, features) \u001b[38;5;28;01mif\u001b[39;00m is_valid\n\u001b[1;32m    419\u001b[0m ]\n",
      "File \u001b[0;32m~/miniconda3/envs/capstone_cf/lib/python3.9/site-packages/transformers/tokenization_utils_base.py:2417\u001b[0m, in \u001b[0;36mPreTrainedTokenizerBase.__call__\u001b[0;34m(self, text, text_pair, add_special_tokens, padding, truncation, max_length, stride, is_split_into_words, pad_to_multiple_of, return_tensors, return_token_type_ids, return_attention_mask, return_overflowing_tokens, return_special_tokens_mask, return_offsets_mapping, return_length, verbose, **kwargs)\u001b[0m\n\u001b[1;32m   2414\u001b[0m         \u001b[38;5;28;01mreturn\u001b[39;00m \u001b[38;5;28;01mFalse\u001b[39;00m\n\u001b[1;32m   2416\u001b[0m \u001b[38;5;28;01mif\u001b[39;00m \u001b[38;5;129;01mnot\u001b[39;00m _is_valid_text_input(text):\n\u001b[0;32m-> 2417\u001b[0m     \u001b[38;5;28;01mraise\u001b[39;00m \u001b[38;5;167;01mValueError\u001b[39;00m(\n\u001b[1;32m   2418\u001b[0m         \u001b[38;5;124m\"\u001b[39m\u001b[38;5;124mtext input must of type `str` (single example), `List[str]` (batch or single pretokenized example) \u001b[39m\u001b[38;5;124m\"\u001b[39m\n\u001b[1;32m   2419\u001b[0m         \u001b[38;5;124m\"\u001b[39m\u001b[38;5;124mor `List[List[str]]` (batch of pretokenized examples).\u001b[39m\u001b[38;5;124m\"\u001b[39m\n\u001b[1;32m   2420\u001b[0m     )\n\u001b[1;32m   2422\u001b[0m \u001b[38;5;28;01mif\u001b[39;00m text_pair \u001b[38;5;129;01mis\u001b[39;00m \u001b[38;5;129;01mnot\u001b[39;00m \u001b[38;5;28;01mNone\u001b[39;00m \u001b[38;5;129;01mand\u001b[39;00m \u001b[38;5;129;01mnot\u001b[39;00m _is_valid_text_input(text_pair):\n\u001b[1;32m   2423\u001b[0m     \u001b[38;5;28;01mraise\u001b[39;00m \u001b[38;5;167;01mValueError\u001b[39;00m(\n\u001b[1;32m   2424\u001b[0m         \u001b[38;5;124m\"\u001b[39m\u001b[38;5;124mtext input must of type `str` (single example), `List[str]` (batch or single pretokenized example) \u001b[39m\u001b[38;5;124m\"\u001b[39m\n\u001b[1;32m   2425\u001b[0m         \u001b[38;5;124m\"\u001b[39m\u001b[38;5;124mor `List[List[str]]` (batch of pretokenized examples).\u001b[39m\u001b[38;5;124m\"\u001b[39m\n\u001b[1;32m   2426\u001b[0m     )\n",
      "\u001b[0;31mValueError\u001b[0m: text input must of type `str` (single example), `List[str]` (batch or single pretokenized example) or `List[List[str]]` (batch of pretokenized examples)."
     ]
    }
   ],
   "source": [
    "dataset_smiles = loader.create_dataset(dataset_file, f'{get_home_path()}/data/processed/smiles', shard_size=8192)"
   ]
  },
  {
   "cell_type": "code",
   "execution_count": null,
   "id": "b995fe54-7fbd-46f5-bc2b-ad078b2e0436",
   "metadata": {},
   "outputs": [],
   "source": []
  },
  {
   "cell_type": "code",
   "execution_count": 21,
   "id": "893a3cad-290c-4871-a053-df1ba21f9f7b",
   "metadata": {},
   "outputs": [],
   "source": [
    "## load dataset if it exists and create it if it doesn't\n",
    "try:\n",
    "    # load existing dataset from disk\n",
    "    dataset_BERT = dc.data.DiskDataset('../data/processed/BERT')\n",
    "except ValueError:\n",
    "    # create dataset\n",
    "    dataset_file = f'{get_home_path()}/data/interim/herg_data.csv'\n",
    "    tasks = ['herg_inhibitor']\n",
    "    bpe_tokenizer = dc.feat.RobertaTokenizerFast.from_pretrained('seyonec/PubChem10M_SMILES_BPE_450k')\n",
    "    loader = dc.data.CSVLoader(tasks=tasks,\n",
    "                               feature_field='SMILES',\n",
    "                               featurizer=bpe_tokenizer)"
   ]
  },
  {
   "cell_type": "code",
   "execution_count": 22,
   "id": "9a23525b-a0d3-4451-b5dc-24f5b5317d25",
   "metadata": {},
   "outputs": [
    {
     "ename": "ValueError",
     "evalue": "text input must of type `str` (single example), `List[str]` (batch or single pretokenized example) or `List[List[str]]` (batch of pretokenized examples).",
     "output_type": "error",
     "traceback": [
      "\u001b[0;31m---------------------------------------------------------------------------\u001b[0m",
      "\u001b[0;31mValueError\u001b[0m                                Traceback (most recent call last)",
      "Input \u001b[0;32mIn [22]\u001b[0m, in \u001b[0;36m<cell line: 1>\u001b[0;34m()\u001b[0m\n\u001b[0;32m----> 1\u001b[0m dataset_BERT \u001b[38;5;241m=\u001b[39m \u001b[43mloader\u001b[49m\u001b[38;5;241;43m.\u001b[39;49m\u001b[43mcreate_dataset\u001b[49m\u001b[43m(\u001b[49m\u001b[43mdataset_file\u001b[49m\u001b[43m,\u001b[49m\u001b[43m \u001b[49m\u001b[38;5;124;43mf\u001b[39;49m\u001b[38;5;124;43m'\u001b[39;49m\u001b[38;5;132;43;01m{\u001b[39;49;00m\u001b[43mget_home_path\u001b[49m\u001b[43m(\u001b[49m\u001b[43m)\u001b[49m\u001b[38;5;132;43;01m}\u001b[39;49;00m\u001b[38;5;124;43m/data/processed/BERT\u001b[39;49m\u001b[38;5;124;43m'\u001b[39;49m\u001b[43m,\u001b[49m\u001b[43m \u001b[49m\u001b[43mshard_size\u001b[49m\u001b[38;5;241;43m=\u001b[39;49m\u001b[38;5;241;43m8192\u001b[39;49m\u001b[43m)\u001b[49m\n",
      "File \u001b[0;32m~/miniconda3/envs/capstone_cf/lib/python3.9/site-packages/deepchem/data/data_loader.py:227\u001b[0m, in \u001b[0;36mDataLoader.create_dataset\u001b[0;34m(self, inputs, data_dir, shard_size)\u001b[0m\n\u001b[1;32m    223\u001b[0m     logger\u001b[38;5;241m.\u001b[39minfo(\u001b[38;5;124m\"\u001b[39m\u001b[38;5;124mTIMING: featurizing shard \u001b[39m\u001b[38;5;132;01m%d\u001b[39;00m\u001b[38;5;124m took \u001b[39m\u001b[38;5;132;01m%0.3f\u001b[39;00m\u001b[38;5;124m s\u001b[39m\u001b[38;5;124m\"\u001b[39m \u001b[38;5;241m%\u001b[39m\n\u001b[1;32m    224\u001b[0m                 (shard_num, time2 \u001b[38;5;241m-\u001b[39m time1))\n\u001b[1;32m    225\u001b[0m     \u001b[38;5;28;01myield\u001b[39;00m X, y, w, ids\n\u001b[0;32m--> 227\u001b[0m \u001b[38;5;28;01mreturn\u001b[39;00m \u001b[43mDiskDataset\u001b[49m\u001b[38;5;241;43m.\u001b[39;49m\u001b[43mcreate_dataset\u001b[49m\u001b[43m(\u001b[49m\u001b[43mshard_generator\u001b[49m\u001b[43m(\u001b[49m\u001b[43m)\u001b[49m\u001b[43m,\u001b[49m\u001b[43m \u001b[49m\u001b[43mdata_dir\u001b[49m\u001b[43m,\u001b[49m\u001b[43m \u001b[49m\u001b[38;5;28;43mself\u001b[39;49m\u001b[38;5;241;43m.\u001b[39;49m\u001b[43mtasks\u001b[49m\u001b[43m)\u001b[49m\n",
      "File \u001b[0;32m~/miniconda3/envs/capstone_cf/lib/python3.9/site-packages/deepchem/data/datasets.py:1219\u001b[0m, in \u001b[0;36mDiskDataset.create_dataset\u001b[0;34m(shard_generator, data_dir, tasks)\u001b[0m\n\u001b[1;32m   1217\u001b[0m metadata_rows \u001b[38;5;241m=\u001b[39m []\n\u001b[1;32m   1218\u001b[0m time1 \u001b[38;5;241m=\u001b[39m time\u001b[38;5;241m.\u001b[39mtime()\n\u001b[0;32m-> 1219\u001b[0m \u001b[38;5;28;01mfor\u001b[39;00m shard_num, (X, y, w, ids) \u001b[38;5;129;01min\u001b[39;00m \u001b[38;5;28menumerate\u001b[39m(shard_generator):\n\u001b[1;32m   1220\u001b[0m   basename \u001b[38;5;241m=\u001b[39m \u001b[38;5;124m\"\u001b[39m\u001b[38;5;124mshard-\u001b[39m\u001b[38;5;132;01m%d\u001b[39;00m\u001b[38;5;124m\"\u001b[39m \u001b[38;5;241m%\u001b[39m shard_num\n\u001b[1;32m   1221\u001b[0m   metadata_rows\u001b[38;5;241m.\u001b[39mappend(\n\u001b[1;32m   1222\u001b[0m       DiskDataset\u001b[38;5;241m.\u001b[39mwrite_data_to_disk(data_dir, basename, X, y, w, ids))\n",
      "File \u001b[0;32m~/miniconda3/envs/capstone_cf/lib/python3.9/site-packages/deepchem/data/data_loader.py:207\u001b[0m, in \u001b[0;36mDataLoader.create_dataset.<locals>.shard_generator\u001b[0;34m()\u001b[0m\n\u001b[1;32m    205\u001b[0m \u001b[38;5;28;01mfor\u001b[39;00m shard_num, shard \u001b[38;5;129;01min\u001b[39;00m \u001b[38;5;28menumerate\u001b[39m(\u001b[38;5;28mself\u001b[39m\u001b[38;5;241m.\u001b[39m_get_shards(inputs, shard_size)):\n\u001b[1;32m    206\u001b[0m   time1 \u001b[38;5;241m=\u001b[39m time\u001b[38;5;241m.\u001b[39mtime()\n\u001b[0;32m--> 207\u001b[0m   X, valid_inds \u001b[38;5;241m=\u001b[39m \u001b[38;5;28;43mself\u001b[39;49m\u001b[38;5;241;43m.\u001b[39;49m\u001b[43m_featurize_shard\u001b[49m\u001b[43m(\u001b[49m\u001b[43mshard\u001b[49m\u001b[43m)\u001b[49m\n\u001b[1;32m    208\u001b[0m   ids \u001b[38;5;241m=\u001b[39m shard[\u001b[38;5;28mself\u001b[39m\u001b[38;5;241m.\u001b[39mid_field]\u001b[38;5;241m.\u001b[39mvalues\n\u001b[1;32m    209\u001b[0m   ids \u001b[38;5;241m=\u001b[39m ids[valid_inds]\n",
      "File \u001b[0;32m~/miniconda3/envs/capstone_cf/lib/python3.9/site-packages/deepchem/data/data_loader.py:414\u001b[0m, in \u001b[0;36mCSVLoader._featurize_shard\u001b[0;34m(self, shard)\u001b[0m\n\u001b[1;32m    411\u001b[0m \u001b[38;5;28;01mif\u001b[39;00m \u001b[38;5;28mself\u001b[39m\u001b[38;5;241m.\u001b[39mfeaturizer \u001b[38;5;129;01mis\u001b[39;00m \u001b[38;5;28;01mNone\u001b[39;00m:\n\u001b[1;32m    412\u001b[0m   \u001b[38;5;28;01mraise\u001b[39;00m \u001b[38;5;167;01mValueError\u001b[39;00m(\n\u001b[1;32m    413\u001b[0m       \u001b[38;5;124m\"\u001b[39m\u001b[38;5;124mfeaturizer must be specified in constructor to featurizer data/\u001b[39m\u001b[38;5;124m\"\u001b[39m)\n\u001b[0;32m--> 414\u001b[0m features \u001b[38;5;241m=\u001b[39m [elt \u001b[38;5;28;01mfor\u001b[39;00m elt \u001b[38;5;129;01min\u001b[39;00m \u001b[38;5;28;43mself\u001b[39;49m\u001b[38;5;241;43m.\u001b[39;49m\u001b[43mfeaturizer\u001b[49m\u001b[43m(\u001b[49m\u001b[43mshard\u001b[49m\u001b[43m[\u001b[49m\u001b[38;5;28;43mself\u001b[39;49m\u001b[38;5;241;43m.\u001b[39;49m\u001b[43mfeature_field\u001b[49m\u001b[43m]\u001b[49m\u001b[43m)\u001b[49m]\n\u001b[1;32m    415\u001b[0m valid_inds \u001b[38;5;241m=\u001b[39m np\u001b[38;5;241m.\u001b[39marray(\n\u001b[1;32m    416\u001b[0m     [\u001b[38;5;241m1\u001b[39m \u001b[38;5;28;01mif\u001b[39;00m np\u001b[38;5;241m.\u001b[39marray(elt)\u001b[38;5;241m.\u001b[39msize \u001b[38;5;241m>\u001b[39m \u001b[38;5;241m0\u001b[39m \u001b[38;5;28;01melse\u001b[39;00m \u001b[38;5;241m0\u001b[39m \u001b[38;5;28;01mfor\u001b[39;00m elt \u001b[38;5;129;01min\u001b[39;00m features], dtype\u001b[38;5;241m=\u001b[39m\u001b[38;5;28mbool\u001b[39m)\n\u001b[1;32m    417\u001b[0m features \u001b[38;5;241m=\u001b[39m [\n\u001b[1;32m    418\u001b[0m     elt \u001b[38;5;28;01mfor\u001b[39;00m (is_valid, elt) \u001b[38;5;129;01min\u001b[39;00m \u001b[38;5;28mzip\u001b[39m(valid_inds, features) \u001b[38;5;28;01mif\u001b[39;00m is_valid\n\u001b[1;32m    419\u001b[0m ]\n",
      "File \u001b[0;32m~/miniconda3/envs/capstone_cf/lib/python3.9/site-packages/transformers/tokenization_utils_base.py:2417\u001b[0m, in \u001b[0;36mPreTrainedTokenizerBase.__call__\u001b[0;34m(self, text, text_pair, add_special_tokens, padding, truncation, max_length, stride, is_split_into_words, pad_to_multiple_of, return_tensors, return_token_type_ids, return_attention_mask, return_overflowing_tokens, return_special_tokens_mask, return_offsets_mapping, return_length, verbose, **kwargs)\u001b[0m\n\u001b[1;32m   2414\u001b[0m         \u001b[38;5;28;01mreturn\u001b[39;00m \u001b[38;5;28;01mFalse\u001b[39;00m\n\u001b[1;32m   2416\u001b[0m \u001b[38;5;28;01mif\u001b[39;00m \u001b[38;5;129;01mnot\u001b[39;00m _is_valid_text_input(text):\n\u001b[0;32m-> 2417\u001b[0m     \u001b[38;5;28;01mraise\u001b[39;00m \u001b[38;5;167;01mValueError\u001b[39;00m(\n\u001b[1;32m   2418\u001b[0m         \u001b[38;5;124m\"\u001b[39m\u001b[38;5;124mtext input must of type `str` (single example), `List[str]` (batch or single pretokenized example) \u001b[39m\u001b[38;5;124m\"\u001b[39m\n\u001b[1;32m   2419\u001b[0m         \u001b[38;5;124m\"\u001b[39m\u001b[38;5;124mor `List[List[str]]` (batch of pretokenized examples).\u001b[39m\u001b[38;5;124m\"\u001b[39m\n\u001b[1;32m   2420\u001b[0m     )\n\u001b[1;32m   2422\u001b[0m \u001b[38;5;28;01mif\u001b[39;00m text_pair \u001b[38;5;129;01mis\u001b[39;00m \u001b[38;5;129;01mnot\u001b[39;00m \u001b[38;5;28;01mNone\u001b[39;00m \u001b[38;5;129;01mand\u001b[39;00m \u001b[38;5;129;01mnot\u001b[39;00m _is_valid_text_input(text_pair):\n\u001b[1;32m   2423\u001b[0m     \u001b[38;5;28;01mraise\u001b[39;00m \u001b[38;5;167;01mValueError\u001b[39;00m(\n\u001b[1;32m   2424\u001b[0m         \u001b[38;5;124m\"\u001b[39m\u001b[38;5;124mtext input must of type `str` (single example), `List[str]` (batch or single pretokenized example) \u001b[39m\u001b[38;5;124m\"\u001b[39m\n\u001b[1;32m   2425\u001b[0m         \u001b[38;5;124m\"\u001b[39m\u001b[38;5;124mor `List[List[str]]` (batch of pretokenized examples).\u001b[39m\u001b[38;5;124m\"\u001b[39m\n\u001b[1;32m   2426\u001b[0m     )\n",
      "\u001b[0;31mValueError\u001b[0m: text input must of type `str` (single example), `List[str]` (batch or single pretokenized example) or `List[List[str]]` (batch of pretokenized examples)."
     ]
    }
   ],
   "source": [
    "dataset_BERT = loader.create_dataset(dataset_file, f'{get_home_path()}/data/processed/BERT', shard_size=8192)"
   ]
  },
  {
   "cell_type": "code",
   "execution_count": null,
   "id": "005508c7-e6e6-412a-8f88-c6044dfec64e",
   "metadata": {},
   "outputs": [],
   "source": []
  },
  {
   "cell_type": "markdown",
   "id": "b9c8d2bc-bce2-454a-8f7e-66727126fb9c",
   "metadata": {
    "tags": []
   },
   "source": [
    "### load fingerprint features"
   ]
  },
  {
   "cell_type": "code",
   "execution_count": 13,
   "id": "f15c27d2-a5ae-4391-953f-378222d8669b",
   "metadata": {},
   "outputs": [],
   "source": [
    "## load dataset if it exists and create it if it doesn't\n",
    "try:\n",
    "    # load existing dataset from disk\n",
    "    fp_dataset = dc.data.DiskDataset('../data/processed/fingerprints')\n",
    "except ValueError:\n",
    "    # create dataset\n",
    "    dataset_file = f'{get_home_path()}/data/interim/herg_data.csv'\n",
    "    tasks = ['herg_inhibitor']\n",
    "    featurizer = dc.feat.CircularFingerprint(size=1024)\n",
    "    loader = dc.data.CSVLoader(tasks=tasks,\n",
    "                               feature_field='SMILES',\n",
    "                               featurizer=featurizer)\n",
    "    fp_dataset = loader.create_dataset(dataset_file, f'{get_home_path()}/data/processed/fingerprints', shard_size=8192)"
   ]
  },
  {
   "cell_type": "code",
   "execution_count": 27,
   "id": "882b8598-a4e2-4527-a4e8-73ad98434653",
   "metadata": {},
   "outputs": [
    {
     "data": {
      "text/plain": [
       "<DiskDataset X.shape: (306865, 1024), y.shape: (306865, 1), w.shape: (306865, 1), task_names: ['herg_inhibitor']>"
      ]
     },
     "execution_count": 27,
     "metadata": {},
     "output_type": "execute_result"
    }
   ],
   "source": [
    "fp_dataset"
   ]
  },
  {
   "cell_type": "code",
   "execution_count": 32,
   "id": "a89dacff-8ed6-48b4-941a-7e1d5ab05c4c",
   "metadata": {},
   "outputs": [
    {
     "data": {
      "text/plain": [
       "array([0., 0., 1., ..., 0., 0., 0.])"
      ]
     },
     "execution_count": 32,
     "metadata": {},
     "output_type": "execute_result"
    }
   ],
   "source": [
    "fp_dataset.X[4]"
   ]
  },
  {
   "cell_type": "markdown",
   "id": "eab5e8be-6b1f-4b89-b85f-b18da185a567",
   "metadata": {
    "tags": []
   },
   "source": [
    "### load Graph features"
   ]
  },
  {
   "cell_type": "code",
   "execution_count": 35,
   "id": "6bae9231-d370-40e4-a0a1-0081a7501416",
   "metadata": {
    "id": "-48hhKClKk28"
   },
   "outputs": [],
   "source": [
    "## load dataset if it exists and create it if it doesn't\n",
    "try:\n",
    "    # load saved dataset\n",
    "    gcn_dataset = dc.data.DiskDataset('../data/processed/ConvMolFeatures')\n",
    "except ValueError:\n",
    "    # create dataset\n",
    "    dataset_file = f'{get_home_path()}/data/interim/herg_data.csv'\n",
    "    tasks = ['herg_inhibitor']\n",
    "    gcn_featurizer = dc.feat.ConvMolFeaturizer()\n",
    "    loader = dc.data.CSVLoader(tasks=tasks,\n",
    "                               feature_field='SMILES',\n",
    "                               featurizer=gcn_featurizer)\n",
    "    gcn_dataset = loader.create_dataset(dataset_file, f'{get_home_path()}/data/processed/ConvMolFeatures', shard_size=8192)"
   ]
  },
  {
   "cell_type": "code",
   "execution_count": 36,
   "id": "3282d7b7-4e2a-422a-8248-19479a0dc2b9",
   "metadata": {},
   "outputs": [
    {
     "data": {
      "text/plain": [
       "<DiskDataset X.shape: (306865,), y.shape: (306865, 1), w.shape: (306865, 1), task_names: ['herg_inhibitor']>"
      ]
     },
     "execution_count": 36,
     "metadata": {},
     "output_type": "execute_result"
    }
   ],
   "source": [
    "gcn_dataset"
   ]
  },
  {
   "cell_type": "code",
   "execution_count": 37,
   "id": "09fc7b13-c0dd-463f-b5e8-4287aa7b36a7",
   "metadata": {},
   "outputs": [
    {
     "data": {
      "text/plain": [
       "['T',\n",
       " '__abs__',\n",
       " '__add__',\n",
       " '__and__',\n",
       " '__array__',\n",
       " '__array_finalize__',\n",
       " '__array_function__',\n",
       " '__array_interface__',\n",
       " '__array_prepare__',\n",
       " '__array_priority__',\n",
       " '__array_struct__',\n",
       " '__array_ufunc__',\n",
       " '__array_wrap__',\n",
       " '__bool__',\n",
       " '__class__',\n",
       " '__class_getitem__',\n",
       " '__complex__',\n",
       " '__contains__',\n",
       " '__copy__',\n",
       " '__deepcopy__',\n",
       " '__delattr__',\n",
       " '__delitem__',\n",
       " '__dir__',\n",
       " '__divmod__',\n",
       " '__dlpack__',\n",
       " '__dlpack_device__',\n",
       " '__doc__',\n",
       " '__eq__',\n",
       " '__float__',\n",
       " '__floordiv__',\n",
       " '__format__',\n",
       " '__ge__',\n",
       " '__getattribute__',\n",
       " '__getitem__',\n",
       " '__gt__',\n",
       " '__hash__',\n",
       " '__iadd__',\n",
       " '__iand__',\n",
       " '__ifloordiv__',\n",
       " '__ilshift__',\n",
       " '__imatmul__',\n",
       " '__imod__',\n",
       " '__imul__',\n",
       " '__index__',\n",
       " '__init__',\n",
       " '__init_subclass__',\n",
       " '__int__',\n",
       " '__invert__',\n",
       " '__ior__',\n",
       " '__ipow__',\n",
       " '__irshift__',\n",
       " '__isub__',\n",
       " '__iter__',\n",
       " '__itruediv__',\n",
       " '__ixor__',\n",
       " '__le__',\n",
       " '__len__',\n",
       " '__lshift__',\n",
       " '__lt__',\n",
       " '__matmul__',\n",
       " '__mod__',\n",
       " '__mul__',\n",
       " '__ne__',\n",
       " '__neg__',\n",
       " '__new__',\n",
       " '__or__',\n",
       " '__pos__',\n",
       " '__pow__',\n",
       " '__radd__',\n",
       " '__rand__',\n",
       " '__rdivmod__',\n",
       " '__reduce__',\n",
       " '__reduce_ex__',\n",
       " '__repr__',\n",
       " '__rfloordiv__',\n",
       " '__rlshift__',\n",
       " '__rmatmul__',\n",
       " '__rmod__',\n",
       " '__rmul__',\n",
       " '__ror__',\n",
       " '__rpow__',\n",
       " '__rrshift__',\n",
       " '__rshift__',\n",
       " '__rsub__',\n",
       " '__rtruediv__',\n",
       " '__rxor__',\n",
       " '__setattr__',\n",
       " '__setitem__',\n",
       " '__setstate__',\n",
       " '__sizeof__',\n",
       " '__str__',\n",
       " '__sub__',\n",
       " '__subclasshook__',\n",
       " '__truediv__',\n",
       " '__xor__',\n",
       " 'all',\n",
       " 'any',\n",
       " 'argmax',\n",
       " 'argmin',\n",
       " 'argpartition',\n",
       " 'argsort',\n",
       " 'astype',\n",
       " 'base',\n",
       " 'byteswap',\n",
       " 'choose',\n",
       " 'clip',\n",
       " 'compress',\n",
       " 'conj',\n",
       " 'conjugate',\n",
       " 'copy',\n",
       " 'ctypes',\n",
       " 'cumprod',\n",
       " 'cumsum',\n",
       " 'data',\n",
       " 'diagonal',\n",
       " 'dot',\n",
       " 'dtype',\n",
       " 'dump',\n",
       " 'dumps',\n",
       " 'fill',\n",
       " 'flags',\n",
       " 'flat',\n",
       " 'flatten',\n",
       " 'getfield',\n",
       " 'imag',\n",
       " 'item',\n",
       " 'itemset',\n",
       " 'itemsize',\n",
       " 'max',\n",
       " 'mean',\n",
       " 'min',\n",
       " 'nbytes',\n",
       " 'ndim',\n",
       " 'newbyteorder',\n",
       " 'nonzero',\n",
       " 'partition',\n",
       " 'prod',\n",
       " 'ptp',\n",
       " 'put',\n",
       " 'ravel',\n",
       " 'real',\n",
       " 'repeat',\n",
       " 'reshape',\n",
       " 'resize',\n",
       " 'round',\n",
       " 'searchsorted',\n",
       " 'setfield',\n",
       " 'setflags',\n",
       " 'shape',\n",
       " 'size',\n",
       " 'sort',\n",
       " 'squeeze',\n",
       " 'std',\n",
       " 'strides',\n",
       " 'sum',\n",
       " 'swapaxes',\n",
       " 'take',\n",
       " 'tobytes',\n",
       " 'tofile',\n",
       " 'tolist',\n",
       " 'tostring',\n",
       " 'trace',\n",
       " 'transpose',\n",
       " 'var',\n",
       " 'view']"
      ]
     },
     "execution_count": 37,
     "metadata": {},
     "output_type": "execute_result"
    }
   ],
   "source": [
    "dir(gcn_dataset.X)"
   ]
  },
  {
   "cell_type": "code",
   "execution_count": 43,
   "id": "4062b484-05e7-491b-b9b8-d4a3f8efdfd7",
   "metadata": {},
   "outputs": [],
   "source": [
    "gcn4 = gcn_dataset.X[4]"
   ]
  },
  {
   "cell_type": "code",
   "execution_count": 44,
   "id": "a931e02c-f727-4fec-a58c-229476accd73",
   "metadata": {},
   "outputs": [
    {
     "data": {
      "text/plain": [
       "['__class__',\n",
       " '__delattr__',\n",
       " '__dict__',\n",
       " '__dir__',\n",
       " '__doc__',\n",
       " '__eq__',\n",
       " '__format__',\n",
       " '__ge__',\n",
       " '__getattribute__',\n",
       " '__gt__',\n",
       " '__hash__',\n",
       " '__init__',\n",
       " '__init_subclass__',\n",
       " '__le__',\n",
       " '__lt__',\n",
       " '__module__',\n",
       " '__ne__',\n",
       " '__new__',\n",
       " '__reduce__',\n",
       " '__reduce_ex__',\n",
       " '__repr__',\n",
       " '__setattr__',\n",
       " '__sizeof__',\n",
       " '__str__',\n",
       " '__subclasshook__',\n",
       " '__weakref__',\n",
       " '_deg_sort',\n",
       " 'agglomerate_mols',\n",
       " 'atom_features',\n",
       " 'canon_adj_list',\n",
       " 'deg_adj_lists',\n",
       " 'deg_block_indices',\n",
       " 'deg_id_list',\n",
       " 'deg_list',\n",
       " 'deg_slice',\n",
       " 'deg_start',\n",
       " 'degree_list',\n",
       " 'get_adjacency_list',\n",
       " 'get_atom_features',\n",
       " 'get_atoms_with_deg',\n",
       " 'get_deg_adjacency_lists',\n",
       " 'get_deg_slice',\n",
       " 'get_null_mol',\n",
       " 'get_num_atoms',\n",
       " 'get_num_atoms_with_deg',\n",
       " 'max_deg',\n",
       " 'membership',\n",
       " 'min_deg',\n",
       " 'n_atoms',\n",
       " 'n_feat']"
      ]
     },
     "execution_count": 44,
     "metadata": {},
     "output_type": "execute_result"
    }
   ],
   "source": [
    "dir(gcn4)"
   ]
  },
  {
   "cell_type": "code",
   "execution_count": 51,
   "id": "fcd1a11b-52ec-4e99-9cc4-066063916691",
   "metadata": {},
   "outputs": [
    {
     "data": {
      "image/png": "[encoded data removed]",
      "text/plain": [
       "<rdkit.Chem.rdchem.Mol at 0x7fc6e73ad820>"
      ]
     },
     "execution_count": 51,
     "metadata": {},
     "output_type": "execute_result"
    }
   ],
   "source": [
    "Chem.MolFromSmiles(df.SMILES[4])"
   ]
  },
  {
   "cell_type": "code",
   "execution_count": 54,
   "id": "8abfcfe0-db5e-4bf7-ac56-15c2e9acde1a",
   "metadata": {},
   "outputs": [
    {
     "data": {
      "text/plain": [
       "array([[1., 0., 0., ..., 0., 1., 0.],\n",
       "       [0., 0., 1., ..., 0., 0., 0.],\n",
       "       [0., 0., 1., ..., 0., 0., 0.],\n",
       "       ...,\n",
       "       [1., 0., 0., ..., 0., 0., 0.],\n",
       "       [1., 0., 0., ..., 0., 0., 0.],\n",
       "       [1., 0., 0., ..., 0., 0., 0.]])"
      ]
     },
     "execution_count": 54,
     "metadata": {},
     "output_type": "execute_result"
    }
   ],
   "source": [
    "gcn4.get_atom_features()"
   ]
  },
  {
   "cell_type": "code",
   "execution_count": 80,
   "id": "ffeba62b-602b-4f77-996c-633e5f831b45",
   "metadata": {},
   "outputs": [],
   "source": [
    "learning_rate19 = dc.models.optimizers.ExponentialDecay(0.001, 0.7, 1024)\n",
    "save_dir19=f'{get_home_path()}/models/gcn_model_19'\n",
    "\n",
    "model19 = GraphConvModel(1, batch_size=128,\n",
    "                         dropout=0.0,\n",
    "                         graph_conv_layers=[1024, 2048],\n",
    "                         dense_layer_size=256,\n",
    "                         mode='classification',\n",
    "                         tensorboard=True,\n",
    "                         learning_rate=learning_rate19,\n",
    "                         model_dir=f'{get_home_path()}/models/gcn_model_19')\n",
    "# validation=dc.models.ValidationCallback(valid_dataset,\n",
    "#                                         1024,\n",
    "#                                         metrics,\n",
    "#                                         save_dir=f'{save_dir19}/callbacks',\n",
    "#                                         save_on_minimum=False)"
   ]
  },
  {
   "cell_type": "code",
   "execution_count": 81,
   "id": "75b0738e-8485-4cfc-b768-617113d95351",
   "metadata": {},
   "outputs": [
    {
     "data": {
      "text/plain": [
       "'../models/gcn_model_19/callbacks'"
      ]
     },
     "execution_count": 81,
     "metadata": {},
     "output_type": "execute_result"
    }
   ],
   "source": [
    "f'{get_home_path()}/models/gcn_model_19/callbacks'"
   ]
  },
  {
   "cell_type": "code",
   "execution_count": 82,
   "id": "a4d1c087-e207-4634-a322-a19815932ee4",
   "metadata": {},
   "outputs": [],
   "source": [
    "model19.load_from_pretrained(source_model=model19, checkpoint='../models/gcn_model_17/callbacks/ckpt-94.index')"
   ]
  },
  {
   "cell_type": "code",
   "execution_count": 85,
   "id": "afcd6513-8d99-4404-ba9c-ebb888d03134",
   "metadata": {},
   "outputs": [],
   "source": [
    "model19.restore(model_dir='../models/gcn_model_17/callbacks/')"
   ]
  },
  {
   "cell_type": "code",
   "execution_count": 87,
   "id": "e0334150-00db-4972-881e-28a789644191",
   "metadata": {},
   "outputs": [
    {
     "data": {
      "text/plain": [
       "['__class__',\n",
       " '__del__',\n",
       " '__delattr__',\n",
       " '__dict__',\n",
       " '__dir__',\n",
       " '__doc__',\n",
       " '__eq__',\n",
       " '__format__',\n",
       " '__ge__',\n",
       " '__getattribute__',\n",
       " '__gt__',\n",
       " '__hash__',\n",
       " '__init__',\n",
       " '__init_subclass__',\n",
       " '__le__',\n",
       " '__lt__',\n",
       " '__module__',\n",
       " '__ne__',\n",
       " '__new__',\n",
       " '__reduce__',\n",
       " '__reduce_ex__',\n",
       " '__repr__',\n",
       " '__setattr__',\n",
       " '__sizeof__',\n",
       " '__str__',\n",
       " '__subclasshook__',\n",
       " '__weakref__',\n",
       " '_built',\n",
       " '_checkpoint',\n",
       " '_compute_model',\n",
       " '_create_assignment_map',\n",
       " '_create_gradient_fn',\n",
       " '_create_inputs',\n",
       " '_create_training_ops',\n",
       " '_create_value_map',\n",
       " '_ensure_built',\n",
       " '_global_step',\n",
       " '_gradient_fn_for_vars',\n",
       " '_inputs_built',\n",
       " '_log_scalar_to_tensorboard',\n",
       " '_loss_fn',\n",
       " '_loss_outputs',\n",
       " '_other_outputs',\n",
       " '_output_functions',\n",
       " '_predict',\n",
       " '_prediction_outputs',\n",
       " '_prepare_batch',\n",
       " '_summary_writer',\n",
       " '_tf_optimizer',\n",
       " '_training_ops_built',\n",
       " '_variance_outputs',\n",
       " 'batch_size',\n",
       " 'compute_saliency',\n",
       " 'default_generator',\n",
       " 'evaluate',\n",
       " 'evaluate_generator',\n",
       " 'fit',\n",
       " 'fit_generator',\n",
       " 'fit_on_batch',\n",
       " 'get_checkpoints',\n",
       " 'get_global_step',\n",
       " 'get_model_filename',\n",
       " 'get_num_tasks',\n",
       " 'get_params_filename',\n",
       " 'get_task_type',\n",
       " 'learning_rate',\n",
       " 'load_from_pretrained',\n",
       " 'log_frequency',\n",
       " 'loss',\n",
       " 'mode',\n",
       " 'model',\n",
       " 'model_class',\n",
       " 'model_dir',\n",
       " 'model_dir_is_temp',\n",
       " 'n_classes',\n",
       " 'n_tasks',\n",
       " 'optimizer',\n",
       " 'output_types',\n",
       " 'predict',\n",
       " 'predict_embedding',\n",
       " 'predict_on_batch',\n",
       " 'predict_on_generator',\n",
       " 'predict_uncertainty',\n",
       " 'predict_uncertainty_on_batch',\n",
       " 'reload',\n",
       " 'restore',\n",
       " 'save',\n",
       " 'save_checkpoint',\n",
       " 'tensorboard',\n",
       " 'uncertainty',\n",
       " 'wandb',\n",
       " 'wandb_logger']"
      ]
     },
     "execution_count": 87,
     "metadata": {},
     "output_type": "execute_result"
    }
   ],
   "source": [
    "dir(model19)"
   ]
  },
  {
   "cell_type": "code",
   "execution_count": 90,
   "id": "97dcd7d6-18e7-49bf-9382-35efefa87c60",
   "metadata": {},
   "outputs": [
    {
     "data": {
      "text/plain": [
       "'../models/gcn_model_17/callbacks/model.joblib'"
      ]
     },
     "execution_count": 90,
     "metadata": {},
     "output_type": "execute_result"
    }
   ],
   "source": [
    "model19.get_model_filename(model_dir='../models/gcn_model_17/callbacks/')"
   ]
  },
  {
   "cell_type": "code",
   "execution_count": 93,
   "id": "145293f0-8c0e-4612-876d-c6156c62eb90",
   "metadata": {},
   "outputs": [],
   "source": [
    "model19.restore(model_dir='../models/gcn_model_17/callbacks/')"
   ]
  },
  {
   "cell_type": "code",
   "execution_count": null,
   "id": "446e440e-607f-40ae-8f23-971649132329",
   "metadata": {},
   "outputs": [],
   "source": []
  },
  {
   "cell_type": "code",
   "execution_count": 66,
   "id": "cd19ca85-e1a4-4ae7-8b81-10c9fb1e78ab",
   "metadata": {},
   "outputs": [
    {
     "ename": "TypeError",
     "evalue": "load_from_pretrained() missing 1 required positional argument: 'self'",
     "output_type": "error",
     "traceback": [
      "\u001b[0;31m---------------------------------------------------------------------------\u001b[0m",
      "\u001b[0;31mTypeError\u001b[0m                                 Traceback (most recent call last)",
      "Input \u001b[0;32mIn [66]\u001b[0m, in \u001b[0;36m<cell line: 1>\u001b[0;34m()\u001b[0m\n\u001b[0;32m----> 1\u001b[0m gcn_trained \u001b[38;5;241m=\u001b[39m \u001b[43mMultitaskClassifier\u001b[49m\u001b[38;5;241;43m.\u001b[39;49m\u001b[43mload_from_pretrained\u001b[49m\u001b[43m(\u001b[49m\u001b[43msource_model\u001b[49m\u001b[38;5;241;43m=\u001b[39;49m\u001b[43mmodel19\u001b[49m\u001b[43m,\u001b[49m\u001b[43m \u001b[49m\u001b[43mcheckpoint\u001b[49m\u001b[38;5;241;43m=\u001b[39;49m\u001b[38;5;124;43mf\u001b[39;49m\u001b[38;5;124;43m'\u001b[39;49m\u001b[38;5;132;43;01m{\u001b[39;49;00m\u001b[43mget_home_path\u001b[49m\u001b[43m(\u001b[49m\u001b[43m)\u001b[49m\u001b[38;5;132;43;01m}\u001b[39;49;00m\u001b[38;5;124;43m/models/gcn_model_19/callbacks\u001b[39;49m\u001b[38;5;124;43m'\u001b[39;49m\u001b[43m)\u001b[49m\n",
      "\u001b[0;31mTypeError\u001b[0m: load_from_pretrained() missing 1 required positional argument: 'self'"
     ]
    }
   ],
   "source": [
    "gcn_trained = MultitaskClassifier.load_from_pretrained(source_model=model19, checkpoint=f'{get_home_path()}/models/gcn_model_19/callbacks')"
   ]
  },
  {
   "cell_type": "code",
   "execution_count": 84,
   "id": "59863900-7a4d-4f53-8b12-9e114fbc7a3e",
   "metadata": {},
   "outputs": [
    {
     "ename": "NameError",
     "evalue": "name 'train_dataset' is not defined",
     "output_type": "error",
     "traceback": [
      "\u001b[0;31m---------------------------------------------------------------------------\u001b[0m",
      "\u001b[0;31mNameError\u001b[0m                                 Traceback (most recent call last)",
      "Input \u001b[0;32mIn [84]\u001b[0m, in \u001b[0;36m<cell line: 1>\u001b[0;34m()\u001b[0m\n\u001b[0;32m----> 1\u001b[0m hist19 \u001b[38;5;241m=\u001b[39m model19\u001b[38;5;241m.\u001b[39mfit(\u001b[43mtrain_dataset\u001b[49m, nb_epoch\u001b[38;5;241m=\u001b[39m\u001b[38;5;241m5\u001b[39m, callbacks\u001b[38;5;241m=\u001b[39mvalidation, restore\u001b[38;5;241m=\u001b[39m\u001b[38;5;28;01mTrue\u001b[39;00m)\n",
      "\u001b[0;31mNameError\u001b[0m: name 'train_dataset' is not defined"
     ]
    }
   ],
   "source": []
  },
  {
   "cell_type": "code",
   "execution_count": null,
   "id": "e62b27cb-90ab-4bde-a99f-aa5e1cc871af",
   "metadata": {},
   "outputs": [],
   "source": []
  },
  {
   "cell_type": "code",
   "execution_count": null,
   "id": "3f75ba6e-4494-410b-8a62-c2e3e1ec6452",
   "metadata": {},
   "outputs": [],
   "source": []
  },
  {
   "cell_type": "markdown",
   "id": "a5060fdf-dc8e-4eb0-910a-6455514c3a3e",
   "metadata": {
    "tags": []
   },
   "source": [
    "### concatenate all features"
   ]
  },
  {
   "cell_type": "code",
   "execution_count": null,
   "id": "7f4205a9-f028-45e9-80b2-5d1b7ef22229",
   "metadata": {},
   "outputs": [],
   "source": []
  },
  {
   "cell_type": "code",
   "execution_count": null,
   "id": "3b00ba0b-368a-4413-b72b-224c90bd7d53",
   "metadata": {},
   "outputs": [],
   "source": []
  },
  {
   "cell_type": "code",
   "execution_count": null,
   "id": "f03cc2f2-2376-44c8-8d22-e394d917460b",
   "metadata": {},
   "outputs": [],
   "source": []
  },
  {
   "cell_type": "code",
   "execution_count": null,
   "id": "ac7d41bb-6f80-4cf8-9255-c695119ce83e",
   "metadata": {},
   "outputs": [],
   "source": []
  },
  {
   "cell_type": "code",
   "execution_count": null,
   "id": "e211924d-4d6a-4816-9613-4c64f8ca1924",
   "metadata": {},
   "outputs": [],
   "source": []
  },
  {
   "cell_type": "code",
   "execution_count": null,
   "id": "a9209d39-d401-43d4-a524-70417e8bac31",
   "metadata": {},
   "outputs": [],
   "source": []
  },
  {
   "cell_type": "code",
   "execution_count": null,
   "id": "0c3470c8-8562-46c6-9bd1-79eb09eb043a",
   "metadata": {},
   "outputs": [],
   "source": []
  },
  {
   "cell_type": "code",
   "execution_count": null,
   "id": "3b4d5105-d206-42eb-b444-434ca612120a",
   "metadata": {},
   "outputs": [],
   "source": []
  },
  {
   "cell_type": "code",
   "execution_count": null,
   "id": "46452621-f49a-41bd-909c-2baf6f7ff4e5",
   "metadata": {},
   "outputs": [],
   "source": []
  },
  {
   "cell_type": "code",
   "execution_count": null,
   "id": "c2d208e0-a08a-4178-b8e4-b54d44ca4d5c",
   "metadata": {},
   "outputs": [],
   "source": []
  },
  {
   "cell_type": "code",
   "execution_count": null,
   "id": "38336c5e-a5af-4c28-bf7f-b02304f8112d",
   "metadata": {},
   "outputs": [],
   "source": []
  },
  {
   "cell_type": "markdown",
   "id": "bc320f77-2dab-449e-88c0-2097e20d798e",
   "metadata": {
    "tags": []
   },
   "source": [
    "### placeholder"
   ]
  },
  {
   "cell_type": "code",
   "execution_count": null,
   "id": "ccdd3b80-a433-4742-9c9a-40c8670c85c4",
   "metadata": {},
   "outputs": [],
   "source": [
    "def conv_net():\n",
    "    K.clear_session()\n",
    "    weights = 'imagenet'\n",
    "    inputs = Input(shape=(128, 128, 3))\n",
    "\n",
    "    base_model = ResNet50(include_top=False, weights=weights, input_shape=(128, 128, 3))\n",
    "\n",
    "    for layer in base_model.layers:\n",
    "    layer.trainable = False\n",
    "\n",
    "    x = Conv2D(32, (5, 5), strides=(1, 1), padding='same', activation='relu', input_shape=(128, 128, 3))(inputs)\n",
    "    x = MaxPooling2D(pool_size=(2, 2), strides=None, padding='valid', data_format=None)(x)\n",
    "\n",
    "    x = Conv2D(64, (3, 3), strides=(1, 1), padding='same', activation='relu')(x)\n",
    "    x = MaxPooling2D(pool_size=(2, 2), strides=None, padding='valid', data_format=None)(x)\n",
    "\n",
    "    x = Conv2D(64, (3, 3), strides=(1, 1), padding='same', activation='relu')(x)\n",
    "    x = MaxPooling2D(pool_size=(2, 2), strides=None, padding='valid', data_format=None)(x)\n",
    "\n",
    "    x = Flatten()(x)\n",
    "\n",
    "    base_resnet = base_model(inputs)\n",
    "    base_resnet = Flatten()(base_resnet)\n",
    "\n",
    "    concated_layers = Concatenate()([x, base_resnet])\n",
    "\n",
    "    concated_layers = Dense(2024, activation='relu')(concated_layers)\n",
    "    concated_layers = Dense(524, activation='relu')(concated_layers)\n",
    "    concated_layers = Dense(124, activation='relu')(concated_layers)\n",
    "    output = Dense(4, activation='relu')(concated_layers)\n",
    "\n",
    "    model = Model(inputs=inputs, outputs=output)\n",
    "    return model"
   ]
  },
  {
   "cell_type": "code",
   "execution_count": null,
   "id": "d046c5da-2897-4034-820f-b81bfaf7b256",
   "metadata": {},
   "outputs": [],
   "source": []
  },
  {
   "cell_type": "code",
   "execution_count": null,
   "id": "23ff49c2-937b-40ed-8cd7-42261897b13c",
   "metadata": {},
   "outputs": [],
   "source": []
  },
  {
   "cell_type": "code",
   "execution_count": null,
   "id": "bc7b490b-e3b2-4ec2-8450-53b535ea2ad2",
   "metadata": {},
   "outputs": [],
   "source": []
  },
  {
   "cell_type": "code",
   "execution_count": null,
   "id": "2e097698-ba42-441e-9802-ee8f940b1af3",
   "metadata": {},
   "outputs": [],
   "source": []
  },
  {
   "cell_type": "code",
   "execution_count": null,
   "id": "4dc0a39e-1b9e-4031-b468-e10cf0df2234",
   "metadata": {},
   "outputs": [],
   "source": []
  },
  {
   "cell_type": "code",
   "execution_count": null,
   "id": "772a1189-21a1-4cd0-b499-786dec969a09",
   "metadata": {},
   "outputs": [],
   "source": []
  },
  {
   "cell_type": "code",
   "execution_count": null,
   "id": "d6e889c0-828b-4949-99c6-adae7b28f70c",
   "metadata": {},
   "outputs": [],
   "source": []
  },
  {
   "cell_type": "code",
   "execution_count": null,
   "id": "1801b005-ba7e-433d-adbd-893925af87e0",
   "metadata": {},
   "outputs": [],
   "source": []
  },
  {
   "cell_type": "code",
   "execution_count": null,
   "id": "345eeeb4-0303-430b-848a-e9edd125436f",
   "metadata": {},
   "outputs": [],
   "source": []
  },
  {
   "cell_type": "code",
   "execution_count": 15,
   "id": "46eb7025-70b8-49b9-b286-b88abe0fc769",
   "metadata": {},
   "outputs": [],
   "source": [
    "# split dataset into training, validation, and testing sets\n",
    "splitter = dc.splits.RandomStratifiedSplitter()\n",
    "train_dataset, valid_dataset, test_dataset = splitter.train_valid_test_split(fp_dataset)"
   ]
  },
  {
   "cell_type": "code",
   "execution_count": null,
   "id": "de43aebb-2e10-457d-a8b3-4c971d7b22b6",
   "metadata": {},
   "outputs": [],
   "source": []
  },
  {
   "cell_type": "code",
   "execution_count": 15,
   "id": "bf93bb81-3a8d-4ff4-8c42-729adde59486",
   "metadata": {},
   "outputs": [],
   "source": [
    "# # instantiate model\n",
    "# model_1 = dc.models.MultitaskClassifier(n_tasks=1, n_features=1024, layer_sizes=[512, 128, 32])"
   ]
  },
  {
   "cell_type": "code",
   "execution_count": null,
   "id": "a8e796c3-4382-48ec-b1ac-768369d565f4",
   "metadata": {},
   "outputs": [],
   "source": []
  },
  {
   "cell_type": "code",
   "execution_count": 16,
   "id": "09dfa319-94dd-4ac2-aba5-19144d15bfd7",
   "metadata": {},
   "outputs": [],
   "source": [
    "# define metrics for evaluating models\n",
    "metrics = [dc.metrics.Metric(dc.metrics.matthews_corrcoef, np.mean, mode='classification'), dc.metrics.Metric(dc.metrics.accuracy_score, np.mean, mode='classification')]"
   ]
  },
  {
   "cell_type": "code",
   "execution_count": 24,
   "id": "ee19c2c6-f8ef-4c58-aa92-8bccbf832956",
   "metadata": {},
   "outputs": [
    {
     "name": "stdout",
     "output_type": "stream",
     "text": [
      "training set score: {'mean-matthews_corrcoef': 0.7128495082375357, 'mean-accuracy_score': 0.9784229221318821}\n",
      "test set score: {'mean-matthews_corrcoef': 0.43353692088295115, 'mean-accuracy_score': 0.9621663896764102}\n"
     ]
    }
   ],
   "source": [
    "# split dataset into training, validation, and testing sets\n",
    "splitter = dc.splits.RandomStratifiedSplitter()\n",
    "train_dataset, valid_dataset, test_dataset = splitter.train_valid_test_split(dataset)\n",
    "\n",
    "# instantiate model\n",
    "model_1 = dc.models.MultitaskClassifier(n_tasks=1, n_features=1024, layer_sizes=[512, 128, 32])\n",
    "\n",
    "# fit model\n",
    "model_1.fit(train_dataset, nb_epoch=10)\n",
    "\n",
    "print('training set score:', model_1.evaluate(train_dataset, metrics))\n",
    "print('test set score:', model_1.evaluate(test_dataset, metrics))"
   ]
  },
  {
   "cell_type": "code",
   "execution_count": 25,
   "id": "0d2c6f93-9491-40d5-a3b5-6f1d5b722f41",
   "metadata": {},
   "outputs": [
    {
     "ename": "TypeError",
     "evalue": "save() takes 1 positional argument but 2 were given",
     "output_type": "error",
     "traceback": [
      "\u001b[0;31m---------------------------------------------------------------------------\u001b[0m",
      "\u001b[0;31mTypeError\u001b[0m                                 Traceback (most recent call last)",
      "Input \u001b[0;32mIn [25]\u001b[0m, in \u001b[0;36m<cell line: 1>\u001b[0;34m()\u001b[0m\n\u001b[0;32m----> 1\u001b[0m \u001b[43mmodel_1\u001b[49m\u001b[38;5;241;43m.\u001b[39;49m\u001b[43msave\u001b[49m\u001b[43m(\u001b[49m\u001b[38;5;124;43m'\u001b[39;49m\u001b[38;5;124;43m../models//fingerprint_features/fp_randstratsplit.h5\u001b[39;49m\u001b[38;5;124;43m'\u001b[39;49m\u001b[43m)\u001b[49m\n",
      "\u001b[0;31mTypeError\u001b[0m: save() takes 1 positional argument but 2 were given"
     ]
    }
   ],
   "source": [
    "model_1.save('../models//fingerprint_features/fp_randstratsplit.h5')"
   ]
  },
  {
   "cell_type": "code",
   "execution_count": 82,
   "id": "c2d22194-c742-4ae4-aea8-4b2cb884a32e",
   "metadata": {},
   "outputs": [
    {
     "ename": "AttributeError",
     "evalue": "'MultitaskClassifier' object has no attribute 'history'",
     "output_type": "error",
     "traceback": [
      "\u001b[0;31m---------------------------------------------------------------------------\u001b[0m",
      "\u001b[0;31mAttributeError\u001b[0m                            Traceback (most recent call last)",
      "Input \u001b[0;32mIn [82]\u001b[0m, in \u001b[0;36m<cell line: 1>\u001b[0;34m()\u001b[0m\n\u001b[0;32m----> 1\u001b[0m \u001b[43mmodel_1\u001b[49m\u001b[38;5;241;43m.\u001b[39;49m\u001b[43mhistory\u001b[49m\n",
      "\u001b[0;31mAttributeError\u001b[0m: 'MultitaskClassifier' object has no attribute 'history'"
     ]
    }
   ],
   "source": [
    "model_1.history"
   ]
  },
  {
   "cell_type": "code",
   "execution_count": 27,
   "id": "020e8892-5d87-44b7-ae67-f79d45b59f35",
   "metadata": {},
   "outputs": [
    {
     "name": "stdout",
     "output_type": "stream",
     "text": [
      "training set score: {'mean-matthews_corrcoef': 0.659313041507731, 'mean-accuracy_score': 0.9761825232594138}\n",
      "test set score: {'mean-matthews_corrcoef': 0.2663299162367317, 'mean-accuracy_score': 0.9525857855117802}\n"
     ]
    }
   ],
   "source": [
    "# split dataset into training, validation, and testing sets using scaffold\n",
    "splitter = dc.splits.ScaffoldSplitter()\n",
    "train_dataset, valid_dataset, test_dataset = splitter.train_valid_test_split(dataset)\n",
    "\n",
    "# instantiate model\n",
    "model_2 = dc.models.MultitaskClassifier(n_tasks=1, n_features=1024, layer_sizes=[512, 128, 32])\n",
    "\n",
    "# fit \n",
    "model_2.fit(train_dataset, nb_epoch=10)\n",
    "\n",
    "print('training set score:', model_2.evaluate(train_dataset, metrics))\n",
    "print('test set score:', model_2.evaluate(test_dataset, metrics))"
   ]
  },
  {
   "cell_type": "code",
   "execution_count": null,
   "id": "a4012a62-0ecd-420c-a7a0-7742929e4f16",
   "metadata": {},
   "outputs": [],
   "source": []
  },
  {
   "cell_type": "markdown",
   "id": "7cb277ab-6242-4677-a28f-f8f1002a9557",
   "metadata": {},
   "source": [
    "Stratified splitting seems to work better than scaffold splitting (MCC coefficient of 0.43 vs 0.27 for test sets).  Let's try Robust Multitask Classifier with stratified splitting"
   ]
  },
  {
   "cell_type": "code",
   "execution_count": 30,
   "id": "d605a4f2-a3c9-4f26-95c4-d92405e1e2fe",
   "metadata": {},
   "outputs": [
    {
     "name": "stderr",
     "output_type": "stream",
     "text": [
      "2022-05-12 18:06:41.194757: I tensorflow/core/platform/cpu_feature_guard.cc:151] This TensorFlow binary is optimized with oneAPI Deep Neural Network Library (oneDNN) to use the following CPU instructions in performance-critical operations:  SSE4.1 SSE4.2 AVX AVX2 FMA\n",
      "To enable them in other operations, rebuild TensorFlow with the appropriate compiler flags.\n",
      "2022-05-12 18:06:41.197604: I tensorflow/stream_executor/cuda/cuda_gpu_executor.cc:939] successful NUMA node read from SysFS had negative value (-1), but there must be at least one NUMA node, so returning NUMA node zero\n",
      "2022-05-12 18:06:41.198289: I tensorflow/stream_executor/cuda/cuda_gpu_executor.cc:939] successful NUMA node read from SysFS had negative value (-1), but there must be at least one NUMA node, so returning NUMA node zero\n",
      "2022-05-12 18:06:41.198816: I tensorflow/stream_executor/cuda/cuda_gpu_executor.cc:939] successful NUMA node read from SysFS had negative value (-1), but there must be at least one NUMA node, so returning NUMA node zero\n",
      "2022-05-12 18:06:41.199603: I tensorflow/stream_executor/cuda/cuda_gpu_executor.cc:939] successful NUMA node read from SysFS had negative value (-1), but there must be at least one NUMA node, so returning NUMA node zero\n",
      "2022-05-12 18:06:41.200216: I tensorflow/stream_executor/cuda/cuda_gpu_executor.cc:939] successful NUMA node read from SysFS had negative value (-1), but there must be at least one NUMA node, so returning NUMA node zero\n",
      "2022-05-12 18:06:41.200765: I tensorflow/stream_executor/cuda/cuda_gpu_executor.cc:939] successful NUMA node read from SysFS had negative value (-1), but there must be at least one NUMA node, so returning NUMA node zero\n",
      "2022-05-12 18:06:41.201291: I tensorflow/core/common_runtime/gpu/gpu_device.cc:1525] Created device /job:localhost/replica:0/task:0/device:GPU:0 with 12010 MB memory:  -> device: 0, name: Tesla T4, pci bus id: 0000:00:04.0, compute capability: 7.5\n"
     ]
    },
    {
     "name": "stdout",
     "output_type": "stream",
     "text": [
      "training set score: {'mean-matthews_corrcoef': 0.5399108330113764, 'mean-accuracy_score': 0.9686710768579017}\n",
      "test set score: {'mean-matthews_corrcoef': 0.38205464887558316, 'mean-accuracy_score': 0.9615146478965034}\n"
     ]
    }
   ],
   "source": [
    "# split dataset into training, validation, and testing sets\n",
    "splitter = dc.splits.RandomStratifiedSplitter()\n",
    "train_dataset, valid_dataset, test_dataset = splitter.train_valid_test_split(dataset)\n",
    "\n",
    "# instantiate model\n",
    "model_3 = dc.models.RobustMultitaskClassifier(n_tasks=1, n_features=1024, layer_sizes=[512, 128, 32])\n",
    "\n",
    "# fit model\n",
    "model_3.fit(train_dataset, nb_epoch=10)\n",
    "\n",
    "print('training set score:', model_3.evaluate(train_dataset, metrics))\n",
    "print('test set score:', model_3.evaluate(test_dataset, metrics))"
   ]
  },
  {
   "cell_type": "markdown",
   "id": "559d9040-cfbb-43bf-b998-7a0a9ad78db1",
   "metadata": {
    "id": "nV1dpQdGfb_u"
   },
   "source": [
    "## cross-validated training"
   ]
  },
  {
   "cell_type": "code",
   "execution_count": 39,
   "id": "27b285f8-e781-40db-8257-99cebcc4516a",
   "metadata": {},
   "outputs": [
    {
     "name": "stdout",
     "output_type": "stream",
     "text": [
      "[(0.6373733736733987, 0.9738199208120835)]\n",
      "[(0.4413714843764347, 0.9630450368246106)]\n",
      "[(0.6373733736733987, 0.9738199208120835), (0.631051317660848, 0.9734981180649471)]\n",
      "[(0.4413714843764347, 0.9630450368246106), (0.4215217180840881, 0.9620999804471094)]\n",
      "[(0.6373733736733987, 0.9738199208120835), (0.631051317660848, 0.9734981180649471), (0.6817837929188357, 0.9762639923093217)]\n",
      "[(0.4413714843764347, 0.9630450368246106), (0.4215217180840881, 0.9620999804471094), (0.45889282834578615, 0.9626539790132308)]\n",
      "[(0.6373733736733987, 0.9738199208120835), (0.631051317660848, 0.9734981180649471), (0.6817837929188357, 0.9762639923093217), (0.6366732291842369, 0.973836214622065)]\n",
      "[(0.4413714843764347, 0.9630450368246106), (0.4215217180840881, 0.9620999804471094), (0.45889282834578615, 0.9626539790132308), (0.4039214535348725, 0.9616111581828847)]\n",
      "[(0.6373733736733987, 0.9738199208120835), (0.631051317660848, 0.9734981180649471), (0.6817837929188357, 0.9762639923093217), (0.6366732291842369, 0.973836214622065), (0.6724235643663177, 0.9759340426571945)]\n",
      "[(0.4413714843764347, 0.9630450368246106), (0.4215217180840881, 0.9620999804471094), (0.45889282834578615, 0.9626539790132308), (0.4039214535348725, 0.9616111581828847), (0.4203265443595162, 0.9620348041452128)]\n"
     ]
    }
   ],
   "source": [
    "training_score_list = []\n",
    "validation_score_list = []\n",
    "cv_folds = 5\n",
    "splitter = dc.splits.RandomStratifiedSplitter()\n",
    "for i in range(0, cv_folds):\n",
    "model = dc.models.MultitaskClassifier(n_tasks=1, n_features=1024, layer_sizes=[512, 256, 32])\n",
    "    train_dataset, valid_dataset, test_dataset = splitter.train_valid_test_split(dataset)\n",
    "    model.fit(train_dataset)\n",
    "    train_scores = model.evaluate(train_dataset,\n",
    "                                  metrics)\n",
    "    training_score_list.append((train_scores[\"mean-matthews_corrcoef\"], train_scores[\"mean-accuracy_score\"]))\n",
    "    validation_scores = model.evaluate(valid_dataset,\n",
    "                                       metrics)\n",
    "    validation_score_list.append((validation_scores[\"mean-matthews_corrcoef\"], validation_scores[\"mean-accuracy_score\"]))\n",
    "    print(training_score_list)\n",
    "    print(validation_score_list)\n",
    "\n"
   ]
  },
  {
   "cell_type": "markdown",
   "id": "d969fbc0-b322-4f0d-a3ca-d2cbe0c25344",
   "metadata": {},
   "source": [
    "- [(0.6373733736733987, 0.9738199208120835)]  \n",
    "  [(0.4413714843764347, 0.9630450368246106)]  \n",
    "- [(0.6373733736733987, 0.9738199208120835), (0.631051317660848, 0.9734981180649471)]  \n",
    "  [(0.4413714843764347, 0.9630450368246106), (0.4215217180840881, 0.9620999804471094)]  \n",
    "- [(0.6373733736733987, 0.9738199208120835), (0.631051317660848, 0.9734981180649471), (0.6817837929188357, 0.9762639923093217)]  \n",
    "  [(0.4413714843764347, 0.9630450368246106), (0.4215217180840881, 0.9620999804471094), (0.45889282834578615, 0.9626539790132308)]  \n",
    "- [(0.6373733736733987, 0.9738199208120835), (0.631051317660848, 0.9734981180649471), (0.6817837929188357, 0.9762639923093217), (0.6366732291842369, 0.973836214622065)]  \n",
    "  [(0.4413714843764347, 0.9630450368246106), (0.4215217180840881, 0.9620999804471094), (0.45889282834578615, 0.9626539790132308), (0.4039214535348725, 0.9616111581828847)]  \n",
    "- [(0.6373733736733987, 0.9738199208120835), (0.631051317660848, 0.9734981180649471), (0.6817837929188357, 0.9762639923093217), (0.6366732291842369, 0.973836214622065), (0.6724235643663177, 0.9759340426571945)]  \n",
    "  [(0.4413714843764347, 0.9630450368246106), (0.4215217180840881, 0.9620999804471094), (0.45889282834578615, 0.9626539790132308), (0.4039214535348725, 0.9616111581828847), (0.4203265443595162, 0.9620348041452128)]  \n",
    "\n",
    "\n",
    "\n",
    "\n",
    "\n",
    "\n",
    "-- Mean training MCC: 0.6518610555607275\n",
    "   Mean training accuracy: 0.9746704576931224\n",
    "**************************************************\n",
    "-- Mean validation MCC: 0.42920680574013953\n",
    "   Mean validation accuracy: 0.9622889917226096"
   ]
  },
  {
   "cell_type": "code",
   "execution_count": 77,
   "id": "0629801a-ec4b-4275-9184-a09662e8692e",
   "metadata": {},
   "outputs": [
    {
     "name": "stdout",
     "output_type": "stream",
     "text": [
      "-- Mean training MCC: 0.6518610555607275\n",
      "   Mean training accuracy: 0.9746704576931224\n",
      "**************************************************\n",
      "-- Mean validation MCC: 0.42920680574013953\n",
      "   Mean validation accuracy: 0.9622889917226096\n"
     ]
    }
   ],
   "source": [
    "print(f'-- Mean training MCC: {np.mean([x[0] for x in training_score_list])}\\n   Mean training accuracy: {np.mean([x[1] for x in training_score_list])}')\n",
    "print('*' * 50)\n",
    "print(f'-- Mean validation MCC: {np.mean([x[0] for x in validation_score_list])}\\n   Mean validation accuracy: {np.mean([x[1] for x in validation_score_list])}')                              "
   ]
  },
  {
   "cell_type": "code",
   "execution_count": 60,
   "id": "25d9717f-35a5-40f0-942e-101f326bd274",
   "metadata": {},
   "outputs": [
    {
     "name": "stdout",
     "output_type": "stream",
     "text": [
      "Mean training MCC: 0.6518610555607275  Mean training accuracy: \n"
     ]
    }
   ],
   "source": [
    "print(f'Mean training MCC: {np.mean([x[0] for x in training_score_list])}  Mean training accuracy: ')"
   ]
  },
  {
   "cell_type": "code",
   "execution_count": 62,
   "id": "4dabf3bb-20de-42ec-8574-867998415863",
   "metadata": {},
   "outputs": [
    {
     "ename": "SyntaxError",
     "evalue": "f-string: invalid syntax (1314863352.py, line 1)",
     "output_type": "error",
     "traceback": [
      "\u001b[0;36m  Input \u001b[0;32mIn [62]\u001b[0;36m\u001b[0m\n\u001b[0;31m    f'{np.mean([x[1] for x intraining_score_listg_score_list])}'\u001b[0m\n\u001b[0m                         ^\u001b[0m\n\u001b[0;31mSyntaxError\u001b[0m\u001b[0;31m:\u001b[0m f-string: invalid syntax\n"
     ]
    }
   ],
   "source": [
    "f'{np.mean([x[1] for x intraining_score_listg_score_list])}'"
   ]
  },
  {
   "cell_type": "code",
   "execution_count": 80,
   "id": "405c988e-0727-4bc0-8723-5768402c8b3e",
   "metadata": {},
   "outputs": [
    {
     "name": "stdout",
     "output_type": "stream",
     "text": [
      "[(0.7625968428070329, 0.9817509328206214)]\n",
      "[(0.4679055564607532, 0.9638923287492668)]\n",
      "[(0.7625968428070329, 0.9817509328206214), (0.7778830329667884, 0.9827367083245075)]\n",
      "[(0.4679055564607532, 0.9638923287492668), (0.45792036598163266, 0.9626539790132308)]\n",
      "[(0.7625968428070329, 0.9817509328206214), (0.7778830329667884, 0.9827367083245075), (0.7624928822041234, 0.9817509328206214)]\n",
      "[(0.4679055564607532, 0.9638923287492668), (0.45792036598163266, 0.9626539790132308), (0.43598474511669716, 0.9622303330509027)]\n",
      "[(0.7625968428070329, 0.9817509328206214), (0.7778830329667884, 0.9827367083245075), (0.7624928822041234, 0.9817509328206214), (0.7952210997500605, 0.9838528343082463)]\n",
      "[(0.4679055564607532, 0.9638923287492668), (0.45792036598163266, 0.9626539790132308), (0.43598474511669716, 0.9622303330509027), (0.48421003565520637, 0.9630776249755589)]\n",
      "[(0.7625968428070329, 0.9817509328206214), (0.7778830329667884, 0.9827367083245075), (0.7624928822041234, 0.9817509328206214), (0.7952210997500605, 0.9838528343082463), (0.7778834759526935, 0.9827855897544523)]\n",
      "[(0.4679055564607532, 0.9638923287492668), (0.45792036598163266, 0.9626539790132308), (0.43598474511669716, 0.9622303330509027), (0.48421003565520637, 0.9630776249755589), (0.44978485266377216, 0.9626213908622825)]\n"
     ]
    }
   ],
   "source": [
    "training_score_list = []\n",
    "validation_score_list = []\n",
    "cv_folds = 5\n",
    "splitter = dc.splits.RandomStratifiedSplitter()\n",
    "for i in range(0, cv_folds):\n",
    "    model = dc.models.MultitaskClassifier(n_tasks=1, n_features=1024, layer_sizes=[1024, 256, 32])\n",
    "    train_dataset, valid_dataset, test_dataset = splitter.train_valid_test_split(dataset)\n",
    "    model.fit(train_dataset)\n",
    "    train_scores = model.evaluate(train_dataset,\n",
    "                                  metrics)\n",
    "    training_score_list.append((train_scores[\"mean-matthews_corrcoef\"], train_scores[\"mean-accuracy_score\"]))\n",
    "    validation_scores = model.evaluate(valid_dataset,\n",
    "                                       metrics)\n",
    "    validation_score_list.append((validation_scores[\"mean-matthews_corrcoef\"], validation_scores[\"mean-accuracy_score\"]))\n",
    "    print(training_score_list)\n",
    "    print(validation_score_list)"
   ]
  },
  {
   "cell_type": "code",
   "execution_count": 19,
   "id": "7c148035-2c6f-4327-a1a2-7381d98d5782",
   "metadata": {},
   "outputs": [
    {
     "name": "stdout",
     "output_type": "stream",
     "text": [
      "[(0.7377483825175375, 0.9798038225278217)]\n",
      "[(0.45166195930417197, 0.9613830411262465)]\n",
      "[(0.7377483825175375, 0.9798038225278217), (0.7519772457643772, 0.9808303325566617)]\n",
      "[(0.45166195930417197, 0.9613830411262465), (0.46610570955557523, 0.9627517434660757)]\n",
      "[(0.7377483825175375, 0.9798038225278217), (0.7519772457643772, 0.9808303325566617), (0.756583263016369, 0.9810299317289362)]\n",
      "[(0.45166195930417197, 0.9613830411262465), (0.46610570955557523, 0.9627517434660757), (0.46403135918933686, 0.9619044515414196)]\n",
      "[(0.7377483825175375, 0.9798038225278217), (0.7519772457643772, 0.9808303325566617), (0.756583263016369, 0.9810299317289362), (0.7046071029175781, 0.9779015202124712)]\n",
      "[(0.45166195930417197, 0.9613830411262465), (0.46610570955557523, 0.9627517434660757), (0.46403135918933686, 0.9619044515414196), (0.4595591863902529, 0.9635990353907319)]\n",
      "[(0.7377483825175375, 0.9798038225278217), (0.7519772457643772, 0.9808303325566617), (0.756583263016369, 0.9810299317289362), (0.7046071029175781, 0.9779015202124712), (0.7416883816255484, 0.980207094324866)]\n",
      "[(0.45166195930417197, 0.9613830411262465), (0.46610570955557523, 0.9627517434660757), (0.46403135918933686, 0.9619044515414196), (0.4595591863902529, 0.9635990353907319), (0.4373189865103007, 0.961643746333833)]\n"
     ]
    }
   ],
   "source": [
    "training_score_list = []\n",
    "validation_score_list = []\n",
    "cv_folds = 5\n",
    "splitter = dc.splits.RandomStratifiedSplitter()\n",
    "for i in range(0, cv_folds):\n",
    "    best_model = dc.models.MultitaskClassifier(n_tasks=1, n_features=1024, layer_sizes=[4096], dropouts=0.40467148362940397, learning_rate=0.0002061284950914087)\n",
    "    train_dataset, valid_dataset, test_dataset = splitter.train_valid_test_split(fp_dataset)\n",
    "    best_model.fit(train_dataset)\n",
    "    train_scores = best_model.evaluate(train_dataset,\n",
    "                                  metrics)\n",
    "    training_score_list.append((train_scores[\"mean-matthews_corrcoef\"], train_scores[\"mean-accuracy_score\"]))\n",
    "    validation_scores = best_model.evaluate(valid_dataset,\n",
    "                                       metrics)\n",
    "    validation_score_list.append((validation_scores[\"mean-matthews_corrcoef\"], validation_scores[\"mean-accuracy_score\"]))\n",
    "    print(training_score_list)\n",
    "    print(validation_score_list)"
   ]
  },
  {
   "cell_type": "code",
   "execution_count": 20,
   "id": "3cbec623-64ed-4064-8f5b-95175cb7585d",
   "metadata": {},
   "outputs": [
    {
     "name": "stdout",
     "output_type": "stream",
     "text": [
      "-- Mean training MCC: 0.738520875168282\n",
      "   Mean training accuracy: 0.9799545402701515\n",
      "**************************************************\n",
      "-- Mean validation MCC: 0.4557354401899275\n",
      "   Mean validation accuracy: 0.9622564035716614\n"
     ]
    }
   ],
   "source": [
    "print(f'-- Mean training MCC: {np.mean([x[0] for x in training_score_list])}\\n   Mean training accuracy: {np.mean([x[1] for x in training_score_list])}')\n",
    "print('*' * 50)\n",
    "print(f'-- Mean validation MCC: {np.mean([x[0] for x in validation_score_list])}\\n   Mean validation accuracy: {np.mean([x[1] for x in validation_score_list])}')                              "
   ]
  },
  {
   "cell_type": "markdown",
   "id": "d28cc496-9acf-496f-afc4-61f8b1c431d6",
   "metadata": {},
   "source": [
    "## Hyperparameter tuning"
   ]
  },
  {
   "cell_type": "code",
   "execution_count": 19,
   "id": "162eee46-229b-4bb1-a04a-bdc83cd12124",
   "metadata": {},
   "outputs": [],
   "source": [
    "search_space = {\n",
    "    'layer_sizes': hp.choice('layer_sizes',[[1024], [2048], [4096], [2048,512]]),\n",
    "    'dropouts': hp.uniform('dropout',low=0.2, high=0.5),\n",
    "    'learning_rate': hp.uniform('learning_rate',high=0.001, low=0.0001)\n",
    "}"
   ]
  },
  {
   "cell_type": "markdown",
   "id": "7b1be207-733b-442a-b563-2b19aae0c8ce",
   "metadata": {},
   "source": [
    "Best: {'dropout': 0.40467148362940397, 'layer_sizes': 2, 'learning_rate': 0.0002061284950914087}\n",
    "one layer with 4096 neurons was best"
   ]
  },
  {
   "cell_type": "code",
   "execution_count": 20,
   "id": "57e61fa0-2d23-4663-a447-4340b9262aba",
   "metadata": {},
   "outputs": [],
   "source": [
    "import tempfile\n",
    "#tempfile is used to save the best checkpoint later in the program."
   ]
  },
  {
   "cell_type": "code",
   "execution_count": 21,
   "id": "b61ebf76-a97c-4ee9-a732-bd6b5f55eca2",
   "metadata": {},
   "outputs": [],
   "source": [
    "# split dataset into training, validation, and testing sets\n",
    "splitter = dc.splits.RandomStratifiedSplitter()\n",
    "train_dataset, valid_dataset, test_dataset = splitter.train_valid_test_split(dataset)"
   ]
  },
  {
   "cell_type": "code",
   "execution_count": 25,
   "id": "fda9f138-1efa-4028-878e-9bf7fa8bf143",
   "metadata": {},
   "outputs": [],
   "source": [
    "metric = dc.metrics.Metric(dc.metrics.matthews_corrcoef)\n",
    "\n",
    "def fm(args):\n",
    "    save_dir = tempfile.mkdtemp()\n",
    "    model = dc.models.MultitaskClassifier(n_tasks=len(dataset.y[1]),\n",
    "                                          n_features=1024,\n",
    "                                          layer_sizes=args['layer_sizes'],\n",
    "                                          dropouts=args['dropouts'],\n",
    "                                          learning_rate=args['learning_rate'])\n",
    "    #validation callback that saves the best checkpoint, i.e the one with the maximum score.\n",
    "    validation=dc.models.ValidationCallback(valid_dataset,\n",
    "                                            1000, [metric],save_dir=save_dir,save_on_minimum=False)\n",
    "\n",
    "    model.fit(train_dataset, nb_epoch=25,callbacks=validation)\n",
    "\n",
    "    #restoring the best checkpoint and passing the negative of its validation score to be minimized.\n",
    "    model.restore(model_dir=save_dir)\n",
    "    valid_score = model.evaluate(valid_dataset, [metric])\n",
    "\n",
    "    return -1*valid_score['matthews_corrcoef']"
   ]
  },
  {
   "cell_type": "code",
   "execution_count": 26,
   "id": "733e2198-d80f-40b3-a4cf-c175df325a7c",
   "metadata": {},
   "outputs": [
    {
     "data": {
      "text/plain": [
       "1"
      ]
     },
     "execution_count": 26,
     "metadata": {},
     "output_type": "execute_result"
    }
   ],
   "source": [
    "len(dataset.y[1])"
   ]
  },
  {
   "cell_type": "code",
   "execution_count": 27,
   "id": "b421b75d-fd79-40a1-8273-06db6df4c98e",
   "metadata": {},
   "outputs": [
    {
     "name": "stdout",
     "output_type": "stream",
     "text": [
      "  0%|                               | 0/15 [00:00<?, ?trial/s, best loss=?]Step 1000 validation: matthews_corrcoef=0.248473\n",
      "Step 2000 validation: matthews_corrcoef=0.257911\n",
      "Step 3000 validation: matthews_corrcoef=0.258408\n",
      "Step 4000 validation: matthews_corrcoef=0.217017\n",
      "Step 5000 validation: matthews_corrcoef=0.31774\n",
      "Step 6000 validation: matthews_corrcoef=0.365491\n",
      "Step 7000 validation: matthews_corrcoef=0.399578\n",
      "Step 8000 validation: matthews_corrcoef=0.439553\n",
      "Step 9000 validation: matthews_corrcoef=0.418594\n",
      "Step 10000 validation: matthews_corrcoef=0.430914\n",
      "Step 11000 validation: matthews_corrcoef=0.427849\n",
      "Step 12000 validation: matthews_corrcoef=0.415083\n",
      "Step 13000 validation: matthews_corrcoef=0.406829\n",
      "Step 14000 validation: matthews_corrcoef=0.436234\n",
      "Step 15000 validation: matthews_corrcoef=0.460369\n",
      "Step 16000 validation: matthews_corrcoef=0.457303\n",
      "Step 17000 validation: matthews_corrcoef=0.436279\n",
      "Step 18000 validation: matthews_corrcoef=0.450485\n",
      "Step 19000 validation: matthews_corrcoef=0.440442\n",
      "Step 20000 validation: matthews_corrcoef=0.439409\n",
      "Step 21000 validation: matthews_corrcoef=0.449701\n",
      "Step 22000 validation: matthews_corrcoef=0.444471\n",
      "Step 23000 validation: matthews_corrcoef=0.441391\n",
      "Step 24000 validation: matthews_corrcoef=0.437836\n",
      "Step 25000 validation: matthews_corrcoef=0.451725\n",
      "Step 26000 validation: matthews_corrcoef=0.438314\n",
      "Step 27000 validation: matthews_corrcoef=0.444306\n",
      "Step 28000 validation: matthews_corrcoef=0.452067\n",
      "Step 29000 validation: matthews_corrcoef=0.450834\n",
      "Step 30000 validation: matthews_corrcoef=0.436229\n",
      "Step 31000 validation: matthews_corrcoef=0.446983\n",
      "Step 32000 validation: matthews_corrcoef=0.450174\n",
      "Step 33000 validation: matthews_corrcoef=0.430317\n",
      "Step 34000 validation: matthews_corrcoef=0.445974\n",
      "Step 35000 validation: matthews_corrcoef=0.449777\n",
      "Step 36000 validation: matthews_corrcoef=0.454204\n",
      "Step 37000 validation: matthews_corrcoef=0.4328\n",
      "Step 38000 validation: matthews_corrcoef=0.442873\n",
      "Step 39000 validation: matthews_corrcoef=0.43613\n",
      "Step 40000 validation: matthews_corrcoef=0.432069\n",
      "Step 41000 validation: matthews_corrcoef=0.428527\n",
      "Step 42000 validation: matthews_corrcoef=0.453568\n",
      "Step 43000 validation: matthews_corrcoef=0.438206\n",
      "Step 44000 validation: matthews_corrcoef=0.423925\n",
      "Step 45000 validation: matthews_corrcoef=0.421562\n",
      "Step 46000 validation: matthews_corrcoef=0.434981\n",
      "Step 47000 validation: matthews_corrcoef=0.450837\n",
      "Step 48000 validation: matthews_corrcoef=0.426695\n",
      "Step 49000 validation: matthews_corrcoef=0.436362\n",
      "Step 50000 validation: matthews_corrcoef=0.432334\n",
      "Step 51000 validation: matthews_corrcoef=0.447219\n",
      "Step 52000 validation: matthews_corrcoef=0.448247\n",
      "Step 53000 validation: matthews_corrcoef=0.442366\n",
      "Step 54000 validation: matthews_corrcoef=0.439716\n",
      "Step 55000 validation: matthews_corrcoef=0.441169\n",
      "Step 56000 validation: matthews_corrcoef=0.453722\n",
      "Step 57000 validation: matthews_corrcoef=0.440564\n",
      "Step 58000 validation: matthews_corrcoef=0.434306\n",
      "Step 59000 validation: matthews_corrcoef=0.456786\n",
      "Step 60000 validation: matthews_corrcoef=0.440383\n",
      "Step 61000 validation: matthews_corrcoef=0.453532\n",
      "  7%| | 1/15 [34:56<8:09:10, 2096.45s/trial, best loss: -0.4603686789421778Step 1000 validation: matthews_corrcoef=0.126016\n",
      "Step 2000 validation: matthews_corrcoef=0.22793\n",
      "Step 3000 validation: matthews_corrcoef=0.196919\n",
      "Step 4000 validation: matthews_corrcoef=0.213164\n",
      "Step 5000 validation: matthews_corrcoef=0.345193\n",
      "Step 6000 validation: matthews_corrcoef=0.370431\n",
      "Step 7000 validation: matthews_corrcoef=0.398244\n",
      "Step 8000 validation: matthews_corrcoef=0.430875\n",
      "Step 9000 validation: matthews_corrcoef=0.410976\n",
      "Step 10000 validation: matthews_corrcoef=0.446909\n",
      "Step 11000 validation: matthews_corrcoef=0.468781\n",
      "Step 12000 validation: matthews_corrcoef=0.444897\n",
      "Step 13000 validation: matthews_corrcoef=0.440631\n",
      "Step 14000 validation: matthews_corrcoef=0.454822\n",
      "Step 15000 validation: matthews_corrcoef=0.457159\n",
      "Step 16000 validation: matthews_corrcoef=0.432695\n",
      "Step 17000 validation: matthews_corrcoef=0.457195\n",
      "Step 18000 validation: matthews_corrcoef=0.43911\n",
      "Step 19000 validation: matthews_corrcoef=0.42794\n",
      "Step 20000 validation: matthews_corrcoef=0.449441\n",
      "Step 21000 validation: matthews_corrcoef=0.447798\n",
      "Step 22000 validation: matthews_corrcoef=0.437991\n",
      "Step 23000 validation: matthews_corrcoef=0.446726\n",
      "Step 24000 validation: matthews_corrcoef=0.424731\n",
      "Step 25000 validation: matthews_corrcoef=0.454647\n",
      "Step 26000 validation: matthews_corrcoef=0.447102\n",
      "Step 27000 validation: matthews_corrcoef=0.453758\n",
      "Step 28000 validation: matthews_corrcoef=0.437266\n",
      "Step 29000 validation: matthews_corrcoef=0.454592\n",
      "Step 30000 validation: matthews_corrcoef=0.431277\n",
      "Step 31000 validation: matthews_corrcoef=0.453609\n",
      "Step 32000 validation: matthews_corrcoef=0.447129\n",
      "Step 33000 validation: matthews_corrcoef=0.420233\n",
      "Step 34000 validation: matthews_corrcoef=0.45276\n",
      "Step 35000 validation: matthews_corrcoef=0.448809\n",
      "Step 36000 validation: matthews_corrcoef=0.437138\n",
      "Step 37000 validation: matthews_corrcoef=0.445102\n",
      "Step 38000 validation: matthews_corrcoef=0.425281\n",
      "Step 39000 validation: matthews_corrcoef=0.417639\n",
      "Step 40000 validation: matthews_corrcoef=0.445741\n",
      "Step 41000 validation: matthews_corrcoef=0.439255\n",
      "Step 42000 validation: matthews_corrcoef=0.437131\n",
      "Step 43000 validation: matthews_corrcoef=0.441786\n",
      "Step 44000 validation: matthews_corrcoef=0.437433\n",
      "Step 45000 validation: matthews_corrcoef=0.447171\n",
      "Step 46000 validation: matthews_corrcoef=0.440654\n",
      "Step 47000 validation: matthews_corrcoef=0.436513\n",
      "Step 48000 validation: matthews_corrcoef=0.445218\n",
      "Step 49000 validation: matthews_corrcoef=0.436629\n",
      "Step 50000 validation: matthews_corrcoef=0.44161\n",
      "Step 51000 validation: matthews_corrcoef=0.436644\n",
      "Step 52000 validation: matthews_corrcoef=0.440777\n",
      "Step 53000 validation: matthews_corrcoef=0.453393\n",
      "Step 54000 validation: matthews_corrcoef=0.422469\n",
      "Step 55000 validation: matthews_corrcoef=0.445261\n",
      "Step 56000 validation: matthews_corrcoef=0.451882\n",
      "Step 57000 validation: matthews_corrcoef=0.449883\n",
      "Step 58000 validation: matthews_corrcoef=0.455995\n",
      "Step 59000 validation: matthews_corrcoef=0.440435\n",
      "Step 60000 validation: matthews_corrcoef=0.438668\n",
      "Step 61000 validation: matthews_corrcoef=0.417486\n",
      " 13%|▏| 2/15 [1:02:16<6:36:03, 1827.92s/trial, best loss: -0.46878112235129Step 1000 validation: matthews_corrcoef=0.0456711\n",
      "Step 2000 validation: matthews_corrcoef=0.136664\n",
      "Step 3000 validation: matthews_corrcoef=0.219407\n",
      "Step 4000 validation: matthews_corrcoef=0.225102\n",
      "Step 5000 validation: matthews_corrcoef=0.246369\n",
      "Step 6000 validation: matthews_corrcoef=0.29774\n",
      "Step 7000 validation: matthews_corrcoef=0.28126\n",
      "Step 8000 validation: matthews_corrcoef=0.30525\n",
      "Step 9000 validation: matthews_corrcoef=0.335947\n",
      "Step 10000 validation: matthews_corrcoef=0.270013\n",
      "Step 11000 validation: matthews_corrcoef=0.339365\n",
      "Step 12000 validation: matthews_corrcoef=0.263048\n",
      "Step 13000 validation: matthews_corrcoef=0.324799\n",
      "Step 14000 validation: matthews_corrcoef=0.327109\n",
      "Step 15000 validation: matthews_corrcoef=0.336256\n",
      "Step 16000 validation: matthews_corrcoef=0.296545\n",
      "Step 17000 validation: matthews_corrcoef=0.325072\n",
      "Step 18000 validation: matthews_corrcoef=0.384203\n",
      "Step 19000 validation: matthews_corrcoef=0.373283\n",
      "Step 20000 validation: matthews_corrcoef=0.383857\n",
      "Step 21000 validation: matthews_corrcoef=0.338362\n",
      "Step 22000 validation: matthews_corrcoef=0.402359\n",
      "Step 23000 validation: matthews_corrcoef=0.417198\n",
      "Step 24000 validation: matthews_corrcoef=0.399657\n",
      "Step 25000 validation: matthews_corrcoef=0.421573\n",
      "Step 26000 validation: matthews_corrcoef=0.399987\n",
      "Step 27000 validation: matthews_corrcoef=0.442111\n",
      "Step 28000 validation: matthews_corrcoef=0.429191\n",
      "Step 29000 validation: matthews_corrcoef=0.402282\n",
      "Step 30000 validation: matthews_corrcoef=0.416197\n",
      "Step 31000 validation: matthews_corrcoef=0.4451\n",
      "Step 32000 validation: matthews_corrcoef=0.398083\n",
      "Step 33000 validation: matthews_corrcoef=0.433919\n",
      "Step 34000 validation: matthews_corrcoef=0.436655\n",
      "Step 35000 validation: matthews_corrcoef=0.42726\n",
      "Step 36000 validation: matthews_corrcoef=0.456352\n",
      "Step 37000 validation: matthews_corrcoef=0.452635\n",
      "Step 38000 validation: matthews_corrcoef=0.429699\n",
      "Step 39000 validation: matthews_corrcoef=0.433814\n",
      "Step 40000 validation: matthews_corrcoef=0.432726\n",
      "Step 41000 validation: matthews_corrcoef=0.430849\n",
      "Step 42000 validation: matthews_corrcoef=0.42524\n",
      "Step 43000 validation: matthews_corrcoef=0.424619\n",
      "Step 44000 validation: matthews_corrcoef=0.437028\n",
      "Step 45000 validation: matthews_corrcoef=0.417973\n",
      "Step 46000 validation: matthews_corrcoef=0.426359\n",
      "Step 47000 validation: matthews_corrcoef=0.467484\n",
      "Step 48000 validation: matthews_corrcoef=0.419169\n",
      "Step 49000 validation: matthews_corrcoef=0.44268\n",
      "Step 50000 validation: matthews_corrcoef=0.434961\n",
      "Step 51000 validation: matthews_corrcoef=0.431171\n",
      "Step 52000 validation: matthews_corrcoef=0.441194\n",
      "Step 53000 validation: matthews_corrcoef=0.447978\n",
      "Step 54000 validation: matthews_corrcoef=0.445645\n",
      "Step 55000 validation: matthews_corrcoef=0.436051\n",
      "Step 56000 validation: matthews_corrcoef=0.441082\n",
      "Step 57000 validation: matthews_corrcoef=0.423021\n",
      "Step 58000 validation: matthews_corrcoef=0.448017\n",
      "Step 59000 validation: matthews_corrcoef=0.435882\n",
      "Step 60000 validation: matthews_corrcoef=0.441081\n",
      "Step 61000 validation: matthews_corrcoef=0.443072\n",
      " 20%|▏| 3/15 [1:29:10<5:46:04, 1730.34s/trial, best loss: -0.46878112235129Step 1000 validation: matthews_corrcoef=0.218937\n",
      "Step 2000 validation: matthews_corrcoef=0.278155\n",
      "Step 3000 validation: matthews_corrcoef=0.18004\n",
      "Step 4000 validation: matthews_corrcoef=0.227705\n",
      "Step 5000 validation: matthews_corrcoef=0.255529\n",
      "Step 6000 validation: matthews_corrcoef=0.293136\n",
      "Step 7000 validation: matthews_corrcoef=0.256293\n",
      "Step 8000 validation: matthews_corrcoef=0.28064\n",
      "Step 9000 validation: matthews_corrcoef=0.345439\n",
      "Step 10000 validation: matthews_corrcoef=0.358529\n",
      "Step 11000 validation: matthews_corrcoef=0.403299\n",
      "Step 12000 validation: matthews_corrcoef=0.375202\n",
      "Step 13000 validation: matthews_corrcoef=0.418567\n",
      "Step 14000 validation: matthews_corrcoef=0.416506\n",
      "Step 15000 validation: matthews_corrcoef=0.434709\n",
      "Step 16000 validation: matthews_corrcoef=0.447321\n",
      "Step 17000 validation: matthews_corrcoef=0.440055\n",
      "Step 18000 validation: matthews_corrcoef=0.448122\n",
      "Step 19000 validation: matthews_corrcoef=0.466758\n",
      "Step 20000 validation: matthews_corrcoef=0.46621\n",
      "Step 21000 validation: matthews_corrcoef=0.446324\n",
      "Step 22000 validation: matthews_corrcoef=0.449417\n",
      "Step 23000 validation: matthews_corrcoef=0.453679\n",
      "Step 24000 validation: matthews_corrcoef=0.465871\n",
      "Step 25000 validation: matthews_corrcoef=0.476141\n",
      "Step 26000 validation: matthews_corrcoef=0.458408\n",
      "Step 27000 validation: matthews_corrcoef=0.463165\n",
      "Step 28000 validation: matthews_corrcoef=0.466364\n",
      "Step 29000 validation: matthews_corrcoef=0.465997\n",
      "Step 30000 validation: matthews_corrcoef=0.458485\n",
      "Step 31000 validation: matthews_corrcoef=0.46007\n",
      "Step 32000 validation: matthews_corrcoef=0.463272\n",
      "Step 33000 validation: matthews_corrcoef=0.456402\n",
      "Step 34000 validation: matthews_corrcoef=0.458156\n",
      "Step 35000 validation: matthews_corrcoef=0.450043\n",
      "Step 36000 validation: matthews_corrcoef=0.463055\n",
      "Step 37000 validation: matthews_corrcoef=0.46163\n",
      "Step 38000 validation: matthews_corrcoef=0.465931\n",
      "Step 39000 validation: matthews_corrcoef=0.448757\n",
      "Step 40000 validation: matthews_corrcoef=0.43945\n",
      "Step 41000 validation: matthews_corrcoef=0.455351\n",
      "Step 42000 validation: matthews_corrcoef=0.454566\n",
      "Step 43000 validation: matthews_corrcoef=0.437805\n",
      "Step 44000 validation: matthews_corrcoef=0.457918\n",
      "Step 45000 validation: matthews_corrcoef=0.436985\n",
      "Step 46000 validation: matthews_corrcoef=0.454962\n",
      "Step 47000 validation: matthews_corrcoef=0.459837\n",
      "Step 48000 validation: matthews_corrcoef=0.449744\n",
      "Step 49000 validation: matthews_corrcoef=0.439778\n",
      "Step 50000 validation: matthews_corrcoef=0.457919\n",
      "Step 51000 validation: matthews_corrcoef=0.443882\n",
      "Step 52000 validation: matthews_corrcoef=0.45871\n",
      "Step 53000 validation: matthews_corrcoef=0.442416\n",
      "Step 54000 validation: matthews_corrcoef=0.448523\n",
      "Step 55000 validation: matthews_corrcoef=0.452222\n",
      "Step 56000 validation: matthews_corrcoef=0.455438\n",
      "Step 57000 validation: matthews_corrcoef=0.462089\n",
      "Step 58000 validation: matthews_corrcoef=0.445188\n",
      "Step 59000 validation: matthews_corrcoef=0.454687\n",
      "Step 60000 validation: matthews_corrcoef=0.448055\n",
      "Step 61000 validation: matthews_corrcoef=0.457044\n",
      " 27%|▎| 4/15 [1:38:24<3:52:03, 1265.78s/trial, best loss: -0.47614097001503Step 1000 validation: matthews_corrcoef=0.214488\n",
      "Step 2000 validation: matthews_corrcoef=0.26145\n",
      "Step 3000 validation: matthews_corrcoef=0.227991\n",
      "Step 4000 validation: matthews_corrcoef=0.302217\n",
      "Step 5000 validation: matthews_corrcoef=0.345427\n",
      "Step 6000 validation: matthews_corrcoef=0.380528\n",
      "Step 7000 validation: matthews_corrcoef=0.454572\n",
      "Step 8000 validation: matthews_corrcoef=0.412581\n",
      "Step 9000 validation: matthews_corrcoef=0.429563\n",
      "Step 10000 validation: matthews_corrcoef=0.440821\n",
      "Step 11000 validation: matthews_corrcoef=0.428846\n",
      "Step 12000 validation: matthews_corrcoef=0.434457\n",
      "Step 13000 validation: matthews_corrcoef=0.428536\n",
      "Step 14000 validation: matthews_corrcoef=0.430718\n",
      "Step 15000 validation: matthews_corrcoef=0.445311\n",
      "Step 16000 validation: matthews_corrcoef=0.440518\n",
      "Step 17000 validation: matthews_corrcoef=0.451916\n",
      "Step 18000 validation: matthews_corrcoef=0.453351\n",
      "Step 19000 validation: matthews_corrcoef=0.441437\n",
      "Step 20000 validation: matthews_corrcoef=0.444327\n",
      "Step 21000 validation: matthews_corrcoef=0.433165\n",
      "Step 22000 validation: matthews_corrcoef=0.430589\n",
      "Step 23000 validation: matthews_corrcoef=0.446777\n",
      "Step 24000 validation: matthews_corrcoef=0.434586\n",
      "Step 25000 validation: matthews_corrcoef=0.452961\n",
      "Step 26000 validation: matthews_corrcoef=0.444182\n",
      "Step 27000 validation: matthews_corrcoef=0.451637\n",
      "Step 28000 validation: matthews_corrcoef=0.441796\n",
      "Step 29000 validation: matthews_corrcoef=0.440711\n",
      "Step 30000 validation: matthews_corrcoef=0.442055\n",
      "Step 31000 validation: matthews_corrcoef=0.441504\n",
      "Step 32000 validation: matthews_corrcoef=0.452122\n",
      "Step 33000 validation: matthews_corrcoef=0.425905\n",
      "Step 34000 validation: matthews_corrcoef=0.43165\n",
      "Step 35000 validation: matthews_corrcoef=0.437064\n",
      "Step 36000 validation: matthews_corrcoef=0.440628\n",
      "Step 37000 validation: matthews_corrcoef=0.450264\n",
      "Step 38000 validation: matthews_corrcoef=0.444032\n",
      "Step 39000 validation: matthews_corrcoef=0.431814\n",
      "Step 40000 validation: matthews_corrcoef=0.441908\n",
      "Step 41000 validation: matthews_corrcoef=0.438404\n",
      "Step 42000 validation: matthews_corrcoef=0.439296\n",
      "Step 43000 validation: matthews_corrcoef=0.42801\n",
      "Step 44000 validation: matthews_corrcoef=0.436801\n",
      "Step 45000 validation: matthews_corrcoef=0.444727\n",
      "Step 46000 validation: matthews_corrcoef=0.422181\n",
      "Step 47000 validation: matthews_corrcoef=0.439231\n",
      "Step 48000 validation: matthews_corrcoef=0.442183\n",
      "Step 49000 validation: matthews_corrcoef=0.449029\n",
      "Step 50000 validation: matthews_corrcoef=0.434998\n",
      "Step 51000 validation: matthews_corrcoef=0.429117\n",
      "Step 52000 validation: matthews_corrcoef=0.432675\n",
      "Step 53000 validation: matthews_corrcoef=0.438803\n",
      "Step 54000 validation: matthews_corrcoef=0.426143\n",
      "Step 55000 validation: matthews_corrcoef=0.42997\n",
      "Step 56000 validation: matthews_corrcoef=0.421187\n",
      "Step 57000 validation: matthews_corrcoef=0.442242\n",
      "Step 58000 validation: matthews_corrcoef=0.438639\n",
      "Step 59000 validation: matthews_corrcoef=0.438855\n",
      "Step 60000 validation: matthews_corrcoef=0.428944\n",
      "Step 61000 validation: matthews_corrcoef=0.439743\n",
      " 33%|▎| 5/15 [1:48:17<2:50:33, 1023.39s/trial, best loss: -0.47614097001503Step 1000 validation: matthews_corrcoef=0.176048\n",
      "Step 2000 validation: matthews_corrcoef=0.13704\n",
      "Step 3000 validation: matthews_corrcoef=0.218966\n",
      "Step 4000 validation: matthews_corrcoef=0.306887\n",
      "Step 5000 validation: matthews_corrcoef=0.365364\n",
      "Step 6000 validation: matthews_corrcoef=0.405853\n",
      "Step 7000 validation: matthews_corrcoef=0.397893\n",
      "Step 8000 validation: matthews_corrcoef=0.420207\n",
      "Step 9000 validation: matthews_corrcoef=0.418683\n",
      "Step 10000 validation: matthews_corrcoef=0.435574\n",
      "Step 11000 validation: matthews_corrcoef=0.440078\n",
      "Step 12000 validation: matthews_corrcoef=0.426521\n",
      "Step 13000 validation: matthews_corrcoef=0.432292\n",
      "Step 14000 validation: matthews_corrcoef=0.429261\n",
      "Step 15000 validation: matthews_corrcoef=0.429506\n",
      "Step 16000 validation: matthews_corrcoef=0.442787\n",
      "Step 17000 validation: matthews_corrcoef=0.442707\n",
      "Step 18000 validation: matthews_corrcoef=0.437321\n",
      "Step 19000 validation: matthews_corrcoef=0.444633\n",
      "Step 20000 validation: matthews_corrcoef=0.434417\n",
      "Step 21000 validation: matthews_corrcoef=0.443438\n",
      "Step 22000 validation: matthews_corrcoef=0.443955\n",
      "Step 23000 validation: matthews_corrcoef=0.450008\n",
      "Step 24000 validation: matthews_corrcoef=0.427595\n",
      "Step 25000 validation: matthews_corrcoef=0.436228\n",
      "Step 26000 validation: matthews_corrcoef=0.426457\n",
      "Step 27000 validation: matthews_corrcoef=0.422411\n",
      "Step 28000 validation: matthews_corrcoef=0.443138\n",
      "Step 29000 validation: matthews_corrcoef=0.416831\n",
      "Step 30000 validation: matthews_corrcoef=0.437155\n",
      "Step 31000 validation: matthews_corrcoef=0.441637\n",
      "Step 32000 validation: matthews_corrcoef=0.438454\n",
      "Step 33000 validation: matthews_corrcoef=0.444983\n",
      "Step 34000 validation: matthews_corrcoef=0.430082\n",
      "Step 35000 validation: matthews_corrcoef=0.446967\n",
      "Step 36000 validation: matthews_corrcoef=0.433873\n",
      "Step 37000 validation: matthews_corrcoef=0.441013\n",
      "Step 38000 validation: matthews_corrcoef=0.422699\n",
      "Step 39000 validation: matthews_corrcoef=0.440889\n",
      "Step 40000 validation: matthews_corrcoef=0.424296\n",
      "Step 41000 validation: matthews_corrcoef=0.428672\n",
      "Step 42000 validation: matthews_corrcoef=0.447869\n",
      "Step 43000 validation: matthews_corrcoef=0.42376\n",
      "Step 44000 validation: matthews_corrcoef=0.43745\n",
      "Step 45000 validation: matthews_corrcoef=0.42909\n",
      "Step 46000 validation: matthews_corrcoef=0.445083\n",
      "Step 47000 validation: matthews_corrcoef=0.426729\n",
      "Step 48000 validation: matthews_corrcoef=0.425934\n",
      "Step 49000 validation: matthews_corrcoef=0.424249\n",
      "Step 50000 validation: matthews_corrcoef=0.441389\n",
      "Step 51000 validation: matthews_corrcoef=0.440361\n",
      "Step 52000 validation: matthews_corrcoef=0.449743\n",
      "Step 53000 validation: matthews_corrcoef=0.450599\n",
      "Step 54000 validation: matthews_corrcoef=0.444552\n",
      "Step 55000 validation: matthews_corrcoef=0.435625\n",
      "Step 56000 validation: matthews_corrcoef=0.4521\n",
      "Step 57000 validation: matthews_corrcoef=0.437402\n",
      "Step 58000 validation: matthews_corrcoef=0.446518\n",
      "Step 59000 validation: matthews_corrcoef=0.433323\n",
      "Step 60000 validation: matthews_corrcoef=0.45256\n",
      "Step 61000 validation: matthews_corrcoef=0.449409\n",
      " 40%|▍| 6/15 [2:26:08<3:37:06, 1447.44s/trial, best loss: -0.47614097001503Step 1000 validation: matthews_corrcoef=0.15999\n",
      "Step 2000 validation: matthews_corrcoef=0.130014\n",
      "Step 3000 validation: matthews_corrcoef=0.248733\n",
      "Step 4000 validation: matthews_corrcoef=0.293592\n",
      "Step 5000 validation: matthews_corrcoef=0.393945\n",
      "Step 6000 validation: matthews_corrcoef=0.353783\n",
      "Step 7000 validation: matthews_corrcoef=0.412035\n",
      "Step 8000 validation: matthews_corrcoef=0.467122\n",
      "Step 9000 validation: matthews_corrcoef=0.44976\n",
      "Step 10000 validation: matthews_corrcoef=0.471806\n",
      "Step 11000 validation: matthews_corrcoef=0.459425\n",
      "Step 12000 validation: matthews_corrcoef=0.411322\n",
      "Step 13000 validation: matthews_corrcoef=0.435325\n",
      "Step 14000 validation: matthews_corrcoef=0.446299\n",
      "Step 15000 validation: matthews_corrcoef=0.46201\n",
      "Step 16000 validation: matthews_corrcoef=0.43627\n",
      "Step 17000 validation: matthews_corrcoef=0.432194\n",
      "Step 18000 validation: matthews_corrcoef=0.451512\n",
      "Step 19000 validation: matthews_corrcoef=0.449196\n",
      "Step 20000 validation: matthews_corrcoef=0.420624\n",
      "Step 21000 validation: matthews_corrcoef=0.456576\n",
      "Step 22000 validation: matthews_corrcoef=0.439915\n",
      "Step 23000 validation: matthews_corrcoef=0.452494\n",
      "Step 24000 validation: matthews_corrcoef=0.449255\n",
      "Step 25000 validation: matthews_corrcoef=0.448295\n",
      "Step 26000 validation: matthews_corrcoef=0.430982\n",
      "Step 27000 validation: matthews_corrcoef=0.438398\n",
      "Step 28000 validation: matthews_corrcoef=0.428847\n",
      "Step 29000 validation: matthews_corrcoef=0.439854\n",
      "Step 30000 validation: matthews_corrcoef=0.446177\n",
      "Step 31000 validation: matthews_corrcoef=0.43296\n",
      "Step 32000 validation: matthews_corrcoef=0.451559\n",
      "Step 33000 validation: matthews_corrcoef=0.430086\n",
      "Step 34000 validation: matthews_corrcoef=0.429807\n",
      "Step 35000 validation: matthews_corrcoef=0.447019\n",
      "Step 36000 validation: matthews_corrcoef=0.440726\n",
      "Step 37000 validation: matthews_corrcoef=0.432694\n",
      "Step 38000 validation: matthews_corrcoef=0.430108\n",
      "Step 39000 validation: matthews_corrcoef=0.447639\n",
      "Step 40000 validation: matthews_corrcoef=0.441465\n",
      "Step 41000 validation: matthews_corrcoef=0.438615\n",
      "Step 42000 validation: matthews_corrcoef=0.432223\n",
      "Step 43000 validation: matthews_corrcoef=0.438376\n",
      "Step 44000 validation: matthews_corrcoef=0.431899\n",
      "Step 45000 validation: matthews_corrcoef=0.444187\n",
      "Step 46000 validation: matthews_corrcoef=0.443473\n",
      "Step 47000 validation: matthews_corrcoef=0.439583\n",
      "Step 48000 validation: matthews_corrcoef=0.445797\n",
      "Step 49000 validation: matthews_corrcoef=0.412291\n",
      "Step 50000 validation: matthews_corrcoef=0.432714\n",
      "Step 51000 validation: matthews_corrcoef=0.447741\n",
      "Step 52000 validation: matthews_corrcoef=0.432887\n",
      "Step 53000 validation: matthews_corrcoef=0.432832\n",
      "Step 54000 validation: matthews_corrcoef=0.424642\n",
      "Step 55000 validation: matthews_corrcoef=0.43553\n",
      "Step 56000 validation: matthews_corrcoef=0.433923\n",
      "Step 57000 validation: matthews_corrcoef=0.443403\n",
      "Step 58000 validation: matthews_corrcoef=0.434024\n",
      "Step 59000 validation: matthews_corrcoef=0.447738\n",
      "Step 60000 validation: matthews_corrcoef=0.436186\n",
      "Step 61000 validation: matthews_corrcoef=0.433004\n",
      " 47%|▍| 7/15 [3:03:57<3:48:48, 1716.00s/trial, best loss: -0.47614097001503Step 1000 validation: matthews_corrcoef=0.315901\n",
      "Step 2000 validation: matthews_corrcoef=0.139779\n",
      "Step 3000 validation: matthews_corrcoef=0.323167\n",
      "Step 4000 validation: matthews_corrcoef=0.324052\n",
      "Step 5000 validation: matthews_corrcoef=0.278029\n",
      "Step 6000 validation: matthews_corrcoef=0.33619\n",
      "Step 7000 validation: matthews_corrcoef=0.385656\n",
      "Step 8000 validation: matthews_corrcoef=0.377097\n",
      "Step 9000 validation: matthews_corrcoef=0.443701\n",
      "Step 10000 validation: matthews_corrcoef=0.463774\n",
      "Step 11000 validation: matthews_corrcoef=0.457068\n",
      "Step 12000 validation: matthews_corrcoef=0.445638\n",
      "Step 13000 validation: matthews_corrcoef=0.430226\n",
      "Step 14000 validation: matthews_corrcoef=0.446952\n",
      "Step 15000 validation: matthews_corrcoef=0.455548\n",
      "Step 16000 validation: matthews_corrcoef=0.449488\n",
      "Step 17000 validation: matthews_corrcoef=0.471649\n",
      "Step 18000 validation: matthews_corrcoef=0.429811\n",
      "Step 19000 validation: matthews_corrcoef=0.459119\n",
      "Step 20000 validation: matthews_corrcoef=0.452837\n",
      "Step 21000 validation: matthews_corrcoef=0.426227\n",
      "Step 22000 validation: matthews_corrcoef=0.440225\n",
      "Step 23000 validation: matthews_corrcoef=0.439985\n",
      "Step 24000 validation: matthews_corrcoef=0.41386\n",
      "Step 25000 validation: matthews_corrcoef=0.459047\n",
      "Step 26000 validation: matthews_corrcoef=0.459587\n",
      "Step 27000 validation: matthews_corrcoef=0.449587\n",
      "Step 28000 validation: matthews_corrcoef=0.465601\n",
      "Step 29000 validation: matthews_corrcoef=0.431815\n",
      "Step 30000 validation: matthews_corrcoef=0.466126\n",
      "Step 31000 validation: matthews_corrcoef=0.441465\n",
      "Step 32000 validation: matthews_corrcoef=0.452373\n",
      "Step 33000 validation: matthews_corrcoef=0.42093\n",
      "Step 34000 validation: matthews_corrcoef=0.430342\n",
      "Step 35000 validation: matthews_corrcoef=0.447682\n",
      "Step 36000 validation: matthews_corrcoef=0.449458\n",
      "Step 37000 validation: matthews_corrcoef=0.455058\n",
      "Step 38000 validation: matthews_corrcoef=0.43687\n",
      "Step 39000 validation: matthews_corrcoef=0.436329\n",
      "Step 40000 validation: matthews_corrcoef=0.450969\n",
      "Step 41000 validation: matthews_corrcoef=0.428086\n",
      "Step 42000 validation: matthews_corrcoef=0.455726\n",
      "Step 43000 validation: matthews_corrcoef=0.407196\n",
      "Step 44000 validation: matthews_corrcoef=0.419475\n",
      "Step 45000 validation: matthews_corrcoef=0.431726\n",
      "Step 46000 validation: matthews_corrcoef=0.452339\n",
      "Step 47000 validation: matthews_corrcoef=0.448744\n",
      "Step 48000 validation: matthews_corrcoef=0.434342\n",
      "Step 49000 validation: matthews_corrcoef=0.441491\n",
      "Step 50000 validation: matthews_corrcoef=0.436757\n",
      "Step 51000 validation: matthews_corrcoef=0.447331\n",
      "Step 52000 validation: matthews_corrcoef=0.434939\n",
      "Step 53000 validation: matthews_corrcoef=0.450085\n",
      "Step 54000 validation: matthews_corrcoef=0.441552\n",
      "Step 55000 validation: matthews_corrcoef=0.448197\n",
      "Step 56000 validation: matthews_corrcoef=0.442204\n",
      "Step 57000 validation: matthews_corrcoef=0.445288\n",
      "Step 58000 validation: matthews_corrcoef=0.437065\n",
      "Step 59000 validation: matthews_corrcoef=0.444433\n",
      "Step 60000 validation: matthews_corrcoef=0.429516\n",
      "Step 61000 validation: matthews_corrcoef=0.417409\n",
      " 53%|▌| 8/15 [3:21:36<2:55:48, 1506.98s/trial, best loss: -0.47614097001503Step 1000 validation: matthews_corrcoef=0.140438\n",
      "Step 2000 validation: matthews_corrcoef=0.179345\n",
      "Step 3000 validation: matthews_corrcoef=0.207675\n",
      "Step 4000 validation: matthews_corrcoef=0.262796\n",
      "Step 5000 validation: matthews_corrcoef=0.372059\n",
      "Step 6000 validation: matthews_corrcoef=0.351177\n",
      "Step 7000 validation: matthews_corrcoef=0.343973\n",
      "Step 8000 validation: matthews_corrcoef=0.427319\n",
      "Step 9000 validation: matthews_corrcoef=0.412991\n",
      "Step 10000 validation: matthews_corrcoef=0.429768\n",
      "Step 11000 validation: matthews_corrcoef=0.3859\n",
      "Step 12000 validation: matthews_corrcoef=0.465327\n",
      "Step 13000 validation: matthews_corrcoef=0.446848\n",
      "Step 14000 validation: matthews_corrcoef=0.442217\n",
      "Step 15000 validation: matthews_corrcoef=0.447069\n",
      "Step 16000 validation: matthews_corrcoef=0.429437\n",
      "Step 17000 validation: matthews_corrcoef=0.450631\n",
      "Step 18000 validation: matthews_corrcoef=0.43654\n",
      "Step 19000 validation: matthews_corrcoef=0.439268\n",
      "Step 20000 validation: matthews_corrcoef=0.446334\n",
      "Step 21000 validation: matthews_corrcoef=0.437323\n",
      "Step 22000 validation: matthews_corrcoef=0.459363\n",
      "Step 23000 validation: matthews_corrcoef=0.472857\n",
      "Step 24000 validation: matthews_corrcoef=0.45484\n",
      "Step 25000 validation: matthews_corrcoef=0.424137\n",
      "Step 26000 validation: matthews_corrcoef=0.448072\n",
      "Step 27000 validation: matthews_corrcoef=0.434079\n",
      "Step 28000 validation: matthews_corrcoef=0.442315\n",
      "Step 29000 validation: matthews_corrcoef=0.426474\n",
      "Step 30000 validation: matthews_corrcoef=0.449926\n",
      "Step 31000 validation: matthews_corrcoef=0.421011\n",
      "Step 32000 validation: matthews_corrcoef=0.40925\n",
      "Step 33000 validation: matthews_corrcoef=0.435921\n",
      "Step 34000 validation: matthews_corrcoef=0.448604\n",
      "Step 35000 validation: matthews_corrcoef=0.432762\n",
      "Step 36000 validation: matthews_corrcoef=0.449315\n",
      "Step 37000 validation: matthews_corrcoef=0.457277\n",
      "Step 38000 validation: matthews_corrcoef=0.453475\n",
      "Step 39000 validation: matthews_corrcoef=0.441985\n",
      "Step 40000 validation: matthews_corrcoef=0.452061\n",
      "Step 41000 validation: matthews_corrcoef=0.448585\n",
      "Step 42000 validation: matthews_corrcoef=0.447204\n",
      "Step 43000 validation: matthews_corrcoef=0.430201\n",
      "Step 44000 validation: matthews_corrcoef=0.433539\n",
      "Step 45000 validation: matthews_corrcoef=0.443313\n",
      "Step 46000 validation: matthews_corrcoef=0.449537\n",
      "Step 47000 validation: matthews_corrcoef=0.431681\n",
      "Step 48000 validation: matthews_corrcoef=0.440456\n",
      "Step 49000 validation: matthews_corrcoef=0.444705\n",
      "Step 50000 validation: matthews_corrcoef=0.438972\n",
      "Step 51000 validation: matthews_corrcoef=0.438227\n",
      "Step 52000 validation: matthews_corrcoef=0.446446\n",
      "Step 53000 validation: matthews_corrcoef=0.436384\n",
      "Step 54000 validation: matthews_corrcoef=0.435922\n",
      "Step 55000 validation: matthews_corrcoef=0.445589\n",
      "Step 56000 validation: matthews_corrcoef=0.436381\n",
      "Step 57000 validation: matthews_corrcoef=0.437749\n",
      "Step 58000 validation: matthews_corrcoef=0.425088\n",
      "Step 59000 validation: matthews_corrcoef=0.433763\n",
      "Step 60000 validation: matthews_corrcoef=0.44685\n",
      "Step 61000 validation: matthews_corrcoef=0.432586\n",
      " 60%|▌| 9/15 [3:48:08<2:33:21, 1533.56s/trial, best loss: -0.47614097001503Step 1000 validation: matthews_corrcoef=0.202387\n",
      "Step 2000 validation: matthews_corrcoef=0.223323\n",
      "Step 3000 validation: matthews_corrcoef=0.295755\n",
      "Step 4000 validation: matthews_corrcoef=0.364172\n",
      "Step 5000 validation: matthews_corrcoef=0.381839\n",
      "Step 6000 validation: matthews_corrcoef=0.423487\n",
      "Step 7000 validation: matthews_corrcoef=0.43032\n",
      "Step 8000 validation: matthews_corrcoef=0.451275\n",
      "Step 9000 validation: matthews_corrcoef=0.442165\n",
      "Step 10000 validation: matthews_corrcoef=0.431619\n",
      "Step 11000 validation: matthews_corrcoef=0.465536\n",
      "Step 12000 validation: matthews_corrcoef=0.41393\n",
      "Step 13000 validation: matthews_corrcoef=0.42554\n",
      "Step 14000 validation: matthews_corrcoef=0.440995\n",
      "Step 15000 validation: matthews_corrcoef=0.460272\n",
      "Step 16000 validation: matthews_corrcoef=0.42524\n",
      "Step 17000 validation: matthews_corrcoef=0.45184\n",
      "Step 18000 validation: matthews_corrcoef=0.439208\n",
      "Step 19000 validation: matthews_corrcoef=0.458519\n",
      "Step 20000 validation: matthews_corrcoef=0.45504\n",
      "Step 21000 validation: matthews_corrcoef=0.446944\n",
      "Step 22000 validation: matthews_corrcoef=0.446036\n",
      "Step 23000 validation: matthews_corrcoef=0.444254\n",
      "Step 24000 validation: matthews_corrcoef=0.461213\n",
      "Step 25000 validation: matthews_corrcoef=0.454272\n",
      "Step 26000 validation: matthews_corrcoef=0.447434\n",
      "Step 27000 validation: matthews_corrcoef=0.44812\n",
      "Step 28000 validation: matthews_corrcoef=0.454346\n",
      "Step 29000 validation: matthews_corrcoef=0.437673\n",
      "Step 30000 validation: matthews_corrcoef=0.446829\n",
      "Step 31000 validation: matthews_corrcoef=0.456667\n",
      "Step 32000 validation: matthews_corrcoef=0.449533\n",
      "Step 33000 validation: matthews_corrcoef=0.441151\n",
      "Step 34000 validation: matthews_corrcoef=0.435776\n",
      "Step 35000 validation: matthews_corrcoef=0.448451\n",
      "Step 36000 validation: matthews_corrcoef=0.451784\n",
      "Step 37000 validation: matthews_corrcoef=0.441834\n",
      "Step 38000 validation: matthews_corrcoef=0.437129\n",
      "Step 39000 validation: matthews_corrcoef=0.455995\n",
      "Step 40000 validation: matthews_corrcoef=0.426828\n",
      "Step 41000 validation: matthews_corrcoef=0.442618\n",
      "Step 42000 validation: matthews_corrcoef=0.439856\n",
      "Step 43000 validation: matthews_corrcoef=0.428802\n",
      "Step 44000 validation: matthews_corrcoef=0.441772\n",
      "Step 45000 validation: matthews_corrcoef=0.446633\n",
      "Step 46000 validation: matthews_corrcoef=0.444814\n",
      "Step 47000 validation: matthews_corrcoef=0.440076\n",
      "Step 48000 validation: matthews_corrcoef=0.420943\n",
      "Step 49000 validation: matthews_corrcoef=0.419023\n",
      "Step 50000 validation: matthews_corrcoef=0.446537\n",
      "Step 51000 validation: matthews_corrcoef=0.445063\n",
      "Step 52000 validation: matthews_corrcoef=0.436192\n",
      "Step 53000 validation: matthews_corrcoef=0.433045\n",
      "Step 54000 validation: matthews_corrcoef=0.430002\n",
      "Step 55000 validation: matthews_corrcoef=0.438681\n",
      "Step 56000 validation: matthews_corrcoef=0.4368\n",
      "Step 57000 validation: matthews_corrcoef=0.402849\n",
      "Step 58000 validation: matthews_corrcoef=0.420243\n",
      "Step 59000 validation: matthews_corrcoef=0.432219\n",
      "Step 60000 validation: matthews_corrcoef=0.421736\n",
      "Step 61000 validation: matthews_corrcoef=0.437926\n",
      " 67%|▋| 10/15 [4:27:22<2:28:53, 1786.64s/trial, best loss: -0.4761409700150Step 1000 validation: matthews_corrcoef=0.221247\n",
      "Step 2000 validation: matthews_corrcoef=0.28308\n",
      "Step 3000 validation: matthews_corrcoef=0.279237\n",
      "Step 4000 validation: matthews_corrcoef=0.288055\n",
      "Step 5000 validation: matthews_corrcoef=0.326167\n",
      "Step 6000 validation: matthews_corrcoef=0.419285\n",
      "Step 7000 validation: matthews_corrcoef=0.413583\n",
      "Step 8000 validation: matthews_corrcoef=0.416024\n",
      "Step 9000 validation: matthews_corrcoef=0.448539\n",
      "Step 10000 validation: matthews_corrcoef=0.445355\n",
      "Step 11000 validation: matthews_corrcoef=0.433925\n",
      "Step 12000 validation: matthews_corrcoef=0.453907\n",
      "Step 13000 validation: matthews_corrcoef=0.438683\n",
      "Step 14000 validation: matthews_corrcoef=0.439778\n",
      "Step 15000 validation: matthews_corrcoef=0.461387\n",
      "Step 16000 validation: matthews_corrcoef=0.457951\n",
      "Step 17000 validation: matthews_corrcoef=0.457682\n",
      "Step 18000 validation: matthews_corrcoef=0.459513\n",
      "Step 19000 validation: matthews_corrcoef=0.462713\n",
      "Step 20000 validation: matthews_corrcoef=0.450804\n",
      "Step 21000 validation: matthews_corrcoef=0.456235\n",
      "Step 22000 validation: matthews_corrcoef=0.438067\n",
      "Step 23000 validation: matthews_corrcoef=0.46234\n",
      "Step 24000 validation: matthews_corrcoef=0.443011\n",
      "Step 25000 validation: matthews_corrcoef=0.436426\n",
      "Step 26000 validation: matthews_corrcoef=0.4362\n",
      "Step 27000 validation: matthews_corrcoef=0.431872\n",
      "Step 28000 validation: matthews_corrcoef=0.437034\n",
      "Step 29000 validation: matthews_corrcoef=0.452933\n",
      "Step 30000 validation: matthews_corrcoef=0.429527\n",
      "Step 31000 validation: matthews_corrcoef=0.439737\n",
      "Step 32000 validation: matthews_corrcoef=0.432561\n",
      "Step 33000 validation: matthews_corrcoef=0.431854\n",
      "Step 34000 validation: matthews_corrcoef=0.445116\n",
      "Step 35000 validation: matthews_corrcoef=0.429198\n",
      "Step 36000 validation: matthews_corrcoef=0.451965\n",
      "Step 37000 validation: matthews_corrcoef=0.435297\n",
      "Step 38000 validation: matthews_corrcoef=0.441801\n",
      "Step 39000 validation: matthews_corrcoef=0.424845\n",
      "Step 40000 validation: matthews_corrcoef=0.445458\n",
      "Step 41000 validation: matthews_corrcoef=0.43744\n",
      "Step 42000 validation: matthews_corrcoef=0.441004\n",
      "Step 43000 validation: matthews_corrcoef=0.444911\n",
      "Step 44000 validation: matthews_corrcoef=0.438495\n",
      "Step 45000 validation: matthews_corrcoef=0.455599\n",
      "Step 46000 validation: matthews_corrcoef=0.443421\n",
      "Step 47000 validation: matthews_corrcoef=0.445036\n",
      "Step 48000 validation: matthews_corrcoef=0.455204\n",
      "Step 49000 validation: matthews_corrcoef=0.42321\n",
      "Step 50000 validation: matthews_corrcoef=0.436079\n",
      "Step 51000 validation: matthews_corrcoef=0.44158\n",
      "Step 52000 validation: matthews_corrcoef=0.41276\n",
      "Step 53000 validation: matthews_corrcoef=0.419646\n",
      "Step 54000 validation: matthews_corrcoef=0.442606\n",
      "Step 55000 validation: matthews_corrcoef=0.429297\n",
      "Step 56000 validation: matthews_corrcoef=0.427884\n",
      "Step 57000 validation: matthews_corrcoef=0.43648\n",
      "Step 58000 validation: matthews_corrcoef=0.425411\n",
      "Step 59000 validation: matthews_corrcoef=0.434577\n",
      "Step 60000 validation: matthews_corrcoef=0.420548\n",
      "Step 61000 validation: matthews_corrcoef=0.430861\n",
      " 73%|▋| 11/15 [4:45:43<1:45:07, 1576.84s/trial, best loss: -0.4761409700150Step 1000 validation: matthews_corrcoef=0.135693\n",
      "Step 2000 validation: matthews_corrcoef=0.249233\n",
      "Step 3000 validation: matthews_corrcoef=0.206634\n",
      "Step 4000 validation: matthews_corrcoef=0.243867\n",
      "Step 5000 validation: matthews_corrcoef=0.332346\n",
      "Step 6000 validation: matthews_corrcoef=0.378161\n",
      "Step 7000 validation: matthews_corrcoef=0.365974\n",
      "Step 8000 validation: matthews_corrcoef=0.3984\n",
      "Step 9000 validation: matthews_corrcoef=0.444596\n",
      "Step 10000 validation: matthews_corrcoef=0.439838\n",
      "Step 11000 validation: matthews_corrcoef=0.446685\n",
      "Step 12000 validation: matthews_corrcoef=0.43478\n",
      "Step 13000 validation: matthews_corrcoef=0.439152\n",
      "Step 14000 validation: matthews_corrcoef=0.458858\n",
      "Step 15000 validation: matthews_corrcoef=0.434019\n",
      "Step 16000 validation: matthews_corrcoef=0.44516\n",
      "Step 17000 validation: matthews_corrcoef=0.446177\n",
      "Step 18000 validation: matthews_corrcoef=0.444118\n",
      "Step 19000 validation: matthews_corrcoef=0.435678\n",
      "Step 20000 validation: matthews_corrcoef=0.438503\n",
      "Step 21000 validation: matthews_corrcoef=0.438428\n",
      "Step 22000 validation: matthews_corrcoef=0.427652\n",
      "Step 23000 validation: matthews_corrcoef=0.43079\n",
      "Step 24000 validation: matthews_corrcoef=0.435101\n",
      "Step 25000 validation: matthews_corrcoef=0.438514\n",
      "Step 26000 validation: matthews_corrcoef=0.429757\n",
      "Step 27000 validation: matthews_corrcoef=0.426963\n",
      "Step 28000 validation: matthews_corrcoef=0.442484\n",
      "Step 29000 validation: matthews_corrcoef=0.43644\n",
      "Step 30000 validation: matthews_corrcoef=0.432694\n",
      "Step 31000 validation: matthews_corrcoef=0.437283\n",
      "Step 32000 validation: matthews_corrcoef=0.431624\n",
      "Step 33000 validation: matthews_corrcoef=0.46244\n",
      "Step 34000 validation: matthews_corrcoef=0.439352\n",
      "Step 35000 validation: matthews_corrcoef=0.451081\n",
      "Step 36000 validation: matthews_corrcoef=0.429306\n",
      "Step 37000 validation: matthews_corrcoef=0.435262\n",
      "Step 38000 validation: matthews_corrcoef=0.441176\n",
      "Step 39000 validation: matthews_corrcoef=0.415821\n",
      "Step 40000 validation: matthews_corrcoef=0.433626\n",
      "Step 41000 validation: matthews_corrcoef=0.421567\n",
      "Step 42000 validation: matthews_corrcoef=0.441726\n",
      "Step 43000 validation: matthews_corrcoef=0.424128\n",
      "Step 44000 validation: matthews_corrcoef=0.435953\n",
      "Step 45000 validation: matthews_corrcoef=0.429822\n",
      "Step 46000 validation: matthews_corrcoef=0.431328\n",
      "Step 47000 validation: matthews_corrcoef=0.435344\n",
      "Step 48000 validation: matthews_corrcoef=0.43548\n",
      "Step 49000 validation: matthews_corrcoef=0.443565\n",
      "Step 50000 validation: matthews_corrcoef=0.447756\n",
      "Step 51000 validation: matthews_corrcoef=0.435331\n",
      "Step 52000 validation: matthews_corrcoef=0.450746\n",
      "Step 53000 validation: matthews_corrcoef=0.422952\n",
      "Step 54000 validation: matthews_corrcoef=0.429198\n",
      "Step 55000 validation: matthews_corrcoef=0.453769\n",
      "Step 56000 validation: matthews_corrcoef=0.434371\n",
      "Step 57000 validation: matthews_corrcoef=0.449991\n",
      "Step 58000 validation: matthews_corrcoef=0.426731\n",
      "Step 59000 validation: matthews_corrcoef=0.44639\n",
      "Step 60000 validation: matthews_corrcoef=0.439748\n",
      "Step 61000 validation: matthews_corrcoef=0.428494\n",
      " 80%|▊| 12/15 [5:04:21<1:11:51, 1437.26s/trial, best loss: -0.4761409700150Step 1000 validation: matthews_corrcoef=0.250557\n",
      "Step 2000 validation: matthews_corrcoef=0.212281\n",
      "Step 3000 validation: matthews_corrcoef=0.281654\n",
      "Step 4000 validation: matthews_corrcoef=0.219274\n",
      "Step 5000 validation: matthews_corrcoef=0.185613\n",
      "Step 6000 validation: matthews_corrcoef=0.254565\n",
      "Step 7000 validation: matthews_corrcoef=0.127038\n",
      "Step 8000 validation: matthews_corrcoef=0.224633\n",
      "Step 9000 validation: matthews_corrcoef=0.354956\n",
      "Step 10000 validation: matthews_corrcoef=0.369442\n",
      "Step 11000 validation: matthews_corrcoef=0.429347\n",
      "Step 12000 validation: matthews_corrcoef=0.385166\n",
      "Step 13000 validation: matthews_corrcoef=0.425169\n",
      "Step 14000 validation: matthews_corrcoef=0.438679\n",
      "Step 15000 validation: matthews_corrcoef=0.423602\n",
      "Step 16000 validation: matthews_corrcoef=0.434199\n",
      "Step 17000 validation: matthews_corrcoef=0.465273\n",
      "Step 18000 validation: matthews_corrcoef=0.458739\n",
      "Step 19000 validation: matthews_corrcoef=0.44523\n",
      "Step 20000 validation: matthews_corrcoef=0.484365\n",
      "Step 21000 validation: matthews_corrcoef=0.466302\n",
      "Step 22000 validation: matthews_corrcoef=0.470107\n",
      "Step 23000 validation: matthews_corrcoef=0.478636\n",
      "Step 24000 validation: matthews_corrcoef=0.469831\n",
      "Step 25000 validation: matthews_corrcoef=0.46164\n",
      "Step 26000 validation: matthews_corrcoef=0.467095\n",
      "Step 27000 validation: matthews_corrcoef=0.462075\n",
      "Step 28000 validation: matthews_corrcoef=0.44951\n",
      "Step 29000 validation: matthews_corrcoef=0.439409\n",
      "Step 30000 validation: matthews_corrcoef=0.467094\n",
      "Step 31000 validation: matthews_corrcoef=0.443755\n",
      "Step 32000 validation: matthews_corrcoef=0.475682\n",
      "Step 33000 validation: matthews_corrcoef=0.453351\n",
      "Step 34000 validation: matthews_corrcoef=0.459115\n",
      "Step 35000 validation: matthews_corrcoef=0.454021\n",
      "Step 36000 validation: matthews_corrcoef=0.458738\n",
      "Step 37000 validation: matthews_corrcoef=0.468986\n",
      "Step 38000 validation: matthews_corrcoef=0.468334\n",
      "Step 39000 validation: matthews_corrcoef=0.458424\n",
      "Step 40000 validation: matthews_corrcoef=0.464747\n",
      "Step 41000 validation: matthews_corrcoef=0.443422\n",
      "Step 42000 validation: matthews_corrcoef=0.469582\n",
      "Step 43000 validation: matthews_corrcoef=0.457948\n",
      "Step 44000 validation: matthews_corrcoef=0.463223\n",
      "Step 45000 validation: matthews_corrcoef=0.443905\n",
      "Step 46000 validation: matthews_corrcoef=0.460514\n",
      "Step 47000 validation: matthews_corrcoef=0.453853\n",
      "Step 48000 validation: matthews_corrcoef=0.466812\n",
      "Step 49000 validation: matthews_corrcoef=0.467805\n",
      "Step 50000 validation: matthews_corrcoef=0.450918\n",
      "Step 51000 validation: matthews_corrcoef=0.446035\n",
      "Step 52000 validation: matthews_corrcoef=0.44919\n",
      "Step 53000 validation: matthews_corrcoef=0.46347\n",
      "Step 54000 validation: matthews_corrcoef=0.464815\n",
      "Step 55000 validation: matthews_corrcoef=0.458355\n",
      "Step 56000 validation: matthews_corrcoef=0.45619\n",
      "Step 57000 validation: matthews_corrcoef=0.451427\n",
      "Step 58000 validation: matthews_corrcoef=0.439225\n",
      "Step 59000 validation: matthews_corrcoef=0.462865\n",
      "Step 60000 validation: matthews_corrcoef=0.46396\n",
      "Step 61000 validation: matthews_corrcoef=0.468757\n",
      " 87%|▊| 13/15 [5:39:30<54:41, 1640.82s/trial, best loss: -0.484365467356733Step 1000 validation: matthews_corrcoef=0.0847876\n",
      "Step 2000 validation: matthews_corrcoef=0.176627\n",
      "Step 3000 validation: matthews_corrcoef=0.162812\n",
      "Step 4000 validation: matthews_corrcoef=0.165518\n",
      "Step 5000 validation: matthews_corrcoef=0.1874\n",
      "Step 6000 validation: matthews_corrcoef=0.180127\n",
      "Step 7000 validation: matthews_corrcoef=0.28681\n",
      "Step 8000 validation: matthews_corrcoef=0.265293\n",
      "Step 9000 validation: matthews_corrcoef=0.295196\n",
      "Step 10000 validation: matthews_corrcoef=0.291108\n",
      "Step 11000 validation: matthews_corrcoef=0.289917\n",
      "Step 12000 validation: matthews_corrcoef=0.304619\n",
      "Step 13000 validation: matthews_corrcoef=0.282518\n",
      "Step 14000 validation: matthews_corrcoef=0.342049\n",
      "Step 15000 validation: matthews_corrcoef=0.321179\n",
      "Step 16000 validation: matthews_corrcoef=0.353221\n",
      "Step 17000 validation: matthews_corrcoef=0.403133\n",
      "Step 18000 validation: matthews_corrcoef=0.36695\n",
      "Step 19000 validation: matthews_corrcoef=0.344583\n",
      "Step 20000 validation: matthews_corrcoef=0.370261\n",
      "Step 21000 validation: matthews_corrcoef=0.405426\n",
      "Step 22000 validation: matthews_corrcoef=0.413806\n",
      "Step 23000 validation: matthews_corrcoef=0.401893\n",
      "Step 24000 validation: matthews_corrcoef=0.409632\n",
      "Step 25000 validation: matthews_corrcoef=0.384608\n",
      "Step 26000 validation: matthews_corrcoef=0.405292\n",
      "Step 27000 validation: matthews_corrcoef=0.400854\n",
      "Step 28000 validation: matthews_corrcoef=0.395393\n",
      "Step 29000 validation: matthews_corrcoef=0.388789\n",
      "Step 30000 validation: matthews_corrcoef=0.410994\n",
      "Step 31000 validation: matthews_corrcoef=0.42904\n",
      "Step 32000 validation: matthews_corrcoef=0.400062\n",
      "Step 33000 validation: matthews_corrcoef=0.439924\n",
      "Step 34000 validation: matthews_corrcoef=0.42801\n",
      "Step 35000 validation: matthews_corrcoef=0.456973\n",
      "Step 36000 validation: matthews_corrcoef=0.433056\n",
      "Step 37000 validation: matthews_corrcoef=0.45407\n",
      "Step 38000 validation: matthews_corrcoef=0.446294\n",
      "Step 39000 validation: matthews_corrcoef=0.446329\n",
      "Step 40000 validation: matthews_corrcoef=0.463495\n",
      "Step 41000 validation: matthews_corrcoef=0.442702\n",
      "Step 42000 validation: matthews_corrcoef=0.441367\n",
      "Step 43000 validation: matthews_corrcoef=0.430938\n",
      "Step 44000 validation: matthews_corrcoef=0.421212\n",
      "Step 45000 validation: matthews_corrcoef=0.428086\n",
      "Step 46000 validation: matthews_corrcoef=0.428005\n",
      "Step 47000 validation: matthews_corrcoef=0.453206\n",
      "Step 48000 validation: matthews_corrcoef=0.462946\n",
      "Step 49000 validation: matthews_corrcoef=0.435526\n",
      "Step 50000 validation: matthews_corrcoef=0.421114\n",
      "Step 51000 validation: matthews_corrcoef=0.424341\n",
      "Step 52000 validation: matthews_corrcoef=0.415974\n",
      "Step 53000 validation: matthews_corrcoef=0.443237\n",
      "Step 54000 validation: matthews_corrcoef=0.455418\n",
      "Step 55000 validation: matthews_corrcoef=0.448366\n",
      "Step 56000 validation: matthews_corrcoef=0.433933\n",
      "Step 57000 validation: matthews_corrcoef=0.422903\n",
      "Step 58000 validation: matthews_corrcoef=0.455602\n",
      "Step 59000 validation: matthews_corrcoef=0.429944\n",
      "Step 60000 validation: matthews_corrcoef=0.417596\n",
      "Step 61000 validation: matthews_corrcoef=0.402253\n",
      " 93%|▉| 14/15 [6:07:31<27:33, 1653.06s/trial, best loss: -0.484365467356733Step 1000 validation: matthews_corrcoef=0.271749\n",
      "Step 2000 validation: matthews_corrcoef=0.276729\n",
      "Step 3000 validation: matthews_corrcoef=0.20857\n",
      "Step 4000 validation: matthews_corrcoef=0.248181\n",
      "Step 5000 validation: matthews_corrcoef=0.259361\n",
      "Step 6000 validation: matthews_corrcoef=0.275511\n",
      "Step 7000 validation: matthews_corrcoef=0.320474\n",
      "Step 8000 validation: matthews_corrcoef=0.381373\n",
      "Step 9000 validation: matthews_corrcoef=0.423568\n",
      "Step 10000 validation: matthews_corrcoef=0.423951\n",
      "Step 11000 validation: matthews_corrcoef=0.449156\n",
      "Step 12000 validation: matthews_corrcoef=0.450825\n",
      "Step 13000 validation: matthews_corrcoef=0.446435\n",
      "Step 14000 validation: matthews_corrcoef=0.435506\n",
      "Step 15000 validation: matthews_corrcoef=0.445049\n",
      "Step 16000 validation: matthews_corrcoef=0.445974\n",
      "Step 17000 validation: matthews_corrcoef=0.455326\n",
      "Step 18000 validation: matthews_corrcoef=0.455863\n",
      "Step 19000 validation: matthews_corrcoef=0.441431\n",
      "Step 20000 validation: matthews_corrcoef=0.436433\n",
      "Step 21000 validation: matthews_corrcoef=0.446303\n",
      "Step 22000 validation: matthews_corrcoef=0.4342\n",
      "Step 23000 validation: matthews_corrcoef=0.437095\n",
      "Step 24000 validation: matthews_corrcoef=0.450893\n",
      "Step 25000 validation: matthews_corrcoef=0.445361\n",
      "Step 26000 validation: matthews_corrcoef=0.449176\n",
      "Step 27000 validation: matthews_corrcoef=0.459512\n",
      "Step 28000 validation: matthews_corrcoef=0.441013\n",
      "Step 29000 validation: matthews_corrcoef=0.432461\n",
      "Step 30000 validation: matthews_corrcoef=0.455625\n",
      "Step 31000 validation: matthews_corrcoef=0.446621\n",
      "Step 32000 validation: matthews_corrcoef=0.455442\n",
      "Step 33000 validation: matthews_corrcoef=0.440512\n",
      "Step 34000 validation: matthews_corrcoef=0.443332\n",
      "Step 35000 validation: matthews_corrcoef=0.452509\n",
      "Step 36000 validation: matthews_corrcoef=0.425307\n",
      "Step 37000 validation: matthews_corrcoef=0.444404\n",
      "Step 38000 validation: matthews_corrcoef=0.445526\n",
      "Step 39000 validation: matthews_corrcoef=0.44494\n",
      "Step 40000 validation: matthews_corrcoef=0.446594\n",
      "Step 41000 validation: matthews_corrcoef=0.427577\n",
      "Step 42000 validation: matthews_corrcoef=0.435625\n",
      "Step 43000 validation: matthews_corrcoef=0.443587\n",
      "Step 44000 validation: matthews_corrcoef=0.451431\n",
      "Step 45000 validation: matthews_corrcoef=0.437318\n",
      "Step 46000 validation: matthews_corrcoef=0.448525\n",
      "Step 47000 validation: matthews_corrcoef=0.450588\n",
      "Step 48000 validation: matthews_corrcoef=0.433915\n",
      "Step 49000 validation: matthews_corrcoef=0.424884\n",
      "Step 50000 validation: matthews_corrcoef=0.452354\n",
      "Step 51000 validation: matthews_corrcoef=0.427364\n",
      "Step 52000 validation: matthews_corrcoef=0.426605\n",
      "Step 53000 validation: matthews_corrcoef=0.451989\n",
      "Step 54000 validation: matthews_corrcoef=0.440507\n",
      "Step 55000 validation: matthews_corrcoef=0.429353\n",
      "Step 56000 validation: matthews_corrcoef=0.44313\n",
      "Step 57000 validation: matthews_corrcoef=0.440306\n",
      "Step 58000 validation: matthews_corrcoef=0.431255\n",
      "Step 59000 validation: matthews_corrcoef=0.446848\n",
      "Step 60000 validation: matthews_corrcoef=0.452482\n",
      "Step 61000 validation: matthews_corrcoef=0.437913\n",
      "100%|█| 15/15 [6:25:59<00:00, 1543.99s/trial, best loss: -0.484365467356733\n"
     ]
    }
   ],
   "source": [
    "trials=Trials()\n",
    "best = fmin(fm,\n",
    "            space= search_space,\n",
    "            algo=tpe.suggest,\n",
    "            max_evals=15,\n",
    "            trials = trials)"
   ]
  },
  {
   "cell_type": "code",
   "execution_count": 28,
   "id": "4534b0f4-03a6-4423-9040-1cfd81f2bd1f",
   "metadata": {},
   "outputs": [
    {
     "name": "stdout",
     "output_type": "stream",
     "text": [
      "Best: {'dropout': 0.40467148362940397, 'layer_sizes': 2, 'learning_rate': 0.0002061284950914087}\n"
     ]
    }
   ],
   "source": [
    "print(\"Best: {}\".format(best))"
   ]
  },
  {
   "cell_type": "markdown",
   "id": "9ec367ee-9426-4040-8ea4-bb2dfa5f834d",
   "metadata": {},
   "source": [
    "## Token shit"
   ]
  },
  {
   "cell_type": "code",
   "execution_count": 96,
   "id": "fbfd551b-d89b-49de-90fd-a55f19855224",
   "metadata": {
    "executionInfo": {
     "elapsed": 7,
     "status": "ok",
     "timestamp": 1652284818963,
     "user": {
      "displayName": "K Ajayi",
      "userId": "14355577383255450167"
     },
     "user_tz": 240
    },
    "id": "-48hhKClKk28"
   },
   "outputs": [],
   "source": [
    "# create dataset\n",
    "X = df[['SMILES_tokens']].to_numpy()\n",
    "y = df['herg_inhibitor'].to_numpy()"
   ]
  },
  {
   "cell_type": "code",
   "execution_count": 77,
   "id": "00ebc3c0-f225-4fa1-acf3-90f48b781250",
   "metadata": {},
   "outputs": [],
   "source": [
    "def pad_to_dense(M):\n",
    "    \"\"\"Appends the minimal required amount of zeroes at the end of each \n",
    "     array in the jagged array `M`, such that `M` loses its jagedness.\"\"\"\n",
    "\n",
    "    maxlen = max(len(r) for r in M)\n",
    "\n",
    "    Z = np.zeros((len(M), maxlen))\n",
    "    for enu, row in enumerate(M):\n",
    "        Z[enu, :len(row)] += row \n",
    "    return Z"
   ]
  },
  {
   "cell_type": "code",
   "execution_count": 92,
   "id": "2b8795cc-b98f-47c4-a551-d8e5fbf557a5",
   "metadata": {},
   "outputs": [
    {
     "ename": "AttributeError",
     "evalue": "'numpy.ndarray' object has no attribute 'todense'",
     "output_type": "error",
     "traceback": [
      "\u001b[0;31m---------------------------------------------------------------------------\u001b[0m",
      "\u001b[0;31mAttributeError\u001b[0m                            Traceback (most recent call last)",
      "Input \u001b[0;32mIn [92]\u001b[0m, in \u001b[0;36m<cell line: 1>\u001b[0;34m()\u001b[0m\n\u001b[0;32m----> 1\u001b[0m \u001b[43mX_train\u001b[49m\u001b[38;5;241;43m.\u001b[39;49m\u001b[43mtodense\u001b[49m()\n",
      "\u001b[0;31mAttributeError\u001b[0m: 'numpy.ndarray' object has no attribute 'todense'"
     ]
    }
   ],
   "source": [
    "X_train.todense()"
   ]
  },
  {
   "cell_type": "code",
   "execution_count": 97,
   "id": "d9e47d83-e66b-48e2-a2e5-97e39e096faf",
   "metadata": {
    "executionInfo": {
     "elapsed": 12,
     "status": "ok",
     "timestamp": 1652284824919,
     "user": {
      "displayName": "K Ajayi",
      "userId": "14355577383255450167"
     },
     "user_tz": 240
    },
    "id": "mN8rSr9mR9BA"
   },
   "outputs": [],
   "source": [
    "# create training and testing sets\n",
    "X_train, X_test, y_train, y_test = train_test_split(X,\n",
    "                                                    y,\n",
    "                                                    stratify=y,\n",
    "                                                    random_state=8675309)"
   ]
  },
  {
   "cell_type": "code",
   "execution_count": 98,
   "id": "a2d13d69-16da-4de0-b580-62f809f93de4",
   "metadata": {
    "colab": {
     "base_uri": "https://localhost:8080/"
    },
    "executionInfo": {
     "elapsed": 12,
     "status": "ok",
     "timestamp": 1652284824919,
     "user": {
      "displayName": "K Ajayi",
      "userId": "14355577383255450167"
     },
     "user_tz": 240
    },
    "id": "Cqg0w78PEfpm",
    "outputId": "95cbc526-b930-4708-fa20-3f77ff05f8c1"
   },
   "outputs": [
    {
     "data": {
      "text/plain": [
       "((230148, 1), (76717, 1))"
      ]
     },
     "execution_count": 98,
     "metadata": {},
     "output_type": "execute_result"
    }
   ],
   "source": [
    "X_train.shape, X_test.shape"
   ]
  },
  {
   "cell_type": "code",
   "execution_count": 103,
   "id": "e754882b-be3d-41ff-bbc2-f440dd210acf",
   "metadata": {},
   "outputs": [
    {
     "data": {
      "text/plain": [
       "(1,)"
      ]
     },
     "execution_count": 103,
     "metadata": {},
     "output_type": "execute_result"
    }
   ],
   "source": [
    "X_train[0].reshape(X_train.shape[])"
   ]
  },
  {
   "cell_type": "code",
   "execution_count": 104,
   "id": "4f8d0459-0f30-46ea-a3f5-1f354cab376a",
   "metadata": {
    "colab": {
     "base_uri": "https://localhost:8080/"
    },
    "executionInfo": {
     "elapsed": 6,
     "status": "ok",
     "timestamp": 1652284825111,
     "user": {
      "displayName": "K Ajayi",
      "userId": "14355577383255450167"
     },
     "user_tz": 240
    },
    "id": "OuoreeiGNgsH",
    "outputId": "1879fdab-bf52-47c7-f06b-abd2aec15a09"
   },
   "outputs": [
    {
     "data": {
      "text/plain": [
       "array([list([12, 19, 22, 16, 17, 15, 20, 15, 15, 15, 21, 15, 15, 15, 15, 15, 21, 15, 20, 18, 16, 20, 16, 16, 16, 23, 17, 16, 17, 22, 19, 18, 15, 21, 15, 25, 15, 15, 25, 21, 18, 16, 20, 13])],\n",
       "      dtype=object)"
      ]
     },
     "execution_count": 104,
     "metadata": {},
     "output_type": "execute_result"
    }
   ],
   "source": [
    "X_train[0]"
   ]
  },
  {
   "cell_type": "code",
   "execution_count": 61,
   "id": "b6f9c868-f956-4e6d-8caa-896642ccccc4",
   "metadata": {
    "executionInfo": {
     "elapsed": 342,
     "status": "ok",
     "timestamp": 1652284913507,
     "user": {
      "displayName": "K Ajayi",
      "userId": "14355577383255450167"
     },
     "user_tz": 240
    },
    "id": "IJYd4STSJc8c"
   },
   "outputs": [],
   "source": [
    "# Create FNN model\n",
    "\n",
    "model = Sequential()\n",
    "\n",
    "# First Dense layer\n",
    "model.add(Dense(1024,\n",
    "                input_shape = X_train[0].shape,\n",
    "                activation = 'relu'))\n",
    "\n",
    "# Second hidden layer\n",
    "model.add(Dense(256, activation = 'relu'))\n",
    "\n",
    "# Third hidden layer\n",
    "model.add(Dense(64, activation = 'relu'))\n",
    "\n",
    "# Output layer\n",
    "model.add(Dense(1, activation = 'sigmoid'))"
   ]
  },
  {
   "cell_type": "code",
   "execution_count": 62,
   "id": "f65a48bf-1169-4819-820d-152167788a79",
   "metadata": {
    "colab": {
     "base_uri": "https://localhost:8080/"
    },
    "executionInfo": {
     "elapsed": 200,
     "status": "ok",
     "timestamp": 1652284916738,
     "user": {
      "displayName": "K Ajayi",
      "userId": "14355577383255450167"
     },
     "user_tz": 240
    },
    "id": "NFg4yvPZ3srU",
    "outputId": "01ec5859-dca0-4a3f-bc86-ade0dee49ecd"
   },
   "outputs": [
    {
     "name": "stdout",
     "output_type": "stream",
     "text": [
      "Model: \"sequential_2\"\n",
      "_________________________________________________________________\n",
      " Layer (type)                Output Shape              Param #   \n",
      "=================================================================\n",
      " dense (Dense)               (None, 1024)              2048      \n",
      "                                                                 \n",
      " dense_1 (Dense)             (None, 256)               262400    \n",
      "                                                                 \n",
      " dense_2 (Dense)             (None, 64)                16448     \n",
      "                                                                 \n",
      " dense_3 (Dense)             (None, 1)                 65        \n",
      "                                                                 \n",
      "=================================================================\n",
      "Total params: 280,961\n",
      "Trainable params: 280,961\n",
      "Non-trainable params: 0\n",
      "_________________________________________________________________\n"
     ]
    }
   ],
   "source": [
    "model.summary()"
   ]
  },
  {
   "cell_type": "code",
   "execution_count": 63,
   "id": "998ce8bb-713a-42a3-8ff0-09f0e9c8d359",
   "metadata": {
    "colab": {
     "base_uri": "https://localhost:8080/"
    },
    "executionInfo": {
     "elapsed": 249,
     "status": "ok",
     "timestamp": 1652286156748,
     "user": {
      "displayName": "K Ajayi",
      "userId": "14355577383255450167"
     },
     "user_tz": 240
    },
    "id": "5WZFBp106lNt",
    "outputId": "370c9825-5eed-4b69-c9c0-f75bcf5a7d76"
   },
   "outputs": [
    {
     "data": {
      "text/plain": [
       "<tensorflow_addons.metrics.matthews_correlation_coefficient.MatthewsCorrelationCoefficient at 0x7fb7a1824250>"
      ]
     },
     "execution_count": 63,
     "metadata": {},
     "output_type": "execute_result"
    }
   ],
   "source": [
    "tfa.metrics.MatthewsCorrelationCoefficient(num_classes=2)"
   ]
  },
  {
   "cell_type": "code",
   "execution_count": 64,
   "id": "f4240a11-f311-48b6-9ad8-75f011212331",
   "metadata": {
    "executionInfo": {
     "elapsed": 164,
     "status": "ok",
     "timestamp": 1652286179958,
     "user": {
      "displayName": "K Ajayi",
      "userId": "14355577383255450167"
     },
     "user_tz": 240
    },
    "id": "usy9eN--K1pp"
   },
   "outputs": [],
   "source": [
    "## compile model\n",
    "model.compile(optimizer='adam',\n",
    "              loss='binary_crossentropy',\n",
    "              metrics=['accuracy', tf.keras.metrics.Recall(), tfa.metrics.MatthewsCorrelationCoefficient(num_classes=2)])"
   ]
  },
  {
   "cell_type": "code",
   "execution_count": 67,
   "id": "3c30da60-cf49-4bc7-bc11-f40814576917",
   "metadata": {
    "colab": {
     "base_uri": "https://localhost:8080/"
    },
    "executionInfo": {
     "elapsed": 1043495,
     "status": "ok",
     "timestamp": 1652287225131,
     "user": {
      "displayName": "K Ajayi",
      "userId": "14355577383255450167"
     },
     "user_tz": 240
    },
    "id": "wuBzHQV_K1iC",
    "outputId": "316b63ee-786b-4ff5-f90a-7abb3e4572f8"
   },
   "outputs": [
    {
     "ename": "ValueError",
     "evalue": "Failed to convert a NumPy array to a Tensor (Unsupported object type numpy.ndarray).",
     "output_type": "error",
     "traceback": [
      "\u001b[0;31m---------------------------------------------------------------------------\u001b[0m",
      "\u001b[0;31mValueError\u001b[0m                                Traceback (most recent call last)",
      "Input \u001b[0;32mIn [67]\u001b[0m, in \u001b[0;36m<cell line: 2>\u001b[0;34m()\u001b[0m\n\u001b[1;32m      1\u001b[0m \u001b[38;5;66;03m## Fit model\u001b[39;00m\n\u001b[0;32m----> 2\u001b[0m hist \u001b[38;5;241m=\u001b[39m \u001b[43mmodel\u001b[49m\u001b[38;5;241;43m.\u001b[39;49m\u001b[43mfit\u001b[49m\u001b[43m(\u001b[49m\u001b[43mX_train\u001b[49m\u001b[43m,\u001b[49m\u001b[43m \u001b[49m\u001b[43my_train\u001b[49m\u001b[43m,\u001b[49m\n\u001b[1;32m      3\u001b[0m \u001b[43m                  \u001b[49m\u001b[43mbatch_size\u001b[49m\u001b[38;5;241;43m=\u001b[39;49m\u001b[38;5;241;43m32\u001b[39;49m\u001b[43m,\u001b[49m\n\u001b[1;32m      4\u001b[0m \u001b[43m                  \u001b[49m\u001b[43mepochs\u001b[49m\u001b[38;5;241;43m=\u001b[39;49m\u001b[38;5;241;43m50\u001b[39;49m\u001b[43m,\u001b[49m\n\u001b[1;32m      5\u001b[0m \u001b[43m                  \u001b[49m\u001b[43mvalidation_data\u001b[49m\u001b[38;5;241;43m=\u001b[39;49m\u001b[43m(\u001b[49m\u001b[43mX_test\u001b[49m\u001b[43m,\u001b[49m\u001b[43m \u001b[49m\u001b[43my_test\u001b[49m\u001b[43m)\u001b[49m\u001b[43m)\u001b[49m\n",
      "File \u001b[0;32m~/miniconda3/envs/capstone_cf/lib/python3.9/site-packages/keras/utils/traceback_utils.py:67\u001b[0m, in \u001b[0;36mfilter_traceback.<locals>.error_handler\u001b[0;34m(*args, **kwargs)\u001b[0m\n\u001b[1;32m     65\u001b[0m \u001b[38;5;28;01mexcept\u001b[39;00m \u001b[38;5;167;01mException\u001b[39;00m \u001b[38;5;28;01mas\u001b[39;00m e:  \u001b[38;5;66;03m# pylint: disable=broad-except\u001b[39;00m\n\u001b[1;32m     66\u001b[0m   filtered_tb \u001b[38;5;241m=\u001b[39m _process_traceback_frames(e\u001b[38;5;241m.\u001b[39m__traceback__)\n\u001b[0;32m---> 67\u001b[0m   \u001b[38;5;28;01mraise\u001b[39;00m e\u001b[38;5;241m.\u001b[39mwith_traceback(filtered_tb) \u001b[38;5;28;01mfrom\u001b[39;00m \u001b[38;5;28mNone\u001b[39m\n\u001b[1;32m     68\u001b[0m \u001b[38;5;28;01mfinally\u001b[39;00m:\n\u001b[1;32m     69\u001b[0m   \u001b[38;5;28;01mdel\u001b[39;00m filtered_tb\n",
      "File \u001b[0;32m~/miniconda3/envs/capstone_cf/lib/python3.9/site-packages/tensorflow/python/framework/constant_op.py:106\u001b[0m, in \u001b[0;36mconvert_to_eager_tensor\u001b[0;34m(value, ctx, dtype)\u001b[0m\n\u001b[1;32m    104\u001b[0m     dtype \u001b[38;5;241m=\u001b[39m dtypes\u001b[38;5;241m.\u001b[39mas_dtype(dtype)\u001b[38;5;241m.\u001b[39mas_datatype_enum\n\u001b[1;32m    105\u001b[0m ctx\u001b[38;5;241m.\u001b[39mensure_initialized()\n\u001b[0;32m--> 106\u001b[0m \u001b[38;5;28;01mreturn\u001b[39;00m \u001b[43mops\u001b[49m\u001b[38;5;241;43m.\u001b[39;49m\u001b[43mEagerTensor\u001b[49m\u001b[43m(\u001b[49m\u001b[43mvalue\u001b[49m\u001b[43m,\u001b[49m\u001b[43m \u001b[49m\u001b[43mctx\u001b[49m\u001b[38;5;241;43m.\u001b[39;49m\u001b[43mdevice_name\u001b[49m\u001b[43m,\u001b[49m\u001b[43m \u001b[49m\u001b[43mdtype\u001b[49m\u001b[43m)\u001b[49m\n",
      "\u001b[0;31mValueError\u001b[0m: Failed to convert a NumPy array to a Tensor (Unsupported object type numpy.ndarray)."
     ]
    }
   ],
   "source": [
    "## Fit model\n",
    "hist = model.fit(X_train, y_train,\n",
    "                  batch_size=32,\n",
    "                  epochs=50,\n",
    "                  validation_data=(X_test, y_test))"
   ]
  },
  {
   "cell_type": "code",
   "execution_count": 38,
   "id": "7ca525de-9e37-4aac-8799-7ebb33939b56",
   "metadata": {
    "colab": {
     "base_uri": "https://localhost:8080/"
    },
    "executionInfo": {
     "elapsed": 201,
     "status": "ok",
     "timestamp": 1652287242352,
     "user": {
      "displayName": "K Ajayi",
      "userId": "14355577383255450167"
     },
     "user_tz": 240
    },
    "id": "_Hy1uh_ILkc0",
    "outputId": "fdd967d1-56bf-4898-f346-182a1a6ee025"
   },
   "outputs": [
    {
     "data": {
      "text/plain": [
       "dict_keys(['loss', 'accuracy', 'recall', 'MatthewsCorrelationCoefficient', 'val_loss', 'val_accuracy', 'val_recall', 'val_MatthewsCorrelationCoefficient'])"
      ]
     },
     "execution_count": 38,
     "metadata": {},
     "output_type": "execute_result"
    }
   ],
   "source": [
    "hist.history.keys()"
   ]
  },
  {
   "cell_type": "code",
   "execution_count": null,
   "id": "d3529c74-aa1d-4deb-81fc-24fc2e0873c0",
   "metadata": {},
   "outputs": [],
   "source": []
  },
  {
   "cell_type": "code",
   "execution_count": 39,
   "id": "a9f82b1a-ff37-4b66-8197-e1a65ac21747",
   "metadata": {
    "colab": {
     "base_uri": "https://localhost:8080/",
     "height": 295
    },
    "executionInfo": {
     "elapsed": 425,
     "status": "ok",
     "timestamp": 1652287245696,
     "user": {
      "displayName": "K Ajayi",
      "userId": "14355577383255450167"
     },
     "user_tz": 240
    },
    "id": "Oh9wKZBvLkUO",
    "outputId": "2f66a700-3a26-4322-dc36-de51d2db855d"
   },
   "outputs": [
    {
     "data": {
      "image/png": "[encoded data removed]",
      "text/plain": [
       "<Figure size 432x288 with 1 Axes>"
      ]
     },
     "metadata": {
      "needs_background": "light"
     },
     "output_type": "display_data"
    }
   ],
   "source": [
    "plt.plot(hist.history['loss'], label = 'Training Loss')\n",
    "plt.plot(hist.history['val_loss'], label = 'Validation Loss')\n",
    "plt.legend()\n",
    "plt.title('Loss on Binary Classification Task')\n",
    "plt.ylabel('Loss')\n",
    "plt.xlabel('Epochs');"
   ]
  },
  {
   "cell_type": "code",
   "execution_count": 40,
   "id": "03068fb9-60d7-4c15-8a00-37de757a1c80",
   "metadata": {
    "colab": {
     "base_uri": "https://localhost:8080/",
     "height": 295
    },
    "executionInfo": {
     "elapsed": 423,
     "status": "ok",
     "timestamp": 1652287255692,
     "user": {
      "displayName": "K Ajayi",
      "userId": "14355577383255450167"
     },
     "user_tz": 240
    },
    "id": "gqvXUz8KLkLq",
    "outputId": "86ea198e-4398-4ae2-830c-6ad70ba454ce"
   },
   "outputs": [
    {
     "data": {
      "image/png": "[encoded data removed]",
      "text/plain": [
       "<Figure size 432x288 with 1 Axes>"
      ]
     },
     "metadata": {
      "needs_background": "light"
     },
     "output_type": "display_data"
    }
   ],
   "source": [
    "plt.plot(hist.history['accuracy'], label = 'Training accuracy')\n",
    "plt.plot(hist.history['val_accuracy'], label = 'Validation accuracy')\n",
    "plt.legend()\n",
    "plt.title('Accuracy on Binary Classification Task')\n",
    "plt.ylabel('Accuracy')\n",
    "plt.xlabel('Epochs');"
   ]
  },
  {
   "cell_type": "code",
   "execution_count": 42,
   "id": "adc976f2-c6e1-4fb9-b276-e86942b080fe",
   "metadata": {
    "colab": {
     "base_uri": "https://localhost:8080/",
     "height": 295
    },
    "executionInfo": {
     "elapsed": 547,
     "status": "ok",
     "timestamp": 1652287272905,
     "user": {
      "displayName": "K Ajayi",
      "userId": "14355577383255450167"
     },
     "user_tz": 240
    },
    "id": "ScVOCax0LkCI",
    "outputId": "94d25961-cea1-4c14-9350-e565abb9aa72"
   },
   "outputs": [
    {
     "data": {
      "image/png": "[encoded data removed]",
      "text/plain": [
       "<Figure size 432x288 with 1 Axes>"
      ]
     },
     "metadata": {
      "needs_background": "light"
     },
     "output_type": "display_data"
    }
   ],
   "source": [
    "plt.plot(hist.history['recall'], label = 'Training recall')\n",
    "plt.plot(hist.history['val_recall'], label = 'Validation recall')\n",
    "plt.legend()\n",
    "plt.title('Recall on Binary Classification Task')\n",
    "plt.ylabel('Recall')\n",
    "plt.xlabel('Epochs');"
   ]
  },
  {
   "cell_type": "code",
   "execution_count": 43,
   "id": "93774b2d-5f1e-4772-95ff-dff8e7962908",
   "metadata": {
    "colab": {
     "base_uri": "https://localhost:8080/",
     "height": 295
    },
    "executionInfo": {
     "elapsed": 596,
     "status": "ok",
     "timestamp": 1652287388420,
     "user": {
      "displayName": "K Ajayi",
      "userId": "14355577383255450167"
     },
     "user_tz": 240
    },
    "id": "OUqY7ekZ_6oe",
    "outputId": "c6bd543f-7073-4d37-e097-28abdab9183d"
   },
   "outputs": [
    {
     "data": {
      "image/png": "[encoded data removed]",
      "text/plain": [
       "<Figure size 432x288 with 1 Axes>"
      ]
     },
     "metadata": {
      "needs_background": "light"
     },
     "output_type": "display_data"
    }
   ],
   "source": [
    "plt.plot(hist.history['MatthewsCorrelationCoefficient'], label = 'Training MCC')\n",
    "plt.plot(hist.history['val_MatthewsCorrelationCoefficient'], label = 'Validation MCC')\n",
    "plt.legend()\n",
    "plt.title('MCC on Binary Classification Task')\n",
    "plt.ylabel('MCC')\n",
    "plt.xlabel('Epochs');"
   ]
  },
  {
   "cell_type": "code",
   "execution_count": 44,
   "id": "931a87b5-0b0f-4a3f-a253-02567d97f206",
   "metadata": {
    "colab": {
     "base_uri": "https://localhost:8080/"
    },
    "executionInfo": {
     "elapsed": 4646,
     "status": "ok",
     "timestamp": 1652287483028,
     "user": {
      "displayName": "K Ajayi",
      "userId": "14355577383255450167"
     },
     "user_tz": 240
    },
    "id": "W2xuG70oLj3V",
    "outputId": "f575e2f2-f8ca-45bf-971d-7790f63fe077"
   },
   "outputs": [
    {
     "name": "stdout",
     "output_type": "stream",
     "text": [
      "2398/2398 [==============================] - 6s 3ms/step - loss: 0.1695 - accuracy: 0.9564 - recall: 0.1115 - MatthewsCorrelationCoefficient: 0.0000e+00\n"
     ]
    },
    {
     "data": {
      "text/plain": [
       "[0.1694907546043396, 0.9563721418380737, 0.11146682500839233, 0.0]"
      ]
     },
     "execution_count": 44,
     "metadata": {},
     "output_type": "execute_result"
    }
   ],
   "source": [
    "model.evaluate(X_test_sc, y_test)"
   ]
  },
  {
   "cell_type": "markdown",
   "id": "e58e684e-a01b-48bb-aee9-3327dde2cf11",
   "metadata": {
    "id": "DMBVM2-LTslL"
   },
   "source": [
    "The model is not better than baseline!  Structural information is needed."
   ]
  },
  {
   "cell_type": "code",
   "execution_count": 45,
   "id": "ab78e128-708d-4dee-9f81-45325614b513",
   "metadata": {},
   "outputs": [],
   "source": [
    "# save model\n",
    "model.save(f'{get_home_path()}/models/no_structure/NS.h5')"
   ]
  },
  {
   "cell_type": "code",
   "execution_count": 64,
   "id": "d2a08b63-88c6-42c0-a744-60b003da9400",
   "metadata": {
    "executionInfo": {
     "elapsed": 192,
     "status": "ok",
     "timestamp": 1652287486613,
     "user": {
      "displayName": "K Ajayi",
      "userId": "14355577383255450167"
     },
     "user_tz": 240
    },
    "id": "rSuhp4DUcs67"
   },
   "outputs": [],
   "source": [
    "logdir=get_home_path() + \"/models/logs/fit/\" + datetime.datetime.now().strftime(\"%Y%m%d-%H%M%S\")"
   ]
  },
  {
   "cell_type": "code",
   "execution_count": 71,
   "id": "c17865d9-077b-4e47-bd87-d8248e61b7b4",
   "metadata": {
    "colab": {
     "base_uri": "https://localhost:8080/",
     "height": 35
    },
    "executionInfo": {
     "elapsed": 186,
     "status": "ok",
     "timestamp": 1652287748989,
     "user": {
      "displayName": "K Ajayi",
      "userId": "14355577383255450167"
     },
     "user_tz": 240
    },
    "id": "1XGWru3mLjqJ",
    "outputId": "c4d4e292-93eb-48fd-8605-805b1d31976b"
   },
   "outputs": [
    {
     "data": {
      "application/vnd.google.colaboratory.intrinsic+json": {
       "type": "string"
      },
      "text/plain": [
       "'/content/drive/MyDrive/GA/Capstone/ka_capstone/models/logs/fit/20220511-164446'"
      ]
     },
     "execution_count": 71,
     "metadata": {},
     "output_type": "execute_result"
    }
   ],
   "source": [
    "logdir"
   ]
  },
  {
   "cell_type": "code",
   "execution_count": 72,
   "id": "d65a0f1e-a6bf-41b2-b9cf-ccf2ed761e25",
   "metadata": {
    "colab": {
     "base_uri": "https://localhost:8080/"
    },
    "executionInfo": {
     "elapsed": 178,
     "status": "ok",
     "timestamp": 1652287751460,
     "user": {
      "displayName": "K Ajayi",
      "userId": "14355577383255450167"
     },
     "user_tz": 240
    },
    "id": "OSFnmfxwikFM",
    "outputId": "a7f1fc07-a722-4ec9-ea82-ed1eaf172063"
   },
   "outputs": [
    {
     "name": "stdout",
     "output_type": "stream",
     "text": [
      "The tensorboard extension is already loaded. To reload it, use:\n",
      "  %reload_ext tensorboard\n"
     ]
    }
   ],
   "source": [
    "%load_ext tensorboard"
   ]
  },
  {
   "cell_type": "code",
   "execution_count": 73,
   "id": "7967c889-b055-4846-99b0-feaa18acc87c",
   "metadata": {
    "executionInfo": {
     "elapsed": 6,
     "status": "ok",
     "timestamp": 1652287752343,
     "user": {
      "displayName": "K Ajayi",
      "userId": "14355577383255450167"
     },
     "user_tz": 240
    },
    "id": "-42gUU4cd10Q"
   },
   "outputs": [],
   "source": [
    "tb_callback = tf.keras.callbacks.TensorBoard(log_dir=logdir)  \n",
    "# save results of fitting to a file"
   ]
  },
  {
   "cell_type": "code",
   "execution_count": 74,
   "id": "2e42861f-3687-4bc6-a1ec-0a68ceb00669",
   "metadata": {
    "colab": {
     "base_uri": "https://localhost:8080/"
    },
    "executionInfo": {
     "elapsed": 83286,
     "status": "ok",
     "timestamp": 1652287839775,
     "user": {
      "displayName": "K Ajayi",
      "userId": "14355577383255450167"
     },
     "user_tz": 240
    },
    "id": "wSgFiAeKfaVP",
    "outputId": "172c44ab-1169-448e-df15-fb728e5250de"
   },
   "outputs": [
    {
     "name": "stdout",
     "output_type": "stream",
     "text": [
      "Epoch 1/5\n",
      "3597/3597 [==============================] - 12s 3ms/step - loss: 0.1277 - accuracy: 0.9600 - recall_3: 0.1663 - MatthewsCorrelationCoefficient: 0.0000e+00 - val_loss: 0.1834 - val_accuracy: 0.9555 - val_recall_3: 0.1167 - val_MatthewsCorrelationCoefficient: 0.0000e+00\n",
      "Epoch 2/5\n",
      "3597/3597 [==============================] - 13s 4ms/step - loss: 0.1275 - accuracy: 0.9600 - recall_3: 0.1665 - MatthewsCorrelationCoefficient: 0.0000e+00 - val_loss: 0.1902 - val_accuracy: 0.9558 - val_recall_3: 0.1115 - val_MatthewsCorrelationCoefficient: 0.0000e+00\n",
      "Epoch 3/5\n",
      "3597/3597 [==============================] - 13s 4ms/step - loss: 0.1272 - accuracy: 0.9600 - recall_3: 0.1698 - MatthewsCorrelationCoefficient: 0.0000e+00 - val_loss: 0.1893 - val_accuracy: 0.9547 - val_recall_3: 0.1187 - val_MatthewsCorrelationCoefficient: 0.0000e+00\n",
      "Epoch 4/5\n",
      "3597/3597 [==============================] - 13s 4ms/step - loss: 0.1271 - accuracy: 0.9602 - recall_3: 0.1705 - MatthewsCorrelationCoefficient: 0.0000e+00 - val_loss: 0.1889 - val_accuracy: 0.9551 - val_recall_3: 0.1179 - val_MatthewsCorrelationCoefficient: 0.0000e+00\n",
      "Epoch 5/5\n",
      "3597/3597 [==============================] - 13s 4ms/step - loss: 0.1268 - accuracy: 0.9601 - recall_3: 0.1695 - MatthewsCorrelationCoefficient: 0.0000e+00 - val_loss: 0.1921 - val_accuracy: 0.9557 - val_recall_3: 0.1056 - val_MatthewsCorrelationCoefficient: 0.0000e+00\n"
     ]
    }
   ],
   "source": [
    "\n",
    "history = model.fit(\n",
    "    X_train_sc, \n",
    "    y_train, \n",
    "    validation_data = (X_test_sc, y_test),\n",
    "    batch_size=64, \n",
    "    epochs=5, \n",
    "    callbacks=[tb_callback]\n",
    ")"
   ]
  }
 ],
 "metadata": {
  "colab": {
   "collapsed_sections": [],
   "name": "03_FNN_model_no_structure.ipynb",
   "provenance": [
    {
     "file_id": "1--NEqgYYz2z6mx3ENKyS7BSD9oCewBTc",
     "timestamp": 1651682113533
    },
    {
     "file_id": "1r8RGaNnYB9YvsKadkIcAz5h3xMMXHtbE",
     "timestamp": 1651597718194
    }
   ]
  },
  "kernelspec": {
   "display_name": "Python [conda env:capstone_cf]",
   "language": "python",
   "name": "conda-env-capstone_cf-py"
  },
  "language_info": {
   "codemirror_mode": {
    "name": "ipython",
    "version": 3
   },
   "file_extension": ".py",
   "mimetype": "text/x-python",
   "name": "python",
   "nbconvert_exporter": "python",
   "pygments_lexer": "ipython3",
   "version": "3.9.12"
  }
 },
 "nbformat": 4,
 "nbformat_minor": 5
}
