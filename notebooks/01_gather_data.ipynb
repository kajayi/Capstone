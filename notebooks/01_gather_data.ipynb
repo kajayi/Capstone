{
 "cells": [
  {
   "cell_type": "markdown",
   "id": "d62f2556-270d-4b92-9caf-89f14d3c3eeb",
   "metadata": {
    "id": "d62f2556-270d-4b92-9caf-89f14d3c3eeb"
   },
   "source": [
    "# CAPSTONE\n",
    "Kehinde Ajayi"
   ]
  },
  {
   "cell_type": "code",
   "execution_count": 1,
   "id": "UmcVegmaESOW",
   "metadata": {
    "id": "UmcVegmaESOW"
   },
   "outputs": [],
   "source": [
    "# import sys\n",
    "\n",
    "# # If you are running this notebook in Colaboratory, run this cell and follow the\n",
    "# # instructions to authenticate your GCP account. This provides access to your\n",
    "# # Google Cloud Storage bucket and lets us submit training jobs and prediction\n",
    "# # requests.\n",
    "\n",
    "# if 'google.colab' in sys.modules:\n",
    "#   from google.colab import auth as google_auth\n",
    "#   google_auth.authenticate_user()\n",
    "\n",
    "# # If you are running this notebook locally, replace the string below with the\n",
    "# # path to your service account key and run this cell to authenticate your GCP\n",
    "# # account.\n",
    "# else:\n",
    "#   % env GOOGLE_APPLICATION_CREDENTIALS '/path/to/your/service-account-key.json'"
   ]
  },
  {
   "cell_type": "code",
   "execution_count": 2,
   "id": "Du6tPloksUW5",
   "metadata": {
    "id": "Du6tPloksUW5"
   },
   "outputs": [],
   "source": [
    "## check if notebook is running on Colab--if so, run appropriate installs and mount Google Drive\n",
    "# https://stackoverflow.com/questions/53581278/test-if-notebook-is-running-on-google-colab\n",
    "\n",
    "if 'google.colab' in str(get_ipython()):\n",
    "  # install RDKit and DeepChem\n",
    "  !pip install rdkit-pypi chembl_webresource_client --pre deepchem \n",
    "  # mount Google Drive\n",
    "  from google.colab import drive\n",
    "  drive.mount('/content/drive')"
   ]
  },
  {
   "cell_type": "code",
   "execution_count": 3,
   "id": "c3a83b56-f2a3-436c-be62-7250fe60e5fb",
   "metadata": {
    "id": "c3a83b56-f2a3-436c-be62-7250fe60e5fb"
   },
   "outputs": [
    {
     "name": "stderr",
     "output_type": "stream",
     "text": [
      "\u001b[34m\u001b[1mwandb\u001b[0m: \u001b[33mWARNING\u001b[0m W&B installed but not logged in.  Run `wandb login` or set the WANDB_API_KEY env variable.\n",
      "\u001b[34m\u001b[1mwandb\u001b[0m: \u001b[33mWARNING\u001b[0m W&B installed but not logged in.  Run `wandb login` or set the WANDB_API_KEY env variable.\n"
     ]
    }
   ],
   "source": [
    "import numpy as np\n",
    "import pandas as pd\n",
    "import matplotlib.pyplot as plt\n",
    "import seaborn as sns\n",
    "\n",
    "import requests\n",
    "import time\n",
    "import os.path\n",
    "\n",
    "from tqdm.auto import tqdm\n",
    "\n",
    "from rdkit import rdBase, Chem\n",
    "from rdkit.Chem import AllChem, PandasTools, Descriptors, Draw, rdmolops, rdMolDescriptors, Lipinski, rdmolfiles, rdFMCS\n",
    "\n",
    "from IPython.core.display import HTML\n",
    "\n",
    "import deepchem as dc\n",
    "\n",
    "from chembl_webresource_client.new_client import new_client\n",
    "\n",
    "from sklearn.decomposition import PCA\n",
    "\n",
    "import mols2grid\n",
    "from clusterama import ButinaCluster, display_cluster_members"
   ]
  },
  {
   "cell_type": "code",
   "execution_count": null,
   "id": "A3bK5FYb-6Fx",
   "metadata": {
    "id": "A3bK5FYb-6Fx"
   },
   "outputs": [],
   "source": []
  },
  {
   "cell_type": "markdown",
   "id": "huUo_K78_B5C",
   "metadata": {
    "id": "huUo_K78_B5C"
   },
   "source": [
    "## Functions"
   ]
  },
  {
   "cell_type": "code",
   "execution_count": 4,
   "id": "899d093d-7680-4295-b1bb-451cecab6f0f",
   "metadata": {
    "id": "899d093d-7680-4295-b1bb-451cecab6f0f"
   },
   "outputs": [],
   "source": [
    "# function for calculating number of 'Rule of 5' violations\n",
    "def ro5_violations(df_row):\n",
    "    \n",
    "    violations = 0\n",
    "    if df_row.H_bond_donors > 5:\n",
    "        violations += 1\n",
    "    if df_row.H_bond_acceptors > 10:\n",
    "        violations += 1\n",
    "    if df_row.mw > 500:\n",
    "        violations += 1\n",
    "    if df_row.logP > 5:\n",
    "        violations += 1\n",
    "        \n",
    "    return violations"
   ]
  },
  {
   "cell_type": "code",
   "execution_count": 5,
   "id": "50bbeb1c-bb80-4f98-98a1-1101fd4ed894",
   "metadata": {
    "id": "50bbeb1c-bb80-4f98-98a1-1101fd4ed894"
   },
   "outputs": [],
   "source": [
    "# function for calculating various molecular features and adding to dataframe\n",
    "def calculate_properties(df):\n",
    "    \n",
    "    # # add image of molecule to dataframe\n",
    "    # PandasTools.AddMoleculeColumnToFrame(herg_df, 'SMILES', 'Mol')\n",
    "\n",
    "\n",
    "    df['mw'] = [Descriptors.MolWt(x) for x in tqdm(df.Mol, desc=\"Molecular Weight\")]\n",
    "    df['logP'] = [Descriptors.MolLogP(x) for x in tqdm(df.Mol, desc=\"LogP\")] # Wildman and Crippen JCICS 39:868-73 (1999)\n",
    "    df['PSA'] = [Descriptors.TPSA(x) for x in tqdm(df.Mol, desc=\"Polar Surface Area\")] # J. Med. Chem. 43:3714-7, (2000) See the section in the RDKit book describing differences to the original publication.\n",
    "    df['H_bond_donors'] = [Lipinski.NumHDonors(x) for x in tqdm(df.Mol, desc=\"Number of H-bond donors\")]\n",
    "    df['H_bond_acceptors'] = [Lipinski.NumHAcceptors(x) for x in tqdm(df.Mol, desc=\"Number of H-bond acceptors\")]\n",
    "    df['num_heteroatoms'] = [Lipinski.NumHeteroatoms(x) for x in tqdm(df.Mol, desc=\"Number of heteroatoms\")]\n",
    "    df['total_num_rings'] = [Lipinski.RingCount(x) for x in tqdm(df.Mol, desc=\"Total number of rings\")]\n",
    "    df['aromatic_rings'] = [Lipinski.NumAromaticRings(x) for x in tqdm(df.Mol, desc=\"Number of aromatic rings\")]\n",
    "    df['num_rotatable_bonds'] = [Lipinski.NumRotatableBonds(x) for x in tqdm(df.Mol, desc=\"Number of rotatable bonds\")]\n",
    "    df['num_stereocenters'] = [rdMolDescriptors.CalcNumAtomStereoCenters(x) for x in tqdm(df.Mol, desc=\"Number of stereocenters\")]\n",
    "    df['formal_charge'] = [rdmolops.GetFormalCharge(x) for x in tqdm(df.Mol, desc=\"Formal Charge\")]\n",
    "    df['SMILES_length'] = [len(x) for x in herg_df['SMILES']]\n",
    "    df['ro5_violations'] = df.apply(ro5_violations, axis=1)\n",
    "    df['adjacency_matrix'] = [rdmolops.GetAdjacencyMatrix(x) for x in tqdm(df.Mol, desc=\"Adjacency Matrix\")]\n",
    "    # df['distance_matrix'] = [rdmolops.GetDistanceMatrix(x) for x in df.Mol]\n",
    "\n",
    "    \n",
    "    # return df\n",
    "    "
   ]
  },
  {
   "cell_type": "code",
   "execution_count": 6,
   "id": "2e67e1cc-8937-49ed-8655-c8aa7b759fdf",
   "metadata": {
    "id": "2e67e1cc-8937-49ed-8655-c8aa7b759fdf"
   },
   "outputs": [],
   "source": [
    "# workaround for bug where molecular structure does not print with dataframe\n",
    "# https://github.com/rdkit/rdkit/issues/2673\n",
    "def show(df):\n",
    "    return HTML(df.to_html(notebook=True))\n"
   ]
  },
  {
   "cell_type": "code",
   "execution_count": 7,
   "id": "kU_3-IVNDiZ6",
   "metadata": {
    "id": "kU_3-IVNDiZ6"
   },
   "outputs": [],
   "source": [
    "# check if notebook is running on Colab and set path for data file \n",
    "\n",
    "def get_home_path():\n",
    "  if 'google.colab' in str(get_ipython()):\n",
    "    file_path = '/content/drive/MyDrive/GA/Capstone/ka_capstone'\n",
    "  else:\n",
    "    file_path = '..'\n",
    "  \n",
    "  return file_path\n"
   ]
  },
  {
   "cell_type": "code",
   "execution_count": 8,
   "id": "19943902-27d5-486a-978b-ad74a5245501",
   "metadata": {
    "id": "19943902-27d5-486a-978b-ad74a5245501"
   },
   "outputs": [],
   "source": [
    "# view all columns in dataframe\n",
    "pd.set_option('display.max.columns', None)"
   ]
  },
  {
   "cell_type": "markdown",
   "id": "MtJMW5i-_I81",
   "metadata": {
    "id": "MtJMW5i-_I81"
   },
   "source": [
    "## Download and read data"
   ]
  },
  {
   "cell_type": "markdown",
   "id": "zagzdmee1Q_l",
   "metadata": {
    "id": "zagzdmee1Q_l"
   },
   "source": [
    "### training and validation data"
   ]
  },
  {
   "cell_type": "code",
   "execution_count": 9,
   "id": "5dbc2feb-ddc4-4b57-ba74-16cff77fd35c",
   "metadata": {
    "id": "5dbc2feb-ddc4-4b57-ba74-16cff77fd35c"
   },
   "outputs": [],
   "source": [
    "# Get hERG data from URL\n",
    "url = 'https://dataverse.harvard.edu/api/access/datafile/'"
   ]
  },
  {
   "cell_type": "code",
   "execution_count": 10,
   "id": "NRi0wNawOOVR",
   "metadata": {
    "id": "NRi0wNawOOVR"
   },
   "outputs": [],
   "source": [
    "# Download hERG data to file if it doesn't exist\n",
    "if not os.path.exists(f'{get_home_path()}/data/raw/hERG_Central.tsv'):\n",
    "    res = requests.get(url+'5724875')\n",
    "    with open(f'{get_home_path()}/data/raw/hERG_Central.tsv','wb') as tsv:\n",
    "        tsv.write(res.content)\n"
   ]
  },
  {
   "cell_type": "code",
   "execution_count": 11,
   "id": "mxbkjrNpkzy8",
   "metadata": {
    "id": "mxbkjrNpkzy8"
   },
   "outputs": [],
   "source": [
    "# read hERG data into dataframe \n",
    "herg_df = pd.read_csv(f'{get_home_path()}/data/raw/hERG_Central.tsv', delimiter='\\t')\n"
   ]
  },
  {
   "cell_type": "code",
   "execution_count": 32,
   "id": "8oitueImGJ2Q",
   "metadata": {
    "colab": {
     "base_uri": "https://localhost:8080/",
     "height": 206
    },
    "executionInfo": {
     "elapsed": 281,
     "status": "ok",
     "timestamp": 1652126025398,
     "user": {
      "displayName": "K Ajayi",
      "userId": "14355577383255450167"
     },
     "user_tz": 240
    },
    "id": "8oitueImGJ2Q",
    "outputId": "73f92ec8-b070-4402-d95a-5ea146965317"
   },
   "outputs": [
    {
     "data": {
      "text/html": [
       "<div>\n",
       "<style scoped>\n",
       "    .dataframe tbody tr th:only-of-type {\n",
       "        vertical-align: middle;\n",
       "    }\n",
       "\n",
       "    .dataframe tbody tr th {\n",
       "        vertical-align: top;\n",
       "    }\n",
       "\n",
       "    .dataframe thead th {\n",
       "        text-align: right;\n",
       "    }\n",
       "</style>\n",
       "<table border=\"1\" class=\"dataframe\">\n",
       "  <thead>\n",
       "    <tr style=\"text-align: right;\">\n",
       "      <th></th>\n",
       "      <th>ID</th>\n",
       "      <th>X</th>\n",
       "      <th>hERG_at_1uM</th>\n",
       "      <th>hERG_at_10uM</th>\n",
       "      <th>hERG_inhib</th>\n",
       "    </tr>\n",
       "  </thead>\n",
       "  <tbody>\n",
       "    <tr>\n",
       "      <th>99077</th>\n",
       "      <td>17509692</td>\n",
       "      <td>Cc1cccc(-n2cnc3cc(C(=O)N4CCc5ccccc54)ccc32)c1</td>\n",
       "      <td>-6.5409</td>\n",
       "      <td>-61.48452</td>\n",
       "      <td>1</td>\n",
       "    </tr>\n",
       "    <tr>\n",
       "      <th>267520</th>\n",
       "      <td>24824655</td>\n",
       "      <td>Cc1cc(C)n(C(=O)/C(C#N)=N/Nc2cc(Cl)cc(Cl)c2)n1</td>\n",
       "      <td>9.8880</td>\n",
       "      <td>11.25168</td>\n",
       "      <td>0</td>\n",
       "    </tr>\n",
       "    <tr>\n",
       "      <th>13490</th>\n",
       "      <td>846946</td>\n",
       "      <td>Cc1ccc(N2CC(C(=O)OCC(=O)C(C)(C)C)CC2=O)cc1C</td>\n",
       "      <td>2.5929</td>\n",
       "      <td>-1.56722</td>\n",
       "      <td>0</td>\n",
       "    </tr>\n",
       "    <tr>\n",
       "      <th>13291</th>\n",
       "      <td>49722309</td>\n",
       "      <td>CC1(C)Cc2c(cnn2-c2ccccc2)C(NC(=O)CCN2CCCC2=O)C1</td>\n",
       "      <td>14.1506</td>\n",
       "      <td>6.21238</td>\n",
       "      <td>0</td>\n",
       "    </tr>\n",
       "    <tr>\n",
       "      <th>222163</th>\n",
       "      <td>845035</td>\n",
       "      <td>O=C(CSc1nnc(-c2cccnc2)n1C1CCCCC1)NC1CCCCC1</td>\n",
       "      <td>-6.6648</td>\n",
       "      <td>-17.36342</td>\n",
       "      <td>0</td>\n",
       "    </tr>\n",
       "  </tbody>\n",
       "</table>\n",
       "</div>"
      ],
      "text/plain": [
       "              ID                                                X  \\\n",
       "99077   17509692    Cc1cccc(-n2cnc3cc(C(=O)N4CCc5ccccc54)ccc32)c1   \n",
       "267520  24824655    Cc1cc(C)n(C(=O)/C(C#N)=N/Nc2cc(Cl)cc(Cl)c2)n1   \n",
       "13490     846946      Cc1ccc(N2CC(C(=O)OCC(=O)C(C)(C)C)CC2=O)cc1C   \n",
       "13291   49722309  CC1(C)Cc2c(cnn2-c2ccccc2)C(NC(=O)CCN2CCCC2=O)C1   \n",
       "222163    845035       O=C(CSc1nnc(-c2cccnc2)n1C1CCCCC1)NC1CCCCC1   \n",
       "\n",
       "        hERG_at_1uM  hERG_at_10uM  hERG_inhib  \n",
       "99077       -6.5409     -61.48452           1  \n",
       "267520       9.8880      11.25168           0  \n",
       "13490        2.5929      -1.56722           0  \n",
       "13291       14.1506       6.21238           0  \n",
       "222163      -6.6648     -17.36342           0  "
      ]
     },
     "execution_count": 32,
     "metadata": {},
     "output_type": "execute_result"
    }
   ],
   "source": [
    "\n",
    "herg_df.sample(5)"
   ]
  },
  {
   "cell_type": "markdown",
   "id": "fUkp5lfS01gj",
   "metadata": {
    "id": "fUkp5lfS01gj"
   },
   "source": [
    "### Testing data"
   ]
  },
  {
   "cell_type": "code",
   "execution_count": null,
   "id": "3V7DFnZMsavN",
   "metadata": {
    "colab": {
     "base_uri": "https://localhost:8080/"
    },
    "executionInfo": {
     "elapsed": 276,
     "status": "ok",
     "timestamp": 1652126025664,
     "user": {
      "displayName": "K Ajayi",
      "userId": "14355577383255450167"
     },
     "user_tz": 240
    },
    "id": "3V7DFnZMsavN",
    "outputId": "73642833-6c7a-4604-9f3d-f318bc43dd76"
   },
   "outputs": [
    {
     "data": {
      "text/plain": [
       "25303"
      ]
     },
     "execution_count": 21,
     "metadata": {},
     "output_type": "execute_result"
    }
   ],
   "source": [
    "\n",
    "target = new_client.target\n",
    "activity = new_client.activity\n",
    "herg = target.filter(pref_name__iexact='hERG').only('target_chembl_id')[0]\n",
    "herg_activities = activity.filter(target_chembl_id=herg['target_chembl_id']) # .filter(standard_type=\"IC50\")\n",
    "\n",
    "len(herg_activities)"
   ]
  },
  {
   "cell_type": "code",
   "execution_count": null,
   "id": "ztCM9uafuNXs",
   "metadata": {
    "colab": {
     "base_uri": "https://localhost:8080/"
    },
    "executionInfo": {
     "elapsed": 32,
     "status": "ok",
     "timestamp": 1652126025665,
     "user": {
      "displayName": "K Ajayi",
      "userId": "14355577383255450167"
     },
     "user_tz": 240
    },
    "id": "ztCM9uafuNXs",
    "outputId": "789f4312-4f43-4b45-f17b-c7be7a45e451"
   },
   "outputs": [
    {
     "data": {
      "text/plain": [
       "[{'activity_comment': None, 'activity_id': 111169, 'activity_properties': [], 'assay_chembl_id': 'CHEMBL820995', 'assay_description': 'Affinity for HERG voltage-gated potassium channel subunit Kv11.1', 'assay_type': 'B', 'assay_variant_accession': None, 'assay_variant_mutation': None, 'bao_endpoint': 'BAO_0000179', 'bao_format': 'BAO_0000357', 'bao_label': 'single protein format', 'canonical_smiles': 'CN1CCN(C(=O)c2ccc3[nH]c(-c4cc5ccccc5nc4O)cc3c2)CC1', 'data_validity_comment': 'Non standard unit for type', 'data_validity_description': 'Units for this activity type are unusual and may be incorrect (or the standard_type may be incorrect)', 'document_chembl_id': 'CHEMBL1137936', 'document_journal': 'Bioorg. Med. Chem. Lett.', 'document_year': 2004, 'ligand_efficiency': None, 'molecule_chembl_id': 'CHEMBL324489', 'molecule_pref_name': None, 'parent_molecule_chembl_id': 'CHEMBL324489', 'pchembl_value': None, 'potential_duplicate': False, 'qudt_units': 'http://www.openphacts.org/units/Nanomolar', 'record_id': 224670, 'relation': '=', 'src_id': 1, 'standard_flag': False, 'standard_relation': '=', 'standard_text_value': None, 'standard_type': 'IP', 'standard_units': 'nM', 'standard_upper_value': None, 'standard_value': '10800.0', 'target_chembl_id': 'CHEMBL240', 'target_organism': 'Homo sapiens', 'target_pref_name': 'HERG', 'target_tax_id': '9606', 'text_value': None, 'toid': None, 'type': 'IP', 'units': 'nM', 'uo_units': 'UO_0000065', 'upper_value': None, 'value': '10800.0'}, {'activity_comment': None, 'activity_id': 117680, 'activity_properties': [], 'assay_chembl_id': 'CHEMBL820995', 'assay_description': 'Affinity for HERG voltage-gated potassium channel subunit Kv11.1', 'assay_type': 'B', 'assay_variant_accession': None, 'assay_variant_mutation': None, 'bao_endpoint': 'BAO_0000179', 'bao_format': 'BAO_0000357', 'bao_label': 'single protein format', 'canonical_smiles': 'O=S(=O)(NC1CCNC1)c1ccc2[nH]c(-c3cc4ccccc4nc3O)cc2c1', 'data_validity_comment': 'Non standard unit for type', 'data_validity_description': 'Units for this activity type are unusual and may be incorrect (or the standard_type may be incorrect)', 'document_chembl_id': 'CHEMBL1137936', 'document_journal': 'Bioorg. Med. Chem. Lett.', 'document_year': 2004, 'ligand_efficiency': None, 'molecule_chembl_id': 'CHEMBL420528', 'molecule_pref_name': None, 'parent_molecule_chembl_id': 'CHEMBL420528', 'pchembl_value': None, 'potential_duplicate': False, 'qudt_units': 'http://www.openphacts.org/units/Nanomolar', 'record_id': 224680, 'relation': '=', 'src_id': 1, 'standard_flag': False, 'standard_relation': '=', 'standard_text_value': None, 'standard_type': 'IP', 'standard_units': 'nM', 'standard_upper_value': None, 'standard_value': '2835.0', 'target_chembl_id': 'CHEMBL240', 'target_organism': 'Homo sapiens', 'target_pref_name': 'HERG', 'target_tax_id': '9606', 'text_value': None, 'toid': None, 'type': 'IP', 'units': 'nM', 'uo_units': 'UO_0000065', 'upper_value': None, 'value': '2835.0'}, {'activity_comment': None, 'activity_id': 120052, 'activity_properties': [], 'assay_chembl_id': 'CHEMBL820995', 'assay_description': 'Affinity for HERG voltage-gated potassium channel subunit Kv11.1', 'assay_type': 'B', 'assay_variant_accession': None, 'assay_variant_mutation': None, 'bao_endpoint': 'BAO_0000179', 'bao_format': 'BAO_0000357', 'bao_label': 'single protein format', 'canonical_smiles': 'O=C(O)C1CCN(CCCOc2ccc3[nH]c(-c4cc5ccccc5nc4O)cc3c2)CC1', 'data_validity_comment': 'Non standard unit for type', 'data_validity_description': 'Units for this activity type are unusual and may be incorrect (or the standard_type may be incorrect)', 'document_chembl_id': 'CHEMBL1137936', 'document_journal': 'Bioorg. Med. Chem. Lett.', 'document_year': 2004, 'ligand_efficiency': None, 'molecule_chembl_id': 'CHEMBL118748', 'molecule_pref_name': None, 'parent_molecule_chembl_id': 'CHEMBL118748', 'pchembl_value': None, 'potential_duplicate': False, 'qudt_units': 'http://www.openphacts.org/units/Nanomolar', 'record_id': 224668, 'relation': '=', 'src_id': 1, 'standard_flag': False, 'standard_relation': '=', 'standard_text_value': None, 'standard_type': 'IP', 'standard_units': 'nM', 'standard_upper_value': None, 'standard_value': '3050.0', 'target_chembl_id': 'CHEMBL240', 'target_organism': 'Homo sapiens', 'target_pref_name': 'HERG', 'target_tax_id': '9606', 'text_value': None, 'toid': None, 'type': 'IP', 'units': 'nM', 'uo_units': 'UO_0000065', 'upper_value': None, 'value': '3050.0'}, {'activity_comment': None, 'activity_id': 120053, 'activity_properties': [], 'assay_chembl_id': 'CHEMBL820994', 'assay_description': 'Effect on prolongation of the heart rate-corrected QT interval', 'assay_type': 'F', 'assay_variant_accession': None, 'assay_variant_mutation': None, 'bao_endpoint': 'BAO_0000179', 'bao_format': 'BAO_0000221', 'bao_label': 'tissue-based format', 'canonical_smiles': 'O=C(O)C1CCN(CCCOc2ccc3[nH]c(-c4cc5ccccc5nc4O)cc3c2)CC1', 'data_validity_comment': None, 'data_validity_description': None, 'document_chembl_id': 'CHEMBL1137936', 'document_journal': 'Bioorg. Med. Chem. Lett.', 'document_year': 2004, 'ligand_efficiency': None, 'molecule_chembl_id': 'CHEMBL118748', 'molecule_pref_name': None, 'parent_molecule_chembl_id': 'CHEMBL118748', 'pchembl_value': None, 'potential_duplicate': False, 'qudt_units': 'http://www.openphacts.org/units/Nanomolar', 'record_id': 224668, 'relation': '=', 'src_id': 1, 'standard_flag': False, 'standard_relation': '=', 'standard_text_value': None, 'standard_type': 'EC10', 'standard_units': 'nM', 'standard_upper_value': None, 'standard_value': '5200.0', 'target_chembl_id': 'CHEMBL240', 'target_organism': 'Homo sapiens', 'target_pref_name': 'HERG', 'target_tax_id': '9606', 'text_value': None, 'toid': None, 'type': 'EC10', 'units': 'nM', 'uo_units': 'UO_0000065', 'upper_value': None, 'value': '5200.0'}, '...(remaining elements truncated)...']"
      ]
     },
     "execution_count": 22,
     "metadata": {},
     "output_type": "execute_result"
    }
   ],
   "source": [
    "herg_activities"
   ]
  },
  {
   "cell_type": "code",
   "execution_count": null,
   "id": "WxwXrEox1iIF",
   "metadata": {
    "id": "WxwXrEox1iIF"
   },
   "outputs": [],
   "source": []
  },
  {
   "cell_type": "code",
   "execution_count": null,
   "id": "dobJl4n_1h7D",
   "metadata": {
    "id": "dobJl4n_1h7D"
   },
   "outputs": [],
   "source": []
  },
  {
   "cell_type": "code",
   "execution_count": null,
   "id": "v9iKLoOD1ht7",
   "metadata": {
    "id": "v9iKLoOD1ht7"
   },
   "outputs": [],
   "source": []
  },
  {
   "cell_type": "code",
   "execution_count": null,
   "id": "VH4TdDVj1hg2",
   "metadata": {
    "id": "VH4TdDVj1hg2"
   },
   "outputs": [],
   "source": []
  },
  {
   "cell_type": "code",
   "execution_count": null,
   "id": "FnGgjARo1hQy",
   "metadata": {
    "id": "FnGgjARo1hQy"
   },
   "outputs": [],
   "source": []
  },
  {
   "cell_type": "markdown",
   "id": "bf45c072-fa43-4725-b46a-a342952c6fb8",
   "metadata": {
    "id": "bf45c072-fa43-4725-b46a-a342952c6fb8"
   },
   "source": [
    "## FEATURE GENERATION\n"
   ]
  },
  {
   "cell_type": "code",
   "execution_count": null,
   "id": "85d7b044-a472-434a-b4d8-5990d79bd774",
   "metadata": {
    "id": "85d7b044-a472-434a-b4d8-5990d79bd774"
   },
   "outputs": [],
   "source": [
    "# rename ID and X columns\n",
    "herg_df = herg_df.rename(columns={'ID':'Pubchem_SID', 'X':'SMILES', 'hERG_inhib': 'herg_inhibitor'}, errors='ignore')"
   ]
  },
  {
   "cell_type": "code",
   "execution_count": null,
   "id": "eacd836a-bb10-487c-ae40-2e7e97706d4c",
   "metadata": {
    "colab": {
     "base_uri": "https://localhost:8080/",
     "height": 945
    },
    "executionInfo": {
     "elapsed": 27,
     "status": "ok",
     "timestamp": 1652126025936,
     "user": {
      "displayName": "K Ajayi",
      "userId": "14355577383255450167"
     },
     "user_tz": 240
    },
    "id": "eacd836a-bb10-487c-ae40-2e7e97706d4c",
    "outputId": "cd9d1a75-f1c2-427e-aea9-9afa1a5320cc"
   },
   "outputs": [
    {
     "name": "stdout",
     "output_type": "stream",
     "text": [
      "(28, 5)\n"
     ]
    },
    {
     "data": {
      "text/html": [
       "<div>\n",
       "<style scoped>\n",
       "    .dataframe tbody tr th:only-of-type {\n",
       "        vertical-align: middle;\n",
       "    }\n",
       "\n",
       "    .dataframe tbody tr th {\n",
       "        vertical-align: top;\n",
       "    }\n",
       "\n",
       "    .dataframe thead th {\n",
       "        text-align: right;\n",
       "    }\n",
       "</style>\n",
       "<table border=\"1\" class=\"dataframe\">\n",
       "  <thead>\n",
       "    <tr style=\"text-align: right;\">\n",
       "      <th></th>\n",
       "      <th>Pubchem_SID</th>\n",
       "      <th>SMILES</th>\n",
       "      <th>hERG_at_1uM</th>\n",
       "      <th>hERG_at_10uM</th>\n",
       "      <th>herg_inhibitor</th>\n",
       "    </tr>\n",
       "  </thead>\n",
       "  <tbody>\n",
       "    <tr>\n",
       "      <th>176139</th>\n",
       "      <td>3713680</td>\n",
       "      <td>CC(=O)/C=C(/C)NC(Cc1c[nH]c2ccccc12)C(=O)O</td>\n",
       "      <td>10.1423</td>\n",
       "      <td>-2.94762</td>\n",
       "      <td>0</td>\n",
       "    </tr>\n",
       "    <tr>\n",
       "      <th>23180</th>\n",
       "      <td>14727836</td>\n",
       "      <td>CC(=O)/C=C(/C)NC(Cc1c[nH]c2ccccc12)C(=O)O</td>\n",
       "      <td>0.1880</td>\n",
       "      <td>0.62798</td>\n",
       "      <td>0</td>\n",
       "    </tr>\n",
       "    <tr>\n",
       "      <th>39912</th>\n",
       "      <td>26665338</td>\n",
       "      <td>CCN(CC)CCN=Cc1c(O)n(Cc2ccccc2)c(=O)[nH]c1=O</td>\n",
       "      <td>-11.7853</td>\n",
       "      <td>-31.50462</td>\n",
       "      <td>0</td>\n",
       "    </tr>\n",
       "    <tr>\n",
       "      <th>132345</th>\n",
       "      <td>14739636</td>\n",
       "      <td>CCN(CC)CCN=Cc1c(O)n(Cc2ccccc2)c(=O)[nH]c1=O</td>\n",
       "      <td>-3.0354</td>\n",
       "      <td>-31.31392</td>\n",
       "      <td>0</td>\n",
       "    </tr>\n",
       "    <tr>\n",
       "      <th>291026</th>\n",
       "      <td>14738079</td>\n",
       "      <td>CCN(CC)c1ccc(N=Cc2c(O)n(Cc3ccccc3)c(=O)[nH]c2=...</td>\n",
       "      <td>14.2244</td>\n",
       "      <td>18.51488</td>\n",
       "      <td>0</td>\n",
       "    </tr>\n",
       "    <tr>\n",
       "      <th>21017</th>\n",
       "      <td>14729657</td>\n",
       "      <td>CCN(CC)c1ccc(N=Cc2c(O)n(Cc3ccccc3)c(=O)[nH]c2=...</td>\n",
       "      <td>5.1098</td>\n",
       "      <td>-0.76762</td>\n",
       "      <td>0</td>\n",
       "    </tr>\n",
       "    <tr>\n",
       "      <th>187163</th>\n",
       "      <td>49665950</td>\n",
       "      <td>COc1ccc2[n-]c(S(=O)Cc3ncc(C)c(OC)c3C)nc2c1.COc...</td>\n",
       "      <td>16.2572</td>\n",
       "      <td>16.29698</td>\n",
       "      <td>0</td>\n",
       "    </tr>\n",
       "    <tr>\n",
       "      <th>56844</th>\n",
       "      <td>49681830</td>\n",
       "      <td>COc1ccc2[n-]c(S(=O)Cc3ncc(C)c(OC)c3C)nc2c1.COc...</td>\n",
       "      <td>9.3664</td>\n",
       "      <td>-0.36122</td>\n",
       "      <td>0</td>\n",
       "    </tr>\n",
       "    <tr>\n",
       "      <th>166161</th>\n",
       "      <td>56422115</td>\n",
       "      <td>C[C@H]1CCC/C=C/[C@@H]2C[C@H](O)C[C@H]2[C@H](O)...</td>\n",
       "      <td>14.3799</td>\n",
       "      <td>13.97648</td>\n",
       "      <td>0</td>\n",
       "    </tr>\n",
       "    <tr>\n",
       "      <th>214665</th>\n",
       "      <td>56463468</td>\n",
       "      <td>C[C@H]1CCC/C=C/[C@@H]2C[C@H](O)C[C@H]2[C@H](O)...</td>\n",
       "      <td>15.9088</td>\n",
       "      <td>7.27398</td>\n",
       "      <td>0</td>\n",
       "    </tr>\n",
       "    <tr>\n",
       "      <th>291936</th>\n",
       "      <td>7972794</td>\n",
       "      <td>Cc1ccc(-n2c(O)c(/C=N/n3cnnc3)c3ccccc3c2=O)cc1</td>\n",
       "      <td>6.4395</td>\n",
       "      <td>0.82588</td>\n",
       "      <td>0</td>\n",
       "    </tr>\n",
       "    <tr>\n",
       "      <th>20253</th>\n",
       "      <td>14745934</td>\n",
       "      <td>Cc1ccc(-n2c(O)c(/C=N/n3cnnc3)c3ccccc3c2=O)cc1</td>\n",
       "      <td>9.2810</td>\n",
       "      <td>4.80198</td>\n",
       "      <td>0</td>\n",
       "    </tr>\n",
       "    <tr>\n",
       "      <th>240763</th>\n",
       "      <td>22412411</td>\n",
       "      <td>Cc1ccccc1-n1c(O)c(/C=N/c2nccs2)c(=O)[nH]c1=O</td>\n",
       "      <td>8.5442</td>\n",
       "      <td>4.22738</td>\n",
       "      <td>0</td>\n",
       "    </tr>\n",
       "    <tr>\n",
       "      <th>144466</th>\n",
       "      <td>24811058</td>\n",
       "      <td>Cc1ccccc1-n1c(O)c(/C=N/c2nccs2)c(=O)[nH]c1=O</td>\n",
       "      <td>13.1692</td>\n",
       "      <td>16.85528</td>\n",
       "      <td>0</td>\n",
       "    </tr>\n",
       "    <tr>\n",
       "      <th>195672</th>\n",
       "      <td>26671297</td>\n",
       "      <td>Nc1cncc(C(=O)O)c1</td>\n",
       "      <td>8.0249</td>\n",
       "      <td>4.05508</td>\n",
       "      <td>0</td>\n",
       "    </tr>\n",
       "    <tr>\n",
       "      <th>180324</th>\n",
       "      <td>24817409</td>\n",
       "      <td>Nc1cncc(C(=O)O)c1</td>\n",
       "      <td>14.3876</td>\n",
       "      <td>15.66838</td>\n",
       "      <td>0</td>\n",
       "    </tr>\n",
       "    <tr>\n",
       "      <th>155447</th>\n",
       "      <td>4242532</td>\n",
       "      <td>O=C(O)Cn1c(O)c(C=Nc2ccccc2)sc1=S</td>\n",
       "      <td>13.8905</td>\n",
       "      <td>14.13588</td>\n",
       "      <td>0</td>\n",
       "    </tr>\n",
       "    <tr>\n",
       "      <th>208026</th>\n",
       "      <td>14736554</td>\n",
       "      <td>O=C(O)Cn1c(O)c(C=Nc2ccccc2)sc1=S</td>\n",
       "      <td>11.2143</td>\n",
       "      <td>9.84748</td>\n",
       "      <td>0</td>\n",
       "    </tr>\n",
       "    <tr>\n",
       "      <th>207319</th>\n",
       "      <td>4246017</td>\n",
       "      <td>O=C1NCC(O)=C1C=NC12CC3CC(CC(C3)C1)C2</td>\n",
       "      <td>13.0890</td>\n",
       "      <td>12.62088</td>\n",
       "      <td>0</td>\n",
       "    </tr>\n",
       "    <tr>\n",
       "      <th>187748</th>\n",
       "      <td>14736166</td>\n",
       "      <td>O=C1NCC(O)=C1C=NC12CC3CC(CC(C3)C1)C2</td>\n",
       "      <td>6.0054</td>\n",
       "      <td>3.20108</td>\n",
       "      <td>0</td>\n",
       "    </tr>\n",
       "    <tr>\n",
       "      <th>126</th>\n",
       "      <td>24810910</td>\n",
       "      <td>O=[N+]([O-])/C=C1\\NCCN1Cc1ccc(Cl)nc1</td>\n",
       "      <td>11.0121</td>\n",
       "      <td>-0.13472</td>\n",
       "      <td>0</td>\n",
       "    </tr>\n",
       "    <tr>\n",
       "      <th>297588</th>\n",
       "      <td>22413311</td>\n",
       "      <td>O=[N+]([O-])/C=C1\\NCCN1Cc1ccc(Cl)nc1</td>\n",
       "      <td>11.7468</td>\n",
       "      <td>5.78298</td>\n",
       "      <td>0</td>\n",
       "    </tr>\n",
       "    <tr>\n",
       "      <th>160530</th>\n",
       "      <td>22416389</td>\n",
       "      <td>O=c1[nH]c(=O)n(CC2CCCO2)c(O)c1/C=C1\\C=Nc2ccccc21</td>\n",
       "      <td>7.7246</td>\n",
       "      <td>0.63498</td>\n",
       "      <td>0</td>\n",
       "    </tr>\n",
       "    <tr>\n",
       "      <th>163760</th>\n",
       "      <td>26662360</td>\n",
       "      <td>O=c1[nH]c(=O)n(CC2CCCO2)c(O)c1/C=C1\\C=Nc2ccccc21</td>\n",
       "      <td>9.9903</td>\n",
       "      <td>-1.50972</td>\n",
       "      <td>0</td>\n",
       "    </tr>\n",
       "    <tr>\n",
       "      <th>97596</th>\n",
       "      <td>17401255</td>\n",
       "      <td>Oc1c(C=C2N=c3ccccc3=N2)sc(=S)n1-c1ccc(F)cc1</td>\n",
       "      <td>18.3149</td>\n",
       "      <td>17.92748</td>\n",
       "      <td>0</td>\n",
       "    </tr>\n",
       "    <tr>\n",
       "      <th>23356</th>\n",
       "      <td>17505669</td>\n",
       "      <td>Oc1c(C=C2N=c3ccccc3=N2)sc(=S)n1-c1ccc(F)cc1</td>\n",
       "      <td>5.0806</td>\n",
       "      <td>6.07608</td>\n",
       "      <td>0</td>\n",
       "    </tr>\n",
       "    <tr>\n",
       "      <th>210223</th>\n",
       "      <td>17505580</td>\n",
       "      <td>Oc1c(C=C2N=c3ccccc3=N2)sc(=S)n1C1CCCCC1</td>\n",
       "      <td>5.0902</td>\n",
       "      <td>-2.30262</td>\n",
       "      <td>0</td>\n",
       "    </tr>\n",
       "    <tr>\n",
       "      <th>18665</th>\n",
       "      <td>17433500</td>\n",
       "      <td>Oc1c(C=C2N=c3ccccc3=N2)sc(=S)n1C1CCCCC1</td>\n",
       "      <td>7.9249</td>\n",
       "      <td>6.79678</td>\n",
       "      <td>0</td>\n",
       "    </tr>\n",
       "  </tbody>\n",
       "</table>\n",
       "</div>"
      ],
      "text/plain": [
       "<IPython.core.display.HTML object>"
      ]
     },
     "execution_count": 24,
     "metadata": {},
     "output_type": "execute_result"
    }
   ],
   "source": [
    "# list rows with duplicated SMILES\n",
    "dup_smiles = herg_df.loc[herg_df.SMILES.duplicated(keep=False),:].sort_values(by='SMILES')\n",
    "print(dup_smiles.shape)\n",
    "show(dup_smiles)"
   ]
  },
  {
   "cell_type": "markdown",
   "id": "15968e14-aba8-4af8-89eb-e845b64c3507",
   "metadata": {
    "id": "15968e14-aba8-4af8-89eb-e845b64c3507"
   },
   "source": [
    "The dataset contains 14 pairs of duplicate compounds, but each duplicate has different inhibition values at 1uM and 10uM! These will be dropped."
   ]
  },
  {
   "cell_type": "code",
   "execution_count": null,
   "id": "5a35a59f-675e-4fc1-b2f4-1286261f50fc",
   "metadata": {
    "id": "5a35a59f-675e-4fc1-b2f4-1286261f50fc"
   },
   "outputs": [],
   "source": [
    "# drop all copies of duplicated compounds\n",
    "herg_df = herg_df.drop(index=dup_smiles.index, errors='ignore')"
   ]
  },
  {
   "cell_type": "code",
   "execution_count": null,
   "id": "b99cbd59-a6eb-4382-a285-5d8818a9e4bc",
   "metadata": {
    "id": "b99cbd59-a6eb-4382-a285-5d8818a9e4bc"
   },
   "outputs": [],
   "source": [
    "# add image of molecule to dataframe\n",
    "PandasTools.AddMoleculeColumnToFrame(herg_df, 'SMILES', 'Mol')"
   ]
  },
  {
   "cell_type": "code",
   "execution_count": null,
   "id": "550538c3-48a1-4e55-a169-181678fb78f2",
   "metadata": {
    "colab": {
     "referenced_widgets": [
      "971dd88f3eb24274a8a9f0b332f12b4b",
      "25570a483cba414a9029f6d773361b4d",
      "75ff46f46d7f47229635367c0658c9e7"
     ]
    },
    "executionInfo": {
     "elapsed": 123754,
     "status": "ok",
     "timestamp": 1652126194188,
     "user": {
      "displayName": "K Ajayi",
      "userId": "14355577383255450167"
     },
     "user_tz": 240
    },
    "id": "550538c3-48a1-4e55-a169-181678fb78f2",
    "outputId": "0765dfea-bbc9-41df-f04c-ba6972777aa4"
   },
   "outputs": [
    {
     "data": {
      "application/vnd.jupyter.widget-view+json": {
       "model_id": "971dd88f3eb24274a8a9f0b332f12b4b",
       "version_major": 2,
       "version_minor": 0
      },
      "text/plain": [
       "  0%|          | 0/306865 [00:00<?, ?it/s]"
      ]
     },
     "metadata": {},
     "output_type": "display_data"
    },
    {
     "data": {
      "application/vnd.jupyter.widget-view+json": {
       "model_id": "25570a483cba414a9029f6d773361b4d",
       "version_major": 2,
       "version_minor": 0
      },
      "text/plain": [
       "  0%|          | 0/306865 [00:00<?, ?it/s]"
      ]
     },
     "metadata": {},
     "output_type": "display_data"
    },
    {
     "data": {
      "application/vnd.jupyter.widget-view+json": {
       "model_id": "75ff46f46d7f47229635367c0658c9e7",
       "version_major": 2,
       "version_minor": 0
      },
      "text/plain": [
       "  0%|          | 0/306865 [00:00<?, ?it/s]"
      ]
     },
     "metadata": {},
     "output_type": "display_data"
    }
   ],
   "source": [
    "# add calculated features to dataframe\n",
    "calculate_properties(herg_df)"
   ]
  },
  {
   "cell_type": "code",
   "execution_count": null,
   "id": "7b1132fd-1b67-4149-bec5-8cc2fdb84c55",
   "metadata": {
    "colab": {
     "base_uri": "https://localhost:8080/",
     "height": 1000
    },
    "executionInfo": {
     "elapsed": 53,
     "status": "ok",
     "timestamp": 1652126194188,
     "user": {
      "displayName": "K Ajayi",
      "userId": "14355577383255450167"
     },
     "user_tz": 240
    },
    "id": "7b1132fd-1b67-4149-bec5-8cc2fdb84c55",
    "outputId": "e5816730-f45b-435d-d6fd-63b2072d6f76"
   },
   "outputs": [
    {
     "data": {
      "text/html": [
       "<div>\n",
       "<style scoped>\n",
       "    .dataframe tbody tr th:only-of-type {\n",
       "        vertical-align: middle;\n",
       "    }\n",
       "\n",
       "    .dataframe tbody tr th {\n",
       "        vertical-align: top;\n",
       "    }\n",
       "\n",
       "    .dataframe thead th {\n",
       "        text-align: right;\n",
       "    }\n",
       "</style>\n",
       "<table border=\"1\" class=\"dataframe\">\n",
       "  <thead>\n",
       "    <tr style=\"text-align: right;\">\n",
       "      <th></th>\n",
       "      <th>Pubchem_SID</th>\n",
       "      <th>SMILES</th>\n",
       "      <th>hERG_at_1uM</th>\n",
       "      <th>hERG_at_10uM</th>\n",
       "      <th>herg_inhibitor</th>\n",
       "      <th>Mol</th>\n",
       "      <th>mw</th>\n",
       "      <th>logP</th>\n",
       "      <th>PSA</th>\n",
       "      <th>H_bond_donors</th>\n",
       "      <th>H_bond_acceptors</th>\n",
       "      <th>num_heteroatoms</th>\n",
       "      <th>total_num_rings</th>\n",
       "      <th>aromatic_rings</th>\n",
       "      <th>num_rotatable_bonds</th>\n",
       "      <th>num_stereocenters</th>\n",
       "      <th>formal_charge</th>\n",
       "      <th>SMILES_length</th>\n",
       "      <th>ro5_violations</th>\n",
       "      <th>adjacency_matrix</th>\n",
       "    </tr>\n",
       "  </thead>\n",
       "  <tbody>\n",
       "    <tr>\n",
       "      <th>117895</th>\n",
       "      <td>14733986</td>\n",
       "      <td>CCOC(=O)C1=C(C)OC(N)=C(C#N)C1c1ccc(O)c(OC)c1</td>\n",
       "      <td>3.4151</td>\n",
       "      <td>2.39368</td>\n",
       "      <td>0</td>\n",
       "      <td style=\"text-align: center;\"><img data-content=\"rdkit/molecule\" src=\"data:image/png;base64,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\" alt=\"Mol\"/></td>\n",
       "      <td>330.340</td>\n",
       "      <td>2.04558</td>\n",
       "      <td>114.80</td>\n",
       "      <td>2</td>\n",
       "      <td>7</td>\n",
       "      <td>7</td>\n",
       "      <td>2</td>\n",
       "      <td>1</td>\n",
       "      <td>4</td>\n",
       "      <td>1</td>\n",
       "      <td>0</td>\n",
       "      <td>44</td>\n",
       "      <td>0</td>\n",
       "      <td>[[0, 1, 0, 0, 0, 0, 0, 0, 0, 0, 0, 0, 0, 0, 0,...</td>\n",
       "    </tr>\n",
       "    <tr>\n",
       "      <th>135189</th>\n",
       "      <td>862412</td>\n",
       "      <td>CCCCn1c2nc3ccccc3nc2c2c(=O)n(C(C)CC)cnc21</td>\n",
       "      <td>-3.7568</td>\n",
       "      <td>-18.21302</td>\n",
       "      <td>0</td>\n",
       "      <td style=\"text-align: center;\"><img data-content=\"rdkit/molecule\" src=\"data:image/png;base64,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\" alt=\"Mol\"/></td>\n",
       "      <td>349.438</td>\n",
       "      <td>4.06550</td>\n",
       "      <td>65.60</td>\n",
       "      <td>0</td>\n",
       "      <td>6</td>\n",
       "      <td>6</td>\n",
       "      <td>4</td>\n",
       "      <td>4</td>\n",
       "      <td>5</td>\n",
       "      <td>1</td>\n",
       "      <td>0</td>\n",
       "      <td>41</td>\n",
       "      <td>0</td>\n",
       "      <td>[[0, 1, 0, 0, 0, 0, 0, 0, 0, 0, 0, 0, 0, 0, 0,...</td>\n",
       "    </tr>\n",
       "    <tr>\n",
       "      <th>197832</th>\n",
       "      <td>17409380</td>\n",
       "      <td>COc1ccc(Oc2nc3ccccc3n(C)c2=O)cc1</td>\n",
       "      <td>-7.9547</td>\n",
       "      <td>-16.75282</td>\n",
       "      <td>0</td>\n",
       "      <td style=\"text-align: center;\"><img data-content=\"rdkit/molecule\" src=\"data:image/png;base64,iVBORw0KGgoAAAANSUhEUgAAAMgAAADICAIAAAAiOjnJAAAABmJLR0QA/wD/AP+gvaeTAAAWZUlEQVR4nO2deVBT1xrAv7Apq6UFpCoqPFDcUNS6KxS3ovFZXmUcrRl91sGxlhRnHLFTbabtw1pEm/qcVtraeYHWsVitgnbcfUq1VlwQ0LoD9SES3ABZQ/K9P068XiFkITmJ4vf7i4RLvpObH+ec+91zvkgQEQjC1jg5ugFEx4TEIrhAYhFcILEILpBYBBdILIILJBbBBRKL4AKJRXCBxCK4QGIRXCCxCC6QWAQXSCyCCyQWwQUSi+ACiUVwgcQiuEBiEVwgsQgukFgEF0gsggskFsEFEovgAolFcIHEIrhAYhFcILEILpBYBBdILIILJBbBBRKL4AKJRXCBxCK4QGIRXCCxCC6QWAQXSCyCCyQWwQUSi+ACiUVwgcQiuEBiEVwgsQgukFgEF0gsggskFsEFEovgAolFcIHEIrhAYhFcILEILpBYBBdILIILJBbBBRKL4AKJRXCBxCK4QGIRXCCxCC6QWAQXSCyHUVxcvG/fvtLSUkc3hAsklsNIS0uLjY3NyclxdEO4QGI5DH9/fwCorKx0dEO4QGI5jK5duwJARUWFoxvCBRLLYQQEBACAWq12dEO4QGI5DBKL4AKJRXCBzbE6qlgSRHR0G15cOnfu3NjYWF9f37lzZ0e3xcZQj+VIWMZBrb7r6IbYHhNiVVZW6nQ6+zTlBSQs7Lyra5Na3cPRDbE9xsQKDg4OCAi4deuW3VrzotGpk59G49ohZ1nGxHrllVeg484unwW6dgUA6JApUmNidezLlmeBgAAAgA55go2JxRItHfWew7PACy0W9Vj8eKHF6qi3358F2BzrBRWLhkJ+sB6rQ55gGgodSQceCl2M/I6uCnkTEADffQeBgXYNWllZmZiYGB4efvbs2ZUrV44dO5ZLGGyb2tu31cOH14webeQYot3cuoV+flhUhIhYXo5SqT2C7t27NzAwEAC8vLyYAOPGjduzZ49Op7NtIGNioUaDEgk6O6NWa9uoBCKWlmKfPhgTgzodlpVhdDTfcHV1dXK5XCKRAMCYMWPy8vIUCgXLgQPAwIEDVSpVU1OTrcIZFQsRX34ZAbCy0lbxCIHSUnzjDUxKwi1buIuVl5fXt29fAHB1dVUoFM3Nzez5mpoapVIZFBTE9OrVq5dSqXz06JH1EU2JFR6OAHjxovWRnnXUavz6a0xJwWPH7BOQifXwIQ4ciAUFGB2Nzc22Hxuam5vXrl3r5uYGAP379z937lzrY5qamlQqVf/+/Zlefn5+CoXi7t271sQ1JVZUFALg0aPWxHgOKCvDiAjMzMSjR/GttzAtjXfAO3f0YiHijz/iP/6B0dGoUmFoKCqVWF9vmyjFxcXjx48HAIlEkpCQUFtby543KI1Op8vOzh4zZgzTy9PTUy6Xl5aWti+0KbHi4xEAt21r36s/N3zwAaan63+uq8OePVGjQUT85Rd8/GHYiqYmVCjQwwMPHtSLpdNhTAxGR2NsLAIgAPbogRs2YE2NVYFUKpW3tzcABAYG/vrrr+xJnU6nVCo9PT3/+OOPtv4wNzdXKpWy2Zirq6tMJitilxiWYEqspUsRADdutPR1nzPi4vD33588HD0ai4vxwgWUSNDPDxUKtG5cECgowIgIBEAXF/z3v3HLFv3zV65gejpqtZidjcOG6fXy8UG5HG/ftjiKWq1+8803WccTHx9/79499nxpaWl0dDTrwNasWWOqqQUymczFxYUdL5VKf/vtN/PbYEqsjz9GAFy1yvxXfC755z9x//4nD/v3x4cP8Y8/cNQo/Yfs5YVJSfjXX+2OoNNhejp6eCAABgdjbq6xI3NycNw4fWQPD3zvPSwuNjcdsH///m7dugGAj49PutANI2ZlZb388ssAEBAQkJ2dbearlZSUyOVyDw8PpunYsWOzs7PNyU2YEuvrrxEAExLMbMfzyvbtOHs2svP12284fvyTX+XmolSKEgkCoKsrymRo+bhQXv5kmJPJzB3jzpxBmQydnREAR49Ok0qleXl5Ro5vkVC4ceMGe/7hw4fz5s1jZsTGxt62vA9Uq9WrV69mXgLAoEGDrl69avxPTImVl4fLluGOHZY2xRru3buXlpaWlpa2bds24cKYLzodfvQRjhuH06bh1Kl4/TqePq2fZjHy83HuXHRxQQCUSIqXLDlx4oSZr52VpU/a+Pvjrl0WN62oCN99t7ZzZ082JE2bNu2YoevW06dPG0woHDp0qEePHgDg4eGhVCotDi+C5SZ69Ojh5eWVlJRk/GBTYuXk4IIFKJNhVpY1bTKfgwcPshPh6uoKAMHBwUqlstbWM+g2YRnCigp0d8devVCpfGryXlyMcjl6eCwcMMCcceHBgwcy2fw+ffIBcMYMrKhof7vKy8sVCkWXLl1YnzF06FCVSsXsaSuhUF9fn5yc7OTkBAAjR4402ceYSWNjY6dOnQCgrq7OyGFGxfrpJ4yNxb/+wtu3cdYs3LzZJi1rC/GJGDFiRGpqanh4ODuP/v7+CoVCmIRy5+xZfQKP9TOffIKi0E1q9apVq8TjQmZmpkbcvSEi4pEjR3r27AkAERGjRFMdq6iqqlIqla+++ioLHRoa+tFHH7GbfS0SCkVFRUOGDAEAFxeX5ORkG6bUEZElVEtKSowcY1Ss8ePx8mX9z+XlOGiQ7drWksLCwsGDB7c4EVqtNjs7e9SoUew8enl5yeXyW7du8WvGE3Q6zM7G0aP1enl6olyOoqSOwZw1+1ybmpoUCoXwH3LlyhXbNq2hoUGlUoWFhQn9elBQ0OHDhx83XKdUKlmnEhISYtGlnJkMGzYMAE6fPm3kGKNi9e6NjY1PHr76qo0a9hTiExEeHm5wfirOrLi5uclkskuXLvFojAH++1+MjdVP3t3c7i5bdlF0H6KxsfH777/v168f0ysoKCg/Pz8yMpJTVyFGo9Fs3LgRALy9vR88eMCevHPnjpBQWLJkia2mEBcvXoyNjU14fA03bdo0AMjJyTHyJ0bFGjUKi4v1Pz94gOHh2NiIqalouyFJnFlJSEgwfpcqPz9fyKw4OTlJpdLfxcknrhQUoEyGLi5fjB7NkjriybuQs46KimJX5sHBwblGMgo2QqPRSCQSZ2dn7eM7QfX19QMHDrQooWAOhYWFbALHHi5YsAAAtghZOEMYFWvTJly4EJubUafDpCRMScHvvtMndeRya5I6jKysLF9f3xaZFZ1Ol56eHhsbq23jttnNmzflcrm7u7ulmRXr0d24kZSYKIQeP368eMFJUlISe37x4sU2uY9rDmyqVylaJfDnn3+q1WrbRmGriP38/NjDFStWAMBnn31m5E+MiqXV4hdf4OTJOGkSrlmDGg2eOoVvvCGMC7hgAbZrSBJnVuLi4oTzUlZWNmXKFPb8fnHGshUVFRUKhYJ5CQCDBw9WqVStZ9A8UKvVCoVCPHlXqVRXrlyZPHmyj4/P7t277dAGATYKX+S8SkCr1bq4uEgkEnaG09LSAGDZsmVG/sRUusEgFy6wcYEldVAqRbOTOijKrHh7e4tTwz///DNbHuTn57dz505zXqq6ulqpVHbv3p19xiw3Yfwy2FbU1NSsX7+evREAYG0ICQmxQ2gxUVFRAHDkyBHegdhy4vLyckTMyMgAgLffftvI8e0Si3HzJr77Lrq7s+um7xYu3Lt3r/Ehqa3MSlVVVUJCAvuEpkyZUlZWZlFDGhoavvnmG3aVBABdu3Zds2ZNWyOpbREWnEycOJH9q9ghqJj4+HgA2MZ/lcCgQYMAID8/HxH3798PAJMnTzZyvBViMdRqVCiqevZ8qUsXYVwwOCSJEwri1PDJkydDQ0MBwN3dXalUtnu2xHITI0eOZM04fvx4+9+U5aErKytZKSL75XIREfG9994DgI38Vwmw/5wDBw4g4vnz5wEgIiLCyPFWi4WIiLXV1WlpacKQ1Lt3702bNgmnuK2EgkajUSgUzs7OADB8+PDLQs7MOtauXQsAkyZNssmrmQ9LhxYL19F24eOPPwaAVfxXCcydOxcAfvjhB0QsKysDgMDAQCPH20YsRmNjY+uFiBcuXDCYULh06dLQoUMBwNnZOTk5uVGcMLMOc/6feDB8+HAAMLLOiQebN28GgAT+qwTYNe/69esRUaPRODk5idMcrbGlWAytVrtz5042JMHj3SAt1pqlp6ezfE/v3r0N3lK1htu3b7OZlm1f1iTmpA1tzs6dOwFg5syZvAOtWbMGAJKTk9lDdplV2fZmCNtX9HNycoqLizt16tTRo0cjIyOdnJzCwsIKCwtjY2MBoKKiYsaMGYsXL66rq5PJZAUFBRMmTLA+6LFjx1atWnXgwAEA8Pf3d3Jyunv3rp1LxjmkbrvdNhW3CGRylzzHUpHR0dGrV6+urq7u37+/n58fe/LUqVN79+719/f/5ZdfMjIy2NpZ6zl58mRKSsqRI0cAwMXFxdfXV6vV3rt3zyYvbiYO2Thut03FBsUyEpdvDdLWb3vmzJmbNm0qKCgQ1s7aBEvfNg8cGNQO3WSL/tik0HzFMvi2ly5dGmjrXeUt3mfHHpXE+Pj4uLu7P3r0qK6ujmugZ2gobN0a3oGE9/ni9FjwpPQy37gt/nVNlrjiK5Zj/58cMt2xf9Un+0yz3N3dvby8GhoaqqurweE9FtjrMzb4//SC9Fh2m2Zdu3atoaHBx8cHHD55B3u9bXd3d29v74aGhqqqKnDQZyykObRarT3j2u3NBgYGstsn4PDJOzgo0eKQUUlIc9y/f9+ecQ2e4ebmZq5B2bl15FDokESLo0alZ+RqVK1Wd+/e/f3332c39WyLVqtNSUmZPXu2s7NzZmZmW4d1kKEQnv5QHTvdcfjcbteuXWq1euPGjaGhoUuWLLlx44atYpWUlMTExKxataq5ufmdd95hG4EMYiex7FB62eFDIThILLaW9fLly8ItrISEhHPnzslkMo1Gs3nz5j59+syYMeP06dNWBsrIyIiIiDh+/HhgYOCePXuEG74G6Tg9lvhD9fb2dnd3r62tra2t5R1XTGuh//Wvf61YsYLdF+fBpUuXkpOTfX19z507FxYW9uWXX9bX1wNAZGRkRkbGlStX5HK5m5vbnj17Ro4cOW7cuJycnHZEqaysjIuLmz9/fk1NzaxZs4qKitgdd2PwvivObgxPnDiRdyC2F2rp0qXsYa9evQDg5s2bvOOK+eSTTwDgww8/ZA9ra2vZ3uVOnTotWrTIthsMdTrdhg0b2OrCbt26CYuku3XrlpqaWlVVJRx5584dhULx0ksvsQOGDBki7KI2h7aqjBiHu1gXLlwAgEE8N7sytm3bBgDx8fHs4WuvvQYAp06d4h1XTHp6OgAsWrRIeObMmTPx8fFsNbaTk9Nbb72Vl2egpp6llJeXC32GTCarqalhC2jZuwYAb29vuVwuXuTNdlEzRQAgJCTE5P6AFlVGrl+/bn4LuYtVXl4OAAEBAbwDHT16FAAmTJjAHkqlUgCw7fY642g0mrlz5/r4+Pj6+rb4zMRb1qKi8saOxexsbPeOte3bt7PlUP7+/rtalRlhm3uZPWxzr3hpbl1d3VdffRUSEiJ0b3v27DEYpa2ypWbCXazm5ma22pB33Zj79+/v3r37/Pnz7OHChQsB4Ntvv+UaVODq1atsbSPbTwuP93QIe5QRsby8/IMPVnfrpmW79ocOxW3b0KKzIt51MnXqVCO7TtjknS37Zpt7xUtbxd1b66qk5pQtNQl3sRCRLcaqsKbYiuWsXLkSAFJSUuwQS6VSsYWyPXv2PHz4sLCnAwzVm6iqwrVrMTBQXxTib3/DrVvNinLiBI4bd93T08v8XSfXr1+Xy+XCF06zzb3iA1rXX2irbKml2EMstgq+sLDQDrEEli9fDgDR0dFct82o1eqZM2eyj01clBFN1ZtobESVSl/SxmQp3YYGXL4cnZxY3bYdlhYkMn/ybrBsafuwh1ivv/46ABw6dEh45sSJE/PmzSsoKOARjm0KcnNzY+tJbFJc2iD79u1jFYW6dOmSmZlp8BhxvYmoqK1S6VO1TrVazMrC6mpjUS5exMhIfdnS5GRsd5ER45N3cdnSWbNmWX+67CHW7NmzAWCrqMdn70EikUyfPt22GwDFVUamT58uXCV5eXktW7bMZiWQamruLFvG0oMTJ040+bLXrl1bvHhxWFgjG/5iYtBo/QA95pctNR9WAqlPnz7stAQEBCgUih07drQjoWAce4iVmJgIAKmpqcIzrGSqp6cne3vi+nTWYLB+a+vi0tZWOvj9dwwNRYBvYmI2bNhg/g7bigpUKNDXVz+7GjwYVSpsq9xE+8qWmklzc/PWrVuFGzJsEhYdHd3uqu6tsYdYGRkZkZGRHh4ecrmcbf5nVFZWir/OJTQ0VKlU1rereH6L+q3iKIz8/Pw5c+YIJZAuJybiyZMWh9FocO1adHVFABwwAB9fgVpEdTUqldi9u16a4GBUKvHiRYyN1df8LinB1auxVy8EwIAA5Jow2bdvX0xMzKZNm9atW2fbogT2EAsR58+fzz519n0H4iqDjx49UiqVbBsxmzYqFIqHDx+a/+Lm128tLi6Wy+UTQkLQzQ0B0KKE0s2b+hrZEgnK5djQYH4LW9PQgOnprONDAPzqKwwKwnfeQUQsKsK4OPzPf3Dq1PYUeX9GsJNY+PSQxDIrZ86cEX7LqmsMHDiQ6eXj4yOXy00Wjm5f/VZNRQV++OGTMSkiAn/8sc0xiaFSoZcXAmDPnmi70i7NzZiVhfPmYX4+zpmDUinm5urFet6xn1iMwsJCmUzGKme2zqyw0njCVzN6eHgkJia2td3W2vqtNTWoVGJQkF6v3r2f1Eh+9Aj378ft25HNyj/7TH/M22+jJV2p+Vy4gHPm4LVrOGwY5ueTWO2lxeR92LBhKpVKPMYL3ZuPj484ec1oUb/V/JLrBmhsxC1bntRI/vvf8c4dHD4cU1IwPR1HjcKcHKysxL59sY2Egk1gYiGiQoEJCSSWdRicvDeI5i6FhYU//fRTi78SEgoAIJPJbFOUkX2LzejRuHcvLl+Owo2g//0P+/XTH8ATQaz6euzTh8SyBRZN3tv3hTCWMWnSU9/P2LeviQymLSgpQeGq49AhXLeOd0DuOF4sBpu8DxgwgOnVpUuXFrkJkwkFmyGVovi2a0iIlReALybPiliMFpP3Tp06yWSya9eu2fALYUyzbh0qFPqfz5596gubCLORICI8e+Tm5n7++efsPqiLiwub148ZMyYzM1NYS8SL+nqYOxdcXMDPD86dgy1b4HEShDCfZ1QsRlFRUWpq6sGDB/v16zdixIhPP/1UyFNw5+5dqKqCkBCQSOwUsWPxTIvFqKur69y5M8uCEs8Lz4FYxPMIdQMEF0gsggskFsEFEovgAolFcIHEIrhAYhFcILEILpBYBBdILIILJBbBBRKL4AKJRXCBxCK4QGIRXCCxCC6QWAQXSCyCCyQWwQUSi+ACiUVwgcQiuEBiEVwgsQgukFgEF0gsggskFsEFEovgAolFcIHEIrhAYhFcILEILpBYBBdILIILJBbBBRKL4AKJRXCBxCK4QGIRXCCxCC6QWAQXSCyCCyQWwQUSi+ACiUVwgcQiuEBiEVwgsQgukFgEF0gsggskFsEFEovgAolFcIHEIrhAYhFcILEILpBYBBdILIILJBbBBRKL4ML/AT4HVaS4iYd7AAABmHpUWHRyZGtpdFBLTCByZGtpdCAyMDIyLjAzLjIAAHice79v7T0GIOBlgABGIBYFYnEgbmBkY0gAiTFzMGgAaWYmNgcwzcLmkAGimRmRGBAZdJXsEJoZn05cZsH1Ql2BaQe6Tm6g+xmZFJiYM5iYWRJYWDOYWNkU2NgV2DkymDg4Ezi5Mpi4uBO4eTKYeHgTePkymPj4E/gFGPgFEwSFNJhYhROERTKYRJgSBNkT+DgTRJjZmESEWVmY2Tg4+fgF2dm4uHl4+TjF2Rgh4QQGojorjhz4Uc/uAOJI1h44YFMsbw9ic/+bcuB7t80eEFsuJPoAp2kkWJwxjOVAsV20HYi94//3/S33Fu8Hsf+wiey3EvwKZj+aoWY/728bmB26hMEhxOAGmO3r4++QbxkCZpuqTnbI898NZhtW7nJYXC4FZsv5bXNgFk0B28V/vsvBwvYwmK3+zc3BLFgLzBb9cN8+MGYZmH3K+bx90EUjsPt9HFjtLys9BLtNY0fY/uzqTrCay8u9Dgj85DgAYv+4NOFA9v4DYLvEAClOZY+ttMu0AAACDnpUWHRNT0wgcmRraXQgMjAyMi4wMy4yAAB4nH2UW24bMQxF/70KbSAC3xQ/YzsogiI20LrdQ/+7f5Qc1xkZEDJjEfM4Q0m8lz60On6cv//52z4POh8OrcEXv4hovxkADh+tLtrx7dv7pZ1ur8fHk9P11+X2sxE24vwmz2f29Xb9eDzBdmov1lFUKRp1RMdhDTpsx/4ptWuBgEqO+d6IhtIC5Moo3dQAsb0kgKgwFqQUyV3IASLfDxliq7m1QOpg7lIgoSDoArQCsQcnh3VFA3KdC9JrO9DVBzFt32QJxoocmTO3q+AOBYKK4WryaJcsICAAb6CNEb4CMSVq3IkDau7cOAUArsiSR7pGEtsqxZhtSVKSmpmcQiqnAfNyP8gbaeHAVewRELKqOso2ObO7W8OupAxLULf9IIzUp2plyryyBlqWCHuKo5k81YmwWIKeGbOCGKSWRfUQoOXUd3WUQLESCYdjrMC4Cz54uHjmBhfwFUlwtyWaSXD5DnNyWC2T8O71rIwrlz4KOmSFvl3OT31378Tj9XLeO7FO2vstbxrvXSU19tapU/cGyZtmextgDt+9jjnGbmjJEbttJQfO7pQKiJMLpQLS5DapgDy5SiqgTPaRCqiTT+o2bTAZArfgk/KyPRmTxFQBY9JScn80SyYVCCdlpMLn+mhb8dirQPx/MU8SzYLU/eNvNa8P/wD+Kg3s9bFYCwAAARB6VFh0U01JTEVTIHJka2l0IDIwMjIuMDMuMgAAeJwtkMltQzEMRFvJ0QZkgfuCj5xcgIvQ3RW4+AyT6CQ8LjOc5+vwOef2OvI+eubp+/a8H/l+3c/hr8/tEZvNXZds5uReFwixSy7aIVIuQLbDg3g9CDV2KjDdJglGu6wsAkg2RaYDCRuTA/FuTeuFjxSJAtH2LFEZ1hCHJqScMoeQW/C6sIqJdEhUda5Lt2gPgaA0Qfmy7Y3/NFmowoKjlkOwkVSrBkUn2fhsaosZU82sxdvFlWc1U+XvxeEKZxdvmHZGi3RHDwhuCcSUbXAByy7kLBgy7b/kIKGVlhijtP+UOGLuR75Gf1lCFSHBtJOXrfvnBxL4V3pjkpxjAAAAAElFTkSuQmCC\" alt=\"Mol\"/></td>\n",
       "      <td>282.299</td>\n",
       "      <td>2.73440</td>\n",
       "      <td>53.35</td>\n",
       "      <td>0</td>\n",
       "      <td>5</td>\n",
       "      <td>5</td>\n",
       "      <td>3</td>\n",
       "      <td>3</td>\n",
       "      <td>3</td>\n",
       "      <td>0</td>\n",
       "      <td>0</td>\n",
       "      <td>32</td>\n",
       "      <td>0</td>\n",
       "      <td>[[0, 1, 0, 0, 0, 0, 0, 0, 0, 0, 0, 0, 0, 0, 0,...</td>\n",
       "    </tr>\n",
       "    <tr>\n",
       "      <th>232633</th>\n",
       "      <td>17433092</td>\n",
       "      <td>CSc1ncc(Cl)c(C(=O)Nc2cccc(C)c2)n1</td>\n",
       "      <td>9.5843</td>\n",
       "      <td>-4.23932</td>\n",
       "      <td>0</td>\n",
       "      <td style=\"text-align: center;\"><img data-content=\"rdkit/molecule\" src=\"data:image/png;base64,iVBORw0KGgoAAAANSUhEUgAAAMgAAADICAIAAAAiOjnJAAAABmJLR0QA/wD/AP+gvaeTAAAVbUlEQVR4nO2deVhU1/nHv8MiizjirkVccEEw1ojKo2gSqRp9TGJSawSXLPanWUwMSNEQl4jYhLYpWhuTqhERY9Ronkc0VqtGgxsYizZQgqh51LAHQSIwAwPMvL8/7mQkINvMPffa4f38decwc847j597vXPOe96rISIwjNw4qB0AY5+wWIwQWCxGCCwWIwQWixECi8UIgcVihMBiMUJgsRghsFiMEFgsRggsFiMEFosRAovFCIHFYoTAYjFCYLEYIbBYjBBYLEYILBYjBBaLEQKLxQiBxWKEwGIxQmCxGCGwWIwQWCxGCCwWIwQWixECi8UIgcVihMBiMUJgsRghsFiMEFgsRggsFiMEFosRAovFCIHFYoTAYjFCYLEYIbBYjBBYLEYILBYjBBaLEQKLxQiBxWKEwGIxQmCxGCGwWIwQWCxGCCwWIwQWixFCOxVLZ9JJB3E/xqkbib3S7sT6+M7H/ln+M76fMTp7dIouZWPxRrUjsk+c1A5AUVJ1qZvvbE7xTfF09MyvzTeRSe2I7Jb2JdaRe0de7vayp6MnAC9nL7XDsWfa13+FxXXFPZ16qh1Fu6B9idXXue+tmltqR9EuaF9izes6L6E04brhOoByY/ndurtqR2S3tK97rCEuQ+L7xS/6YVEN1XTQdPiT158GuQxSOyj7RENEasegEDGFMc90fmaU+yi1A2kXtBexvq74+jc3fqN11OY+kqt11Kodjv3TLu6xjGQMzwsHENUriq1ShnYh1paSLRlVGT4uPst6LlM7lvaC/f9XWGYsG/rd0JK6kqRBSc92flbtcNoL9n/FWl2wuqSuZHKnyWyVktj5FSurOmvk1ZEArgy7MsJthNrhtCPs/Iq1LG9ZHdUt6bGErVIYexbr8PnD31d+392pe3SfaLVjaXfY7cx7dXV1+IvheUV58V/Hd3HsonY47Q67vWJ98MEHt27dGu47fN6YeWrH0h6xz5v3vLy8YcOG6XS65OTkJ554Qu1w2iP2ecVavny5TqcLCQlhq9TCDq9YKSkpEydOdHV1vXr1av/+/VWOpqQExcUYMgTOzipHoiz2dvNuMpnCwsKIKCoqSmWrKisxfz70enh74+JF/PGPmDVLzXgUhuyLrVu3AvD29tbpdCqHsmYNLV9uPi4qIm9vunNH1YAU5aG4YmVlZR0/fjwiIsLFxcXd3d2WroxGI4C4uDgb+5GBkyexbZv5uFcvBAUhNRXPPKNqTMqhvlhGo3HBggXZ2dkADAaDwWCwpTetVqvRaNS/tQJQVobOne+/9PREWZl60cjM6dOnY2JiNm3aNHLkyAe+QX2xtm/f/p///Mfb2zs7O9vR0VGv19vS27p16zZt2hQWFpaSkqLRaOQK0hp8fHDtGvr1M7+8ehUvvqhmPPJhNBqXLVuWkZFx7NixpsRS+R6rrKysR48eAA4cOCBLhxUVFb/61a8AfPbZZ7J02GaMRvPB0aM0dizdvk01NbRjBwUGksmkTkhy8+GHHwLw8fGpqqpq6j0qTzeEh4dv2rRp4sSJZ8+etVxgCgoKqqur67+tS5cW1mS0Wq2jo6N0vHPnzoULF3p5eV27dq1jx44iwm6ON99ESQni4uDlhSNHsG0bfvoJAQFYuxYtfYv/Ce7evTt06NDS0tKkpKRnn206E0lB0RuSlZXl7Ozs6Oj47bff1m8PCgpq67dNT0+3fNxoNAYGBgJYu3at0l8pM5OcnMjJiTIylB5aKZYsWQJg8uTJzb9NTbGmT58OYMmSJQ3aZ8+e7VOPgQMHdmmJzMzM+j1IN1hubm63b99W8AsRTZ1KAIWFmV9evUr79ysagGAyMzOdnJycnJwyWjpzVBMrKSkJQJcuXe6Imd0JDQ0FMG/ePBGdP5gDBwigrl2ppMTcMm0aARQXp1wMgpk6dSqAMMuZ0zTqiFVdXTdkyBAAH374oaAhcnNz3d3dNRrNuXPnBA3xC/R6GjCAANq61dySlEQAdeliN/OiBw4cANC1a9cSy5nTNOqIFRtLI0acnzFjXm1trbhR1qxZAyAgIMBo+aUmjnXrCKBHH6W6OiIig4GGDiWAhJ05CqPX6wcMGABgq+XMaRYVxCosJK2WADp+XOxAer2+X79+AHbt2iV2pNxc6tiRAEpONrfExhJA/v5UUyN2aKVYt24dgEcffbROOnNaQgWxXniBAJo1S4mxdu3aBcDLy6uiokLgMCEhBFBoqPllUZFCp45S5ObmShM3yZYzpyWUFis1lTQacnWlmzeVGM5kMk2YMAHA6tWrBQ1x7uzZs5Mmmbp0oZwcc5OSp44ihISEAAi1nDmtQFGxjEYKDCSAhP0rP4DU1FSNRuPq6nrr1i3ZO6+rqxs1ahSATe+/bxmPNBpycaEbN2QfThXOnz9vxdyNomLt2EEAeXlRZaWSw9L8+fMBhISEyN7zli1bUC9Lx2g03nv2WQJo1SrZx1IFo9E4ZswYAOvWrWvTB5UTq7yc+vQhgPbsUWxMM3l5edItwpkzZ2Ts9u7du9JC5xdffCG1JCQkuDo5ffnMM0qfOsJocOa0HuXEiowkgIKC1FmKjY6OBjBq1CgZpx7eeustAMHBwdLL8vLyPn36ANij/KkjBltSBJQT6/33ycODLl9WbMBfoNfrpSStHTt2yNJh44XOyMhIAEFBQSZ7yWIICwsDMHHiRCu+kUCxSkroz38mvd788h//oOJicaO1zGeffQagV69e9+7ds723BgudN27ccHFxcXBwuHTpku2dPww0lSLQSgSKlZVFzs60cqX55cCBpG4auslkmjhxIoB33nnHxq4aL3TOmDEDwOLFi20O82GhqRSBViJWrOBgCgig774jegjEIqLLly87ODh06NDhhm1zAdL/EZaFzhMnTgDQarWFhYVyhKk+tqcIiE1NdnLCX/6C119HcrLQcZojJyen38/5wQEBAaGhoXv27AkMDGwxebA+7u7uLi4u9Vt8fX0TEhKmTJnSr1+/pUuXAoiOju7du7eMkbcVg8Fw9OjRvXv3Nv5Tm76syWSSxIqJienevbuV0chren2ysmjqVCKi0FDatUudK5Z06zN37lzLj8Hw8HBn+faOenh4zJ49G8CwYcNq1F4WfPLJJx955BFZvpeXl5dWq/3pp5+sDkaJzRRxcZgyBVVVCgzVkIiICIPB4Obm5uDgACAnJ2fbtm11dXWff/65NO/XSvR6fePtQ8nJyZGRkadOnXr55ZdDQ0Nl9NUKkpKSTpw4odVq4+PjO3Xq1OCvZW3ZIEREGzZsyM/P37Bhg7T2bA3ynTANsVyxiGjDBgKUvmKdPHkSQKdOnQoKCqSWWbNmAXjhhRfkGkJKfAsPD5erQ+swGAxSftvmzZtl6dD2FFyBYpWV0ZEj5uPaWvrkE2q8WCcu56C2tlb6f+Gvf/2r1HLq1CkAHh4e+fn5co1iSdVtkButMO+99x4Af39/GfPb5s6dC2Du3LnWfVy5XTpLl2LLFly8iNGjAaCwEK++itJSnD8PEfv/Nm7cGBERMXjw4MzMTBcXF6PRGBAQkJGRERsbGxUVJeNAr7322tatW5966qkjR47I2G3rKSoq8vX1LS8vP378+JNPPmlpf+655/Ly8pr5oKurq5ubW/2W/fv3W27zpVJQer3+zJkzjz32WJvDkkvwFlmxggAaP968pFNRIXDpsLiYAgJeAnDk52tma7bCWTtWsaenJ4Bjx47J23MrWbBgAYDf/e53Ddp9fHzaKkPxL6ew165dC2tTcJW7YlVUwNcXhYXYtw8hIQCQkIDf/x59+yI7G/Lu/3v1VezYgcWLv/3440dRbyvcoUOHZs6cKedIAIC4uLjIyEg/P7/09HSFb+FTU1MnTJjg4uKSlZU1cODA+n/KzMxsvl5BdXV11S9/Uj3++OMdOnSwvKyqqho2bFhOTs7OnTtfeumltkVmy7nSVrZvJ4C8vc138UYjjR1LALUxI6MFrlwhR0fq0IGys80tb7zxBoCplp8ScmMwGIYOHQrg73//u6AhHohlB+WaNWsEDbF7925YtQ6mdKLfmDEE0Pr15paUFNJoyM2NfvhBtlEef5wAiow0v8zMpMGDqwIC3vlOWgEQw+HDh/38FkyYUFpaKm6QhsTHxwPo27dvpbAsHUsK7qo2ZpgpnZp8/jxpNOTuft+kOXMIoDfftH4urj579hBAPXuSZW5v0iQCSIEJgalTTQAtXSp8IAlLls7evXuFDpSWlubg4NDWFFwVNlPMnk0Avfii+eXt2xQcvNvR0Tk1NdXGnvV66t+fALKkxjTeQyqO774zb6//73+Fj0VEf/jDH6BUlo70+2DOnDmt/4gKYt28Sa6upNHQN9+YW1avXg1g9OjRNmbhpadTv340Zoy54kvjPaSiWbKEAGqprIEMWLJ0/v3vfwsfzKoUXHU2rL7zDo0blzdz5lvS2abT6by9vQF8+umnNvas093f/9NgD6kClJZSt24E3J8ZFoSUpfPKK6+IHaYe0tpO61Nw1RGrvLxSuj+wVLFKTEwE4OXlJdd9aOM9pMrwt78RQIMHk8EgaghpJlbhLB1LCm58fHxr3q9aUZCEhIT6v2hMJpO8v5wb7CFVjNpaGj6cANq4UUj/BoPB19cXwEZBAzSNlJDTs2fP1kw9qCaW0WgcO3YsgOjoaKlFWvgcPny47QteFy6YZzEUrmIk8c9/EkCenkKqgXzwwQcA/Pz8VMnSkdZ2oqKiWnynmvWxGi+hJyUlVVdX297z55+Tpyf9bKwKTJ9Orq50+LDM3f7444+dO3eGestHV65ckVJwr1+/3vw7Va5BKu3dnj9/vu1dffrp/bmx5GS6cuX+Pg4FuHbt/sxZeTmdOEGXLtH335tb9Hpq6R+iVSxcuBDAzJkzZejLWqS1nVktFRBQWSwZq1j16UPTp5uP/+//6MsvbY2tTcyZQydOmI8vXKCnnjJvd5PqOaSnk+3rSZaE/WvXrtnalw0UFRVptVoAJ0+ebOZtKj+kqW/fvhEREUQUHh5uMpls6crRET16YN8+uUKTgSeeQFiYPF0RUVhYmMlkioiIkNYl1aJXr14rVqwAEBkZKT2u4YGo/5AmnU43YMCAqqoqnU7X1Ht69/YqKmoytcjZGV9+iUWLcPEigoNx6RIiI/Hcc3j6aTERP4iQEPj7Q6p5fu0azp3DhAnQanH0KF57Df37IzIS8+Zh8+YHfFbKgHJ11VVXP9dU/3fu3ElPT+/du/f169cbZx4rTHV1tZ+f3+3btz/55JNFixY98D3qP0CgpqbGaDTW1dU1857mHwVQWwvp015eePVVvPuuvAG2lrw8SGlzOTn3GzdtwtNPIzERAAoLcflykx/v3Ln23r2vmum/R48efn5+9a3Kz8+vqKgYNmyYjZG3SGlpqclkkrbbA3B1dZ0yZcq//vUvf3//pj6ivljR0dFlZWXBwcGnT5+2rofa2vvHYWEIDIQqz9GZMwdTpwJASgref9/cOHgwQkMRFwcACxeiXoLnfaSNDhpNR6KTTXVeWFi4ePHiM2fOXLp0SZrwO3369MyZM3/9619fuHBB9DM4oqKivvjii8TERCmb7e7duwcPHiwtLS0pKWnyM8rc8TWFZR93/ULt1tG3r/ng3DnSaB6Km3dpZ0NVFQ0aJMPN+9tvvw1g/Pjx0jqYYs/gsEwxWH40vP7662ip1LvKYk2bNg3AG2+8YXtXH310/zgx8f5PfWX46COybKe4cYM2bKBjx+jrr80tyckyTMRb8mT27dsntTRYvRCByWSSJkVXrFghtVj2j/y32SwONcU6ePAgRJZ6tz+2b98umWSp89Zg9UJ2LBmkls2rkyZNQit2vKkmlmUr3Ef1LzVMs1jq68XExEgtQp/BodPppOoECQkJUsv+/fvRulLvqoklYitce0C6VXdzc/vh53UGGVcvGrBq1SrUy5NrU6l3dcQqKSnw8PAAcOrUKVUC+J/m+eefR7393IKewXHz5k1XV9f63bap1Ls6Yt269UJi4qjISOXy1OyJnJwcyaTz589LLXKl4Nbnt7/9LYAXf04hb2updxXEqqxMSUvTXLniWl2tSK13e2TlypUAxo0bZ0nBlfcZHI3LEbS11LvyYhmvXg1MS0N+vqitcO0ByyTW7t27pRbLMzhsn3qoq6sbMWIEgNjYWKnFilLvSot15058WhoyMvoajXZSsFotdu7cWd8kGVNwG5QjaPxTtDUoKlZdXXl6ep+0NJSWit0K1x6wmGR5kKz0DA43NzdbnsFRWlrarVs3AIcOHZJarCv1rqhYubmRaWnIzg4ispOC1erSeBJr3rx5bboTakyD5ZrGD0loJcqJVV194/Jll7Q0h8pKOylY/TDQ4EGylg2AZ8+etaK3xss1DR6S0HqUE+vGjRlpabh9234KVj8MSLMA9Web1q5dO2jQoNOnT1vR28mTJ728vCxP5rWl1LtCYplMdXl5Ud9+27O29kdlRmw/vPvuu6hXxaqqqsqWDSmVlZXl5eXSsS2l3kWLZSorSyoo+GNJSYLRWGE0ql3o3R6xPEg2MTFRxm5tLPUuNue9qCi2tHSnm9uI2toCo1Hn4KBGAp694+bmJi28rlixoqKiQpY+a2pqli9fDmD9+vXWlXpvLuc9IyPDaDRKG9ka4+am6dq1uXx5Z+deN28+3737K56eTaZyM7JARI899tiFCxdWr169fv162zuMjY1duXKlv79/enq6k5M1acbNidWrV6/i4uKm/hoZGRgaeqmZrgcNOkRUlZsb1q3bS927L3ZxGWxFfEwruXjxYlBQkLOz8/jx4y3lKtv0QAoLBoPh+PHjBoPhq6++mjx5snXxNCfjyJEjS0pK7t2798C/enh0d3Fprnyqg4O7VjvTw+OJu3f3Xr8ePGjQQXf3NtTsZ9rEuHHjYmJivvnmG1mKN0+bNs3Pz89qq6DY9q/8/FWOjtrevd9WYKz2TFZWVkFBgeVlmx5IUR8fH5/RUtl0axErVmHhex06eDs4uBQUvDtgQGLHjuPEjcU8VIgVq7r6akXFaZOpqlOnye7uo8QNxDxsqL8TmrFLVK7dwNgrLBYjBBaLEQKLxQiBxWKEwGIxQmCxGCGwWIwQWCxGCCwWIwQWixECi8UIgcVihMBiMUJgsRghsFiMEFgsRggsFiMEFosRAovFCIHFYoTAYjFCYLEYIbBYjBBYLEYILBYjBBaLEQKLxQiBxWKEwGIxQmCxGCGwWIwQWCxGCCwWIwQWixECi8UIgcVihMBiMUJgsRghsFiMEFgsRggsFiMEFosRAovFCIHFYoTAYjFCYLEYIbBYjBBYLEYILBYjBBaLEQKLxQiBxWKE8P/y7qNybAqG+QAAAYF6VFh0cmRraXRQS0wgcmRraXQgMjAyMi4wMy4yAAB4nHu/b+09BiDgZYAARiAWBmIRIG5gZGNIAIkxCzAoAGkmNgcNIMXMwg6hmdkcMsA0I0xCEKwOzmVjgNAcEJqJnQGsngmhAGEAJgNmBsQJcAmY5dxAtzIyMTAxZzAxsySwsGYwsbIxsLInsHMocHBqMHFwKXBxK3DzZDDx8Cbw8mUw8fEn8Asw8AtmMLELZTAJMSUIcieIMLExCbGzsjCz8fDy8Qtyi7+DBgEYCId+3ncgo4DtAIiT+rnvgO4+CLt+ce6BF2z++0Fs7g19Bz44/7EDsU/L5B54xPnUHsR+LcN7IDzvCZjtuHnn/vnGrg4g9soDu/bPTf8OVs/yWN225OcXMDuy29ve2fwxWH1Xgae92pogsPnMMUIO1o+DweyZEk4O7M4cYDfY8kx0ODMBwn6ku9IhJTAMrGa6/0SHH+vegs20KVzpsCTlIdhM3/lODoqyH8Di8xfzHvhrGwBWLwYAZd1ddD3tYPoAAAHoelRYdE1PTCByZGtpdCAyMDIyLjAzLjIAAHicfVRBbhsxDLz7FfyABZKiJPIYr4MiKLIGGrd/KJBj/4+S2jpSEKErS5C4Y5IaDvcE8fy4fv/9Bz4evp5OAPifn5nBr4yIp1eIDVyev73ssN2fLg/Ldvu539+ADBihj8/Yp/vt9WEh2OBcktXGKHDmRIiVCDBhf8Z/Gd7gLEkc6e87suTSFsgcPnNqlCl8YlLU6ml/RQrs3WdR03gvxg3rAlj+uURRZaDU1HKVBbAGkJNfRg07UCqtkmywvcOZPDY2zZATKnFbxdZwGUBDLJGkZiZeAM2BbhU01cBF7JVDQri5uVlBK5FjK8SryzjPewC1asudSGbLKyI9nw382o70kB3ZfLtCRnX8tpk9ai8jG9qq4CSOlFQcKYc0ctasK2SUp/To4dOj50ZtmWc9fDpHtXNZhXmZZjtcOketF7yi6pIjPe7jHp2j8KjWVtXxdti7NFyWTldkSVlkFfx5v35qkqNtLrf9OtomBo/e8APk0QASc6g8Rhla9gPUoVjy2YYuxY86xEc+bUiMfdIsJQoDTZKhvvAkDYmF8iQBiYVkKrXEQmUqaRy9YFPpqC9tqpF0i07FkEjZJtIllo/YHHQ4bOQXZM/UxvnxNfP96S9SMvV/pwXeZgAAAPN6VFh0U01JTEVTIHJka2l0IDIwMjIuMDMuMgAAeJw9kDtuAzEMRK+SchfQEvyJHxip3NtFjqA28Al8+FCSkUYQHmaGQ95/Br3GOO6/Zz3H9/N8DB5jknPw+aKv93F1SHNuFwMhGrXbpaBFaKMuVkjASYogBIZlblWP+iFosuNHhRrRCDxy+Ri4SC6ixkWobOjRBDCI40NWTAhTSRBQMSum0HTZRJ4ds88c71vkYeGyKjGnVKUaNtlGblHGmiLsfa3CiSVS6EV0EZHQduvL1pdNnHyLqoLPBqbMtkTVwGcBw+o2k/8lkc572TrSvhKJqrXz/Qd5Ck/4Dg7QewAAAABJRU5ErkJggg==\" alt=\"Mol\"/></td>\n",
       "      <td>293.779</td>\n",
       "      <td>3.41262</td>\n",
       "      <td>54.88</td>\n",
       "      <td>1</td>\n",
       "      <td>4</td>\n",
       "      <td>6</td>\n",
       "      <td>2</td>\n",
       "      <td>2</td>\n",
       "      <td>3</td>\n",
       "      <td>0</td>\n",
       "      <td>0</td>\n",
       "      <td>33</td>\n",
       "      <td>0</td>\n",
       "      <td>[[0, 1, 0, 0, 0, 0, 0, 0, 0, 0, 0, 0, 0, 0, 0,...</td>\n",
       "    </tr>\n",
       "    <tr>\n",
       "      <th>149000</th>\n",
       "      <td>49723520</td>\n",
       "      <td>O=C(NC1CCCN(c2ccc(C(F)(F)F)cn2)C1)c1cc(Cl)ccc1F</td>\n",
       "      <td>12.4237</td>\n",
       "      <td>5.33698</td>\n",
       "      <td>0</td>\n",
       "      <td style=\"text-align: center;\"><img data-content=\"rdkit/molecule\" src=\"data:image/png;base64,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\" alt=\"Mol\"/></td>\n",
       "      <td>401.791</td>\n",
       "      <td>4.29170</td>\n",
       "      <td>45.23</td>\n",
       "      <td>1</td>\n",
       "      <td>3</td>\n",
       "      <td>9</td>\n",
       "      <td>3</td>\n",
       "      <td>2</td>\n",
       "      <td>3</td>\n",
       "      <td>1</td>\n",
       "      <td>0</td>\n",
       "      <td>47</td>\n",
       "      <td>0</td>\n",
       "      <td>[[0, 1, 0, 0, 0, 0, 0, 0, 0, 0, 0, 0, 0, 0, 0,...</td>\n",
       "    </tr>\n",
       "  </tbody>\n",
       "</table>\n",
       "</div>"
      ],
      "text/plain": [
       "<IPython.core.display.HTML object>"
      ]
     },
     "execution_count": 29,
     "metadata": {},
     "output_type": "execute_result"
    }
   ],
   "source": [
    "show(herg_df.sample(5))"
   ]
  },
  {
   "cell_type": "code",
   "execution_count": null,
   "id": "0lOdO26vgDUb",
   "metadata": {
    "id": "0lOdO26vgDUb"
   },
   "outputs": [],
   "source": [
    "## from RdKit cookbook (https://www.rdkit.org/docs/Cookbook.html)\n",
    "def mol_with_atom_index(mol):\n",
    "    for atom in mol.GetAtoms():\n",
    "        atom.SetAtomMapNum(atom.GetIdx())\n",
    "    Chem.Draw(mol)\n",
    "    # atom.SetAtomMapNum(0)\n"
   ]
  },
  {
   "cell_type": "code",
   "execution_count": null,
   "id": "PFxIANN58N9u",
   "metadata": {
    "colab": {
     "base_uri": "https://localhost:8080/",
     "height": 167
    },
    "executionInfo": {
     "elapsed": 245,
     "status": "ok",
     "timestamp": 1652135797637,
     "user": {
      "displayName": "K Ajayi",
      "userId": "14355577383255450167"
     },
     "user_tz": 240
    },
    "id": "PFxIANN58N9u",
    "outputId": "2999aa2a-fed4-438b-95de-44a374575bdd"
   },
   "outputs": [
    {
     "data": {
      "image/png": "[encoded data removed]",
      "text/plain": [
       "<rdkit.Chem.rdchem.Mol at 0x7f5dc63203a0>"
      ]
     },
     "execution_count": 32,
     "metadata": {},
     "output_type": "execute_result"
    }
   ],
   "source": [
    "herg_df.Mol[6]"
   ]
  },
  {
   "cell_type": "code",
   "execution_count": null,
   "id": "7450f8b1-e75b-4dcb-a254-368333654512",
   "metadata": {
    "id": "7450f8b1-e75b-4dcb-a254-368333654512"
   },
   "outputs": [],
   "source": [
    "\n",
    "# mol_with_atom_index(herg_df.Mol[6])\n"
   ]
  },
  {
   "cell_type": "code",
   "execution_count": null,
   "id": "knGK4GMs97aq",
   "metadata": {
    "id": "knGK4GMs97aq"
   },
   "outputs": [],
   "source": []
  },
  {
   "cell_type": "code",
   "execution_count": null,
   "id": "asWjO6mCpuOl",
   "metadata": {
    "colab": {
     "base_uri": "https://localhost:8080/",
     "height": 35
    },
    "executionInfo": {
     "elapsed": 241,
     "status": "ok",
     "timestamp": 1652135329005,
     "user": {
      "displayName": "K Ajayi",
      "userId": "14355577383255450167"
     },
     "user_tz": 240
    },
    "id": "asWjO6mCpuOl",
    "outputId": "634cf4c8-6920-4a32-d993-759eb42eede5"
   },
   "outputs": [
    {
     "data": {
      "text/plain": [
       "'Fc1ccc(Oc2ncccn2)c(F)c1'"
      ]
     },
     "execution_count": 35,
     "metadata": {},
     "output_type": "execute_result"
    }
   ],
   "source": [
    "Chem.MolToSmiles(herg_df.Mol[5])\n"
   ]
  },
  {
   "cell_type": "code",
   "execution_count": null,
   "id": "828583cb-85b8-4650-8d95-fc68d15550c1",
   "metadata": {
    "colab": {
     "base_uri": "https://localhost:8080/"
    },
    "executionInfo": {
     "elapsed": 241,
     "status": "ok",
     "timestamp": 1652130335031,
     "user": {
      "displayName": "K Ajayi",
      "userId": "14355577383255450167"
     },
     "user_tz": 240
    },
    "id": "828583cb-85b8-4650-8d95-fc68d15550c1",
    "outputId": "2b6d8dfb-3b46-4f6b-a530-b6469b5910b0"
   },
   "outputs": [
    {
     "data": {
      "text/plain": [
       "matrix([[0, 1, 0, 0, 0, 0, 0, 0, 0, 0, 0, 0, 0, 0, 0],\n",
       "        [1, 0, 1, 0, 0, 0, 0, 0, 0, 0, 0, 0, 0, 0, 1],\n",
       "        [0, 1, 0, 1, 0, 0, 0, 0, 0, 0, 0, 0, 0, 0, 0],\n",
       "        [0, 0, 1, 0, 1, 0, 0, 0, 0, 0, 0, 0, 0, 0, 0],\n",
       "        [0, 0, 0, 1, 0, 1, 0, 0, 0, 0, 0, 0, 1, 0, 0],\n",
       "        [0, 0, 0, 0, 1, 0, 1, 0, 0, 0, 0, 0, 0, 0, 0],\n",
       "        [0, 0, 0, 0, 0, 1, 0, 1, 0, 0, 0, 1, 0, 0, 0],\n",
       "        [0, 0, 0, 0, 0, 0, 1, 0, 1, 0, 0, 0, 0, 0, 0],\n",
       "        [0, 0, 0, 0, 0, 0, 0, 1, 0, 1, 0, 0, 0, 0, 0],\n",
       "        [0, 0, 0, 0, 0, 0, 0, 0, 1, 0, 1, 0, 0, 0, 0],\n",
       "        [0, 0, 0, 0, 0, 0, 0, 0, 0, 1, 0, 1, 0, 0, 0],\n",
       "        [0, 0, 0, 0, 0, 0, 1, 0, 0, 0, 1, 0, 0, 0, 0],\n",
       "        [0, 0, 0, 0, 1, 0, 0, 0, 0, 0, 0, 0, 0, 1, 1],\n",
       "        [0, 0, 0, 0, 0, 0, 0, 0, 0, 0, 0, 0, 1, 0, 0],\n",
       "        [0, 1, 0, 0, 0, 0, 0, 0, 0, 0, 0, 0, 1, 0, 0]], dtype=int32)"
      ]
     },
     "execution_count": 36,
     "metadata": {},
     "output_type": "execute_result"
    }
   ],
   "source": [
    "A = rdmolops.GetAdjacencyMatrix(herg_df.Mol[5])\n",
    "A = np.asmatrix(A)\n",
    "A"
   ]
  },
  {
   "cell_type": "code",
   "execution_count": null,
   "id": "WxFrl2t7ovws",
   "metadata": {
    "id": "WxFrl2t7ovws"
   },
   "outputs": [],
   "source": [
    "C = [1, 0, 0, 0]\n",
    "N = [0, 1, 0, 0]\n",
    "O = []"
   ]
  },
  {
   "cell_type": "code",
   "execution_count": null,
   "id": "269b3513-2369-4895-a1f6-a2e5d643f6b9",
   "metadata": {
    "colab": {
     "base_uri": "https://localhost:8080/"
    },
    "executionInfo": {
     "elapsed": 28,
     "status": "ok",
     "timestamp": 1652126194190,
     "user": {
      "displayName": "K Ajayi",
      "userId": "14355577383255450167"
     },
     "user_tz": 240
    },
    "id": "269b3513-2369-4895-a1f6-a2e5d643f6b9",
    "outputId": "380300b5-c71b-4373-ca04-aa448ef8d159"
   },
   "outputs": [
    {
     "data": {
      "text/plain": [
       "array([[0., 1., 2., 3., 4., 5., 6., 7., 8., 9., 8., 7., 3., 4., 2.],\n",
       "       [1., 0., 1., 2., 3., 4., 5., 6., 7., 8., 7., 6., 2., 3., 1.],\n",
       "       [2., 1., 0., 1., 2., 3., 4., 5., 6., 7., 6., 5., 3., 4., 2.],\n",
       "       [3., 2., 1., 0., 1., 2., 3., 4., 5., 6., 5., 4., 2., 3., 3.],\n",
       "       [4., 3., 2., 1., 0., 1., 2., 3., 4., 5., 4., 3., 1., 2., 2.],\n",
       "       [5., 4., 3., 2., 1., 0., 1., 2., 3., 4., 3., 2., 2., 3., 3.],\n",
       "       [6., 5., 4., 3., 2., 1., 0., 1., 2., 3., 2., 1., 3., 4., 4.],\n",
       "       [7., 6., 5., 4., 3., 2., 1., 0., 1., 2., 3., 2., 4., 5., 5.],\n",
       "       [8., 7., 6., 5., 4., 3., 2., 1., 0., 1., 2., 3., 5., 6., 6.],\n",
       "       [9., 8., 7., 6., 5., 4., 3., 2., 1., 0., 1., 2., 6., 7., 7.],\n",
       "       [8., 7., 6., 5., 4., 3., 2., 3., 2., 1., 0., 1., 5., 6., 6.],\n",
       "       [7., 6., 5., 4., 3., 2., 1., 2., 3., 2., 1., 0., 4., 5., 5.],\n",
       "       [3., 2., 3., 2., 1., 2., 3., 4., 5., 6., 5., 4., 0., 1., 1.],\n",
       "       [4., 3., 4., 3., 2., 3., 4., 5., 6., 7., 6., 5., 1., 0., 2.],\n",
       "       [2., 1., 2., 3., 2., 3., 4., 5., 6., 7., 6., 5., 1., 2., 0.]])"
      ]
     },
     "execution_count": 38,
     "metadata": {},
     "output_type": "execute_result"
    }
   ],
   "source": [
    "(rdmolops.GetDistanceMatrix(herg_df.Mol[5]))"
   ]
  },
  {
   "cell_type": "code",
   "execution_count": null,
   "id": "qQd10LUJYQA1",
   "metadata": {
    "id": "qQd10LUJYQA1",
    "outputId": "41894ab2-bbe8-419e-c834-add4cd3692b3"
   },
   "outputs": [
    {
     "data": {
      "text/plain": [
       "matrix([[1, 0, 0, 0, 0, 0, 0, 0, 0, 0, 0, 0, 0, 0, 0],\n",
       "        [0, 3, 0, 0, 0, 0, 0, 0, 0, 0, 0, 0, 0, 0, 0],\n",
       "        [0, 0, 2, 0, 0, 0, 0, 0, 0, 0, 0, 0, 0, 0, 0],\n",
       "        [0, 0, 0, 2, 0, 0, 0, 0, 0, 0, 0, 0, 0, 0, 0],\n",
       "        [0, 0, 0, 0, 3, 0, 0, 0, 0, 0, 0, 0, 0, 0, 0],\n",
       "        [0, 0, 0, 0, 0, 2, 0, 0, 0, 0, 0, 0, 0, 0, 0],\n",
       "        [0, 0, 0, 0, 0, 0, 3, 0, 0, 0, 0, 0, 0, 0, 0],\n",
       "        [0, 0, 0, 0, 0, 0, 0, 2, 0, 0, 0, 0, 0, 0, 0],\n",
       "        [0, 0, 0, 0, 0, 0, 0, 0, 2, 0, 0, 0, 0, 0, 0],\n",
       "        [0, 0, 0, 0, 0, 0, 0, 0, 0, 2, 0, 0, 0, 0, 0],\n",
       "        [0, 0, 0, 0, 0, 0, 0, 0, 0, 0, 2, 0, 0, 0, 0],\n",
       "        [0, 0, 0, 0, 0, 0, 0, 0, 0, 0, 0, 2, 0, 0, 0],\n",
       "        [0, 0, 0, 0, 0, 0, 0, 0, 0, 0, 0, 0, 3, 0, 0],\n",
       "        [0, 0, 0, 0, 0, 0, 0, 0, 0, 0, 0, 0, 0, 1, 0],\n",
       "        [0, 0, 0, 0, 0, 0, 0, 0, 0, 0, 0, 0, 0, 0, 2]])"
      ]
     },
     "execution_count": 39,
     "metadata": {},
     "output_type": "execute_result"
    }
   ],
   "source": [
    "D = np.array(np.sum(A, axis=0))[0]\n",
    "D = np.matrix(np.diag(D))\n",
    "D"
   ]
  },
  {
   "cell_type": "code",
   "execution_count": null,
   "id": "4skrKAx7YP8R",
   "metadata": {
    "id": "4skrKAx7YP8R"
   },
   "outputs": [],
   "source": []
  },
  {
   "cell_type": "code",
   "execution_count": null,
   "id": "hyHK_0XEYP3u",
   "metadata": {
    "id": "hyHK_0XEYP3u"
   },
   "outputs": [],
   "source": [
    "herg_df['label'] = [\"active\" if i == 1 else \"inactive\" for i in herg_df.herg_inhibitor]"
   ]
  },
  {
   "cell_type": "code",
   "execution_count": null,
   "id": "ZjK4Y41MDQRe",
   "metadata": {
    "id": "ZjK4Y41MDQRe"
   },
   "outputs": [],
   "source": []
  },
  {
   "cell_type": "code",
   "execution_count": null,
   "id": "oyPnNnXBDQJ7",
   "metadata": {
    "id": "oyPnNnXBDQJ7"
   },
   "outputs": [],
   "source": []
  },
  {
   "cell_type": "code",
   "execution_count": null,
   "id": "gzPEJ8CHDQBe",
   "metadata": {
    "id": "gzPEJ8CHDQBe"
   },
   "outputs": [],
   "source": []
  },
  {
   "cell_type": "code",
   "execution_count": null,
   "id": "GrWQX_FyDP5f",
   "metadata": {
    "id": "GrWQX_FyDP5f"
   },
   "outputs": [],
   "source": []
  },
  {
   "cell_type": "code",
   "execution_count": null,
   "id": "74751245-fa45-496f-9310-0567fc6a3ca4",
   "metadata": {
    "colab": {
     "base_uri": "https://localhost:8080/"
    },
    "executionInfo": {
     "elapsed": 82,
     "status": "ok",
     "timestamp": 1651874513672,
     "user": {
      "displayName": "K Ajayi",
      "userId": "14355577383255450167"
     },
     "user_tz": 240
    },
    "id": "74751245-fa45-496f-9310-0567fc6a3ca4",
    "outputId": "da35cdea-555b-48de-ad8b-c302bef5d036"
   },
   "outputs": [
    {
     "name": "stdout",
     "output_type": "stream",
     "text": [
      "CPU times: user 3 µs, sys: 1 µs, total: 4 µs\n",
      "Wall time: 6.2 µs\n"
     ]
    }
   ],
   "source": [
    "%%time \n",
    "# # herg_df['Mol'].map(lambda x: Descriptors.MolWt(x))\n",
    "# # [Descriptors.MolWt(x) for x in herg_df.Mol]\n",
    "# feat = dc.feat.RDKitDescriptors()\n",
    "# arr = feat.featurize(herg_df.Mol)"
   ]
  },
  {
   "cell_type": "markdown",
   "id": "3588f4b4-80f9-48b4-991e-c550a99a371d",
   "metadata": {
    "id": "3588f4b4-80f9-48b4-991e-c550a99a371d"
   },
   "source": [
    "### Save processed data "
   ]
  },
  {
   "cell_type": "code",
   "execution_count": null,
   "id": "-BG2UT7qMS24",
   "metadata": {
    "id": "-BG2UT7qMS24"
   },
   "outputs": [],
   "source": [
    "# save processed dataframe to csv \n",
    "herg_df.drop(columns=['Mol']).to_csv(f'{get_home_path()}/data/interim/herg_data.csv', index=False)"
   ]
  },
  {
   "cell_type": "code",
   "execution_count": null,
   "id": "576a4274-55f7-4b20-b760-63b23bbdc95d",
   "metadata": {
    "id": "576a4274-55f7-4b20-b760-63b23bbdc95d"
   },
   "outputs": [],
   "source": [
    "# save processed dataframe with structures to sd file\n",
    "PandasTools.WriteSDF(herg_df, out=f'{get_home_path()}/data/interim/herg-data-with-structures.sdf', molColName='Mol', idName='Pubchem_SID', properties=list(herg_df.columns))"
   ]
  },
  {
   "cell_type": "code",
   "execution_count": null,
   "id": "7526c6eb-a78c-4fc1-b305-d71a0869ba0c",
   "metadata": {
    "id": "7526c6eb-a78c-4fc1-b305-d71a0869ba0c"
   },
   "outputs": [],
   "source": []
  },
  {
   "cell_type": "code",
   "execution_count": null,
   "id": "I-xvQ163aJsC",
   "metadata": {
    "id": "I-xvQ163aJsC"
   },
   "outputs": [],
   "source": []
  },
  {
   "cell_type": "code",
   "execution_count": null,
   "id": "10eadbae-eb42-44c0-85d9-32b8cb866ffa",
   "metadata": {
    "id": "10eadbae-eb42-44c0-85d9-32b8cb866ffa"
   },
   "outputs": [],
   "source": []
  }
 ],
 "metadata": {
  "colab": {
   "collapsed_sections": [],
   "name": "01_gather_data.ipynb",
   "provenance": []
  },
  "kernelspec": {
   "display_name": "Python [conda env:capstone_cf]",
   "language": "python",
   "name": "conda-env-capstone_cf-py"
  },
  "language_info": {
   "codemirror_mode": {
    "name": "ipython",
    "version": 3
   },
   "file_extension": ".py",
   "mimetype": "text/x-python",
   "name": "python",
   "nbconvert_exporter": "python",
   "pygments_lexer": "ipython3",
   "version": "3.9.12"
  }
 },
 "nbformat": 4,
 "nbformat_minor": 5
}
