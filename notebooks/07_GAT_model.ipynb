{
 "cells": [
  {
   "cell_type": "markdown",
   "id": "d62f2556-270d-4b92-9caf-89f14d3c3eeb",
   "metadata": {
    "id": "d62f2556-270d-4b92-9caf-89f14d3c3eeb"
   },
   "source": [
    "# CAPSTONE\n",
    "Kehinde Ajayi\n",
    "\n",
    "Initial modeling"
   ]
  },
  {
   "cell_type": "code",
   "execution_count": 1,
   "id": "-Yv9EpgCcFF7",
   "metadata": {
    "executionInfo": {
     "elapsed": 19,
     "status": "ok",
     "timestamp": 1654190926064,
     "user": {
      "displayName": "K Ajayi",
      "userId": "14355577383255450167"
     },
     "user_tz": 240
    },
    "id": "-Yv9EpgCcFF7"
   },
   "outputs": [],
   "source": [
    "# from google.colab import auth\n",
    "# auth.authenticate_user()\n",
    "\n",
    "# # https://cloud.google.com/resource-manager/docs/creating-managing-projects\n",
    "# project_id = 'capstone2022-349201'"
   ]
  },
  {
   "cell_type": "code",
   "execution_count": 2,
   "id": "EsxBikAl_NTa",
   "metadata": {
    "colab": {
     "base_uri": "https://localhost:8080/",
     "height": 1000
    },
    "executionInfo": {
     "elapsed": 76482,
     "status": "ok",
     "timestamp": 1654191002530,
     "user": {
      "displayName": "K Ajayi",
      "userId": "14355577383255450167"
     },
     "user_tz": 240
    },
    "id": "EsxBikAl_NTa",
    "outputId": "0ce373e0-2570-4e07-8757-3eb603e366b1"
   },
   "outputs": [],
   "source": [
    "## check if notebook is running on Colab--if so, run appropriate installs and mount Google Drive\n",
    "# https://stackoverflow.com/questions/53581278/test-if-notebook-is-running-on-google-colab\n",
    "\n",
    "if 'google.colab' in str(get_ipython()):\n",
    "  # install RDKit and DeepChem\n",
    "  !pip install rdkit-pypi --pre deepchem git+https://github.com/PatWalters/clusterama.git dgl-cu113 dglgo -f https://data.dgl.ai/wheels/repo.html dgllife torch-scatter torch-sparse torch-cluster torch-spline-conv torch-geometric -f https://data.pyg.org/whl/torch-1.11.0+cu113.html\n",
    "  # mount Google Drive\n",
    "  from google.colab import drive\n",
    "  drive.mount('/content/drive')\n",
    "  !pip install --upgrade matplotlib"
   ]
  },
  {
   "cell_type": "code",
   "execution_count": null,
   "id": "2EZDJpfccE-l",
   "metadata": {
    "executionInfo": {
     "elapsed": 20,
     "status": "ok",
     "timestamp": 1654191002531,
     "user": {
      "displayName": "K Ajayi",
      "userId": "14355577383255450167"
     },
     "user_tz": 240
    },
    "id": "2EZDJpfccE-l"
   },
   "outputs": [],
   "source": []
  },
  {
   "cell_type": "code",
   "execution_count": 3,
   "id": "A8pKyGmAcE2i",
   "metadata": {
    "colab": {
     "base_uri": "https://localhost:8080/"
    },
    "executionInfo": {
     "elapsed": 268,
     "status": "ok",
     "timestamp": 1654191002782,
     "user": {
      "displayName": "K Ajayi",
      "userId": "14355577383255450167"
     },
     "user_tz": 240
    },
    "id": "A8pKyGmAcE2i",
    "outputId": "4611a9c4-8253-46d8-b62e-5162745c311f"
   },
   "outputs": [
    {
     "name": "stdout",
     "output_type": "stream",
     "text": [
      "/home/xohdeeacque/flex/Capstone/ka_capstone/notebooks\n"
     ]
    }
   ],
   "source": [
    "!pwd\n"
   ]
  },
  {
   "cell_type": "code",
   "execution_count": null,
   "id": "CZ3vyfzGcEtS",
   "metadata": {
    "executionInfo": {
     "elapsed": 8,
     "status": "ok",
     "timestamp": 1654191002784,
     "user": {
      "displayName": "K Ajayi",
      "userId": "14355577383255450167"
     },
     "user_tz": 240
    },
    "id": "CZ3vyfzGcEtS"
   },
   "outputs": [],
   "source": []
  },
  {
   "cell_type": "code",
   "execution_count": 1,
   "id": "c3a83b56-f2a3-436c-be62-7250fe60e5fb",
   "metadata": {
    "executionInfo": {
     "elapsed": 7115,
     "status": "ok",
     "timestamp": 1654191009892,
     "user": {
      "displayName": "K Ajayi",
      "userId": "14355577383255450167"
     },
     "user_tz": 240
    },
    "id": "c3a83b56-f2a3-436c-be62-7250fe60e5fb"
   },
   "outputs": [
    {
     "name": "stderr",
     "output_type": "stream",
     "text": [
      "WARNING:absl:No GPU/TPU found, falling back to CPU. (Set TF_CPP_MIN_LOG_LEVEL=0 and rerun for more info.)\n"
     ]
    }
   ],
   "source": [
    "import numpy as np\n",
    "import pandas as pd\n",
    "import matplotlib.pyplot as plt\n",
    "import seaborn as sns\n",
    "\n",
    "from IPython.core.display import HTML\n",
    "\n",
    "import sys\n",
    "\n",
    "from tqdm.auto import tqdm\n",
    "\n",
    "from rdkit.Chem import PandasTools\n",
    "\n",
    "import deepchem as dc\n",
    "import tensorflow as tf\n",
    "from deepchem.models import GATModel, GCNModel\n",
    "from deepchem.models.layers import GraphConv, GraphPool, GraphGather"
   ]
  },
  {
   "cell_type": "code",
   "execution_count": 2,
   "id": "c56f313d-27f5-411e-a191-ce8284226794",
   "metadata": {
    "colab": {
     "base_uri": "https://localhost:8080/"
    },
    "executionInfo": {
     "elapsed": 226,
     "status": "ok",
     "timestamp": 1654191010110,
     "user": {
      "displayName": "K Ajayi",
      "userId": "14355577383255450167"
     },
     "user_tz": 240
    },
    "id": "c56f313d-27f5-411e-a191-ce8284226794",
    "outputId": "17ff58d0-a329-49f2-8692-cc44611aec39"
   },
   "outputs": [
    {
     "name": "stderr",
     "output_type": "stream",
     "text": [
      "2022-07-20 03:37:05.001594: W tensorflow/stream_executor/platform/default/dso_loader.cc:64] Could not load dynamic library 'libcuda.so.1'; dlerror: libcuda.so.1: cannot open shared object file: No such file or directory\n",
      "2022-07-20 03:37:05.001682: W tensorflow/stream_executor/cuda/cuda_driver.cc:269] failed call to cuInit: UNKNOWN ERROR (303)\n"
     ]
    },
    {
     "data": {
      "text/plain": [
       "[]"
      ]
     },
     "execution_count": 2,
     "metadata": {},
     "output_type": "execute_result"
    }
   ],
   "source": [
    "tf.config.list_physical_devices('GPU')"
   ]
  },
  {
   "cell_type": "code",
   "execution_count": null,
   "id": "8212c66d-6a32-4873-aed4-4d6b43788da9",
   "metadata": {
    "executionInfo": {
     "elapsed": 245,
     "status": "ok",
     "timestamp": 1654191010353,
     "user": {
      "displayName": "K Ajayi",
      "userId": "14355577383255450167"
     },
     "user_tz": 240
    },
    "id": "8212c66d-6a32-4873-aed4-4d6b43788da9"
   },
   "outputs": [],
   "source": []
  },
  {
   "cell_type": "markdown",
   "id": "huUo_K78_B5C",
   "metadata": {
    "id": "huUo_K78_B5C"
   },
   "source": [
    "## Functions and settings"
   ]
  },
  {
   "cell_type": "code",
   "execution_count": 3,
   "id": "2e67e1cc-8937-49ed-8655-c8aa7b759fdf",
   "metadata": {
    "executionInfo": {
     "elapsed": 15,
     "status": "ok",
     "timestamp": 1654191010355,
     "user": {
      "displayName": "K Ajayi",
      "userId": "14355577383255450167"
     },
     "user_tz": 240
    },
    "id": "2e67e1cc-8937-49ed-8655-c8aa7b759fdf"
   },
   "outputs": [],
   "source": [
    "# workaround for bug where molecular structure does not print with dataframe\n",
    "# https://github.com/rdkit/rdkit/issues/2673\n",
    "def show(df):\n",
    "    return HTML(df.to_html(notebook=True))\n"
   ]
  },
  {
   "cell_type": "code",
   "execution_count": 4,
   "id": "fDD6705-fWPG",
   "metadata": {
    "executionInfo": {
     "elapsed": 14,
     "status": "ok",
     "timestamp": 1654191010356,
     "user": {
      "displayName": "K Ajayi",
      "userId": "14355577383255450167"
     },
     "user_tz": 240
    },
    "id": "fDD6705-fWPG"
   },
   "outputs": [],
   "source": [
    "# check if notebook is running on Colab and set path for data file \n",
    "\n",
    "def get_home_path():\n",
    "  if 'google.colab' in str(get_ipython()):\n",
    "    file_path = '/content/drive/MyDrive/GA/Capstone/ka_capstone'\n",
    "  else:\n",
    "    file_path = '..'\n",
    "  \n",
    "  return file_path\n"
   ]
  },
  {
   "cell_type": "code",
   "execution_count": 5,
   "id": "mhITzL35G5m9",
   "metadata": {
    "executionInfo": {
     "elapsed": 216,
     "status": "ok",
     "timestamp": 1654191526528,
     "user": {
      "displayName": "K Ajayi",
      "userId": "14355577383255450167"
     },
     "user_tz": 240
    },
    "id": "mhITzL35G5m9"
   },
   "outputs": [],
   "source": [
    "# GAT model\n",
    "\n",
    "def generate_gat_model(model_num, gat_layers=[64,64], batch_size=128, learning_rate=0.001):\n",
    "    \"\"\"Instantiates a Graph Convolution model.\n",
    "\n",
    "    Args:\n",
    "        param1: The first parameter.\n",
    "        param2: The second parameter.\n",
    "\n",
    "    Returns:\n",
    "        The return value. True for success, False otherwise.\n",
    "\n",
    "    \"\"\"\n",
    "    model = GATModel(mode='classification',\n",
    "                      n_tasks=1,\n",
    "                      graph_attention_layers=gat_layers,\n",
    "                      batch_size=batch_size,\n",
    "                      learning_rate=learning_rate,\n",
    "                      model_dir=f'{get_home_path()}/models/gat_model_{model_num}')\n",
    "    \n",
    "    return model"
   ]
  },
  {
   "cell_type": "code",
   "execution_count": 6,
   "id": "19943902-27d5-486a-978b-ad74a5245501",
   "metadata": {
    "executionInfo": {
     "elapsed": 14,
     "status": "ok",
     "timestamp": 1654191010359,
     "user": {
      "displayName": "K Ajayi",
      "userId": "14355577383255450167"
     },
     "user_tz": 240
    },
    "id": "19943902-27d5-486a-978b-ad74a5245501"
   },
   "outputs": [],
   "source": [
    "# view all columns in dataframe\n",
    "pd.set_option('display.max.columns', None)"
   ]
  },
  {
   "cell_type": "markdown",
   "id": "21XFoWzVGxcZ",
   "metadata": {
    "id": "21XFoWzVGxcZ"
   },
   "source": [
    "## Read data"
   ]
  },
  {
   "cell_type": "code",
   "execution_count": 10,
   "id": "mxbkjrNpkzy8",
   "metadata": {
    "executionInfo": {
     "elapsed": 4483,
     "status": "ok",
     "timestamp": 1654191014830,
     "user": {
      "displayName": "K Ajayi",
      "userId": "14355577383255450167"
     },
     "user_tz": 240
    },
    "id": "mxbkjrNpkzy8"
   },
   "outputs": [],
   "source": [
    "    \n",
    "# read hERG data into dataframe \n",
    "herg_df = pd.read_csv(f'{get_home_path()}/data/interim/herg_data_sample.csv')\n"
   ]
  },
  {
   "cell_type": "code",
   "execution_count": 11,
   "id": "8oitueImGJ2Q",
   "metadata": {
    "colab": {
     "base_uri": "https://localhost:8080/",
     "height": 409
    },
    "executionInfo": {
     "elapsed": 21,
     "status": "ok",
     "timestamp": 1654191014831,
     "user": {
      "displayName": "K Ajayi",
      "userId": "14355577383255450167"
     },
     "user_tz": 240
    },
    "id": "8oitueImGJ2Q",
    "outputId": "87a793df-696a-48c4-976a-bcff34e0b48c"
   },
   "outputs": [
    {
     "data": {
      "text/html": [
       "<div>\n",
       "<style scoped>\n",
       "    .dataframe tbody tr th:only-of-type {\n",
       "        vertical-align: middle;\n",
       "    }\n",
       "\n",
       "    .dataframe tbody tr th {\n",
       "        vertical-align: top;\n",
       "    }\n",
       "\n",
       "    .dataframe thead th {\n",
       "        text-align: right;\n",
       "    }\n",
       "</style>\n",
       "<table border=\"1\" class=\"dataframe\">\n",
       "  <thead>\n",
       "    <tr style=\"text-align: right;\">\n",
       "      <th></th>\n",
       "      <th>Pubchem_SID</th>\n",
       "      <th>SMILES</th>\n",
       "      <th>hERG_at_1uM</th>\n",
       "      <th>hERG_at_10uM</th>\n",
       "      <th>herg_inhibitor</th>\n",
       "      <th>mw</th>\n",
       "      <th>logP</th>\n",
       "      <th>PSA</th>\n",
       "      <th>H_bond_donors</th>\n",
       "      <th>H_bond_acceptors</th>\n",
       "      <th>num_heteroatoms</th>\n",
       "      <th>total_num_rings</th>\n",
       "      <th>aromatic_rings</th>\n",
       "      <th>num_rotatable_bonds</th>\n",
       "      <th>num_stereocenters</th>\n",
       "      <th>formal_charge</th>\n",
       "      <th>SMILES_length</th>\n",
       "      <th>ro5_violations</th>\n",
       "      <th>adjacency_matrix</th>\n",
       "      <th>label</th>\n",
       "    </tr>\n",
       "  </thead>\n",
       "  <tbody>\n",
       "    <tr>\n",
       "      <th>0</th>\n",
       "      <td>24788014</td>\n",
       "      <td>O=C(O)C1CSC(c2ccco2)N1</td>\n",
       "      <td>11.1661</td>\n",
       "      <td>5.11118</td>\n",
       "      <td>0</td>\n",
       "      <td>199.231</td>\n",
       "      <td>1.06780</td>\n",
       "      <td>62.47</td>\n",
       "      <td>2</td>\n",
       "      <td>4</td>\n",
       "      <td>5</td>\n",
       "      <td>2</td>\n",
       "      <td>1</td>\n",
       "      <td>2</td>\n",
       "      <td>2</td>\n",
       "      <td>0</td>\n",
       "      <td>22</td>\n",
       "      <td>0</td>\n",
       "      <td>[[0 1 0 0 0 0 0 0 0 0 0 0 0]\\n [1 0 1 1 0 0 0 ...</td>\n",
       "      <td>inactive</td>\n",
       "    </tr>\n",
       "    <tr>\n",
       "      <th>1</th>\n",
       "      <td>14721353</td>\n",
       "      <td>CCc1cc2c(SCC(=O)c3ccc(C)cc3)ncnc2s1</td>\n",
       "      <td>14.7770</td>\n",
       "      <td>9.64508</td>\n",
       "      <td>0</td>\n",
       "      <td>328.462</td>\n",
       "      <td>4.53712</td>\n",
       "      <td>42.85</td>\n",
       "      <td>0</td>\n",
       "      <td>5</td>\n",
       "      <td>5</td>\n",
       "      <td>3</td>\n",
       "      <td>3</td>\n",
       "      <td>5</td>\n",
       "      <td>0</td>\n",
       "      <td>0</td>\n",
       "      <td>35</td>\n",
       "      <td>0</td>\n",
       "      <td>[[0 1 0 0 0 0 0 0 0 0 0 0 0 0 0 0 0 0 0 0 0 0]...</td>\n",
       "      <td>inactive</td>\n",
       "    </tr>\n",
       "    <tr>\n",
       "      <th>2</th>\n",
       "      <td>14745786</td>\n",
       "      <td>COc1cc(-c2nnc(SCC(=O)Nc3ccc4c(c3)OCCO4)o2)cc(O...</td>\n",
       "      <td>5.5134</td>\n",
       "      <td>4.74908</td>\n",
       "      <td>0</td>\n",
       "      <td>459.480</td>\n",
       "      <td>3.26440</td>\n",
       "      <td>114.17</td>\n",
       "      <td>1</td>\n",
       "      <td>10</td>\n",
       "      <td>11</td>\n",
       "      <td>4</td>\n",
       "      <td>3</td>\n",
       "      <td>8</td>\n",
       "      <td>0</td>\n",
       "      <td>0</td>\n",
       "      <td>52</td>\n",
       "      <td>0</td>\n",
       "      <td>[[0 1 0 ... 0 0 0]\\n [1 0 1 ... 0 0 0]\\n [0 1 ...</td>\n",
       "      <td>inactive</td>\n",
       "    </tr>\n",
       "    <tr>\n",
       "      <th>3</th>\n",
       "      <td>57266348</td>\n",
       "      <td>CC(OC(=O)c1ccc2c(=O)n3c(nc2c1)CCC3)C(=O)Nc1ccc...</td>\n",
       "      <td>6.1738</td>\n",
       "      <td>7.79268</td>\n",
       "      <td>0</td>\n",
       "      <td>420.425</td>\n",
       "      <td>1.62560</td>\n",
       "      <td>133.38</td>\n",
       "      <td>2</td>\n",
       "      <td>7</td>\n",
       "      <td>9</td>\n",
       "      <td>4</td>\n",
       "      <td>3</td>\n",
       "      <td>5</td>\n",
       "      <td>1</td>\n",
       "      <td>0</td>\n",
       "      <td>57</td>\n",
       "      <td>0</td>\n",
       "      <td>[[0 1 0 0 0 0 0 0 0 0 0 0 0 0 0 0 0 0 0 0 0 0 ...</td>\n",
       "      <td>inactive</td>\n",
       "    </tr>\n",
       "    <tr>\n",
       "      <th>4</th>\n",
       "      <td>47202451</td>\n",
       "      <td>CCCCCn1c(=O)c(C(=O)Nc2ccccc2N)c(O)c2ccccc21</td>\n",
       "      <td>15.3279</td>\n",
       "      <td>21.42188</td>\n",
       "      <td>0</td>\n",
       "      <td>365.433</td>\n",
       "      <td>3.73180</td>\n",
       "      <td>97.35</td>\n",
       "      <td>3</td>\n",
       "      <td>5</td>\n",
       "      <td>6</td>\n",
       "      <td>3</td>\n",
       "      <td>3</td>\n",
       "      <td>6</td>\n",
       "      <td>0</td>\n",
       "      <td>0</td>\n",
       "      <td>43</td>\n",
       "      <td>0</td>\n",
       "      <td>[[0 1 0 0 0 0 0 0 0 0 0 0 0 0 0 0 0 0 0 0 0 0 ...</td>\n",
       "      <td>inactive</td>\n",
       "    </tr>\n",
       "  </tbody>\n",
       "</table>\n",
       "</div>"
      ],
      "text/plain": [
       "   Pubchem_SID                                             SMILES  \\\n",
       "0     24788014                             O=C(O)C1CSC(c2ccco2)N1   \n",
       "1     14721353                CCc1cc2c(SCC(=O)c3ccc(C)cc3)ncnc2s1   \n",
       "2     14745786  COc1cc(-c2nnc(SCC(=O)Nc3ccc4c(c3)OCCO4)o2)cc(O...   \n",
       "3     57266348  CC(OC(=O)c1ccc2c(=O)n3c(nc2c1)CCC3)C(=O)Nc1ccc...   \n",
       "4     47202451        CCCCCn1c(=O)c(C(=O)Nc2ccccc2N)c(O)c2ccccc21   \n",
       "\n",
       "   hERG_at_1uM  hERG_at_10uM  herg_inhibitor       mw     logP     PSA  \\\n",
       "0      11.1661       5.11118               0  199.231  1.06780   62.47   \n",
       "1      14.7770       9.64508               0  328.462  4.53712   42.85   \n",
       "2       5.5134       4.74908               0  459.480  3.26440  114.17   \n",
       "3       6.1738       7.79268               0  420.425  1.62560  133.38   \n",
       "4      15.3279      21.42188               0  365.433  3.73180   97.35   \n",
       "\n",
       "   H_bond_donors  H_bond_acceptors  num_heteroatoms  total_num_rings  \\\n",
       "0              2                 4                5                2   \n",
       "1              0                 5                5                3   \n",
       "2              1                10               11                4   \n",
       "3              2                 7                9                4   \n",
       "4              3                 5                6                3   \n",
       "\n",
       "   aromatic_rings  num_rotatable_bonds  num_stereocenters  formal_charge  \\\n",
       "0               1                    2                  2              0   \n",
       "1               3                    5                  0              0   \n",
       "2               3                    8                  0              0   \n",
       "3               3                    5                  1              0   \n",
       "4               3                    6                  0              0   \n",
       "\n",
       "   SMILES_length  ro5_violations  \\\n",
       "0             22               0   \n",
       "1             35               0   \n",
       "2             52               0   \n",
       "3             57               0   \n",
       "4             43               0   \n",
       "\n",
       "                                    adjacency_matrix     label  \n",
       "0  [[0 1 0 0 0 0 0 0 0 0 0 0 0]\\n [1 0 1 1 0 0 0 ...  inactive  \n",
       "1  [[0 1 0 0 0 0 0 0 0 0 0 0 0 0 0 0 0 0 0 0 0 0]...  inactive  \n",
       "2  [[0 1 0 ... 0 0 0]\\n [1 0 1 ... 0 0 0]\\n [0 1 ...  inactive  \n",
       "3  [[0 1 0 0 0 0 0 0 0 0 0 0 0 0 0 0 0 0 0 0 0 0 ...  inactive  \n",
       "4  [[0 1 0 0 0 0 0 0 0 0 0 0 0 0 0 0 0 0 0 0 0 0 ...  inactive  "
      ]
     },
     "execution_count": 11,
     "metadata": {},
     "output_type": "execute_result"
    }
   ],
   "source": [
    "\n",
    "herg_df.head()"
   ]
  },
  {
   "cell_type": "markdown",
   "id": "2WlTbF7rKX3c",
   "metadata": {
    "id": "2WlTbF7rKX3c"
   },
   "source": [
    "## Create dataset for Graph Attentional NN\n"
   ]
  },
  {
   "cell_type": "markdown",
   "id": "wfUzREFlxW4y",
   "metadata": {
    "id": "wfUzREFlxW4y"
   },
   "source": [
    "**From Veličković:**  \n",
    "\n",
    "\n",
    "\n",
    "\n",
    "\n",
    "\n",
    "Model for Graph Property Prediction Based on Graph Attention Networks (GAT).\n",
    "\n",
    "This model proceeds as follows:\n",
    "\n",
    "Update node representations in graphs with a variant of GAT\n",
    "\n",
    "For each graph, compute its representation by 1) a weighted sum of the node representations in the graph, where the weights are computed by applying a gating function to the node representations 2) a max pooling of the node representations 3) concatenating the output of 1) and 2)\n",
    "\n",
    "Perform the final prediction using an MLP"
   ]
  },
  {
   "cell_type": "markdown",
   "id": "5x-AlpXCklwL",
   "metadata": {
    "id": "5x-AlpXCklwL"
   },
   "source": [
    "MolGraphConvFeaturizer\n",
    "classMolGraphConvFeaturizer(use_edges: bool = False, use_chirality: bool = False, use_partial_charge: bool = False)[source]\n",
    "This class is a featurizer of general graph convolution networks for molecules.\n",
    "\n",
    "The default node(atom) and edge(bond) representations are based on WeaveNet paper. If you want to use your own representations, you could use this class as a guide to define your original Featurizer. In many cases, it’s enough to modify return values of construct_atom_feature or construct_bond_feature.\n",
    "\n",
    "The default node representation are constructed by concatenating the following values, and the feature length is 30.\n",
    "\n",
    "Atom type: A one-hot vector of this atom, “C”, “N”, “O”, “F”, “P”, “S”, “Cl”, “Br”, “I”, “other atoms”.\n",
    "\n",
    "Formal charge: Integer electronic charge.\n",
    "\n",
    "Hybridization: A one-hot vector of “sp”, “sp2”, “sp3”.\n",
    "\n",
    "Hydrogen bonding: A one-hot vector of whether this atom is a hydrogen bond donor or acceptor.\n",
    "\n",
    "Aromatic: A one-hot vector of whether the atom belongs to an aromatic ring.\n",
    "\n",
    "Degree: A one-hot vector of the degree (0-5) of this atom.\n",
    "\n",
    "Number of Hydrogens: A one-hot vector of the number of hydrogens (0-4) that this atom connected.\n",
    "\n",
    "Chirality: A one-hot vector of the chirality, “R” or “S”. (Optional)\n",
    "\n",
    "Partial charge: Calculated partial charge. (Optional)\n",
    "\n",
    "The default edge representation are constructed by concatenating the following values, and the feature length is 11.\n",
    "\n",
    "Bond type: A one-hot vector of the bond type, “single”, “double”, “triple”, or “aromatic”.\n",
    "\n",
    "Same ring: A one-hot vector of whether the atoms in the pair are in the same ring.\n",
    "\n",
    "Conjugated: A one-hot vector of whether this bond is conjugated or not.\n",
    "\n",
    "Stereo: A one-hot vector of the stereo configuration of a bond.\n",
    "\n",
    "If you want to know more details about features, please check the paper [1]_ and utilities in deepchem.utils.molecule_feature_utils.py."
   ]
  },
  {
   "cell_type": "code",
   "execution_count": 8,
   "id": "-48hhKClKk28",
   "metadata": {
    "executionInfo": {
     "elapsed": 1119,
     "status": "ok",
     "timestamp": 1654191015944,
     "user": {
      "displayName": "K Ajayi",
      "userId": "14355577383255450167"
     },
     "user_tz": 240
    },
    "id": "-48hhKClKk28"
   },
   "outputs": [],
   "source": [
    "## load dataset if it exists and create it if it doesn't\n",
    "try:\n",
    "    # load saved dataset\n",
    "    dataset = dc.data.DiskDataset(f'{get_home_path()}/data/processed/GATFeatures')\n",
    "except ValueError:\n",
    "    # create dataset\n",
    "    dataset_file = f'{get_home_path()}/data/interim/herg_data.csv'\n",
    "    tasks = ['herg_inhibitor']\n",
    "    featurizer = dc.feat.MolGraphConvFeaturizer()\n",
    "    loader = dc.data.CSVLoader(tasks=tasks,\n",
    "                               feature_field='SMILES',\n",
    "                               featurizer=featurizer)\n",
    "    dataset = loader.create_dataset(dataset_file, f'{get_home_path()}/data/processed/GATFeatures', shard_size=8192)"
   ]
  },
  {
   "cell_type": "code",
   "execution_count": 13,
   "id": "x7gmNfUhKk05",
   "metadata": {
    "executionInfo": {
     "elapsed": 9899,
     "status": "ok",
     "timestamp": 1654191025836,
     "user": {
      "displayName": "K Ajayi",
      "userId": "14355577383255450167"
     },
     "user_tz": 240
    },
    "id": "x7gmNfUhKk05"
   },
   "outputs": [],
   "source": [
    "# split dataset into training, validation, and testing sets\n",
    "splitter = dc.splits.RandomStratifiedSplitter()\n",
    "train_dataset, valid_dataset, test_dataset = splitter.train_valid_test_split(dataset)"
   ]
  },
  {
   "cell_type": "code",
   "execution_count": 14,
   "id": "mGznJwRqKXco",
   "metadata": {
    "colab": {
     "base_uri": "https://localhost:8080/"
    },
    "executionInfo": {
     "elapsed": 30,
     "status": "ok",
     "timestamp": 1654191025839,
     "user": {
      "displayName": "K Ajayi",
      "userId": "14355577383255450167"
     },
     "user_tz": 240
    },
    "id": "mGznJwRqKXco",
    "outputId": "776401aa-3f61-42df-ec50-9201f7627954"
   },
   "outputs": [
    {
     "name": "stdout",
     "output_type": "stream",
     "text": [
      "<DiskDataset X.shape: (30689,), y.shape: (30689, 1), w.shape: (30689, 1), task_names: ['herg_inhibitor']>\n"
     ]
    }
   ],
   "source": [
    "print(dataset)"
   ]
  },
  {
   "cell_type": "code",
   "execution_count": 15,
   "id": "8M5DQ7xdYEQS",
   "metadata": {
    "colab": {
     "base_uri": "https://localhost:8080/"
    },
    "executionInfo": {
     "elapsed": 19,
     "status": "ok",
     "timestamp": 1654191025840,
     "user": {
      "displayName": "K Ajayi",
      "userId": "14355577383255450167"
     },
     "user_tz": 240
    },
    "id": "8M5DQ7xdYEQS",
    "outputId": "e5a60d7a-f9d7-4b39-b503-a083ca8f093e"
   },
   "outputs": [
    {
     "data": {
      "text/plain": [
       "numpy.ndarray"
      ]
     },
     "execution_count": 15,
     "metadata": {},
     "output_type": "execute_result"
    }
   ],
   "source": [
    "type(dataset.y)"
   ]
  },
  {
   "cell_type": "code",
   "execution_count": 16,
   "id": "568d4f5c-a038-4cb7-b871-4b31bca807b6",
   "metadata": {
    "executionInfo": {
     "elapsed": 10,
     "status": "ok",
     "timestamp": 1654191025840,
     "user": {
      "displayName": "K Ajayi",
      "userId": "14355577383255450167"
     },
     "user_tz": 240
    },
    "id": "568d4f5c-a038-4cb7-b871-4b31bca807b6"
   },
   "outputs": [],
   "source": [
    "# dc.utils.data_utils.save_to_disk(dataset, filename='../data/processed/deepchem_dataset')"
   ]
  },
  {
   "cell_type": "code",
   "execution_count": 16,
   "id": "aDAuMIi-Kkx_",
   "metadata": {
    "executionInfo": {
     "elapsed": 10,
     "status": "ok",
     "timestamp": 1654191025841,
     "user": {
      "displayName": "K Ajayi",
      "userId": "14355577383255450167"
     },
     "user_tz": 240
    },
    "id": "aDAuMIi-Kkx_"
   },
   "outputs": [],
   "source": [
    "# define metrics used to evaluate model\n",
    "metrics = [dc.metrics.Metric(dc.metrics.matthews_corrcoef, np.mean, mode='classification'), dc.metrics.Metric(dc.metrics.accuracy_score, np.mean, mode='classification'), dc.metrics.Metric(dc.metrics.roc_auc_score, np.mean, mode='classification')]"
   ]
  },
  {
   "cell_type": "code",
   "execution_count": 17,
   "id": "KgVKjtS9YEKF",
   "metadata": {
    "colab": {
     "base_uri": "https://localhost:8080/",
     "height": 35
    },
    "executionInfo": {
     "elapsed": 10,
     "status": "ok",
     "timestamp": 1654191025841,
     "user": {
      "displayName": "K Ajayi",
      "userId": "14355577383255450167"
     },
     "user_tz": 240
    },
    "id": "KgVKjtS9YEKF",
    "outputId": "241cce5a-5943-4bb5-ea15-b6b6df70ea6c"
   },
   "outputs": [
    {
     "data": {
      "text/plain": [
       "'../data/processed/GATFeatures'"
      ]
     },
     "execution_count": 17,
     "metadata": {},
     "output_type": "execute_result"
    }
   ],
   "source": [
    "dataset.data_dir"
   ]
  },
  {
   "cell_type": "code",
   "execution_count": 18,
   "id": "14ae2ea3-2d5d-4228-844a-d6ec3073a92c",
   "metadata": {
    "colab": {
     "base_uri": "https://localhost:8080/"
    },
    "executionInfo": {
     "elapsed": 694,
     "status": "ok",
     "timestamp": 1654191026527,
     "user": {
      "displayName": "K Ajayi",
      "userId": "14355577383255450167"
     },
     "user_tz": 240
    },
    "id": "14ae2ea3-2d5d-4228-844a-d6ec3073a92c",
    "outputId": "21aaeb4e-4d00-4152-bf0b-a6dc7128316f"
   },
   "outputs": [
    {
     "name": "stdout",
     "output_type": "stream",
     "text": [
      "[[1. 0. 0. ... 1. 0. 0.]\n",
      " [1. 0. 0. ... 0. 0. 0.]\n",
      " [0. 0. 1. ... 0. 0. 0.]\n",
      " ...\n",
      " [0. 1. 0. ... 0. 0. 0.]\n",
      " [1. 0. 0. ... 0. 0. 0.]\n",
      " [0. 1. 0. ... 0. 0. 0.]]\n"
     ]
    }
   ],
   "source": [
    "# Inspect features for molecule 0\n",
    "conv_feature = train_dataset.X[4]\n",
    "# Print the atom features\n",
    "print(conv_feature.node_features)\n",
    "# Print the adjacency list\n",
    "# print(conv_feature.get_adjancency_list())"
   ]
  },
  {
   "cell_type": "code",
   "execution_count": 19,
   "id": "8f19a3b6-ef23-499e-bfd9-b0284d9d2c17",
   "metadata": {
    "colab": {
     "base_uri": "https://localhost:8080/"
    },
    "executionInfo": {
     "elapsed": 15,
     "status": "ok",
     "timestamp": 1654191026528,
     "user": {
      "displayName": "K Ajayi",
      "userId": "14355577383255450167"
     },
     "user_tz": 240
    },
    "id": "8f19a3b6-ef23-499e-bfd9-b0284d9d2c17",
    "outputId": "a529e993-76fe-4a15-e230-3cc1a59bc183"
   },
   "outputs": [
    {
     "data": {
      "text/plain": [
       "['__class__',\n",
       " '__delattr__',\n",
       " '__dict__',\n",
       " '__dir__',\n",
       " '__doc__',\n",
       " '__eq__',\n",
       " '__format__',\n",
       " '__ge__',\n",
       " '__getattribute__',\n",
       " '__gt__',\n",
       " '__hash__',\n",
       " '__init__',\n",
       " '__init_subclass__',\n",
       " '__le__',\n",
       " '__lt__',\n",
       " '__module__',\n",
       " '__ne__',\n",
       " '__new__',\n",
       " '__reduce__',\n",
       " '__reduce_ex__',\n",
       " '__repr__',\n",
       " '__setattr__',\n",
       " '__sizeof__',\n",
       " '__slotnames__',\n",
       " '__str__',\n",
       " '__subclasshook__',\n",
       " '__weakref__',\n",
       " 'edge_features',\n",
       " 'edge_index',\n",
       " 'node_features',\n",
       " 'node_pos_features',\n",
       " 'num_edges',\n",
       " 'num_node_features',\n",
       " 'num_nodes',\n",
       " 'to_dgl_graph',\n",
       " 'to_pyg_graph']"
      ]
     },
     "execution_count": 19,
     "metadata": {},
     "output_type": "execute_result"
    }
   ],
   "source": [
    "dir(conv_feature)"
   ]
  },
  {
   "cell_type": "code",
   "execution_count": 20,
   "id": "6jGR0fjfS6ON",
   "metadata": {
    "colab": {
     "base_uri": "https://localhost:8080/"
    },
    "executionInfo": {
     "elapsed": 556,
     "status": "ok",
     "timestamp": 1654191027078,
     "user": {
      "displayName": "K Ajayi",
      "userId": "14355577383255450167"
     },
     "user_tz": 240
    },
    "id": "6jGR0fjfS6ON",
    "outputId": "3d5b2770-6a16-4dec-f991-f3f082b5ad65"
   },
   "outputs": [
    {
     "name": "stderr",
     "output_type": "stream",
     "text": [
      "DGL backend not selected or invalid.  Assuming PyTorch for now.\n"
     ]
    },
    {
     "name": "stdout",
     "output_type": "stream",
     "text": [
      "Setting the default backend to \"pytorch\". You can change it in the ~/.dgl/config.json file or export the DGLBACKEND environment variable.  Valid options are: pytorch, mxnet, tensorflow (all lowercase)\n",
      "Graph(num_nodes=34, num_edges=72,\n",
      "      ndata_schemes={'x': Scheme(shape=(30,), dtype=torch.float32)}\n",
      "      edata_schemes={})\n"
     ]
    }
   ],
   "source": [
    "print(conv_feature.to_dgl_graph())"
   ]
  },
  {
   "cell_type": "code",
   "execution_count": 23,
   "id": "2c06e691-f319-449c-91f0-ac717bf26abf",
   "metadata": {
    "colab": {
     "base_uri": "https://localhost:8080/"
    },
    "executionInfo": {
     "elapsed": 212,
     "status": "ok",
     "timestamp": 1654191027287,
     "user": {
      "displayName": "K Ajayi",
      "userId": "14355577383255450167"
     },
     "user_tz": 240
    },
    "id": "2c06e691-f319-449c-91f0-ac717bf26abf",
    "outputId": "37b48c95-58f5-4ab2-f8ee-e4d0b7002205"
   },
   "outputs": [
    {
     "name": "stdout",
     "output_type": "stream",
     "text": [
      "Data(x=[34, 30], edge_index=[2, 72])\n"
     ]
    }
   ],
   "source": [
    "print(conv_feature.to_pyg_graph())"
   ]
  },
  {
   "cell_type": "code",
   "execution_count": 24,
   "id": "e598ea65-3ef7-4b74-8231-85c1a15dd935",
   "metadata": {
    "colab": {
     "base_uri": "https://localhost:8080/"
    },
    "executionInfo": {
     "elapsed": 279,
     "status": "ok",
     "timestamp": 1654191027559,
     "user": {
      "displayName": "K Ajayi",
      "userId": "14355577383255450167"
     },
     "user_tz": 240
    },
    "id": "e598ea65-3ef7-4b74-8231-85c1a15dd935",
    "outputId": "58217e47-e347-4f69-8d97-0d91ca74d314"
   },
   "outputs": [
    {
     "name": "stdout",
     "output_type": "stream",
     "text": [
      "1\n"
     ]
    }
   ],
   "source": [
    "print(len(herg_df.adjacency_matrix[4][1]))"
   ]
  },
  {
   "cell_type": "code",
   "execution_count": 25,
   "id": "f9577cde-470a-4500-962a-b2765e7a4350",
   "metadata": {
    "colab": {
     "base_uri": "https://localhost:8080/"
    },
    "executionInfo": {
     "elapsed": 18,
     "status": "ok",
     "timestamp": 1654191165596,
     "user": {
      "displayName": "K Ajayi",
      "userId": "14355577383255450167"
     },
     "user_tz": 240
    },
    "id": "f9577cde-470a-4500-962a-b2765e7a4350",
    "outputId": "adcc65e6-aeb8-4a67-bbdd-ae16eb3244cd"
   },
   "outputs": [
    {
     "data": {
      "text/plain": [
       "(34, 30)"
      ]
     },
     "execution_count": 25,
     "metadata": {},
     "output_type": "execute_result"
    }
   ],
   "source": [
    "conv_feature.node_features.shape\n"
   ]
  },
  {
   "cell_type": "code",
   "execution_count": 26,
   "id": "e5ffbe51-0172-4b3b-8acb-ab5a3fc5e9b6",
   "metadata": {
    "colab": {
     "base_uri": "https://localhost:8080/"
    },
    "executionInfo": {
     "elapsed": 171,
     "status": "ok",
     "timestamp": 1654191167358,
     "user": {
      "displayName": "K Ajayi",
      "userId": "14355577383255450167"
     },
     "user_tz": 240
    },
    "id": "e5ffbe51-0172-4b3b-8acb-ab5a3fc5e9b6",
    "outputId": "5870c36b-25b0-4ac4-fdbc-ab5415fdbb12"
   },
   "outputs": [
    {
     "name": "stdout",
     "output_type": "stream",
     "text": [
      "[[ 0  7  7 26 26 19 19 27 27 28 28 11 11 12 28 15 15 31 31 22 22 29 22  3\n",
      "  22 21 21 30 30 14 14 32 32 33 33  4  4 17  4 24 24  9  9  1  1  6  6 18\n",
      "  18 16 16 23 16  2 16 20  6 13 13  8 32  5  5 25 15 10 10 26 25 21  8 24]\n",
      " [ 7  0 26  7 19 26 27 19 28 27 11 28 12 11 15 28 31 15 22 31 29 22  3 22\n",
      "  21 22 30 21 14 30 32 14 33 32  4 33 17  4 24  4  9 24  1  9  6  1 18  6\n",
      "  16 18 23 16  2 16 20 16 13  6  8 13  5 32 25  5 10 15 26 10 21 25 24  8]]\n"
     ]
    }
   ],
   "source": [
    "print(conv_feature.edge_index)"
   ]
  },
  {
   "cell_type": "markdown",
   "id": "ddafdc20-6a8c-436e-848f-d843249ac285",
   "metadata": {
    "id": "ddafdc20-6a8c-436e-848f-d843249ac285"
   },
   "source": [
    "### Run models"
   ]
  },
  {
   "cell_type": "code",
   "execution_count": 27,
   "id": "1HAFXE6VTCJn",
   "metadata": {
    "executionInfo": {
     "elapsed": 266,
     "status": "ok",
     "timestamp": 1654191170209,
     "user": {
      "displayName": "K Ajayi",
      "userId": "14355577383255450167"
     },
     "user_tz": 240
    },
    "id": "1HAFXE6VTCJn"
   },
   "outputs": [],
   "source": [
    "# training_score_list = []\n",
    "# validation_score_list = []\n",
    "# transformers = []\n",
    "# cv_folds = 5\n",
    "# for i in range(0, cv_folds):\n",
    "#   model = generate_gcnn_model()\n",
    "#   train_dataset, valid_dataset, test_dataset = splitter.train_valid_test_split(dataset)\n",
    "#   model.fit(train_dataset)\n",
    "#   train_scores = model.evaluate(train_dataset,\n",
    "#                                 metrics,\n",
    "#                                 transformers)\n",
    "#   training_score_list.append(train_scores[\"mean-matthews_corrcoef\"])\n",
    "#   validation_scores = model.evaluate(valid_dataset,\n",
    "#                                      metrics,\n",
    "#                                      transformers)\n",
    "#   validation_score_list.append(validation_scores[\"mean-matthews_corrcoef\"])\n",
    "#   print(training_score_list)\n",
    "#   print(validation_score_list)"
   ]
  },
  {
   "cell_type": "markdown",
   "id": "3e474122-62c2-4768-a8dc-72c482293046",
   "metadata": {
    "id": "3e474122-62c2-4768-a8dc-72c482293046"
   },
   "source": [
    "## GAT model"
   ]
  },
  {
   "cell_type": "code",
   "execution_count": null,
   "id": "37fd05b5-0a7b-402b-bd3c-7f91ae1695ae",
   "metadata": {
    "id": "37fd05b5-0a7b-402b-bd3c-7f91ae1695ae"
   },
   "outputs": [],
   "source": []
  },
  {
   "cell_type": "code",
   "execution_count": 29,
   "id": "dc1ff7d2-ccc9-4a5d-902a-cac7866d37de",
   "metadata": {
    "executionInfo": {
     "elapsed": 10436,
     "status": "ok",
     "timestamp": 1654191244283,
     "user": {
      "displayName": "K Ajayi",
      "userId": "14355577383255450167"
     },
     "user_tz": 240
    },
    "id": "dc1ff7d2-ccc9-4a5d-902a-cac7866d37de"
   },
   "outputs": [],
   "source": [
    "# training model\n",
    "\n",
    "model_num='01'\n",
    "learning_rate=0.001\n",
    "gat_layers=[128,256]\n",
    "\n",
    "model_gat1 = generate_gat_model(model_num='01', gat_layers=[128,256], batch_size=128, learning_rate=0.001)\n",
    "\n",
    "\n"
   ]
  },
  {
   "cell_type": "code",
   "execution_count": 30,
   "id": "a378493d-6b06-4344-a4fb-f5e8dbf2f0d0",
   "metadata": {
    "colab": {
     "background_save": true
    },
    "id": "a378493d-6b06-4344-a4fb-f5e8dbf2f0d0"
   },
   "outputs": [
    {
     "name": "stderr",
     "output_type": "stream",
     "text": [
      "/home/xohdeeacque/miniconda3/envs/capstone_cf/lib/python3.9/site-packages/torch/autocast_mode.py:162: UserWarning: User provided device_type of 'cuda', but CUDA is not available. Disabling\n",
      "  warnings.warn('User provided device_type of \\'cuda\\', but CUDA is not available. Disabling')\n"
     ]
    }
   ],
   "source": [
    "hist_gat1 = model_gat1.fit(train_dataset, nb_epoch=20)"
   ]
  },
  {
   "cell_type": "code",
   "execution_count": 31,
   "id": "37e1c741-488a-4427-a97b-35e926ae5be2",
   "metadata": {
    "colab": {
     "base_uri": "https://localhost:8080/",
     "height": 166
    },
    "executionInfo": {
     "elapsed": 519,
     "status": "error",
     "timestamp": 1653233429442,
     "user": {
      "displayName": "K Ajayi",
      "userId": "14355577383255450167"
     },
     "user_tz": 240
    },
    "id": "37e1c741-488a-4427-a97b-35e926ae5be2",
    "outputId": "631b77bb-8291-43e4-beb2-2f6d81e5f9ff"
   },
   "outputs": [
    {
     "data": {
      "text/plain": [
       "0.025610214471817015"
      ]
     },
     "execution_count": 31,
     "metadata": {},
     "output_type": "execute_result"
    }
   ],
   "source": [
    "hist_gat1"
   ]
  },
  {
   "cell_type": "code",
   "execution_count": null,
   "id": "e0Czkl92MERn",
   "metadata": {
    "id": "e0Czkl92MERn"
   },
   "outputs": [],
   "source": []
  },
  {
   "cell_type": "code",
   "execution_count": null,
   "id": "hEFEOzsUMEGw",
   "metadata": {
    "id": "hEFEOzsUMEGw"
   },
   "outputs": [],
   "source": []
  },
  {
   "cell_type": "code",
   "execution_count": 32,
   "id": "76de5432-90bd-467c-92ca-a0af0f30a3d5",
   "metadata": {
    "id": "76de5432-90bd-467c-92ca-a0af0f30a3d5",
    "outputId": "aebd2d85-097e-4a78-c4b4-21ce47e50584"
   },
   "outputs": [
    {
     "name": "stdout",
     "output_type": "stream",
     "text": [
      "Training set score: {'mean-matthews_corrcoef': -0.0036575646229749397, 'mean-accuracy_score': 0.9549101869577614, 'mean-roc_auc_score': 0.8135257945968575}\n",
      "Validation set score: {'mean-matthews_corrcoef': 0.0, 'mean-accuracy_score': 0.9553600521342457, 'mean-roc_auc_score': 0.7599157546728273}\n",
      "Test set score: {'mean-matthews_corrcoef': -0.0039025692923979516, 'mean-accuracy_score': 0.9550342130987293, 'mean-roc_auc_score': 0.7840093207596022}\n"
     ]
    }
   ],
   "source": [
    "print('Training set score:', model_gat1.evaluate(train_dataset, metrics))\n",
    "print('Validation set score:', model_gat1.evaluate(valid_dataset, metrics))\n",
    "print('Test set score:', model_gat1.evaluate(test_dataset, metrics))"
   ]
  },
  {
   "cell_type": "code",
   "execution_count": null,
   "id": "Nmed2Ej0MDy_",
   "metadata": {
    "id": "Nmed2Ej0MDy_"
   },
   "outputs": [],
   "source": []
  },
  {
   "cell_type": "code",
   "execution_count": 28,
   "id": "ed1fc050-ab12-42ab-862e-1dd6d2473726",
   "metadata": {
    "id": "ed1fc050-ab12-42ab-862e-1dd6d2473726"
   },
   "outputs": [],
   "source": [
    "model_gat2 = generate_gat_model(model_num='02', gat_layers=[256,512], batch_size=128, learning_rate=0.001)"
   ]
  },
  {
   "cell_type": "code",
   "execution_count": null,
   "id": "8e37c277-28de-44f4-92e8-cb2c258ed4e5",
   "metadata": {
    "id": "8e37c277-28de-44f4-92e8-cb2c258ed4e5"
   },
   "outputs": [],
   "source": [
    "hist_gat2 = model_gat2.fit(train_dataset, nb_epoch=20)"
   ]
  },
  {
   "cell_type": "code",
   "execution_count": null,
   "id": "4f631682-d030-4bb0-8934-252b528db819",
   "metadata": {
    "id": "4f631682-d030-4bb0-8934-252b528db819"
   },
   "outputs": [],
   "source": [
    "print('Training set score:', model_gat2.evaluate(train_dataset, metrics))\n",
    "print('Validation set score:', model_gat2.evaluate(valid_dataset, metrics))\n",
    "print('Test set score:', model_gat2.evaluate(test_dataset, metrics))"
   ]
  },
  {
   "cell_type": "code",
   "execution_count": null,
   "id": "3e50a1fe-a320-4146-855d-3ac16c85ab35",
   "metadata": {
    "id": "3e50a1fe-a320-4146-855d-3ac16c85ab35"
   },
   "outputs": [],
   "source": []
  },
  {
   "cell_type": "code",
   "execution_count": null,
   "id": "f14c9f87-1807-4caf-873f-e45ce5401d43",
   "metadata": {
    "id": "f14c9f87-1807-4caf-873f-e45ce5401d43"
   },
   "outputs": [],
   "source": []
  },
  {
   "cell_type": "code",
   "execution_count": null,
   "id": "f65855d9-11a5-4e44-a5c2-acbfa80cb6e2",
   "metadata": {
    "id": "f65855d9-11a5-4e44-a5c2-acbfa80cb6e2"
   },
   "outputs": [],
   "source": [
    "learning_rate19 = dc.models.optimizers.ExponentialDecay(0.001, 0.7, 1024)\n",
    "save_dir19=f'{get_home_path()}/models/gcn_model_19'\n",
    "\n",
    "model19 = GraphConvModel(1, batch_size=128,\n",
    "                         dropout=0.0,\n",
    "                         graph_conv_layers=[1024, 2048],\n",
    "                         dense_layer_size=256,\n",
    "                         mode='classification',\n",
    "                         tensorboard=True,\n",
    "                         learning_rate=learning_rate19,\n",
    "                         model_dir=f'{get_home_path()}/models/gcn_model_19')\n",
    "validation=dc.models.ValidationCallback(valid_dataset,\n",
    "                                        1024,\n",
    "                                        metrics,\n",
    "                                        save_dir=f'{save_dir19}/callbacks',\n",
    "                                        save_on_minimum=False)"
   ]
  },
  {
   "cell_type": "code",
   "execution_count": null,
   "id": "c7ac012a-4b23-4c6b-9fb7-119e443990ad",
   "metadata": {
    "id": "c7ac012a-4b23-4c6b-9fb7-119e443990ad"
   },
   "outputs": [],
   "source": []
  },
  {
   "cell_type": "code",
   "execution_count": null,
   "id": "c70d6de5-c56d-4769-809e-c43a1f4d5a9e",
   "metadata": {
    "id": "c70d6de5-c56d-4769-809e-c43a1f4d5a9e"
   },
   "outputs": [],
   "source": []
  },
  {
   "cell_type": "code",
   "execution_count": null,
   "id": "daefc949-d5c3-4fb7-a554-c3bc869089c1",
   "metadata": {
    "id": "daefc949-d5c3-4fb7-a554-c3bc869089c1"
   },
   "outputs": [],
   "source": []
  },
  {
   "cell_type": "code",
   "execution_count": null,
   "id": "e93b9982-e1c8-4228-b5ba-32987efa4cc7",
   "metadata": {
    "id": "e93b9982-e1c8-4228-b5ba-32987efa4cc7"
   },
   "outputs": [],
   "source": []
  },
  {
   "cell_type": "code",
   "execution_count": null,
   "id": "41e29f35-bec1-4121-a054-db4cf715204b",
   "metadata": {
    "id": "41e29f35-bec1-4121-a054-db4cf715204b"
   },
   "outputs": [],
   "source": []
  },
  {
   "cell_type": "code",
   "execution_count": null,
   "id": "3bf3f17c-94aa-43d4-8af8-c7b2d009001e",
   "metadata": {
    "id": "3bf3f17c-94aa-43d4-8af8-c7b2d009001e"
   },
   "outputs": [],
   "source": []
  },
  {
   "cell_type": "markdown",
   "id": "86EBR3HU3St5",
   "metadata": {
    "id": "86EBR3HU3St5"
   },
   "source": [
    "Previous results (MCC):  \n",
    "[0.4502412189462288]  \n",
    "[0.4128819211180105]  \n",
    "[0.4502412189462288, 0.4965585838893341]  \n",
    "[0.4128819211180105, 0.4654923820863219]  \n",
    "[0.4502412189462288, 0.4965585838893341, 0.5585299037933114]  \n",
    "[0.4128819211180105, 0.4654923820863219, 0.45430324072314515]  \n",
    "[0.4502412189462288, 0.4965585838893341, 0.5585299037933114, 0.6192709501522672]  \n",
    "[0.4128819211180105, 0.4654923820863219, 0.45430324072314515, 0.5214770300289555]  \n",
    "[0.4502412189462288, 0.4965585838893341, 0.5585299037933114, 0.6192709501522672, 0.5843172323482354]  \n",
    "[0.4128819211180105, 0.4654923820863219, 0.45430324072314515, 0.5214770300289555, 0.49755690080208853]  "
   ]
  },
  {
   "cell_type": "code",
   "execution_count": null,
   "id": "aaa83f0e-f7ff-43ad-8cde-3b35b37e9ee4",
   "metadata": {
    "id": "aaa83f0e-f7ff-43ad-8cde-3b35b37e9ee4",
    "outputId": "cc368dab-1d57-45a9-e2cb-35d20df88726"
   },
   "outputs": [
    {
     "data": {
      "image/png": "[encoded data removed]",
      "text/plain": [
       "<Figure size 432x288 with 1 Axes>"
      ]
     },
     "metadata": {},
     "output_type": "display_data"
    }
   ],
   "source": [
    "## training vs validation MCC scores\n",
    "sns.boxplot(x = [\"training\"] * cv_folds + [\"validation\"] * cv_folds, y = training_score_list + validation_score_list);"
   ]
  },
  {
   "cell_type": "code",
   "execution_count": null,
   "id": "4123f29e-cd8c-463a-aae9-b5480124d55d",
   "metadata": {
    "id": "4123f29e-cd8c-463a-aae9-b5480124d55d"
   },
   "outputs": [],
   "source": [
    "pred = [x.flatten() for x in model.predict(valid_dataset)]"
   ]
  },
  {
   "cell_type": "code",
   "execution_count": null,
   "id": "66696e41-24a0-4580-87cc-7b48b22ee620",
   "metadata": {
    "id": "66696e41-24a0-4580-87cc-7b48b22ee620"
   },
   "outputs": [],
   "source": [
    "pred_df = pd.DataFrame(pred,columns=[\"neg\",\"pos\"])"
   ]
  },
  {
   "cell_type": "code",
   "execution_count": null,
   "id": "be31be36-cb52-4632-bb04-0200ec69e9b5",
   "metadata": {
    "id": "be31be36-cb52-4632-bb04-0200ec69e9b5"
   },
   "outputs": [],
   "source": [
    "pred_df[\"active\"] = [int(x) for x in valid_dataset.y]\n",
    "pred_df[\"SMILES\"] = valid_dataset.ids"
   ]
  },
  {
   "cell_type": "code",
   "execution_count": null,
   "id": "c7c53979-d386-40a5-93f3-fd9f03680dd4",
   "metadata": {
    "id": "c7c53979-d386-40a5-93f3-fd9f03680dd4",
    "outputId": "47d3774c-26da-444c-8a70-938f5de226ea"
   },
   "outputs": [
    {
     "data": {
      "text/html": [
       "<div>\n",
       "<style scoped>\n",
       "    .dataframe tbody tr th:only-of-type {\n",
       "        vertical-align: middle;\n",
       "    }\n",
       "\n",
       "    .dataframe tbody tr th {\n",
       "        vertical-align: top;\n",
       "    }\n",
       "\n",
       "    .dataframe thead th {\n",
       "        text-align: right;\n",
       "    }\n",
       "</style>\n",
       "<table border=\"1\" class=\"dataframe\">\n",
       "  <thead>\n",
       "    <tr style=\"text-align: right;\">\n",
       "      <th></th>\n",
       "      <th>neg</th>\n",
       "      <th>pos</th>\n",
       "      <th>active</th>\n",
       "      <th>SMILES</th>\n",
       "    </tr>\n",
       "  </thead>\n",
       "  <tbody>\n",
       "    <tr>\n",
       "      <th>10191</th>\n",
       "      <td>0.998757</td>\n",
       "      <td>0.001243</td>\n",
       "      <td>0</td>\n",
       "      <td>CC1=C(C(=O)OCc2ccccc2)C(c2cccnc2)n2ncnc2N1</td>\n",
       "    </tr>\n",
       "    <tr>\n",
       "      <th>2610</th>\n",
       "      <td>0.999847</td>\n",
       "      <td>0.000153</td>\n",
       "      <td>0</td>\n",
       "      <td>CN(Cc1cccs1)C(=O)CNC(=O)c1ccco1</td>\n",
       "    </tr>\n",
       "    <tr>\n",
       "      <th>3003</th>\n",
       "      <td>0.952261</td>\n",
       "      <td>0.047739</td>\n",
       "      <td>1</td>\n",
       "      <td>N#C/C(=C\\c1cccc([N+](=O)[O-])c1)C(=O)NCc1cccnc1</td>\n",
       "    </tr>\n",
       "    <tr>\n",
       "      <th>788</th>\n",
       "      <td>0.982654</td>\n",
       "      <td>0.017346</td>\n",
       "      <td>1</td>\n",
       "      <td>CCOc1ccc(C(=O)NCCCN(CC)CC)cc1</td>\n",
       "    </tr>\n",
       "    <tr>\n",
       "      <th>14071</th>\n",
       "      <td>0.995364</td>\n",
       "      <td>0.004636</td>\n",
       "      <td>0</td>\n",
       "      <td>CCCCCCCN(C(=O)CCl)c1cccc(C)c1</td>\n",
       "    </tr>\n",
       "  </tbody>\n",
       "</table>\n",
       "</div>"
      ],
      "text/plain": [
       "            neg       pos  active  \\\n",
       "10191  0.998757  0.001243       0   \n",
       "2610   0.999847  0.000153       0   \n",
       "3003   0.952261  0.047739       1   \n",
       "788    0.982654  0.017346       1   \n",
       "14071  0.995364  0.004636       0   \n",
       "\n",
       "                                                SMILES  \n",
       "10191       CC1=C(C(=O)OCc2ccccc2)C(c2cccnc2)n2ncnc2N1  \n",
       "2610                   CN(Cc1cccs1)C(=O)CNC(=O)c1ccco1  \n",
       "3003   N#C/C(=C\\c1cccc([N+](=O)[O-])c1)C(=O)NCc1cccnc1  \n",
       "788                      CCOc1ccc(C(=O)NCCCN(CC)CC)cc1  \n",
       "14071                    CCCCCCCN(C(=O)CCl)c1cccc(C)c1  "
      ]
     },
     "execution_count": 56,
     "metadata": {},
     "output_type": "execute_result"
    }
   ],
   "source": [
    "pred_df.sample(5)"
   ]
  },
  {
   "cell_type": "code",
   "execution_count": null,
   "id": "b3e9e4c4-6d7d-4417-ac7b-d765ed990ad0",
   "metadata": {
    "id": "b3e9e4c4-6d7d-4417-ac7b-d765ed990ad0",
    "outputId": "42439c64-3e6f-4217-d22e-c54a2dc0c777"
   },
   "outputs": [
    {
     "data": {
      "image/png": "[encoded data removed]",
      "text/plain": [
       "<Figure size 432x288 with 1 Axes>"
      ]
     },
     "metadata": {},
     "output_type": "display_data"
    }
   ],
   "source": [
    "# plot predicted probabilities for active and inactives\n",
    "sns.boxplot(x=pred_df.active, y=pred_df.pos);"
   ]
  },
  {
   "cell_type": "code",
   "execution_count": null,
   "id": "29960825-ce31-4a69-82a0-82aefe8ac9d9",
   "metadata": {
    "id": "29960825-ce31-4a69-82a0-82aefe8ac9d9"
   },
   "outputs": [],
   "source": [
    "# put false negatives in a new dataframe\n",
    "false_negative_df = pred_df.query(\"active == 1 & pos < 0.5\").copy()\n",
    "PandasTools.AddMoleculeColumnToFrame(false_negative_df, 'SMILES', 'Mol')"
   ]
  },
  {
   "cell_type": "code",
   "execution_count": null,
   "id": "81aa6daf-12e4-4325-b7c1-df66b17cfc47",
   "metadata": {
    "id": "81aa6daf-12e4-4325-b7c1-df66b17cfc47",
    "outputId": "5cf3b556-300d-48df-cdef-94b1bf0e6ddd"
   },
   "outputs": [
    {
     "data": {
      "text/plain": [
       "deepchem.data.datasets.DiskDataset"
      ]
     },
     "execution_count": 60,
     "metadata": {},
     "output_type": "execute_result"
    }
   ],
   "source": [
    "type(valid_dataset)"
   ]
  },
  {
   "cell_type": "code",
   "execution_count": null,
   "id": "7f1abbdc-317c-478d-893e-4b25120bd4a0",
   "metadata": {
    "id": "7f1abbdc-317c-478d-893e-4b25120bd4a0",
    "outputId": "3a23ced3-e1f5-45a1-d4bb-6de209e2cf21"
   },
   "outputs": [
    {
     "data": {
      "text/html": [
       "<div>\n",
       "<style scoped>\n",
       "    .dataframe tbody tr th:only-of-type {\n",
       "        vertical-align: middle;\n",
       "    }\n",
       "\n",
       "    .dataframe tbody tr th {\n",
       "        vertical-align: top;\n",
       "    }\n",
       "\n",
       "    .dataframe thead th {\n",
       "        text-align: right;\n",
       "    }\n",
       "</style>\n",
       "<table border=\"1\" class=\"dataframe\">\n",
       "  <thead>\n",
       "    <tr style=\"text-align: right;\">\n",
       "      <th></th>\n",
       "      <th>neg</th>\n",
       "      <th>pos</th>\n",
       "      <th>active</th>\n",
       "      <th>SMILES</th>\n",
       "      <th>Mol</th>\n",
       "    </tr>\n",
       "  </thead>\n",
       "  <tbody>\n",
       "    <tr>\n",
       "      <th>16849</th>\n",
       "      <td>0.652027</td>\n",
       "      <td>0.347973</td>\n",
       "      <td>1</td>\n",
       "      <td>COc1ccc(CNCCC(c2ccccc2)C2CCOC(C)(C)C2)cc1</td>\n",
       "      <td style=\"text-align: center;\"><img data-content=\"rdkit/molecule\" src=\"data:image/png;base64,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\" alt=\"Mol\"/></td>\n",
       "    </tr>\n",
       "    <tr>\n",
       "      <th>21014</th>\n",
       "      <td>0.920934</td>\n",
       "      <td>0.079066</td>\n",
       "      <td>1</td>\n",
       "      <td>c1ccc(C(c2ccccc2)c2noc(CN3CCN(CC4CC4)CC3)n2)cc1</td>\n",
       "      <td style=\"text-align: center;\"><img data-content=\"rdkit/molecule\" src=\"data:image/png;base64,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\" alt=\"Mol\"/></td>\n",
       "    </tr>\n",
       "    <tr>\n",
       "      <th>11563</th>\n",
       "      <td>0.622856</td>\n",
       "      <td>0.377144</td>\n",
       "      <td>1</td>\n",
       "      <td>COc1cc(CN2CCC(CCC(=O)NC3CC3)CC2)cc(Cl)c1OC</td>\n",
       "      <td style=\"text-align: center;\"><img data-content=\"rdkit/molecule\" src=\"data:image/png;base64,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\" alt=\"Mol\"/></td>\n",
       "    </tr>\n",
       "    <tr>\n",
       "      <th>11702</th>\n",
       "      <td>0.559105</td>\n",
       "      <td>0.440895</td>\n",
       "      <td>1</td>\n",
       "      <td>O=C(CN1CCN(Cc2ccc(Cl)cc2)CC1)N/N=C/c1ccncc1</td>\n",
       "      <td style=\"text-align: center;\"><img data-content=\"rdkit/molecule\" src=\"data:image/png;base64,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\" alt=\"Mol\"/></td>\n",
       "    </tr>\n",
       "    <tr>\n",
       "      <th>18031</th>\n",
       "      <td>0.692768</td>\n",
       "      <td>0.307232</td>\n",
       "      <td>1</td>\n",
       "      <td>C=CCN(c1ccccc1)S(=O)(=O)c1cccc(C(=O)NC2CCN(Cc3...</td>\n",
       "      <td style=\"text-align: center;\"><img data-content=\"rdkit/molecule\" src=\"data:image/png;base64,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\" alt=\"Mol\"/></td>\n",
       "    </tr>\n",
       "  </tbody>\n",
       "</table>\n",
       "</div>"
      ],
      "text/plain": [
       "<IPython.core.display.HTML object>"
      ]
     },
     "execution_count": 75,
     "metadata": {},
     "output_type": "execute_result"
    }
   ],
   "source": [
    "show(false_negative_df.sample(5))"
   ]
  },
  {
   "cell_type": "code",
   "execution_count": null,
   "id": "c27fce5b-fe58-41cf-94ba-9aeb56903ba8",
   "metadata": {
    "id": "c27fce5b-fe58-41cf-94ba-9aeb56903ba8"
   },
   "outputs": [],
   "source": [
    "false_positive_df = pred_df.query(\"active == 0 & pos > 0.5\").copy()\n",
    "PandasTools.AddMoleculeColumnToFrame(false_positive_df, 'SMILES', 'Mol')"
   ]
  },
  {
   "cell_type": "code",
   "execution_count": null,
   "id": "246c6883-44f8-4d60-a17d-c1d421646137",
   "metadata": {
    "id": "246c6883-44f8-4d60-a17d-c1d421646137",
    "outputId": "ac8a26b0-7b88-400d-8148-2aaecc245b34"
   },
   "outputs": [
    {
     "data": {
      "text/html": [
       "<div>\n",
       "<style scoped>\n",
       "    .dataframe tbody tr th:only-of-type {\n",
       "        vertical-align: middle;\n",
       "    }\n",
       "\n",
       "    .dataframe tbody tr th {\n",
       "        vertical-align: top;\n",
       "    }\n",
       "\n",
       "    .dataframe thead th {\n",
       "        text-align: right;\n",
       "    }\n",
       "</style>\n",
       "<table border=\"1\" class=\"dataframe\">\n",
       "  <thead>\n",
       "    <tr style=\"text-align: right;\">\n",
       "      <th></th>\n",
       "      <th>neg</th>\n",
       "      <th>pos</th>\n",
       "      <th>active</th>\n",
       "      <th>SMILES</th>\n",
       "      <th>Mol</th>\n",
       "    </tr>\n",
       "  </thead>\n",
       "  <tbody>\n",
       "    <tr>\n",
       "      <th>23687</th>\n",
       "      <td>0.058787</td>\n",
       "      <td>0.941213</td>\n",
       "      <td>0</td>\n",
       "      <td>CCc1ccccc1NC(=O)CN1CCN(CC(=O)NCc2ccc(Cl)cc2)CC1</td>\n",
       "      <td style=\"text-align: center;\"><img data-content=\"rdkit/molecule\" src=\"data:image/png;base64,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\" alt=\"Mol\"/></td>\n",
       "    </tr>\n",
       "    <tr>\n",
       "      <th>6258</th>\n",
       "      <td>0.207830</td>\n",
       "      <td>0.792170</td>\n",
       "      <td>0</td>\n",
       "      <td>COc1ccc(F)cc1C(=O)C1CCCN(Cc2cn(C)c3ccccc23)C1</td>\n",
       "      <td style=\"text-align: center;\"><img data-content=\"rdkit/molecule\" src=\"data:image/png;base64,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\" alt=\"Mol\"/></td>\n",
       "    </tr>\n",
       "    <tr>\n",
       "      <th>5257</th>\n",
       "      <td>0.429260</td>\n",
       "      <td>0.570740</td>\n",
       "      <td>0</td>\n",
       "      <td>Cl.OC(COc1c(F)cc(Br)cc1F)CN1CCN(c2ccc(F)cc2)CC1</td>\n",
       "      <td style=\"text-align: center;\"><img data-content=\"rdkit/molecule\" src=\"data:image/png;base64,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\" alt=\"Mol\"/></td>\n",
       "    </tr>\n",
       "    <tr>\n",
       "      <th>21501</th>\n",
       "      <td>0.193804</td>\n",
       "      <td>0.806196</td>\n",
       "      <td>0</td>\n",
       "      <td>CCc1ccc(NC(=O)CSc2nc(=O)n(CCN(C)C)c3c2CCCC3)cc1</td>\n",
       "      <td style=\"text-align: center;\"><img data-content=\"rdkit/molecule\" src=\"data:image/png;base64,iVBORw0KGgoAAAANSUhEUgAAAMgAAADICAIAAAAiOjnJAAAABmJLR0QA/wD/AP+gvaeTAAAUXklEQVR4nO3de1SU1foH8GeAcRxABkVRy8SfiolZ3kGBk5eUJMFVmZkhUrbkmBiatWKlmHosREWFSlPTI6OJK8KE0fNTJDQDUWTwiggqF1FEIMERh/vM8/tj+5szqcDMO2xmquez/IOFs/e7R7+z3/0+72VEiAiEtDcrcw+A/DVRsAgXFCzCBQWLcEHBIlxQsAgXFCzCBQWLcEHBIlxQsAgXFCzCBQWLcEHBIlxQsAgXFCzCBQWLcEHBIlxQsAgXFCzCBQWLcEHBIlxQsAgXFCzCBQWLcEHBIlxQsAgXFCzCBQWLcEHBIlxQsAgXFCzCBQWLcEHBIlxQsAgXFCzCBQWLcEHBIlxQsAgXFCzCBQWLcEHBIlxQsAgXFCzCBQWLcEHBIlxQsAgXFCzCBQWLcEHBIlxQsAgXFCzCBQWLcEHBIlxQsAgXFCzCBQWLcEHBIlxQsAgXFCzCBQWLcEHBIlxQsAgXFCzCBQWLcEHBIlxQsAgXNuYeAGnB0aOQnQ2jR8Orr5p7KELQjGWRsrLg0iVYvhzOnYPsbHOPRggKlkU6examTgUAeO01OHvW3KMRgoJlkfr3h7w8AIDcXBgwwNyjEUKEiOYeA/mj27dBKoV//xvq68HWFpYuBZHI3GMyGs1Ylmf1aujRA7p3B5EInJygttbcAxKCZizL4+YGeXmQng6TJoFWC9XVYG9v7jEZjWYsC3PvHuTng50d1NVBYyMMH/5nTBVQsCxORgYggrs7ZGYCAHh5mXtAAlGwLMypUwAAXl6PfvD0NO9wBKNgWZaQvLwtnp53Xn75YWUlWFv/eYNFi3cL0tjY6OjoWF9ff+rUKU9PT3c3t8zcXHMPSiCasSxIdnZ2XV3dCy+8cPnyZQAYOGKEuUckHAXLgpw6dQoAvLy8dD+Ye0QAAPn5+UOHDl22bJlRrShYFiQjIwMsL1jp6elXrly5ceOGUa3+gsGqrwcA0GqhsdHcQzFGYWFhU1NTly5dcnNzCwoKHBwchg4dau5BAejNo8Y1Q4vx4MGD+Pj4ixcv3rp1y5R+QkIQEXNzccuW9hkYP83NmJ5e+PHHHw/QO9MslUpFItHcuXPNPbpHBg0aBABnz541qpX5g1VeXi6Xy/38/CQSCQCMHDmyW7duZ86cEdzh22/j8eMYG2tBwaqpwZoaRMTff0dEVKtRocDgYOzZEwcNusDy5OTkFBgYGB8fHxUVZWVlBQBhYWHmHTYiVlZWikQiqVTa0NBgVEOzXUF64cIFhUKhUCjOnTuHiABgbW3t7e1dU1NTVVXl4+OjUCjGjx8voGcrK5BIoFMnUKvbe9BCHT4MP/8M8fHw5ZdQWQkJCdDQ8OivunYdFh7+r6lTJ40bN47lCQB69er1/vvvr1u3rqam5ptvvtH9vuNlZ9d6es7p2RM6depkXEs+QX+65ubmtLS0sLAwNrsyUqnUz89v+/btZWVl7DXvvfceAEgkkp9//lnAVixwV7h/P65YgQcO4JIlOHcuWlnhqFG4ciVeudJiE4VCIZVKvb2/nzMHGxs7cKx/FBaGABgebnTDjgvWkiVLZDKZLk+9e/cODg4+fPhwXV2d/svCw8MTEhKWLFkCANbW1rt37zZ2Qzt3olaLpaVo5KqAo/378exZ/PBDDA7GoiKsqDCo1cmTlx0dEQCnT8c//iO1pqKiYvfu3ampqVdaia3BvL0RAI8cMbphBwVr1apVw4YNA4D+/fuHhoampaVpNJonX5aamsrytGvXrsjISAAQiUSbN282alsTJuDevahU4p497TR6k7FgFRbiCy8Y11CpxB49EADHj0eVqrVXFhQUREdHT548WSwWA4Crq6tEIklISDBl2A0NKJWilRVWVRndtoOC9dxzzwFAcnJym6/U5Wn9+vW65YUhy1i1Gg8exNRUXLoUFy/GlBQLClZqKq5fj7m5hs5V+nJzsU8fBMBx4/CxD6NGg+np+Nln6OHxu7W1NdsVSCSSqVOnTpkyBQBsbGzkcrngYWdkIAC++KKQth0RrNu3bwNA165dVSpVU1NTm6/funWrLk979+61sbEBgEWLFj11kqusRLkcZ85Ee3sEQB8fXLoU79xBX1/cswe1Wg7vx3iLFyMAfvmlwObFxfj887h5My5ahIi4fz8mJeG8eejsjACP/nh5+QcGBv70008PHjxgrXQf0aioKGHb3boVAfCf/xTStiOCtX//fgDw8/NbtmyZvb39jh072mwSFxfHpvQFCxYkJiZ27twZAObMmaPL5ZUrV9auXTt+vG/nzo/+Za2s0MMDo6Ie/f9t2YLbtuHQoWhC4aLdjB6NAPjLL5ic3MYerSX19VhQgNOmYUICRkRgaOijd92vHwYHo0Lx9AX+t99+K7hyEReH9fWYn49JSUIG3BHBWrRoEQBERES8/PLLAHD48GFDWh0+fFgqlQLA7Nmzjx071qVLFwAYP3784sWLBw4cqDsIGDeu3M8Pd+zAsrLHe1iwAAFQJsOTJ9v/TRlOrUaxGG1sMC0NAXDwYIH9FBTgN9/gwoW4fDkeP44REZiT03arH374gX1EFy5c+NQpvyXvvIORkXjrFm7YIGS0HRGsESNGAEBqaqqtra1IJLp3756BDU+ePMkOJOfNm3f69GmZTNa9e3eWJycnp5kzZ8rlct3M/6SmJgwKQgCUSFBQ4aJ9HD+OADhmDMbEIAC+/77Afliwioqwb1+8e9eIhocOHWIf0XfffbexrdJFVRXu24dxcfjJJ7hmDR4/bqnBqqmpsbGxEYvFJ0+eBIAhQ4YY1Tw7O9vV1fX8+fOI+Pbbb7NJKy0trbm52ZDmGg1++CECoFiMCQnFhjTRarWZmZnLli0LCAiQy+UqYbsuPRs3qmxsMDQUZ81CANy5U2A/ZWV44ABqtXjoED58aFzbX3/91cHBgS1Iamtrn3xBcTFu345+ftipEwKgmxt+8gmq1ThjBm7YIKSQ1lqw7t+/b3R/T0hJSQEADw+PTZs2AcD8+fON7UGXoRdffBEATp06ZWwPkZHo7p4kFotbqVzU1dWlpKSEhoY+++yzbFIUiUQAMHLkyAoBx3J6fH197eycDxw4OX360dGjK3Jzjdgf6UtJeXR0IoxSqezRowf7ZLJPi1arPXv2bHh4+LBhw52dNWzRJhbjK69gTAxu2oSI+J//YEwMDhqExhYuWgxWZWWlm5tbSEiIUTvmJ61evRoAli5dOmPGDACIjY0V1o9KpbK2tpZIJHWG1wr1REVtYkFZs2aN/u8rKytjY2PffPNNOzs73brNxcVl0aJF+/btY2cInn/++Zs3bwobtkajcXR0BIDTp0+zPbhW6JHqypUIgJ9+Kqw1IuLVq1dZ3cfNzS0oKOiZZ57RvWUfn8uzZuG+fU8pWUVEIADa2KBRhYsWg3Xs2DF2VjgoKMiQGkFLfHx8AODAgQO9e/cGgOvXrwvr58iRIwDg5eUleCRyuVxXubhx44Z+OZEZMmRIWFhYWlqa7v++vLycLRD79u2bl5cnYKOXLl1iSd23bx8A+Pv7Cx7/5MkIgAcPCu4AEbG4uNjV1ZXFi72v4OBghUJRX1/fSqvISARAkQg3bjR0Q63tCk+cOMF2zP7+/k/dMbdJo9Gw1Tf7vHbv3l3w53XFihUA8Nlnnwlrzqxbt04sFov07liXSCSvvvrq1q1bW7pW5/79+//4xz8AID5+mlqdbewWv/vuO7ZqXrhwIQBERkYKG3lzMzo4IMBTDn6NVVZWdvXq1VWrVrHT/waKiUGRCAFw06bLhry+jcV7VlYWOxCbMGGCgGXshQsXAGDAgAF79uwBgNdff93YHnQmTZoEAEnCiir/z9fXl9UvJBLJkCFDvv/+e0PWkbW1tQkJC5VKOH9eVlNjROmipKTEw8MDAGJiYrKzsyMiIi5fNuh/5UnnziEADhworHX7+OEHHDPmmEQiMaRy0fZRYW5ubp8+fQBg9OjRlZWVRg0lJiYGAObOnXvjxo2NGzcmJiYa1VynqanJ3t5eJBKZso7WarXdunUDgDNnzrAzAYYvH7XapqKiIKUSsrMl1dVtlC5ycnIiIyO9vLzY1Ojk5DRhwgRhU77Ojh17PDxeDwv7X1M6MZ2uWB0YGNj6AsmgckNRUZGrqytb9BlyeWdVVVV8fHxgYKBUKpXJZO+8846hA2+BUqlki2hTOmG3vri4uMTFxbEDbyM70JaULFEqITvb5vffdz/+d9oGlerYzZshgYH/fQCfvb395MmTu3btqn8sJszs2bMBwJCTFrzpFkgtVS4YQ+tYd+/eZZcnuLi4XLt27amvKSwsjI6OnjRpElsjM+yUwmPHYsZiM9+8efNM6WT79u1suRMSEgIAa9euFdBJWVmkUgl37qwtK4u4c2d1Xd21e/f2FRTMOn9eplSCUgnr13v36NGDXQv68OFD1DsWM7Zy0dDQUF1dzX7u27cvALTLlTCmy8zMdHJyYsdkLb3GiAJpdXU1u6K+Z8+erGLJ5OTkrFy5ctSoUbpFsbW1tZeXV2RkZF5eXptnkQ3BSqO7du0S1pyZO3cuAGzZsmX48OEA8Ntvvwnrp6bmt9raC2VlEYioUiWzPCmVcOXKS6Wly1Uq5ZMHKDdv3mSVi8GDB5eUlLTev26+l8lkn376KeqdxTex9NOOcnJyvv7661ZeYFzlXa1WT506FQAcHR03bNgQHBzMigiMTCabNWtWXFyc7nPGJCUlPXkWuRUajYbVvqOjo9lv2CJP2AH/f7sdNuzeiBGlGRkr3N3/x8nJlEWPVttUWrry5s0PGxvLrl+fVl4eXV9f2HqTNisXBQUFmzdvfmy+f+ONNxBRLpcDwLRp0wQPuOMZfUqnoaHhrbfeAgB2+km/FtLK9fYnTpxgZ5H9/f1bqnA+WfseOHAgIhYXF5tYqkBEvHsXAdDBAZOTEQDHjhXeFaJW24yI9+8fqqr60fBW9+/f9/b2BgBnZ2f9Q/2NGzeykwqMWCx+5ZVX2IGkXC6fOXNm586de/Xq5enpaTkzVpuEnCtsbm7+8ccfv/jii9WrV+vvE1vXUuWipdr3Rx99dPTo0V9++YXVCEwpLSIiHjjw6ISI6QVsxIaGm3fu/Ov27WXNzS2eAn8qtVrN3o5MJtPti4ODgwHAzs7Oz89PLpdnZGR89dVX7u7uunsorKys2L0MbR6LWY4OvZniqZWL+fPn6/LEat8pKSlJSUnBwcHOzs66PcKFCxdM2vbSpQiAq1c/KmCb72qHpqamoKAgVps9ePAgIl66dCk5OfnEiRNhYWGDBw/W/Wt07tx58uTJ0dHRpaWlbZ5FtjQdfV/hk5WLI0eOsNp3Zmbmli1bfHx89O80cnNzCwsLy8rKMnXDHh4IgMnJ7VbANoFWq128eDEA2NjYhISEBAQEsAIb4+zs/MEHHyQmJqrVav1WT55FtmRmuGG1rKyMVS769et37dq1x8qJbOYfNWrUypUrc3Nz222rkZHo64vp6eYvYCMiolar/fzzz9mxHnvX7DaTlJSUVnZ2usrFqFGjTLzmgjfz3Al97969sWPHAgBb0TN2dnYzZsyIjY01tr5vkIwMXLMGN2/G7GxMTW3//o2n1Wrt7e0BIDw8vKXS4JOKi4sNr1yYkdlusX/48OGsWbPmzZv3WDmRC5UKFyxArRbPncP163ltxUjsTEC/fv2MbXj37l1WinNxccnPz+cxNtOZ+dkNarXapCKCgS5exK1bH/28YAH3zRlm27ZtABAQECCgbXV1NatcPFasthxmfowRuwqe+2b69n30DSLXrkGfPtw3ZxhTHoLl6OiYnJzs6+tbXl4+ceLE9PT09h6dqf42zyA9cgSyskAshtBQ0CuYmdGAAQMKCwsvXrz40ksvCeuhsbGRrSL69++fl5enf9Gi2f1tgmVhysvLe/Xq5eDgUFVVpbuJWQCNRjN06NDa2trY2NiJEye24whN9Bd8ot+fAtt5jR071pRUAYC1tXVtbW1JSUnPnj3baWjtg4JlHrrHjZrYT2lpaUlJSdeuXfVL9paAgmUe7fX4WjbzeXp6mvHhbE9lWaP5m6irqzt//ry1tbW7u7uJXbGAelreF1hQsMwgKyursbFx2LBh+icehLGoB3fro2CZQXulQa1WX7p0SSwWjxkzpj3G1Z4oWGbAgmX6Y9wzMzObm5tHjBhha2vbHuNqTxQsM1i+fLm9vX1UVNStW7dM6cdi94NAwTKLAQMGuLq6Xr9+3dvbOz8/X3A/lhwsqrybh0ql8vPzS09Pd3Z2Pnr06Ajjv+iL3X+rUqnu3Lmjf0uLhaAZyzxkMhk7i1xRUTFx4sS0tDRje8jJyVGpVP3797fAVAEFy4xsbW0VCkVQUJBKpZoyZUpiYqLhbTUaDbsnzDL3gwCW9CVNf0/617+3+fCw2tpahUIRHBzcq1cvAPDx8RH25R0dgIJlEVr/toTS0tJt27a99tpr7L5fZtCgQXv37u34oRqIgmUpYmJi2DWPukdnsy+b8PLy0r/BkN1molQqzTvaNtFRoQXZuXPnggULNBqNu7t7ZWVlUVER+72tre2UKVOmT5/u5+enu9fSwlGwLEtSUlJAQEDv3r1v3LjRvXt3X19ff39/X19fdj/PnwgFy+JUVFTk5ORIpVIPDw9LuxjGcBQswsWf9QNBLBwFi3BBwSJcULAIFxQswgUFi3BBwSJcULAIFxQswgUFi3BBwSJcULAIFxQswgUFi3BBwSJcULAIFxQswgUFi3BBwSJcULAIFxQswgUFi3BBwSJcULAIFxQswgUFi3BBwSJcULAIFxQswgUFi3BBwSJcULAIFxQswgUFi3BBwSJcULAIFxQswgUFi3BBwSJcULAIFxQswgUFi3BBwSJcULAIFxQswgUFi3BBwSJcULAIFxQswgUFi3BBwSJcULAIFxQswgUFi3BBwSJcULAIFxQswgUFi3BBwSJcULAIFxQswgUFi3BBwSJcULAIFxQswsX/Ad5VC9h4BwT3AAACHXpUWHRyZGtpdFBLTCByZGtpdCAyMDIyLjAzLjIAAHice79v7T0GIOBlgABGIJYFYnkgbmBkY0gAiTFDaCYmNgcNIM3MwuaQAaKZGZEYEBl2BrAAE1ArRIADQjPBjBBgUADRcPUQmhnGhymHi8NshtLsYO3MqA5jZEY4DEqjacOgMTzADfQ6IxMDE3MGEzNLAgtrBhMrmwIbuwI7hwYTOycDJxcDFzcDN08GEw9vAi+fBhMvfwK/AIOAIIOgEIOQMIOQCAO/aIKoWAaTmDiDuASDhCSDpBQDq3SCtEwGkwxTghh3gpQogwgzG5OMNCsLMxsPL7+oGDebuISklKiYeBojJOTBQDZ8rdbBfXuP2IE4O2QkD87wVd4PYvdoMR3UYfbeB2IzTfp5wHbPQnsQe/Xa0wcWM90Cs3N6Vhw4H6EHZusElB44V9QPZq/n1T+gc/KkLYh9d7LLAf6GdWAzWbqW7f98lBOsxlUjYB/n2e9g8wN65tqXzDbdC2Kvm3HC/lj+VrAaZlEHB91tb8Fso9mhDhmZIQ4g9kHtZofH+0PB4uICGx0i1BaD2WGGVxyKHBrBfrnGxejIpmsIFi+dLeT46N8KsF1JOWyOk29ygs0JuljgkFipAHbbMg5RB/HmDjD7Pct/+7vnFQ+A2F+PuDr8skoGsy8em+BwXNwdzH7ROdvhjdBlsPoW/80HSh+4g9m3jB8eWGg2B8wWAwB6o4kAFUAQYgAAAq56VFh0TU9MIHJka2l0IDIwMjIuMDMuMgAAeJx9Vdtu2zAMfc9X6Acq8CqSj01SDMPQBFi7/cPe9/8YqaC1CgizY0KWj2lezmFOrY6f1x9//rbPg66nU2vwn19EtN8MAKfXVot2fvn2/dYu78/nj53L/dft/a1RNMZ8J8+v2Of3++vHDrZLe0LoYxhjNOjsQiNf6TCP410qZHQdoYjtKV9hC+ANkgvpHVnZvZAYTiobpBTSukWAccNOg1VtA9QCjs5DQjPobsAEugGOAmo6MhTK58MRZBektVt74u7MgJ4ekWAEboBeHqkbK+GsS7iSb4DR7uURDJU0i5rRMvnu2+nnMgGA4JVuFgptl3dW+q0qSJmvRa3EOXzsoNWgLCGDixYSRJh3gSJn7pidzEgjF4ImtmsPVn8yI8DKA7urIdEOqJk7d2bTsFqgB28zH/lpyRoGzGI7Z0NjB7T8tGZhmDKKTMtkwDaZ6s9IMiLM0EhJZMeMZPeteYehOJ+PIIhdjFTdiY6DIkmbhUyKgG0lUerxLoAZXKOOyrFlJdEspA0yG1M7NJJFO2SJh3oSZygXR2AMhR0vSWa/I6i6nAxNVjJufeqjjVFxFkVVQWwbZ8lH0lPOgCgkJkFpxzayifQB6lJxpjIBtz79IckBLDqTNwcbu6bnxJrzAJJHDuWVCJKdG+jL7fpljj0m2/l+ux6TrU46xlfeND5mlNR1DKI69Rg3edPGMVQwLztGB+blx4CgvOIYA5i3uIodp8FF1DgNLdqVMsiLRqUMyiJGKoO6qE7mzljkhdPYoiOcxhfB4DSxKAPL0CqBxw4uVK8PJZMXTksZ4oW7WIZk4SiWIV24iGVoLJzDMmQLtyTrTb5QSMpQLEyR+Qf32c/qYQXwGR/P9tsScXFmZUjdf/xv5vr0D9xbZjV6kz1+AAABY3pUWHRTTUlMRVMgcmRraXQgMjAyMi4wMy4yAAB4nCVROW7lMBS7Skob0BfevuAjlfpMMUdQnxPk8KEcNzIompvX2rz3vr7W9fnvXv+3fO/z9n2t9XWte91btyw8eu/NHz/Xi2lGpA6aWiYx3q+eHu08XrjRbFJgNVld+2DcJW7AcmY35eApoX6+jKlh7UCSVBiI4y7ZoB7FZEdKZ6mSgMRC0UBkpjroNKnLpeRhUbLLeDE0VQoQ3oipQXMtzgREU2CUTy4r7UIKxFEqOxCZqR4io1JywNM4DQDkiaHKszxZDgBmDBxcjZiGLP2YlaISYjpsTynopwXKBeZhFEEIFzMf75oUzn7attCR6ckhWARhUBpjgWPEFkMmn0FhnCFZz9oSqD/eMlE4/HSnwIn43aKoJBPzKD/5m+CEndzpNDJcmeRBmKmeChXkdWTwV+jvdwQpzGGWRfmsn5M0/2giZDLun1/wcHa6M5NSPAAAAABJRU5ErkJggg==\" alt=\"Mol\"/></td>\n",
       "    </tr>\n",
       "    <tr>\n",
       "      <th>9692</th>\n",
       "      <td>0.467457</td>\n",
       "      <td>0.532543</td>\n",
       "      <td>0</td>\n",
       "      <td>O=c1c2ccccc2nc(-c2ccccc2)n1CCCn1ccnc1</td>\n",
       "      <td style=\"text-align: center;\"><img data-content=\"rdkit/molecule\" src=\"data:image/png;base64,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\" alt=\"Mol\"/></td>\n",
       "    </tr>\n",
       "  </tbody>\n",
       "</table>\n",
       "</div>"
      ],
      "text/plain": [
       "<IPython.core.display.HTML object>"
      ]
     },
     "execution_count": 72,
     "metadata": {},
     "output_type": "execute_result"
    }
   ],
   "source": [
    "show(false_positive_df.sample(5))"
   ]
  },
  {
   "cell_type": "code",
   "execution_count": null,
   "id": "ec0a98d7-5e7c-4aea-896a-c1b2b95193c3",
   "metadata": {
    "id": "ec0a98d7-5e7c-4aea-896a-c1b2b95193c3"
   },
   "outputs": [],
   "source": [
    "false"
   ]
  },
  {
   "cell_type": "code",
   "execution_count": null,
   "id": "7a61e0db-7e3e-45a4-87e5-98babbbe57d6",
   "metadata": {
    "id": "7a61e0db-7e3e-45a4-87e5-98babbbe57d6"
   },
   "outputs": [],
   "source": []
  },
  {
   "cell_type": "code",
   "execution_count": null,
   "id": "abc33f7f-62fa-457f-9649-42ea20a54ba5",
   "metadata": {
    "id": "abc33f7f-62fa-457f-9649-42ea20a54ba5"
   },
   "outputs": [],
   "source": []
  },
  {
   "cell_type": "code",
   "execution_count": null,
   "id": "a56ca0f6-8104-41ac-850b-969893d3e159",
   "metadata": {
    "id": "a56ca0f6-8104-41ac-850b-969893d3e159"
   },
   "outputs": [],
   "source": []
  },
  {
   "cell_type": "code",
   "execution_count": null,
   "id": "01fd89cf-70b6-49e5-93eb-930983b8ac0b",
   "metadata": {
    "id": "01fd89cf-70b6-49e5-93eb-930983b8ac0b"
   },
   "outputs": [],
   "source": []
  },
  {
   "cell_type": "code",
   "execution_count": null,
   "id": "7f3b3088-dad7-48d6-9b61-d8510a9f9da2",
   "metadata": {
    "id": "7f3b3088-dad7-48d6-9b61-d8510a9f9da2"
   },
   "outputs": [],
   "source": []
  },
  {
   "cell_type": "code",
   "execution_count": null,
   "id": "df7b68e4-fc39-4e8a-960f-11a78bdb7d77",
   "metadata": {
    "id": "df7b68e4-fc39-4e8a-960f-11a78bdb7d77"
   },
   "outputs": [],
   "source": []
  },
  {
   "cell_type": "code",
   "execution_count": null,
   "id": "a0dd7b45-877c-4186-82b0-4355b91905e0",
   "metadata": {
    "id": "a0dd7b45-877c-4186-82b0-4355b91905e0"
   },
   "outputs": [],
   "source": [
    "def conv_net():\n",
    "  K.clear_session()\n",
    "  weights = 'imagenet'\n",
    "  inputs = Input(shape=(128, 128, 3))\n",
    "\n",
    "  base_model = ResNet50(include_top=False, weights=weights, input_shape=(128, 128, 3))\n",
    "\n",
    "  for layer in base_model.layers:\n",
    "    layer.trainable = False\n",
    "\n",
    "  x = Conv2D(32, (5, 5), strides=(1, 1), padding='same', activation='relu', input_shape=(128, 128, 3))(inputs)\n",
    "  x = MaxPooling2D(pool_size=(2, 2), strides=None, padding='valid', data_format=None)(x)\n",
    "\n",
    "  x = Conv2D(64, (3, 3), strides=(1, 1), padding='same', activation='relu')(x)\n",
    "  x = MaxPooling2D(pool_size=(2, 2), strides=None, padding='valid', data_format=None)(x)\n",
    "\n",
    "  x = Conv2D(64, (3, 3), strides=(1, 1), padding='same', activation='relu')(x)\n",
    "  x = MaxPooling2D(pool_size=(2, 2), strides=None, padding='valid', data_format=None)(x)\n",
    "\n",
    "  x = Flatten()(x)\n",
    "\n",
    "  base_resnet = base_model(inputs)\n",
    "  base_resnet = Flatten()(base_resnet)\n",
    "\n",
    "  concated_layers = Concatenate()([x, base_resnet])\n",
    "\n",
    "  concated_layers = Dense(2024, activation='relu')(concated_layers)\n",
    "  concated_layers = Dense(524, activation='relu')(concated_layers)\n",
    "  concated_layers = Dense(124, activation='relu')(concated_layers)\n",
    "  output = Dense(4, activation='relu')(concated_layers)\n",
    "\n",
    "  model = Model(inputs=inputs, outputs=output)\n",
    "  return model"
   ]
  }
 ],
 "metadata": {
  "accelerator": "GPU",
  "colab": {
   "collapsed_sections": [],
   "name": "07_GAT_model.ipynb",
   "provenance": [
    {
     "file_id": "1r8RGaNnYB9YvsKadkIcAz5h3xMMXHtbE",
     "timestamp": 1651597718194
    }
   ]
  },
  "kernelspec": {
   "display_name": "Python 3.9.12 ('capstone_cf')",
   "language": "python",
   "name": "python3"
  },
  "language_info": {
   "codemirror_mode": {
    "name": "ipython",
    "version": 3
   },
   "file_extension": ".py",
   "mimetype": "text/x-python",
   "name": "python",
   "nbconvert_exporter": "python",
   "pygments_lexer": "ipython3",
   "version": "3.9.12"
  },
  "vscode": {
   "interpreter": {
    "hash": "b7dade73969ad682c7313fe7ee8f87df80653791377e9a329a1a2d81b50c6e94"
   }
  }
 },
 "nbformat": 4,
 "nbformat_minor": 5
}
